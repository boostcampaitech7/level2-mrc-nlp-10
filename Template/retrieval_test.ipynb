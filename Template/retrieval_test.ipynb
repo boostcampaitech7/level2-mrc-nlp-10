{
 "cells": [
  {
   "cell_type": "code",
   "execution_count": 1,
   "metadata": {},
   "outputs": [
    {
     "name": "stdout",
     "output_type": "stream",
     "text": [
      "accelerate==1.0.0\n",
      "aiohttp==3.9.3\n",
      "aiosignal==1.3.1\n",
      "asttokens @ file:///opt/conda/conda-bld/asttokens_1646925590279/work\n",
      "astunparse==1.6.3\n",
      "async-timeout==4.0.3\n",
      "attrs==23.1.0\n",
      "backcall @ file:///home/ktietz/src/ci/backcall_1611930011877/work\n",
      "beautifulsoup4 @ file:///croot/beautifulsoup4-split_1681493039619/work\n",
      "boltons @ file:///croot/boltons_1677628692245/work\n",
      "brotlipy==0.7.0\n",
      "certifi @ file:///home/conda/feedstock_root/build_artifacts/certifi_1725278078093/work/certifi\n",
      "cffi @ file:///croot/cffi_1670423208954/work\n",
      "chardet @ file:///home/builder/ci_310/chardet_1640804867535/work\n",
      "charset-normalizer @ file:///tmp/build/80754af9/charset-normalizer_1630003229654/work\n",
      "click @ file:///tmp/build/80754af9/click_1646056706450/work\n",
      "comm @ file:///home/conda/feedstock_root/build_artifacts/comm_1710320294760/work\n",
      "conda @ file:///croot/conda_1696257509808/work\n",
      "conda-build @ file:///croot/conda-build_1696257509796/work\n",
      "conda-content-trust @ file:///croot/conda-content-trust_1693490622020/work\n",
      "conda-libmamba-solver @ file:///croot/conda-libmamba-solver_1691418897561/work/src\n",
      "conda-package-handling @ file:///croot/conda-package-handling_1690999929514/work\n",
      "conda_index @ file:///croot/conda-index_1695310357675/work\n",
      "conda_package_streaming @ file:///croot/conda-package-streaming_1690987966409/work\n",
      "contourpy==1.3.0\n",
      "cryptography @ file:///croot/cryptography_1694444244250/work\n",
      "cycler==0.12.1\n",
      "datasets==2.20.0\n",
      "debugpy @ file:///croot/debugpy_1690905042057/work\n",
      "decorator @ file:///opt/conda/conda-bld/decorator_1643638310831/work\n",
      "dill==0.3.7\n",
      "dnspython==2.4.2\n",
      "docker-pycreds==0.4.0\n",
      "entrypoints @ file:///home/conda/feedstock_root/build_artifacts/entrypoints_1643888246732/work\n",
      "evaluate==0.4.3\n",
      "exceptiongroup @ file:///croot/exceptiongroup_1668714342571/work\n",
      "executing @ file:///opt/conda/conda-bld/executing_1646925071911/work\n",
      "expecttest==0.1.6\n",
      "faiss-cpu==1.9.0\n",
      "faiss-gpu==1.7.2\n",
      "filelock @ file:///croot/filelock_1672387128942/work\n",
      "fonttools==4.54.1\n",
      "frozenlist==1.4.1\n",
      "fsspec==2023.9.2\n",
      "gitdb==4.0.11\n",
      "GitPython==3.1.43\n",
      "gmpy2 @ file:///tmp/build/80754af9/gmpy2_1645455533097/work\n",
      "huggingface-hub==0.25.1\n",
      "hypothesis==6.87.1\n",
      "idna @ file:///croot/idna_1666125576474/work\n",
      "ipykernel @ file:///home/conda/feedstock_root/build_artifacts/ipykernel_1719845459717/work\n",
      "ipython @ file:///croot/ipython_1694181358621/work\n",
      "jedi @ file:///tmp/build/80754af9/jedi_1644315229345/work\n",
      "Jinja2 @ file:///croot/jinja2_1666908132255/work\n",
      "joblib==1.3.2\n",
      "JPype1==1.5.0\n",
      "jsonpatch @ file:///tmp/build/80754af9/jsonpatch_1615747632069/work\n",
      "jsonpointer==2.1\n",
      "jupyter-client @ file:///home/conda/feedstock_root/build_artifacts/jupyter_client_1654730843242/work\n",
      "jupyter_core @ file:///home/conda/feedstock_root/build_artifacts/jupyter_core_1727163409502/work\n",
      "kiwisolver==1.4.7\n",
      "konlpy==0.6.0\n",
      "libarchive-c @ file:///tmp/build/80754af9/python-libarchive-c_1617780486945/work\n",
      "libmambapy @ file:///croot/mamba-split_1685993156657/work/libmambapy\n",
      "lxml==5.3.0\n",
      "MarkupSafe @ file:///opt/conda/conda-bld/markupsafe_1654597864307/work\n",
      "matplotlib==3.9.2\n",
      "matplotlib-inline @ file:///opt/conda/conda-bld/matplotlib-inline_1662014470464/work\n",
      "mecab-python3==1.0.9\n",
      "mkl-fft @ file:///croot/mkl_fft_1695058164594/work\n",
      "mkl-random @ file:///croot/mkl_random_1695059800811/work\n",
      "mkl-service==2.4.0\n",
      "more-itertools @ file:///tmp/build/80754af9/more-itertools_1637733554872/work\n",
      "mpmath @ file:///croot/mpmath_1690848262763/work\n",
      "multidict==6.0.4\n",
      "multiprocess==0.70.15\n",
      "nest_asyncio @ file:///home/conda/feedstock_root/build_artifacts/nest-asyncio_1705850609492/work\n",
      "networkx @ file:///croot/networkx_1690561992265/work\n",
      "nltk==3.9.1\n",
      "numpy @ file:///croot/numpy_and_numpy_base_1695830428084/work/dist/numpy-1.26.0-cp310-cp310-linux_x86_64.whl#sha256=fc2732718bc9e06a7b702492cb4f5afffe9671083930452d894377bf563464a3\n",
      "nvidia-cublas-cu11==11.10.3.66\n",
      "nvidia-cuda-nvrtc-cu11==11.7.99\n",
      "nvidia-cuda-runtime-cu11==11.7.99\n",
      "nvidia-cudnn-cu11==8.5.0.96\n",
      "packaging @ file:///croot/packaging_1693575174725/work\n",
      "pandas==2.2.0\n",
      "parso @ file:///opt/conda/conda-bld/parso_1641458642106/work\n",
      "pexpect @ file:///tmp/build/80754af9/pexpect_1605563209008/work\n",
      "pickleshare @ file:///tmp/build/80754af9/pickleshare_1606932040724/work\n",
      "Pillow @ file:///croot/pillow_1695134008276/work\n",
      "pkginfo @ file:///croot/pkginfo_1679431160147/work\n",
      "platformdirs @ file:///home/conda/feedstock_root/build_artifacts/platformdirs_1726613481435/work\n",
      "pluggy @ file:///tmp/build/80754af9/pluggy_1648024709248/work\n",
      "prompt-toolkit @ file:///croot/prompt-toolkit_1672387306916/work\n",
      "protobuf==5.28.2\n",
      "psutil @ file:///opt/conda/conda-bld/psutil_1656431268089/work\n",
      "ptyprocess @ file:///tmp/build/80754af9/ptyprocess_1609355006118/work/dist/ptyprocess-0.7.0-py2.py3-none-any.whl\n",
      "pure-eval @ file:///opt/conda/conda-bld/pure_eval_1646925070566/work\n",
      "pyarrow==15.0.0\n",
      "pyarrow-hotfix==0.6\n",
      "pycosat @ file:///croot/pycosat_1666805502580/work\n",
      "pycparser @ file:///tmp/build/80754af9/pycparser_1636541352034/work\n",
      "Pygments @ file:///croot/pygments_1684279966437/work\n",
      "pyOpenSSL @ file:///croot/pyopenssl_1690223430423/work\n",
      "pyparsing==3.1.4\n",
      "PySocks @ file:///home/builder/ci_310/pysocks_1640793678128/work\n",
      "python-dateutil==2.8.2\n",
      "python-etcd==0.4.5\n",
      "pytz @ file:///croot/pytz_1695131579487/work\n",
      "PyYAML @ file:///croot/pyyaml_1670514731622/work\n",
      "pyzmq @ file:///croot/pyzmq_1705605076900/work\n",
      "rank-bm25==0.2.2\n",
      "regex==2023.12.25\n",
      "requests==2.32.3\n",
      "ruamel.yaml @ file:///croot/ruamel.yaml_1666304550667/work\n",
      "ruamel.yaml.clib @ file:///croot/ruamel.yaml.clib_1666302247304/work\n",
      "safetensors==0.4.5\n",
      "scikit-learn==1.4.0\n",
      "scipy==1.12.0\n",
      "sentence-transformers==3.1.1\n",
      "sentry-sdk==2.16.0\n",
      "setproctitle==1.3.3\n",
      "six @ file:///tmp/build/80754af9/six_1644875935023/work\n",
      "smmap==5.0.1\n",
      "sortedcontainers==2.4.0\n",
      "soupsieve @ file:///croot/soupsieve_1696347547217/work\n",
      "stack-data @ file:///opt/conda/conda-bld/stack_data_1646927590127/work\n",
      "sympy @ file:///croot/sympy_1668202399572/work\n",
      "threadpoolctl==3.2.0\n",
      "tokenizers==0.20.0\n",
      "tomli @ file:///opt/conda/conda-bld/tomli_1657175507142/work\n",
      "toolz @ file:///croot/toolz_1667464077321/work\n",
      "torch==1.13.0\n",
      "torchaudio==2.1.0\n",
      "torchelastic==0.2.2\n",
      "torchvision==0.16.0\n",
      "tornado @ file:///home/conda/feedstock_root/build_artifacts/tornado_1648827254365/work\n",
      "tqdm==4.66.5\n",
      "traitlets @ file:///croot/traitlets_1671143879854/work\n",
      "transformers==4.45.2\n",
      "triton==2.1.0\n",
      "truststore @ file:///croot/truststore_1695244293384/work\n",
      "types-dataclasses==0.6.6\n",
      "typing_extensions @ file:///croot/typing_extensions_1690297465030/work\n",
      "tzdata==2023.4\n",
      "urllib3 @ file:///croot/urllib3_1686163155763/work\n",
      "wandb==0.18.3\n",
      "wcwidth @ file:///Users/ktietz/demo/mc3/conda-bld/wcwidth_1629357192024/work\n",
      "xxhash==3.4.1\n",
      "yarl==1.9.4\n",
      "zstandard @ file:///croot/zstandard_1677013143055/work\n"
     ]
    }
   ],
   "source": [
    "!pip freeze"
   ]
  },
  {
   "cell_type": "code",
   "execution_count": 1,
   "metadata": {},
   "outputs": [
    {
     "name": "stderr",
     "output_type": "stream",
     "text": [
      "/opt/conda/lib/python3.10/site-packages/tqdm/auto.py:21: TqdmWarning: IProgress not found. Please update jupyter and ipywidgets. See https://ipywidgets.readthedocs.io/en/stable/user_install.html\n",
      "  from .autonotebook import tqdm as notebook_tqdm\n"
     ]
    },
    {
     "name": "stdout",
     "output_type": "stream",
     "text": [
      "위키 파일 로드 성공\n",
      "Loaded 60613 documents from wiki data\n",
      "토크나이즈된 문서 리스트 \n",
      "bm25 모델 초기화\n",
      "토크나이징된 쿼리: ['마오', '##리', '##언', '##어', '##와', '영어', ',', '뉴질랜드', '수화', '##를', '공식', '언어', '##로', '사용', '##하', '##는', '나라', '##는', '?']\n",
      "Document index: 21753, Score: 67.6679\n",
      "Document content (first 300 characters): 1826년 수크레는 볼리비아의 대통령으로 선출되었으나, 지역적인 정치 발전에 불만을 가지게...\n",
      "==================================================\n",
      "Document index: 54901, Score: 58.2709\n",
      "Document content (first 300 characters): 1872년 6월 13일 충북 옥천군 옥천읍 문정리에서 태어났다. 스무 살이 되던 해 부친이...\n",
      "==================================================\n",
      "Document index: 54905, Score: 56.1938\n",
      "Document content (first 300 characters): KBS의 밀정 방송 후 (사)범재 김규흥기념사업회는 보도에 반박하는 글을 홈페이지(http...\n",
      "==================================================\n",
      "Document index: 4166, Score: 55.1116\n",
      "Document content (first 300 characters): 합병 후, 1910년 11월 《동국역사》,《대한지지》등이 발매, 반포 금지 처분을 받았다....\n",
      "==================================================\n",
      "Document index: 44244, Score: 54.4557\n",
      "Document content (first 300 characters): 2010년 4월, 이란은 1기당 연간 10SWU의 능력을 가진 3세대 원심분리기 IR-4를...\n",
      "==================================================\n"
     ]
    }
   ],
   "source": [
    "# bm25 테스트용\n",
    "import pickle\n",
    "from rank_bm25 import BM25Okapi\n",
    "import json\n",
    "from transformers import AutoTokenizer\n",
    "\n",
    "class BM25Search:\n",
    "    def __init__(self, embedding_path, wiki_path, bm25_tokenizer):\n",
    "        self.tokenizer = AutoTokenizer.from_pretrained(bm25_tokenizer)\n",
    "\n",
    "        # 위키 문서 로드\n",
    "        try:\n",
    "            with open(wiki_path, 'r', encoding='utf-8') as f:\n",
    "                self.wiki_data = json.load(f)\n",
    "            print(\"위키 파일 로드 성공\")\n",
    "        except Exception as e:\n",
    "            print(f\"위키 파일 로드 에러: {e}\")\n",
    "            raise e\n",
    "\n",
    "        # 위키 문서의 텍스트를 추출 (context 부분만)\n",
    "        try:\n",
    "            self.contexts = [v['text'] for v in self.wiki_data.values()]\n",
    "            print(f\"Loaded {len(self.contexts)} documents from wiki data\")\n",
    "        except Exception as e:\n",
    "            print(f\"위키 데이터 프로세스 에러: {e}\")\n",
    "            raise e\n",
    "\n",
    "        # BM25 모델 초기화 (embedding_path는 저장된 토크나이즈된 문서 리스트이다.)\n",
    "        try:\n",
    "            with open(embedding_path, 'rb') as file:\n",
    "                tokenized_contexts = pickle.load(file)\n",
    "            print(\"토크나이즈된 문서 리스트 \")\n",
    "\n",
    "            # BM25 모델 초기화\n",
    "            self.bm25 = BM25Okapi(tokenized_contexts)\n",
    "            print(\"bm25 모델 초기화\")\n",
    "        except Exception as e:\n",
    "            print(f\"모델 초기화 오류: {e}\")\n",
    "            raise e\n",
    "\n",
    "    def search_query(self, query, top_n=5):\n",
    "        # 쿼리를 토큰화\n",
    "        try:\n",
    "            tokenized_query = self.tokenizer.tokenize(query)\n",
    "            print(f\"토크나이징된 쿼리: {tokenized_query}\")\n",
    "        except Exception as e:\n",
    "            print(f\"Error tokenizing query: {e}\")\n",
    "            raise e\n",
    "\n",
    "        # BM25에서 점수를 계산\n",
    "        try:\n",
    "            doc_scores = self.bm25.get_scores(tokenized_query)\n",
    "            top_indexes = sorted(range(len(doc_scores)), key=lambda i: doc_scores[i], reverse=True)[:top_n]\n",
    "            return [(index, doc_scores[index]) for index in top_indexes]\n",
    "        except Exception as e:\n",
    "            print(f\"bm25 점수 에러: {e}\")\n",
    "            raise e\n",
    "\n",
    "    def get_document(self, index):\n",
    "        try:\n",
    "            return self.contexts[index]\n",
    "        except IndexError as e:\n",
    "            print(f\"문서 index retreive 에러 {index}: {e}\")\n",
    "            return None\n",
    "\n",
    "# BM25 임베딩 파일 및 위키 문서 경로\n",
    "embedding_path = \"/data/ephemeral/Jung/level2-mrc-nlp-10/Template/bm25_retrieval_result/BM25_embedding.bin\"\n",
    "wiki_path = \"/data/ephemeral/data/wikipedia_documents.json\"\n",
    "bm25_tokenizer = \"klue/bert-base\"  # BERT 기반 토크나이저 사용\n",
    "\n",
    "# BM25Search 클래스 인스턴스 생성\n",
    "bm25_search = BM25Search(embedding_path, wiki_path, bm25_tokenizer)\n",
    "\n",
    "# 쿼리 예시\n",
    "query = '마오리언어와 영어, 뉴질랜드 수화를 공식 언어로 사용하는 나라는?'\n",
    "\n",
    "# 쿼리에 대한 상위 5개의 문서 검색\n",
    "try:\n",
    "    results = bm25_search.search_query(query, top_n=5)\n",
    "    for idx, score in results:\n",
    "        document = bm25_search.get_document(idx)\n",
    "        if document:\n",
    "            print(f\"Document index: {idx}, Score: {score:.4f}\")\n",
    "            print(f\"Document content (first 300 characters): {document[:50]}...\")\n",
    "            print(\"=\" * 50)\n",
    "        else:\n",
    "            print(f\"문서를 찾지 못하였음 {idx}\")\n",
    "except Exception as e:\n",
    "    print(f\"에러 발생: {e}\")\n",
    "\n"
   ]
  },
  {
   "cell_type": "code",
   "execution_count": 1,
   "metadata": {},
   "outputs": [
    {
     "name": "stderr",
     "output_type": "stream",
     "text": [
      "/opt/conda/lib/python3.10/site-packages/tqdm/auto.py:21: TqdmWarning: IProgress not found. Please update jupyter and ipywidgets. See https://ipywidgets.readthedocs.io/en/stable/user_install.html\n",
      "  from .autonotebook import tqdm as notebook_tqdm\n"
     ]
    },
    {
     "name": "stdout",
     "output_type": "stream",
     "text": [
      "문서 index: 10676, Score: 0.2492\n",
      "Context: 다음과 같이 트랜스폰더(transponder) 모드가 존재한다.\n",
      "\n",
      "모드 1: 2디지트, 5비트 임무 코드를 제공한다. (군전용, 조종석에서 선택)\n",
      "\n",
      "모드 2: 4디지트, 8진법으로 제공한다. (군전용, 특정 항공기 타입에 따라서 지상 또는 조종석에서 선택)\n",
      "\n",
      "모드 3/A: 4디지트, 8진법 식별코드를 ATC(군 및 민간)에서 정한 항공기(일명 Squawk Code)에게 제공한다.\n",
      "\n",
      "모드 4: 3펄스로 암호화 코드를 제공한다. (군전용)\n",
      "\n",
      "모드 5: Mode S와 유사한 암호화 능력을 제공하며, ADS-B와 GPS 위치를 전송을 포함...\n",
      "==================================================\n",
      "문서 index: 21753, Score: 0.2204\n",
      "Context: 1826년 수크레는 볼리비아의 대통령으로 선출되었으나, 지역적인 정치 발전에 불만을 가지게 되었다. 1828년 볼리바르와 그의 지지자, 그리고 볼리비아를 위해 그가 쓴 헌법에 반대하는 운동이 거세게 일어나자 수크레는 사임하고 아내의 고향 도시인 키토로 떠났다. 그는 정치를 불편하게 여겼으며, 은퇴할 생각을 가졌다.\n",
      "\n",
      "1828년 말 볼리바르의 요청으로 그란콜롬비아 의회는 그를 의회 의장으로 지명하였다. 이들은 향후 볼리바르의 후계자로 수크레를 공화국 대통령으로 지명하고자 하였으나, 수크레가 거부할 것 같아서 실행하지 않았다.\n",
      "\n",
      "수크레...\n",
      "==================================================\n",
      "문서 index: 44238, Score: 0.1936\n",
      "Context: 구엔돌로에나(Guendoloēna, 구엔돌렌)는 몬머스의 제프리의 《브리타니아 열왕사》에 나오는 브리튼인의 전설적인 여왕이다. 물론 《브리타니아 열왕사》에 올라온 다른 군주들이 그러하듯이 구엔돌로에나는 야사의 존재일 뿐 실존인물이라는 증거는 없다.\n",
      "\n",
      "초대 콘월 공작 코리네우스의 딸로 태어났다. 초대 브리튼 왕 브루투스의 장남 로크리누스와 결혼해 그 사이에 아들 마단을 낳았다. 로크리누스는 게르만족 공주 에스트릴디스를 사랑했고 외도 끝에 이미 그 사이에 딸 하브렌을 낳았다. 때문에 그는 장인이 죽자 바로 이혼하고 에스트릴디스를 비로 ...\n",
      "==================================================\n",
      "문서 index: 44244, Score: 0.1879\n",
      "Context: 2010년 4월, 이란은 1기당 연간 10SWU의 능력을 가진 3세대 원심분리기 IR-4를 개발했다고 발표했다.\n",
      "\n",
      "2014년 8월 27일, 알리 아크바르 살레히 이란원자력청(AEOI) 청장은 \"국제원자력기구(IAEA)에 신고한 차세대 IR-8 원심분리는 24 SWU(Separative Work Unit·분리작업단위) 수준의 농축 능력을 가졌다\"면서 이는 구형 IR-1 원심분리기의 16배 수준이라고 설명했다.\n",
      "\n",
      "2015년 7월 14일, 이란 핵협정이 체결되었다. 이란 핵협정은 2026년까지 나탄즈 핵시설에 원심분리기 초기 모델인 IR...\n",
      "==================================================\n",
      "문서 index: 23192, Score: 0.1702\n",
      "Context: 지금까지 수많은 젤다의 전설 시리즈가 나오고 링크의 나이, 배경 등은 전부 다르지만 기본적인 배경 스토리는 모드 같다. 그 스토리는 다음과 같다. 하이랄 왕국에는 가논이 여러번 침략을 해왔고, 왕가의 공주와 마스터 소드에게 선택받은 용사가 가논을 물리쳤다. 그러나 젤다의 전설 브레스 오브 더 와일드에서는 모든 젤다의 전설 스토리중 가장 마지막 부분을 다루고 있다. 그래서 모든 편에는 가논이 평화롭던 곳을 습격해 오지만, 젤다의 전설 야생의 숨결에서는 모든 젤다의 전설 주인공의 후세의 이야기로 가논의 침략을 막지 못한 후의 100년 ...\n",
      "==================================================\n"
     ]
    }
   ],
   "source": [
    "\n",
    "\n",
    "import json\n",
    "import pickle\n",
    "from sklearn.feature_extraction.text import TfidfVectorizer\n",
    "from sklearn.metrics.pairwise import cosine_similarity\n",
    "import numpy as np\n",
    "\n",
    "class TFIDFSearch:\n",
    "    def __init__(self, embeddings_path, vectorizer_path, documents_path):\n",
    "        # 임베딩 파일 로드\n",
    "        with open(embeddings_path, 'rb') as f:\n",
    "            self.tfidf_matrix = pickle.load(f)\n",
    "        # TfidfVectorizer 로드\n",
    "        with open(vectorizer_path, 'rb') as f:\n",
    "            self.vectorizer = pickle.load(f)\n",
    "        # 문서 데이터 로드\n",
    "        with open(documents_path, 'r', encoding='utf-8') as f:\n",
    "            self.documents = json.load(f)\n",
    "            self.documents = [doc['text'] for doc in self.documents.values()]  # 문서 텍스트 리스트로 저장\n",
    "\n",
    "    def search(self, query, top_n=5):\n",
    "        # 쿼리를 TF-IDF 벡터로 변환\n",
    "        query_vec = self.vectorizer.transform([query])\n",
    "        # 문서와의 코사인 유사도 계산\n",
    "        cosine_similarities = cosine_similarity(query_vec, self.tfidf_matrix)\n",
    "        # 가장 유사한 문서의 인덱스를 찾기\n",
    "        similar_indices = np.argsort(cosine_similarities.flatten())[-top_n:]\n",
    "        # 가장 유사한 문서의 인덱스와 유사도 출력\n",
    "        similar_documents = [(index, cosine_similarities.flatten()[index], self.documents[index]) for index in similar_indices]\n",
    "        return similar_documents\n",
    "\n",
    "# 인스턴스 생성 및 쿼리 실행\n",
    "tfidf_search = TFIDFSearch(\n",
    "    embeddings_path=\"/data/ephemeral/Jung/level2-mrc-nlp-10/Template/retrieval_result/Sparse_embedding.bin\",\n",
    "    vectorizer_path=\"/data/ephemeral/Jung/level2-mrc-nlp-10/Template/retrieval_result/TFIDF_vec.bin\",\n",
    "    documents_path=\"/data/ephemeral/data/wikipedia_documents.json\"  # 문서 데이터 파일 경로 지정\n",
    ")\n",
    "\n",
    "# 쿼리 실행\n",
    "query = '마오리언어와 영어, 뉴질랜드 수화를 공식 언어로 사용하는 나라는?'\n",
    "results = tfidf_search.search(query)\n",
    "\n",
    "# 결과 출력\n",
    "for index, score, text in sorted(results, key=lambda x: x[1], reverse=True):\n",
    "    print(f\"문서 index: {index}, Score: {score:.4f}\")\n",
    "    print(f\"Context: {text[:300]}...\")  # 문서의 일부만 출력\n",
    "    print(\"=\" * 50)\n",
    "\n"
   ]
  },
  {
   "cell_type": "code",
   "execution_count": 4,
   "metadata": {},
   "outputs": [
    {
     "name": "stdout",
     "output_type": "stream",
     "text": [
      "Data route: /data/ephemeral/data/train_dataset/\n",
      "Test data route: /data/ephemeral/data/test_dataset/\n",
      "Wiki route: /data/ephemeral/data/wikipedia_documents.json\n",
      "Data path: ./bm25_retrieval_result\n"
     ]
    },
    {
     "name": "stderr",
     "output_type": "stream",
     "text": [
      "loading configuration file config.json from cache at /data/ephemeral/home/.cache/huggingface/hub/models--klue--bert-base/snapshots/77c8b3d707df785034b4e50f2da5d37be5f0f546/config.json\n",
      "Model config BertConfig {\n",
      "  \"_name_or_path\": \"klue/bert-base\",\n",
      "  \"architectures\": [\n",
      "    \"BertForMaskedLM\"\n",
      "  ],\n",
      "  \"attention_probs_dropout_prob\": 0.1,\n",
      "  \"classifier_dropout\": null,\n",
      "  \"hidden_act\": \"gelu\",\n",
      "  \"hidden_dropout_prob\": 0.1,\n",
      "  \"hidden_size\": 768,\n",
      "  \"initializer_range\": 0.02,\n",
      "  \"intermediate_size\": 3072,\n",
      "  \"layer_norm_eps\": 1e-12,\n",
      "  \"max_position_embeddings\": 512,\n",
      "  \"model_type\": \"bert\",\n",
      "  \"num_attention_heads\": 12,\n",
      "  \"num_hidden_layers\": 12,\n",
      "  \"pad_token_id\": 0,\n",
      "  \"position_embedding_type\": \"absolute\",\n",
      "  \"transformers_version\": \"4.24.0\",\n",
      "  \"type_vocab_size\": 2,\n",
      "  \"use_cache\": true,\n",
      "  \"vocab_size\": 32000\n",
      "}\n",
      "\n",
      "loading file vocab.txt from cache at /data/ephemeral/home/.cache/huggingface/hub/models--klue--bert-base/snapshots/77c8b3d707df785034b4e50f2da5d37be5f0f546/vocab.txt\n",
      "loading file tokenizer.json from cache at /data/ephemeral/home/.cache/huggingface/hub/models--klue--bert-base/snapshots/77c8b3d707df785034b4e50f2da5d37be5f0f546/tokenizer.json\n",
      "loading file added_tokens.json from cache at None\n",
      "loading file special_tokens_map.json from cache at /data/ephemeral/home/.cache/huggingface/hub/models--klue--bert-base/snapshots/77c8b3d707df785034b4e50f2da5d37be5f0f546/special_tokens_map.json\n",
      "loading file tokenizer_config.json from cache at /data/ephemeral/home/.cache/huggingface/hub/models--klue--bert-base/snapshots/77c8b3d707df785034b4e50f2da5d37be5f0f546/tokenizer_config.json\n",
      "loading configuration file config.json from cache at /data/ephemeral/home/.cache/huggingface/hub/models--klue--bert-base/snapshots/77c8b3d707df785034b4e50f2da5d37be5f0f546/config.json\n",
      "Model config BertConfig {\n",
      "  \"_name_or_path\": \"klue/bert-base\",\n",
      "  \"architectures\": [\n",
      "    \"BertForMaskedLM\"\n",
      "  ],\n",
      "  \"attention_probs_dropout_prob\": 0.1,\n",
      "  \"classifier_dropout\": null,\n",
      "  \"hidden_act\": \"gelu\",\n",
      "  \"hidden_dropout_prob\": 0.1,\n",
      "  \"hidden_size\": 768,\n",
      "  \"initializer_range\": 0.02,\n",
      "  \"intermediate_size\": 3072,\n",
      "  \"layer_norm_eps\": 1e-12,\n",
      "  \"max_position_embeddings\": 512,\n",
      "  \"model_type\": \"bert\",\n",
      "  \"num_attention_heads\": 12,\n",
      "  \"num_hidden_layers\": 12,\n",
      "  \"pad_token_id\": 0,\n",
      "  \"position_embedding_type\": \"absolute\",\n",
      "  \"transformers_version\": \"4.24.0\",\n",
      "  \"type_vocab_size\": 2,\n",
      "  \"use_cache\": true,\n",
      "  \"vocab_size\": 32000\n",
      "}\n",
      "\n",
      "Token indices sequence length is longer than the specified maximum sequence length for this model (1131 > 512). Running this sequence through the model will result in indexing errors\n"
     ]
    },
    {
     "name": "stdout",
     "output_type": "stream",
     "text": [
      "File loaded successfully\n",
      "위키 컨텍스트의 수: 56737\n",
      "BM25 임베딩을 로드했습니다.\n"
     ]
    },
    {
     "name": "stderr",
     "output_type": "stream",
     "text": [
      "BM25 retrieval: 100%|██████████| 600/600 [00:00<00:00, 12499.48it/s]\n"
     ]
    }
   ],
   "source": [
    "#bm25 test\n",
    "import importlib\n",
    "import retrieval\n",
    "importlib.reload(retrieval)\n",
    "\n",
    "# BM25Search 인스턴스 생성\n",
    "bm25 = retrieval.BM25Search()\n",
    "\n",
    "# BM25 임베딩 생성 및 저장/로드\n",
    "bm25.get_sparse_embedding()\n",
    "\n",
    "# 쿼리 검색 수행\n",
    "result = bm25.search_query_bm25()\n"
   ]
  },
  {
   "cell_type": "code",
   "execution_count": 4,
   "metadata": {},
   "outputs": [
    {
     "name": "stderr",
     "output_type": "stream",
     "text": [
      "Some weights of the model checkpoint at klue/bert-base were not used when initializing BertModel: ['cls.predictions.transform.LayerNorm.weight', 'cls.seq_relationship.weight', 'cls.predictions.transform.dense.bias', 'cls.predictions.bias', 'cls.seq_relationship.bias', 'cls.predictions.transform.LayerNorm.bias', 'cls.predictions.transform.dense.weight']\n",
      "- This IS expected if you are initializing BertModel from the checkpoint of a model trained on another task or with another architecture (e.g. initializing a BertForSequenceClassification model from a BertForPreTraining model).\n",
      "- This IS NOT expected if you are initializing BertModel from the checkpoint of a model that you expect to be exactly identical (initializing a BertForSequenceClassification model from a BertForSequenceClassification model).\n",
      "Some weights of the model checkpoint at klue/bert-base were not used when initializing BertModel: ['cls.predictions.transform.LayerNorm.weight', 'cls.seq_relationship.weight', 'cls.predictions.transform.dense.bias', 'cls.predictions.bias', 'cls.seq_relationship.bias', 'cls.predictions.transform.LayerNorm.bias', 'cls.predictions.transform.dense.weight']\n",
      "- This IS expected if you are initializing BertModel from the checkpoint of a model trained on another task or with another architecture (e.g. initializing a BertForSequenceClassification model from a BertForPreTraining model).\n",
      "- This IS NOT expected if you are initializing BertModel from the checkpoint of a model that you expect to be exactly identical (initializing a BertForSequenceClassification model from a BertForSequenceClassification model).\n"
     ]
    },
    {
     "name": "stdout",
     "output_type": "stream",
     "text": [
      "모델과 토크나이저가 로드되었습니다.\n",
      "문서 임베딩이 ./retrieval_result/Dense_embedding.npy에서 로드되었습니다. 임베딩 shape: (60613, 768)\n",
      "문서 ID와 내용이 로드되었습니다. 총 문서 수: 60613\n",
      "문서 임베딩이 정규화되었습니다.\n",
      "Dense 임베딩을 로드했습니다.\n",
      "쿼리 임베딩이 생성되고 정규화되었습니다.\n",
      "쿼리에 대한 상위 10개 문서를 Dense Retrieval으로 검색했습니다.\n",
      "Document index: 39838, Score: 0.6234\n",
      "Document content (first 50 characters): 영어, 말레이어, 중국어, 카다잔두순어 등이 사용되었으나, 실질적인 공용어는 영어였다. 영...\n",
      "==================================================\n",
      "Document index: 185, Score: 0.6190\n",
      "Document content (first 50 characters): 현재 공용어는 스페인어(쿠바 방식의 스페인어)이다. 하지만 관광 산업에 주력하고 있는 미국...\n",
      "==================================================\n",
      "Document index: 4739, Score: 0.6190\n",
      "Document content (first 50 characters): 현재 공용어는 스페인어(쿠바 방식의 스페인어)이다. 하지만 관광 산업에 주력하고 있는 미국...\n",
      "==================================================\n",
      "Document index: 58774, Score: 0.6091\n",
      "Document content (first 50 characters): 농아인 공동체는 멕시코 수화와 유카탄 수화를 사용하고, 바하칼리포르니아주 북부에서는 미국 ...\n",
      "==================================================\n",
      "Document index: 2652, Score: 0.6051\n",
      "Document content (first 50 characters): 이 언어는 말레이시아의 실질적인 공용어이며, 말레이어의 일종이다. 이름을 말레이시아어라고 ...\n",
      "==================================================\n",
      "Document index: 3622, Score: 0.6005\n",
      "Document content (first 50 characters): 아일랜드어(Gaeilge)는 인도유럽어족 켈트어파에 속하는 언어로 아일랜드의 제1공용어이다...\n",
      "==================================================\n",
      "Document index: 7206, Score: 0.6001\n",
      "Document content (first 50 characters): 이 언어는 말레이시아의 실질적인 공용어이며, 말레이어의 일종이다. 이름을 말레이시아어라고 ...\n",
      "==================================================\n",
      "Document index: 8176, Score: 0.5980\n",
      "Document content (first 50 characters): 아일랜드어(Gaeilge)는 인도유럽어족 켈트어파에 속하는 언어로 아일랜드의 제1공용어이다...\n",
      "==================================================\n",
      "Document index: 30666, Score: 0.5891\n",
      "Document content (first 50 characters): 미국의 언어\n",
      "\n",
      "미국은 연방 정부 차원에서 따로 공용어를 지정하지 않고 있다. 하지만 미국 ...\n",
      "==================================================\n",
      "Document index: 58772, Score: 0.5854\n",
      "Document content (first 50 characters): 스페인어는 멕시코인 대다수가 사용하는 사실상의 국어이다. 그러나 법적으로는 공식어로 지정되...\n",
      "==================================================\n"
     ]
    }
   ],
   "source": [
    "import importlib\n",
    "import Dense  \n",
    "import torch\n",
    "importlib.reload(Dense)\n",
    "\n",
    "# DenseRetrievalSearch 인스턴스 생성\n",
    "dense_retrieval = Dense.DenseRetrievalSearch(\n",
    "    model_class=Dense.DenseRetrievalModel,\n",
    "    model_path='./retrieval_result/dense_retrieval_model.pth',  # 모델 가중치 파일 경로\n",
    "    tokenizer_name='klue/bert-base',  # 사용한 토크나이저와 동일해야 함\n",
    "    embeddings_path='./retrieval_result/Dense_embedding.npy',  # 문서 임베딩 파일 경로\n",
    "    doc_ids_path='./retrieval_result/doc_ids.json',  # 문서 ID 파일 경로\n",
    "    contexts_path='./retrieval_result/contexts.json',  # 문서 내용 파일 경로\n",
    "    device='cuda' if torch.cuda.is_available() else 'cpu'\n",
    ")\n",
    "\n",
    "# Dense 임베딩 생성 및 저장/로드\n",
    "dense_retrieval.get_dense_embedding()  # 현재는 임베딩이 이미 로드되어 있다고 가정\n",
    "\n",
    "# 쿼리 검색 수행\n",
    "query = '마오리언어와 영어, 뉴질랜드 수화를 공식 언어로 사용하는 나라는?'\n",
    "results = dense_retrieval.search_query_dense(query, top_n=10)\n",
    "\n",
    "# 검색 결과 출력\n",
    "for idx, score in results:\n",
    "    document = dense_retrieval.get_document(idx)\n",
    "    if document:\n",
    "        print(f\"Document index: {idx}, Score: {score:.4f}\")\n",
    "        print(f\"Document content (first 50 characters): {document[:50]}...\")\n",
    "        print(\"=\" * 50)\n",
    "    else:\n",
    "        print(f\"문서를 찾지 못하였음 {idx}\")\n"
   ]
  },
  {
   "cell_type": "code",
   "execution_count": 2,
   "metadata": {},
   "outputs": [
    {
     "name": "stdout",
     "output_type": "stream",
     "text": [
      "Collecting transformers==4.24.0\n",
      "  Obtaining dependency information for transformers==4.24.0 from https://files.pythonhosted.org/packages/a4/df/3248eac2923ceffdf55686ff318e002b558e7c51f6a909dd870cf3185949/transformers-4.24.0-py3-none-any.whl.metadata\n",
      "  Using cached transformers-4.24.0-py3-none-any.whl.metadata (90 kB)\n",
      "Requirement already satisfied: filelock in /opt/conda/lib/python3.10/site-packages (from transformers==4.24.0) (3.9.0)\n",
      "Requirement already satisfied: huggingface-hub<1.0,>=0.10.0 in /opt/conda/lib/python3.10/site-packages (from transformers==4.24.0) (0.25.1)\n",
      "Requirement already satisfied: numpy>=1.17 in /opt/conda/lib/python3.10/site-packages (from transformers==4.24.0) (1.26.0)\n",
      "Requirement already satisfied: packaging>=20.0 in /opt/conda/lib/python3.10/site-packages (from transformers==4.24.0) (23.1)\n",
      "Requirement already satisfied: pyyaml>=5.1 in /opt/conda/lib/python3.10/site-packages (from transformers==4.24.0) (6.0)\n",
      "Requirement already satisfied: regex!=2019.12.17 in /opt/conda/lib/python3.10/site-packages (from transformers==4.24.0) (2023.12.25)\n",
      "Requirement already satisfied: requests in /opt/conda/lib/python3.10/site-packages (from transformers==4.24.0) (2.32.3)\n",
      "Collecting tokenizers!=0.11.3,<0.14,>=0.11.1 (from transformers==4.24.0)\n",
      "  Obtaining dependency information for tokenizers!=0.11.3,<0.14,>=0.11.1 from https://files.pythonhosted.org/packages/94/60/ff26cce378023624ffcad91edaa4871f561d6ba7295185c45037ddba80e2/tokenizers-0.13.3-cp310-cp310-manylinux_2_17_x86_64.manylinux2014_x86_64.whl.metadata\n",
      "  Downloading tokenizers-0.13.3-cp310-cp310-manylinux_2_17_x86_64.manylinux2014_x86_64.whl.metadata (6.7 kB)\n",
      "Requirement already satisfied: tqdm>=4.27 in /opt/conda/lib/python3.10/site-packages (from transformers==4.24.0) (4.66.5)\n",
      "Requirement already satisfied: fsspec>=2023.5.0 in /opt/conda/lib/python3.10/site-packages (from huggingface-hub<1.0,>=0.10.0->transformers==4.24.0) (2023.9.2)\n",
      "Requirement already satisfied: typing-extensions>=3.7.4.3 in /opt/conda/lib/python3.10/site-packages (from huggingface-hub<1.0,>=0.10.0->transformers==4.24.0) (4.7.1)\n",
      "Requirement already satisfied: charset-normalizer<4,>=2 in /opt/conda/lib/python3.10/site-packages (from requests->transformers==4.24.0) (2.0.4)\n",
      "Requirement already satisfied: idna<4,>=2.5 in /opt/conda/lib/python3.10/site-packages (from requests->transformers==4.24.0) (3.4)\n",
      "Requirement already satisfied: urllib3<3,>=1.21.1 in /opt/conda/lib/python3.10/site-packages (from requests->transformers==4.24.0) (1.26.16)\n",
      "Requirement already satisfied: certifi>=2017.4.17 in /opt/conda/lib/python3.10/site-packages (from requests->transformers==4.24.0) (2024.8.30)\n",
      "Using cached transformers-4.24.0-py3-none-any.whl (5.5 MB)\n",
      "Downloading tokenizers-0.13.3-cp310-cp310-manylinux_2_17_x86_64.manylinux2014_x86_64.whl (7.8 MB)\n",
      "\u001b[2K   \u001b[90m━━━━━━━━━━━━━━━━━━━━━━━━━━━━━━━━━━━━━━━━\u001b[0m \u001b[32m7.8/7.8 MB\u001b[0m \u001b[31m6.3 MB/s\u001b[0m eta \u001b[36m0:00:00\u001b[0m00:01\u001b[0m00:01\u001b[0m0m\n",
      "\u001b[?25hInstalling collected packages: tokenizers, transformers\n",
      "  Attempting uninstall: tokenizers\n",
      "    Found existing installation: tokenizers 0.20.0\n",
      "    Uninstalling tokenizers-0.20.0:\n",
      "      Successfully uninstalled tokenizers-0.20.0\n",
      "  Attempting uninstall: transformers\n",
      "    Found existing installation: transformers 4.45.2\n",
      "    Uninstalling transformers-4.45.2:\n",
      "      Successfully uninstalled transformers-4.45.2\n",
      "\u001b[31mERROR: pip's dependency resolver does not currently take into account all the packages that are installed. This behaviour is the source of the following dependency conflicts.\n",
      "sentence-transformers 3.1.1 requires transformers<5.0.0,>=4.38.0, but you have transformers 4.24.0 which is incompatible.\u001b[0m\u001b[31m\n",
      "\u001b[0mSuccessfully installed tokenizers-0.13.3 transformers-4.24.0\n",
      "\u001b[33mWARNING: Running pip as the 'root' user can result in broken permissions and conflicting behaviour with the system package manager. It is recommended to use a virtual environment instead: https://pip.pypa.io/warnings/venv\u001b[0m\u001b[33m\n",
      "\u001b[0m"
     ]
    }
   ],
   "source": [
    "!pip install transformers==4.24.0"
   ]
  },
  {
   "cell_type": "code",
   "execution_count": 5,
   "metadata": {},
   "outputs": [
    {
     "name": "stderr",
     "output_type": "stream",
     "text": [
      "Some weights of the model checkpoint at klue/bert-base were not used when initializing BertModel: ['cls.predictions.transform.LayerNorm.weight', 'cls.seq_relationship.weight', 'cls.predictions.transform.dense.bias', 'cls.predictions.bias', 'cls.seq_relationship.bias', 'cls.predictions.transform.LayerNorm.bias', 'cls.predictions.transform.dense.weight']\n",
      "- This IS expected if you are initializing BertModel from the checkpoint of a model trained on another task or with another architecture (e.g. initializing a BertForSequenceClassification model from a BertForPreTraining model).\n",
      "- This IS NOT expected if you are initializing BertModel from the checkpoint of a model that you expect to be exactly identical (initializing a BertForSequenceClassification model from a BertForSequenceClassification model).\n",
      "Some weights of the model checkpoint at klue/bert-base were not used when initializing BertModel: ['cls.predictions.transform.LayerNorm.weight', 'cls.seq_relationship.weight', 'cls.predictions.transform.dense.bias', 'cls.predictions.bias', 'cls.seq_relationship.bias', 'cls.predictions.transform.LayerNorm.bias', 'cls.predictions.transform.dense.weight']\n",
      "- This IS expected if you are initializing BertModel from the checkpoint of a model trained on another task or with another architecture (e.g. initializing a BertForSequenceClassification model from a BertForPreTraining model).\n",
      "- This IS NOT expected if you are initializing BertModel from the checkpoint of a model that you expect to be exactly identical (initializing a BertForSequenceClassification model from a BertForSequenceClassification model).\n"
     ]
    },
    {
     "name": "stdout",
     "output_type": "stream",
     "text": [
      "모델과 토크나이저가 로드되었습니다.\n",
      "문서 임베딩이 /data/ephemeral/retrieval_result/Dense_embedding.npy에서 로드되었습니다. 임베딩 shape: (60613, 768)\n",
      "문서 ID와 내용이 로드되었습니다. 총 문서 수: 60613\n",
      "문서 임베딩이 정규화되었습니다.\n",
      "Dense 임베딩을 로드했습니다.\n",
      "테스트 데이터셋의 총 쿼리 수: 600\n"
     ]
    },
    {
     "name": "stderr",
     "output_type": "stream",
     "text": [
      "Dense Retrieval:   0%|          | 0/600 [00:00<?, ?it/s]"
     ]
    },
    {
     "name": "stdout",
     "output_type": "stream",
     "text": [
      "쿼리 임베딩이 생성되고 정규화되었습니다.\n",
      "쿼리에 대한 상위 20개 문서를 Dense Retrieval으로 검색했습니다.\n",
      "쿼리 임베딩이 생성되고 정규화되었습니다.\n",
      "쿼리에 대한 상위 20개 문서를 Dense Retrieval으로 검색했습니다.\n",
      "쿼리 임베딩이 생성되고 정규화되었습니다.\n"
     ]
    },
    {
     "name": "stderr",
     "output_type": "stream",
     "text": [
      "Dense Retrieval:   1%|          | 5/600 [00:00<00:13, 42.52it/s]"
     ]
    },
    {
     "name": "stdout",
     "output_type": "stream",
     "text": [
      "쿼리에 대한 상위 20개 문서를 Dense Retrieval으로 검색했습니다.\n",
      "쿼리 임베딩이 생성되고 정규화되었습니다.\n",
      "쿼리에 대한 상위 20개 문서를 Dense Retrieval으로 검색했습니다.\n",
      "쿼리 임베딩이 생성되고 정규화되었습니다.\n",
      "쿼리에 대한 상위 20개 문서를 Dense Retrieval으로 검색했습니다.\n",
      "쿼리 임베딩이 생성되고 정규화되었습니다.\n",
      "쿼리에 대한 상위 20개 문서를 Dense Retrieval으로 검색했습니다.\n",
      "쿼리 임베딩이 생성되고 정규화되었습니다.\n",
      "쿼리에 대한 상위 20개 문서를 Dense Retrieval으로 검색했습니다.\n",
      "쿼리 임베딩이 생성되고 정규화되었습니다.\n",
      "쿼리에 대한 상위 20개 문서를 Dense Retrieval으로 검색했습니다.\n"
     ]
    },
    {
     "name": "stderr",
     "output_type": "stream",
     "text": [
      "Dense Retrieval:   2%|▏         | 10/600 [00:00<00:15, 37.11it/s]"
     ]
    },
    {
     "name": "stdout",
     "output_type": "stream",
     "text": [
      "쿼리 임베딩이 생성되고 정규화되었습니다.\n",
      "쿼리에 대한 상위 20개 문서를 Dense Retrieval으로 검색했습니다.\n",
      "쿼리 임베딩이 생성되고 정규화되었습니다.\n",
      "쿼리에 대한 상위 20개 문서를 Dense Retrieval으로 검색했습니다.\n"
     ]
    },
    {
     "name": "stderr",
     "output_type": "stream",
     "text": [
      "Dense Retrieval:   2%|▏         | 14/600 [00:00<00:16, 36.02it/s]"
     ]
    },
    {
     "name": "stdout",
     "output_type": "stream",
     "text": [
      "쿼리 임베딩이 생성되고 정규화되었습니다.\n",
      "쿼리에 대한 상위 20개 문서를 Dense Retrieval으로 검색했습니다.\n",
      "쿼리 임베딩이 생성되고 정규화되었습니다.\n",
      "쿼리에 대한 상위 20개 문서를 Dense Retrieval으로 검색했습니다.\n",
      "쿼리 임베딩이 생성되고 정규화되었습니다.\n",
      "쿼리에 대한 상위 20개 문서를 Dense Retrieval으로 검색했습니다.\n",
      "쿼리 임베딩이 생성되고 정규화되었습니다.\n",
      "쿼리에 대한 상위 20개 문서를 Dense Retrieval으로 검색했습니다.\n",
      "쿼리 임베딩이 생성되고 정규화되었습니다.\n",
      "쿼리에 대한 상위 20개 문서를 Dense Retrieval으로 검색했습니다.\n",
      "쿼리 임베딩이 생성되고 정규화되었습니다.\n",
      "쿼리에 대한 상위 20개 문서를 Dense Retrieval으로 검색했습니다.\n",
      "쿼리 임베딩이 생성되고 정규화되었습니다.\n",
      "쿼리에 대한 상위 20개 문서를 Dense Retrieval으로 검색했습니다.\n",
      "쿼리 임베딩이 생성되고 정규화되었습니다.\n"
     ]
    },
    {
     "name": "stderr",
     "output_type": "stream",
     "text": [
      "Dense Retrieval:   4%|▎         | 22/600 [00:00<00:15, 36.69it/s]"
     ]
    },
    {
     "name": "stdout",
     "output_type": "stream",
     "text": [
      "쿼리에 대한 상위 20개 문서를 Dense Retrieval으로 검색했습니다.\n",
      "쿼리 임베딩이 생성되고 정규화되었습니다.\n",
      "쿼리에 대한 상위 20개 문서를 Dense Retrieval으로 검색했습니다.\n",
      "쿼리 임베딩이 생성되고 정규화되었습니다.\n",
      "쿼리에 대한 상위 20개 문서를 Dense Retrieval으로 검색했습니다.\n",
      "쿼리 임베딩이 생성되고 정규화되었습니다.\n",
      "쿼리에 대한 상위 20개 문서를 Dense Retrieval으로 검색했습니다.\n",
      "쿼리 임베딩이 생성되고 정규화되었습니다.\n",
      "쿼리에 대한 상위 20개 문서를 Dense Retrieval으로 검색했습니다.\n",
      "쿼리 임베딩이 생성되고 정규화되었습니다.\n",
      "쿼리에 대한 상위 20개 문서를 Dense Retrieval으로 검색했습니다.\n",
      "쿼리 임베딩이 생성되고 정규화되었습니다.\n",
      "쿼리에 대한 상위 20개 문서를 Dense Retrieval으로 검색했습니다.\n",
      "쿼리 임베딩이 생성되고 정규화되었습니다.\n",
      "쿼리에 대한 상위 20개 문서를 Dense Retrieval으로 검색했습니다.\n"
     ]
    },
    {
     "name": "stderr",
     "output_type": "stream",
     "text": [
      "Dense Retrieval:   5%|▌         | 30/600 [00:00<00:15, 37.06it/s]"
     ]
    },
    {
     "name": "stdout",
     "output_type": "stream",
     "text": [
      "쿼리 임베딩이 생성되고 정규화되었습니다.\n",
      "쿼리에 대한 상위 20개 문서를 Dense Retrieval으로 검색했습니다.\n",
      "쿼리 임베딩이 생성되고 정규화되었습니다.\n",
      "쿼리에 대한 상위 20개 문서를 Dense Retrieval으로 검색했습니다.\n",
      "쿼리 임베딩이 생성되고 정규화되었습니다.\n",
      "쿼리에 대한 상위 20개 문서를 Dense Retrieval으로 검색했습니다.\n",
      "쿼리 임베딩이 생성되고 정규화되었습니다.\n",
      "쿼리에 대한 상위 20개 문서를 Dense Retrieval으로 검색했습니다.\n",
      "쿼리 임베딩이 생성되고 정규화되었습니다.\n",
      "쿼리에 대한 상위 20개 문서를 Dense Retrieval으로 검색했습니다.\n",
      "쿼리 임베딩이 생성되고 정규화되었습니다.\n",
      "쿼리에 대한 상위 20개 문서를 Dense Retrieval으로 검색했습니다.\n",
      "쿼리 임베딩이 생성되고 정규화되었습니다.\n",
      "쿼리에 대한 상위 20개 문서를 Dense Retrieval으로 검색했습니다.\n",
      "쿼리 임베딩이 생성되고 정규화되었습니다.\n"
     ]
    },
    {
     "name": "stderr",
     "output_type": "stream",
     "text": [
      "Dense Retrieval:   6%|▋         | 39/600 [00:01<00:14, 38.34it/s]"
     ]
    },
    {
     "name": "stdout",
     "output_type": "stream",
     "text": [
      "쿼리에 대한 상위 20개 문서를 Dense Retrieval으로 검색했습니다.\n",
      "쿼리 임베딩이 생성되고 정규화되었습니다.\n",
      "쿼리에 대한 상위 20개 문서를 Dense Retrieval으로 검색했습니다.\n",
      "쿼리 임베딩이 생성되고 정규화되었습니다.\n",
      "쿼리에 대한 상위 20개 문서를 Dense Retrieval으로 검색했습니다.\n",
      "쿼리 임베딩이 생성되고 정규화되었습니다.\n",
      "쿼리에 대한 상위 20개 문서를 Dense Retrieval으로 검색했습니다.\n",
      "쿼리 임베딩이 생성되고 정규화되었습니다.\n",
      "쿼리에 대한 상위 20개 문서를 Dense Retrieval으로 검색했습니다.\n",
      "쿼리 임베딩이 생성되고 정규화되었습니다.\n",
      "쿼리에 대한 상위 20개 문서를 Dense Retrieval으로 검색했습니다.\n",
      "쿼리 임베딩이 생성되고 정규화되었습니다.\n",
      "쿼리에 대한 상위 20개 문서를 Dense Retrieval으로 검색했습니다.\n",
      "쿼리 임베딩이 생성되고 정규화되었습니다.\n",
      "쿼리에 대한 상위 20개 문서를 Dense Retrieval으로 검색했습니다.\n",
      "쿼리 임베딩이 생성되고 정규화되었습니다.\n",
      "쿼리에 대한 상위 20개 문서를 Dense Retrieval으로 검색했습니다.\n"
     ]
    },
    {
     "name": "stderr",
     "output_type": "stream",
     "text": [
      "Dense Retrieval:   7%|▋         | 44/600 [00:01<00:14, 38.81it/s]"
     ]
    },
    {
     "name": "stdout",
     "output_type": "stream",
     "text": [
      "쿼리 임베딩이 생성되고 정규화되었습니다.\n",
      "쿼리에 대한 상위 20개 문서를 Dense Retrieval으로 검색했습니다.\n",
      "쿼리 임베딩이 생성되고 정규화되었습니다.\n",
      "쿼리에 대한 상위 20개 문서를 Dense Retrieval으로 검색했습니다.\n",
      "쿼리 임베딩이 생성되고 정규화되었습니다.\n",
      "쿼리에 대한 상위 20개 문서를 Dense Retrieval으로 검색했습니다.\n",
      "쿼리 임베딩이 생성되고 정규화되었습니다.\n",
      "쿼리에 대한 상위 20개 문서를 Dense Retrieval으로 검색했습니다.\n",
      "쿼리 임베딩이 생성되고 정규화되었습니다.\n",
      "쿼리에 대한 상위 20개 문서를 Dense Retrieval으로 검색했습니다.\n",
      "쿼리 임베딩이 생성되고 정규화되었습니다.\n",
      "쿼리에 대한 상위 20개 문서를 Dense Retrieval으로 검색했습니다.\n",
      "쿼리 임베딩이 생성되고 정규화되었습니다.\n",
      "쿼리에 대한 상위 20개 문서를 Dense Retrieval으로 검색했습니다.\n"
     ]
    },
    {
     "name": "stderr",
     "output_type": "stream",
     "text": [
      "Dense Retrieval:   8%|▊         | 49/600 [00:01<00:13, 39.84it/s]"
     ]
    },
    {
     "name": "stdout",
     "output_type": "stream",
     "text": [
      "쿼리 임베딩이 생성되고 정규화되었습니다.\n",
      "쿼리에 대한 상위 20개 문서를 Dense Retrieval으로 검색했습니다.\n",
      "쿼리 임베딩이 생성되고 정규화되었습니다.\n",
      "쿼리에 대한 상위 20개 문서를 Dense Retrieval으로 검색했습니다.\n"
     ]
    },
    {
     "name": "stderr",
     "output_type": "stream",
     "text": [
      "Dense Retrieval:   9%|▉         | 53/600 [00:01<00:14, 38.44it/s]"
     ]
    },
    {
     "name": "stdout",
     "output_type": "stream",
     "text": [
      "쿼리 임베딩이 생성되고 정규화되었습니다.\n",
      "쿼리에 대한 상위 20개 문서를 Dense Retrieval으로 검색했습니다.\n",
      "쿼리 임베딩이 생성되고 정규화되었습니다.\n",
      "쿼리에 대한 상위 20개 문서를 Dense Retrieval으로 검색했습니다.\n",
      "쿼리 임베딩이 생성되고 정규화되었습니다.\n",
      "쿼리에 대한 상위 20개 문서를 Dense Retrieval으로 검색했습니다.\n",
      "쿼리 임베딩이 생성되고 정규화되었습니다.\n",
      "쿼리에 대한 상위 20개 문서를 Dense Retrieval으로 검색했습니다.\n",
      "쿼리 임베딩이 생성되고 정규화되었습니다.\n",
      "쿼리에 대한 상위 20개 문서를 Dense Retrieval으로 검색했습니다.\n",
      "쿼리 임베딩이 생성되고 정규화되었습니다.\n",
      "쿼리에 대한 상위 20개 문서를 Dense Retrieval으로 검색했습니다.\n"
     ]
    },
    {
     "name": "stderr",
     "output_type": "stream",
     "text": [
      "Dense Retrieval:  10%|▉         | 58/600 [00:01<00:13, 39.94it/s]"
     ]
    },
    {
     "name": "stdout",
     "output_type": "stream",
     "text": [
      "쿼리 임베딩이 생성되고 정규화되었습니다.\n",
      "쿼리에 대한 상위 20개 문서를 Dense Retrieval으로 검색했습니다.\n",
      "쿼리 임베딩이 생성되고 정규화되었습니다.\n",
      "쿼리에 대한 상위 20개 문서를 Dense Retrieval으로 검색했습니다.\n"
     ]
    },
    {
     "name": "stderr",
     "output_type": "stream",
     "text": [
      "Dense Retrieval:  10%|█         | 62/600 [00:01<00:13, 39.76it/s]"
     ]
    },
    {
     "name": "stdout",
     "output_type": "stream",
     "text": [
      "쿼리 임베딩이 생성되고 정규화되었습니다.\n",
      "쿼리에 대한 상위 20개 문서를 Dense Retrieval으로 검색했습니다.\n",
      "쿼리 임베딩이 생성되고 정규화되었습니다.\n",
      "쿼리에 대한 상위 20개 문서를 Dense Retrieval으로 검색했습니다.\n",
      "쿼리 임베딩이 생성되고 정규화되었습니다.\n",
      "쿼리에 대한 상위 20개 문서를 Dense Retrieval으로 검색했습니다.\n",
      "쿼리 임베딩이 생성되고 정규화되었습니다.\n",
      "쿼리에 대한 상위 20개 문서를 Dense Retrieval으로 검색했습니다.\n",
      "쿼리 임베딩이 생성되고 정규화되었습니다.\n",
      "쿼리에 대한 상위 20개 문서를 Dense Retrieval으로 검색했습니다.\n",
      "쿼리 임베딩이 생성되고 정규화되었습니다.\n",
      "쿼리에 대한 상위 20개 문서를 Dense Retrieval으로 검색했습니다.\n",
      "쿼리 임베딩이 생성되고 정규화되었습니다.\n",
      "쿼리에 대한 상위 20개 문서를 Dense Retrieval으로 검색했습니다.\n",
      "쿼리 임베딩이 생성되고 정규화되었습니다.\n",
      "쿼리에 대한 상위 20개 문서를 Dense Retrieval으로 검색했습니다.\n",
      "쿼리 임베딩이 생성되고 정규화되었습니다.\n"
     ]
    },
    {
     "name": "stderr",
     "output_type": "stream",
     "text": [
      "Dense Retrieval:  12%|█▏        | 72/600 [00:01<00:13, 40.49it/s]"
     ]
    },
    {
     "name": "stdout",
     "output_type": "stream",
     "text": [
      "쿼리에 대한 상위 20개 문서를 Dense Retrieval으로 검색했습니다.\n",
      "쿼리 임베딩이 생성되고 정규화되었습니다.\n",
      "쿼리에 대한 상위 20개 문서를 Dense Retrieval으로 검색했습니다.\n",
      "쿼리 임베딩이 생성되고 정규화되었습니다.\n",
      "쿼리에 대한 상위 20개 문서를 Dense Retrieval으로 검색했습니다.\n",
      "쿼리 임베딩이 생성되고 정규화되었습니다.\n",
      "쿼리에 대한 상위 20개 문서를 Dense Retrieval으로 검색했습니다.\n",
      "쿼리 임베딩이 생성되고 정규화되었습니다.\n",
      "쿼리에 대한 상위 20개 문서를 Dense Retrieval으로 검색했습니다.\n",
      "쿼리 임베딩이 생성되고 정규화되었습니다.\n",
      "쿼리에 대한 상위 20개 문서를 Dense Retrieval으로 검색했습니다.\n",
      "쿼리 임베딩이 생성되고 정규화되었습니다.\n",
      "쿼리에 대한 상위 20개 문서를 Dense Retrieval으로 검색했습니다.\n",
      "쿼리 임베딩이 생성되고 정규화되었습니다.\n",
      "쿼리에 대한 상위 20개 문서를 Dense Retrieval으로 검색했습니다.\n",
      "쿼리 임베딩이 생성되고 정규화되었습니다.\n",
      "쿼리에 대한 상위 20개 문서를 Dense Retrieval으로 검색했습니다.\n",
      "쿼리 임베딩이 생성되고 정규화되었습니다.\n"
     ]
    },
    {
     "name": "stderr",
     "output_type": "stream",
     "text": [
      "Dense Retrieval:  13%|█▎        | 77/600 [00:01<00:12, 41.00it/s]"
     ]
    },
    {
     "name": "stdout",
     "output_type": "stream",
     "text": [
      "쿼리에 대한 상위 20개 문서를 Dense Retrieval으로 검색했습니다.\n",
      "쿼리 임베딩이 생성되고 정규화되었습니다.\n",
      "쿼리에 대한 상위 20개 문서를 Dense Retrieval으로 검색했습니다.\n",
      "쿼리 임베딩이 생성되고 정규화되었습니다.\n",
      "쿼리에 대한 상위 20개 문서를 Dense Retrieval으로 검색했습니다.\n",
      "쿼리 임베딩이 생성되고 정규화되었습니다.\n",
      "쿼리에 대한 상위 20개 문서를 Dense Retrieval으로 검색했습니다.\n",
      "쿼리 임베딩이 생성되고 정규화되었습니다.\n",
      "쿼리에 대한 상위 20개 문서를 Dense Retrieval으로 검색했습니다.\n",
      "쿼리 임베딩이 생성되고 정규화되었습니다.\n",
      "쿼리에 대한 상위 20개 문서를 Dense Retrieval으로 검색했습니다.\n",
      "쿼리 임베딩이 생성되고 정규화되었습니다.\n"
     ]
    },
    {
     "name": "stderr",
     "output_type": "stream",
     "text": [
      "Dense Retrieval:  14%|█▎        | 82/600 [00:02<00:12, 40.25it/s]"
     ]
    },
    {
     "name": "stdout",
     "output_type": "stream",
     "text": [
      "쿼리에 대한 상위 20개 문서를 Dense Retrieval으로 검색했습니다.\n",
      "쿼리 임베딩이 생성되고 정규화되었습니다.\n",
      "쿼리에 대한 상위 20개 문서를 Dense Retrieval으로 검색했습니다.\n"
     ]
    },
    {
     "name": "stderr",
     "output_type": "stream",
     "text": [
      "Dense Retrieval:  14%|█▍        | 87/600 [00:02<00:12, 40.37it/s]"
     ]
    },
    {
     "name": "stdout",
     "output_type": "stream",
     "text": [
      "쿼리 임베딩이 생성되고 정규화되었습니다.\n",
      "쿼리에 대한 상위 20개 문서를 Dense Retrieval으로 검색했습니다.\n",
      "쿼리 임베딩이 생성되고 정규화되었습니다.\n",
      "쿼리에 대한 상위 20개 문서를 Dense Retrieval으로 검색했습니다.\n",
      "쿼리 임베딩이 생성되고 정규화되었습니다.\n",
      "쿼리에 대한 상위 20개 문서를 Dense Retrieval으로 검색했습니다.\n",
      "쿼리 임베딩이 생성되고 정규화되었습니다.\n",
      "쿼리에 대한 상위 20개 문서를 Dense Retrieval으로 검색했습니다.\n",
      "쿼리 임베딩이 생성되고 정규화되었습니다.\n",
      "쿼리에 대한 상위 20개 문서를 Dense Retrieval으로 검색했습니다.\n",
      "쿼리 임베딩이 생성되고 정규화되었습니다.\n",
      "쿼리에 대한 상위 20개 문서를 Dense Retrieval으로 검색했습니다.\n",
      "쿼리 임베딩이 생성되고 정규화되었습니다.\n",
      "쿼리에 대한 상위 20개 문서를 Dense Retrieval으로 검색했습니다.\n",
      "쿼리 임베딩이 생성되고 정규화되었습니다.\n",
      "쿼리에 대한 상위 20개 문서를 Dense Retrieval으로 검색했습니다.\n"
     ]
    },
    {
     "name": "stderr",
     "output_type": "stream",
     "text": [
      "Dense Retrieval:  16%|█▌        | 97/600 [00:02<00:12, 39.64it/s]"
     ]
    },
    {
     "name": "stdout",
     "output_type": "stream",
     "text": [
      "쿼리 임베딩이 생성되고 정규화되었습니다.\n",
      "쿼리에 대한 상위 20개 문서를 Dense Retrieval으로 검색했습니다.\n",
      "쿼리 임베딩이 생성되고 정규화되었습니다.\n",
      "쿼리에 대한 상위 20개 문서를 Dense Retrieval으로 검색했습니다.\n",
      "쿼리 임베딩이 생성되고 정규화되었습니다.\n",
      "쿼리에 대한 상위 20개 문서를 Dense Retrieval으로 검색했습니다.\n",
      "쿼리 임베딩이 생성되고 정규화되었습니다.\n",
      "쿼리에 대한 상위 20개 문서를 Dense Retrieval으로 검색했습니다.\n",
      "쿼리 임베딩이 생성되고 정규화되었습니다.\n",
      "쿼리에 대한 상위 20개 문서를 Dense Retrieval으로 검색했습니다.\n",
      "쿼리 임베딩이 생성되고 정규화되었습니다.\n",
      "쿼리에 대한 상위 20개 문서를 Dense Retrieval으로 검색했습니다.\n",
      "쿼리 임베딩이 생성되고 정규화되었습니다.\n",
      "쿼리에 대한 상위 20개 문서를 Dense Retrieval으로 검색했습니다.\n",
      "쿼리 임베딩이 생성되고 정규화되었습니다.\n",
      "쿼리에 대한 상위 20개 문서를 Dense Retrieval으로 검색했습니다.\n",
      "쿼리 임베딩이 생성되고 정규화되었습니다.\n"
     ]
    },
    {
     "name": "stderr",
     "output_type": "stream",
     "text": [
      "Dense Retrieval:  18%|█▊        | 106/600 [00:02<00:12, 40.97it/s]"
     ]
    },
    {
     "name": "stdout",
     "output_type": "stream",
     "text": [
      "쿼리에 대한 상위 20개 문서를 Dense Retrieval으로 검색했습니다.\n",
      "쿼리 임베딩이 생성되고 정규화되었습니다.\n",
      "쿼리에 대한 상위 20개 문서를 Dense Retrieval으로 검색했습니다.\n",
      "쿼리 임베딩이 생성되고 정규화되었습니다.\n",
      "쿼리에 대한 상위 20개 문서를 Dense Retrieval으로 검색했습니다.\n",
      "쿼리 임베딩이 생성되고 정규화되었습니다.\n",
      "쿼리에 대한 상위 20개 문서를 Dense Retrieval으로 검색했습니다.\n",
      "쿼리 임베딩이 생성되고 정규화되었습니다.\n",
      "쿼리에 대한 상위 20개 문서를 Dense Retrieval으로 검색했습니다.\n",
      "쿼리 임베딩이 생성되고 정규화되었습니다.\n",
      "쿼리에 대한 상위 20개 문서를 Dense Retrieval으로 검색했습니다.\n",
      "쿼리 임베딩이 생성되고 정규화되었습니다.\n",
      "쿼리에 대한 상위 20개 문서를 Dense Retrieval으로 검색했습니다.\n",
      "쿼리 임베딩이 생성되고 정규화되었습니다.\n",
      "쿼리에 대한 상위 20개 문서를 Dense Retrieval으로 검색했습니다.\n",
      "쿼리 임베딩이 생성되고 정규화되었습니다.\n",
      "쿼리에 대한 상위 20개 문서를 Dense Retrieval으로 검색했습니다.\n"
     ]
    },
    {
     "name": "stderr",
     "output_type": "stream",
     "text": [
      "Dense Retrieval:  18%|█▊        | 111/600 [00:02<00:12, 39.92it/s]"
     ]
    },
    {
     "name": "stdout",
     "output_type": "stream",
     "text": [
      "쿼리 임베딩이 생성되고 정규화되었습니다.\n",
      "쿼리에 대한 상위 20개 문서를 Dense Retrieval으로 검색했습니다.\n",
      "쿼리 임베딩이 생성되고 정규화되었습니다.\n",
      "쿼리에 대한 상위 20개 문서를 Dense Retrieval으로 검색했습니다.\n",
      "쿼리 임베딩이 생성되고 정규화되었습니다.\n",
      "쿼리에 대한 상위 20개 문서를 Dense Retrieval으로 검색했습니다.\n",
      "쿼리 임베딩이 생성되고 정규화되었습니다.\n",
      "쿼리에 대한 상위 20개 문서를 Dense Retrieval으로 검색했습니다.\n",
      "쿼리 임베딩이 생성되고 정규화되었습니다.\n",
      "쿼리에 대한 상위 20개 문서를 Dense Retrieval으로 검색했습니다.\n",
      "쿼리 임베딩이 생성되고 정규화되었습니다.\n",
      "쿼리에 대한 상위 20개 문서를 Dense Retrieval으로 검색했습니다.\n",
      "쿼리 임베딩이 생성되고 정규화되었습니다.\n",
      "쿼리에 대한 상위 20개 문서를 Dense Retrieval으로 검색했습니다.\n"
     ]
    },
    {
     "name": "stderr",
     "output_type": "stream",
     "text": [
      "Dense Retrieval:  19%|█▉        | 116/600 [00:02<00:12, 39.35it/s]"
     ]
    },
    {
     "name": "stdout",
     "output_type": "stream",
     "text": [
      "쿼리 임베딩이 생성되고 정규화되었습니다.\n",
      "쿼리에 대한 상위 20개 문서를 Dense Retrieval으로 검색했습니다.\n"
     ]
    },
    {
     "name": "stderr",
     "output_type": "stream",
     "text": [
      "Dense Retrieval:  20%|██        | 121/600 [00:03<00:11, 40.24it/s]"
     ]
    },
    {
     "name": "stdout",
     "output_type": "stream",
     "text": [
      "쿼리 임베딩이 생성되고 정규화되었습니다.\n",
      "쿼리에 대한 상위 20개 문서를 Dense Retrieval으로 검색했습니다.\n",
      "쿼리 임베딩이 생성되고 정규화되었습니다.\n",
      "쿼리에 대한 상위 20개 문서를 Dense Retrieval으로 검색했습니다.\n",
      "쿼리 임베딩이 생성되고 정규화되었습니다.\n",
      "쿼리에 대한 상위 20개 문서를 Dense Retrieval으로 검색했습니다.\n",
      "쿼리 임베딩이 생성되고 정규화되었습니다.\n",
      "쿼리에 대한 상위 20개 문서를 Dense Retrieval으로 검색했습니다.\n",
      "쿼리 임베딩이 생성되고 정규화되었습니다.\n",
      "쿼리에 대한 상위 20개 문서를 Dense Retrieval으로 검색했습니다.\n",
      "쿼리 임베딩이 생성되고 정규화되었습니다.\n",
      "쿼리에 대한 상위 20개 문서를 Dense Retrieval으로 검색했습니다.\n",
      "쿼리 임베딩이 생성되고 정규화되었습니다.\n",
      "쿼리에 대한 상위 20개 문서를 Dense Retrieval으로 검색했습니다.\n",
      "쿼리 임베딩이 생성되고 정규화되었습니다.\n",
      "쿼리에 대한 상위 20개 문서를 Dense Retrieval으로 검색했습니다.\n",
      "쿼리 임베딩이 생성되고 정규화되었습니다.\n",
      "쿼리에 대한 상위 20개 문서를 Dense Retrieval으로 검색했습니다.\n"
     ]
    },
    {
     "name": "stderr",
     "output_type": "stream",
     "text": [
      "Dense Retrieval:  22%|██▏       | 131/600 [00:03<00:11, 41.56it/s]"
     ]
    },
    {
     "name": "stdout",
     "output_type": "stream",
     "text": [
      "쿼리 임베딩이 생성되고 정규화되었습니다.\n",
      "쿼리에 대한 상위 20개 문서를 Dense Retrieval으로 검색했습니다.\n",
      "쿼리 임베딩이 생성되고 정규화되었습니다.\n",
      "쿼리에 대한 상위 20개 문서를 Dense Retrieval으로 검색했습니다.\n",
      "쿼리 임베딩이 생성되고 정규화되었습니다.\n",
      "쿼리에 대한 상위 20개 문서를 Dense Retrieval으로 검색했습니다.\n",
      "쿼리 임베딩이 생성되고 정규화되었습니다.\n",
      "쿼리에 대한 상위 20개 문서를 Dense Retrieval으로 검색했습니다.\n",
      "쿼리 임베딩이 생성되고 정규화되었습니다.\n",
      "쿼리에 대한 상위 20개 문서를 Dense Retrieval으로 검색했습니다.\n",
      "쿼리 임베딩이 생성되고 정규화되었습니다.\n",
      "쿼리에 대한 상위 20개 문서를 Dense Retrieval으로 검색했습니다.\n",
      "쿼리 임베딩이 생성되고 정규화되었습니다.\n",
      "쿼리에 대한 상위 20개 문서를 Dense Retrieval으로 검색했습니다.\n",
      "쿼리 임베딩이 생성되고 정규화되었습니다.\n",
      "쿼리에 대한 상위 20개 문서를 Dense Retrieval으로 검색했습니다.\n",
      "쿼리 임베딩이 생성되고 정규화되었습니다.\n"
     ]
    },
    {
     "name": "stderr",
     "output_type": "stream",
     "text": [
      "Dense Retrieval:  24%|██▎       | 141/600 [00:03<00:11, 40.75it/s]"
     ]
    },
    {
     "name": "stdout",
     "output_type": "stream",
     "text": [
      "쿼리에 대한 상위 20개 문서를 Dense Retrieval으로 검색했습니다.\n",
      "쿼리 임베딩이 생성되고 정규화되었습니다.\n",
      "쿼리에 대한 상위 20개 문서를 Dense Retrieval으로 검색했습니다.\n",
      "쿼리 임베딩이 생성되고 정규화되었습니다.\n",
      "쿼리에 대한 상위 20개 문서를 Dense Retrieval으로 검색했습니다.\n",
      "쿼리 임베딩이 생성되고 정규화되었습니다.\n",
      "쿼리에 대한 상위 20개 문서를 Dense Retrieval으로 검색했습니다.\n",
      "쿼리 임베딩이 생성되고 정규화되었습니다.\n",
      "쿼리에 대한 상위 20개 문서를 Dense Retrieval으로 검색했습니다.\n",
      "쿼리 임베딩이 생성되고 정규화되었습니다.\n",
      "쿼리에 대한 상위 20개 문서를 Dense Retrieval으로 검색했습니다.\n",
      "쿼리 임베딩이 생성되고 정규화되었습니다.\n",
      "쿼리에 대한 상위 20개 문서를 Dense Retrieval으로 검색했습니다.\n",
      "쿼리 임베딩이 생성되고 정규화되었습니다.\n",
      "쿼리에 대한 상위 20개 문서를 Dense Retrieval으로 검색했습니다.\n",
      "쿼리 임베딩이 생성되고 정규화되었습니다.\n",
      "쿼리에 대한 상위 20개 문서를 Dense Retrieval으로 검색했습니다.\n"
     ]
    },
    {
     "name": "stderr",
     "output_type": "stream",
     "text": [
      "Dense Retrieval:  24%|██▍       | 146/600 [00:03<00:11, 41.17it/s]"
     ]
    },
    {
     "name": "stdout",
     "output_type": "stream",
     "text": [
      "쿼리 임베딩이 생성되고 정규화되었습니다.\n",
      "쿼리에 대한 상위 20개 문서를 Dense Retrieval으로 검색했습니다.\n",
      "쿼리 임베딩이 생성되고 정규화되었습니다.\n",
      "쿼리에 대한 상위 20개 문서를 Dense Retrieval으로 검색했습니다.\n",
      "쿼리 임베딩이 생성되고 정규화되었습니다.\n",
      "쿼리에 대한 상위 20개 문서를 Dense Retrieval으로 검색했습니다.\n",
      "쿼리 임베딩이 생성되고 정규화되었습니다.\n",
      "쿼리에 대한 상위 20개 문서를 Dense Retrieval으로 검색했습니다.\n",
      "쿼리 임베딩이 생성되고 정규화되었습니다.\n",
      "쿼리에 대한 상위 20개 문서를 Dense Retrieval으로 검색했습니다.\n",
      "쿼리 임베딩이 생성되고 정규화되었습니다.\n",
      "쿼리에 대한 상위 20개 문서를 Dense Retrieval으로 검색했습니다.\n",
      "쿼리 임베딩이 생성되고 정규화되었습니다.\n",
      "쿼리에 대한 상위 20개 문서를 Dense Retrieval으로 검색했습니다.\n",
      "쿼리 임베딩이 생성되고 정규화되었습니다.\n",
      "쿼리에 대한 상위 20개 문서를 Dense Retrieval으로 검색했습니다.\n"
     ]
    },
    {
     "name": "stderr",
     "output_type": "stream",
     "text": [
      "Dense Retrieval:  25%|██▌       | 151/600 [00:03<00:10, 41.78it/s]"
     ]
    },
    {
     "name": "stdout",
     "output_type": "stream",
     "text": [
      "쿼리 임베딩이 생성되고 정규화되었습니다.\n",
      "쿼리에 대한 상위 20개 문서를 Dense Retrieval으로 검색했습니다.\n"
     ]
    },
    {
     "name": "stderr",
     "output_type": "stream",
     "text": [
      "Dense Retrieval:  26%|██▌       | 156/600 [00:03<00:10, 41.61it/s]"
     ]
    },
    {
     "name": "stdout",
     "output_type": "stream",
     "text": [
      "쿼리 임베딩이 생성되고 정규화되었습니다.\n",
      "쿼리에 대한 상위 20개 문서를 Dense Retrieval으로 검색했습니다.\n",
      "쿼리 임베딩이 생성되고 정규화되었습니다.\n",
      "쿼리에 대한 상위 20개 문서를 Dense Retrieval으로 검색했습니다.\n",
      "쿼리 임베딩이 생성되고 정규화되었습니다.\n",
      "쿼리에 대한 상위 20개 문서를 Dense Retrieval으로 검색했습니다.\n",
      "쿼리 임베딩이 생성되고 정규화되었습니다.\n",
      "쿼리에 대한 상위 20개 문서를 Dense Retrieval으로 검색했습니다.\n",
      "쿼리 임베딩이 생성되고 정규화되었습니다.\n",
      "쿼리에 대한 상위 20개 문서를 Dense Retrieval으로 검색했습니다.\n",
      "쿼리 임베딩이 생성되고 정규화되었습니다.\n",
      "쿼리에 대한 상위 20개 문서를 Dense Retrieval으로 검색했습니다.\n",
      "쿼리 임베딩이 생성되고 정규화되었습니다.\n",
      "쿼리에 대한 상위 20개 문서를 Dense Retrieval으로 검색했습니다.\n",
      "쿼리 임베딩이 생성되고 정규화되었습니다.\n",
      "쿼리에 대한 상위 20개 문서를 Dense Retrieval으로 검색했습니다.\n",
      "쿼리 임베딩이 생성되고 정규화되었습니다.\n",
      "쿼리에 대한 상위 20개 문서를 Dense Retrieval으로 검색했습니다.\n"
     ]
    },
    {
     "name": "stderr",
     "output_type": "stream",
     "text": [
      "Dense Retrieval:  28%|██▊       | 166/600 [00:04<00:10, 40.34it/s]"
     ]
    },
    {
     "name": "stdout",
     "output_type": "stream",
     "text": [
      "쿼리 임베딩이 생성되고 정규화되었습니다.\n",
      "쿼리에 대한 상위 20개 문서를 Dense Retrieval으로 검색했습니다.\n",
      "쿼리 임베딩이 생성되고 정규화되었습니다.\n",
      "쿼리에 대한 상위 20개 문서를 Dense Retrieval으로 검색했습니다.\n",
      "쿼리 임베딩이 생성되고 정규화되었습니다.\n",
      "쿼리에 대한 상위 20개 문서를 Dense Retrieval으로 검색했습니다.\n",
      "쿼리 임베딩이 생성되고 정규화되었습니다.\n",
      "쿼리에 대한 상위 20개 문서를 Dense Retrieval으로 검색했습니다.\n",
      "쿼리 임베딩이 생성되고 정규화되었습니다.\n",
      "쿼리에 대한 상위 20개 문서를 Dense Retrieval으로 검색했습니다.\n",
      "쿼리 임베딩이 생성되고 정규화되었습니다.\n",
      "쿼리에 대한 상위 20개 문서를 Dense Retrieval으로 검색했습니다.\n",
      "쿼리 임베딩이 생성되고 정규화되었습니다.\n",
      "쿼리에 대한 상위 20개 문서를 Dense Retrieval으로 검색했습니다.\n",
      "쿼리 임베딩이 생성되고 정규화되었습니다.\n",
      "쿼리에 대한 상위 20개 문서를 Dense Retrieval으로 검색했습니다.\n",
      "쿼리 임베딩이 생성되고 정규화되었습니다.\n",
      "쿼리에 대한 상위 20개 문서를 Dense Retrieval으로 검색했습니다.\n"
     ]
    },
    {
     "name": "stderr",
     "output_type": "stream",
     "text": [
      "Dense Retrieval:  29%|██▉       | 176/600 [00:04<00:10, 41.99it/s]"
     ]
    },
    {
     "name": "stdout",
     "output_type": "stream",
     "text": [
      "쿼리 임베딩이 생성되고 정규화되었습니다.\n",
      "쿼리에 대한 상위 20개 문서를 Dense Retrieval으로 검색했습니다.\n",
      "쿼리 임베딩이 생성되고 정규화되었습니다.\n",
      "쿼리에 대한 상위 20개 문서를 Dense Retrieval으로 검색했습니다.\n",
      "쿼리 임베딩이 생성되고 정규화되었습니다.\n",
      "쿼리에 대한 상위 20개 문서를 Dense Retrieval으로 검색했습니다.\n",
      "쿼리 임베딩이 생성되고 정규화되었습니다.\n",
      "쿼리에 대한 상위 20개 문서를 Dense Retrieval으로 검색했습니다.\n",
      "쿼리 임베딩이 생성되고 정규화되었습니다.\n",
      "쿼리에 대한 상위 20개 문서를 Dense Retrieval으로 검색했습니다.\n",
      "쿼리 임베딩이 생성되고 정규화되었습니다.\n",
      "쿼리에 대한 상위 20개 문서를 Dense Retrieval으로 검색했습니다.\n",
      "쿼리 임베딩이 생성되고 정규화되었습니다.\n",
      "쿼리에 대한 상위 20개 문서를 Dense Retrieval으로 검색했습니다.\n",
      "쿼리 임베딩이 생성되고 정규화되었습니다.\n",
      "쿼리에 대한 상위 20개 문서를 Dense Retrieval으로 검색했습니다.\n",
      "쿼리 임베딩이 생성되고 정규화되었습니다.\n",
      "쿼리에 대한 상위 20개 문서를 Dense Retrieval으로 검색했습니다.\n"
     ]
    },
    {
     "name": "stderr",
     "output_type": "stream",
     "text": [
      "Dense Retrieval:  30%|███       | 181/600 [00:04<00:09, 42.26it/s]"
     ]
    },
    {
     "name": "stdout",
     "output_type": "stream",
     "text": [
      "쿼리 임베딩이 생성되고 정규화되었습니다.\n",
      "쿼리에 대한 상위 20개 문서를 Dense Retrieval으로 검색했습니다.\n",
      "쿼리 임베딩이 생성되고 정규화되었습니다.\n",
      "쿼리에 대한 상위 20개 문서를 Dense Retrieval으로 검색했습니다.\n",
      "쿼리 임베딩이 생성되고 정규화되었습니다.\n",
      "쿼리에 대한 상위 20개 문서를 Dense Retrieval으로 검색했습니다.\n",
      "쿼리 임베딩이 생성되고 정규화되었습니다.\n",
      "쿼리에 대한 상위 20개 문서를 Dense Retrieval으로 검색했습니다.\n",
      "쿼리 임베딩이 생성되고 정규화되었습니다.\n",
      "쿼리에 대한 상위 20개 문서를 Dense Retrieval으로 검색했습니다.\n",
      "쿼리 임베딩이 생성되고 정규화되었습니다.\n",
      "쿼리에 대한 상위 20개 문서를 Dense Retrieval으로 검색했습니다.\n",
      "쿼리 임베딩이 생성되고 정규화되었습니다.\n",
      "쿼리에 대한 상위 20개 문서를 Dense Retrieval으로 검색했습니다.\n"
     ]
    },
    {
     "name": "stderr",
     "output_type": "stream",
     "text": [
      "Dense Retrieval:  31%|███       | 186/600 [00:04<00:09, 41.49it/s]"
     ]
    },
    {
     "name": "stdout",
     "output_type": "stream",
     "text": [
      "쿼리 임베딩이 생성되고 정규화되었습니다.\n",
      "쿼리에 대한 상위 20개 문서를 Dense Retrieval으로 검색했습니다.\n",
      "쿼리 임베딩이 생성되고 정규화되었습니다.\n",
      "쿼리에 대한 상위 20개 문서를 Dense Retrieval으로 검색했습니다.\n"
     ]
    },
    {
     "name": "stderr",
     "output_type": "stream",
     "text": [
      "Dense Retrieval:  32%|███▏      | 191/600 [00:04<00:09, 41.73it/s]"
     ]
    },
    {
     "name": "stdout",
     "output_type": "stream",
     "text": [
      "쿼리 임베딩이 생성되고 정규화되었습니다.\n",
      "쿼리에 대한 상위 20개 문서를 Dense Retrieval으로 검색했습니다.\n",
      "쿼리 임베딩이 생성되고 정규화되었습니다.\n",
      "쿼리에 대한 상위 20개 문서를 Dense Retrieval으로 검색했습니다.\n",
      "쿼리 임베딩이 생성되고 정규화되었습니다.\n",
      "쿼리에 대한 상위 20개 문서를 Dense Retrieval으로 검색했습니다.\n",
      "쿼리 임베딩이 생성되고 정규화되었습니다.\n",
      "쿼리에 대한 상위 20개 문서를 Dense Retrieval으로 검색했습니다.\n",
      "쿼리 임베딩이 생성되고 정규화되었습니다.\n",
      "쿼리에 대한 상위 20개 문서를 Dense Retrieval으로 검색했습니다.\n",
      "쿼리 임베딩이 생성되고 정규화되었습니다.\n",
      "쿼리에 대한 상위 20개 문서를 Dense Retrieval으로 검색했습니다.\n",
      "쿼리 임베딩이 생성되고 정규화되었습니다.\n",
      "쿼리에 대한 상위 20개 문서를 Dense Retrieval으로 검색했습니다.\n"
     ]
    },
    {
     "name": "stderr",
     "output_type": "stream",
     "text": [
      "Dense Retrieval:  33%|███▎      | 196/600 [00:04<00:09, 42.77it/s]"
     ]
    },
    {
     "name": "stdout",
     "output_type": "stream",
     "text": [
      "쿼리 임베딩이 생성되고 정규화되었습니다.\n",
      "쿼리에 대한 상위 20개 문서를 Dense Retrieval으로 검색했습니다.\n",
      "쿼리 임베딩이 생성되고 정규화되었습니다.\n",
      "쿼리에 대한 상위 20개 문서를 Dense Retrieval으로 검색했습니다.\n"
     ]
    },
    {
     "name": "stderr",
     "output_type": "stream",
     "text": [
      "Dense Retrieval:  34%|███▎      | 201/600 [00:05<00:09, 43.31it/s]"
     ]
    },
    {
     "name": "stdout",
     "output_type": "stream",
     "text": [
      "쿼리 임베딩이 생성되고 정규화되었습니다.\n",
      "쿼리에 대한 상위 20개 문서를 Dense Retrieval으로 검색했습니다.\n",
      "쿼리 임베딩이 생성되고 정규화되었습니다.\n",
      "쿼리에 대한 상위 20개 문서를 Dense Retrieval으로 검색했습니다.\n",
      "쿼리 임베딩이 생성되고 정규화되었습니다.\n",
      "쿼리에 대한 상위 20개 문서를 Dense Retrieval으로 검색했습니다.\n",
      "쿼리 임베딩이 생성되고 정규화되었습니다.\n",
      "쿼리에 대한 상위 20개 문서를 Dense Retrieval으로 검색했습니다.\n",
      "쿼리 임베딩이 생성되고 정규화되었습니다.\n",
      "쿼리에 대한 상위 20개 문서를 Dense Retrieval으로 검색했습니다.\n",
      "쿼리 임베딩이 생성되고 정규화되었습니다.\n",
      "쿼리에 대한 상위 20개 문서를 Dense Retrieval으로 검색했습니다.\n",
      "쿼리 임베딩이 생성되고 정규화되었습니다.\n",
      "쿼리에 대한 상위 20개 문서를 Dense Retrieval으로 검색했습니다.\n",
      "쿼리 임베딩이 생성되고 정규화되었습니다.\n",
      "쿼리에 대한 상위 20개 문서를 Dense Retrieval으로 검색했습니다.\n",
      "쿼리 임베딩이 생성되고 정규화되었습니다.\n",
      "쿼리에 대한 상위 20개 문서를 Dense Retrieval으로 검색했습니다.\n"
     ]
    },
    {
     "name": "stderr",
     "output_type": "stream",
     "text": [
      "Dense Retrieval:  35%|███▌      | 211/600 [00:05<00:09, 41.10it/s]"
     ]
    },
    {
     "name": "stdout",
     "output_type": "stream",
     "text": [
      "쿼리 임베딩이 생성되고 정규화되었습니다.\n",
      "쿼리에 대한 상위 20개 문서를 Dense Retrieval으로 검색했습니다.\n",
      "쿼리 임베딩이 생성되고 정규화되었습니다.\n",
      "쿼리에 대한 상위 20개 문서를 Dense Retrieval으로 검색했습니다.\n",
      "쿼리 임베딩이 생성되고 정규화되었습니다.\n",
      "쿼리에 대한 상위 20개 문서를 Dense Retrieval으로 검색했습니다.\n",
      "쿼리 임베딩이 생성되고 정규화되었습니다.\n",
      "쿼리에 대한 상위 20개 문서를 Dense Retrieval으로 검색했습니다.\n",
      "쿼리 임베딩이 생성되고 정규화되었습니다.\n",
      "쿼리에 대한 상위 20개 문서를 Dense Retrieval으로 검색했습니다.\n",
      "쿼리 임베딩이 생성되고 정규화되었습니다.\n",
      "쿼리에 대한 상위 20개 문서를 Dense Retrieval으로 검색했습니다.\n",
      "쿼리 임베딩이 생성되고 정규화되었습니다.\n",
      "쿼리에 대한 상위 20개 문서를 Dense Retrieval으로 검색했습니다.\n",
      "쿼리 임베딩이 생성되고 정규화되었습니다.\n",
      "쿼리에 대한 상위 20개 문서를 Dense Retrieval으로 검색했습니다.\n",
      "쿼리 임베딩이 생성되고 정규화되었습니다.\n"
     ]
    },
    {
     "name": "stderr",
     "output_type": "stream",
     "text": [
      "Dense Retrieval:  36%|███▌      | 216/600 [00:05<00:09, 41.90it/s]"
     ]
    },
    {
     "name": "stdout",
     "output_type": "stream",
     "text": [
      "쿼리에 대한 상위 20개 문서를 Dense Retrieval으로 검색했습니다.\n",
      "쿼리 임베딩이 생성되고 정규화되었습니다.\n",
      "쿼리에 대한 상위 20개 문서를 Dense Retrieval으로 검색했습니다.\n",
      "쿼리 임베딩이 생성되고 정규화되었습니다.\n",
      "쿼리에 대한 상위 20개 문서를 Dense Retrieval으로 검색했습니다.\n",
      "쿼리 임베딩이 생성되고 정규화되었습니다.\n",
      "쿼리에 대한 상위 20개 문서를 Dense Retrieval으로 검색했습니다.\n",
      "쿼리 임베딩이 생성되고 정규화되었습니다.\n",
      "쿼리에 대한 상위 20개 문서를 Dense Retrieval으로 검색했습니다.\n",
      "쿼리 임베딩이 생성되고 정규화되었습니다.\n",
      "쿼리에 대한 상위 20개 문서를 Dense Retrieval으로 검색했습니다.\n",
      "쿼리 임베딩이 생성되고 정규화되었습니다.\n",
      "쿼리에 대한 상위 20개 문서를 Dense Retrieval으로 검색했습니다.\n"
     ]
    },
    {
     "name": "stderr",
     "output_type": "stream",
     "text": [
      "Dense Retrieval:  37%|███▋      | 221/600 [00:05<00:09, 42.07it/s]"
     ]
    },
    {
     "name": "stdout",
     "output_type": "stream",
     "text": [
      "쿼리 임베딩이 생성되고 정규화되었습니다.\n",
      "쿼리에 대한 상위 20개 문서를 Dense Retrieval으로 검색했습니다.\n",
      "쿼리 임베딩이 생성되고 정규화되었습니다.\n",
      "쿼리에 대한 상위 20개 문서를 Dense Retrieval으로 검색했습니다.\n"
     ]
    },
    {
     "name": "stderr",
     "output_type": "stream",
     "text": [
      "Dense Retrieval:  38%|███▊      | 226/600 [00:05<00:08, 42.53it/s]"
     ]
    },
    {
     "name": "stdout",
     "output_type": "stream",
     "text": [
      "쿼리 임베딩이 생성되고 정규화되었습니다.\n",
      "쿼리에 대한 상위 20개 문서를 Dense Retrieval으로 검색했습니다.\n",
      "쿼리 임베딩이 생성되고 정규화되었습니다.\n",
      "쿼리에 대한 상위 20개 문서를 Dense Retrieval으로 검색했습니다.\n",
      "쿼리 임베딩이 생성되고 정규화되었습니다.\n",
      "쿼리에 대한 상위 20개 문서를 Dense Retrieval으로 검색했습니다.\n",
      "쿼리 임베딩이 생성되고 정규화되었습니다.\n",
      "쿼리에 대한 상위 20개 문서를 Dense Retrieval으로 검색했습니다.\n",
      "쿼리 임베딩이 생성되고 정규화되었습니다.\n",
      "쿼리에 대한 상위 20개 문서를 Dense Retrieval으로 검색했습니다.\n",
      "쿼리 임베딩이 생성되고 정규화되었습니다.\n",
      "쿼리에 대한 상위 20개 문서를 Dense Retrieval으로 검색했습니다.\n",
      "쿼리 임베딩이 생성되고 정규화되었습니다.\n",
      "쿼리에 대한 상위 20개 문서를 Dense Retrieval으로 검색했습니다.\n"
     ]
    },
    {
     "name": "stderr",
     "output_type": "stream",
     "text": [
      "Dense Retrieval:  38%|███▊      | 231/600 [00:05<00:08, 43.16it/s]"
     ]
    },
    {
     "name": "stdout",
     "output_type": "stream",
     "text": [
      "쿼리 임베딩이 생성되고 정규화되었습니다.\n",
      "쿼리에 대한 상위 20개 문서를 Dense Retrieval으로 검색했습니다.\n",
      "쿼리 임베딩이 생성되고 정규화되었습니다.\n",
      "쿼리에 대한 상위 20개 문서를 Dense Retrieval으로 검색했습니다.\n"
     ]
    },
    {
     "name": "stderr",
     "output_type": "stream",
     "text": [
      "Dense Retrieval:  39%|███▉      | 236/600 [00:05<00:08, 44.22it/s]"
     ]
    },
    {
     "name": "stdout",
     "output_type": "stream",
     "text": [
      "쿼리 임베딩이 생성되고 정규화되었습니다.\n",
      "쿼리에 대한 상위 20개 문서를 Dense Retrieval으로 검색했습니다.\n",
      "쿼리 임베딩이 생성되고 정규화되었습니다.\n",
      "쿼리에 대한 상위 20개 문서를 Dense Retrieval으로 검색했습니다.\n",
      "쿼리 임베딩이 생성되고 정규화되었습니다.\n",
      "쿼리에 대한 상위 20개 문서를 Dense Retrieval으로 검색했습니다.\n",
      "쿼리 임베딩이 생성되고 정규화되었습니다.\n",
      "쿼리에 대한 상위 20개 문서를 Dense Retrieval으로 검색했습니다.\n",
      "쿼리 임베딩이 생성되고 정규화되었습니다.\n",
      "쿼리에 대한 상위 20개 문서를 Dense Retrieval으로 검색했습니다.\n",
      "쿼리 임베딩이 생성되고 정규화되었습니다.\n",
      "쿼리에 대한 상위 20개 문서를 Dense Retrieval으로 검색했습니다.\n",
      "쿼리 임베딩이 생성되고 정규화되었습니다.\n",
      "쿼리에 대한 상위 20개 문서를 Dense Retrieval으로 검색했습니다.\n",
      "쿼리 임베딩이 생성되고 정규화되었습니다.\n",
      "쿼리에 대한 상위 20개 문서를 Dense Retrieval으로 검색했습니다.\n",
      "쿼리 임베딩이 생성되고 정규화되었습니다.\n",
      "쿼리에 대한 상위 20개 문서를 Dense Retrieval으로 검색했습니다.\n",
      "쿼리 임베딩이 생성되고 정규화되었습니다.\n"
     ]
    },
    {
     "name": "stderr",
     "output_type": "stream",
     "text": [
      "Dense Retrieval:  41%|████      | 246/600 [00:06<00:08, 43.00it/s]"
     ]
    },
    {
     "name": "stdout",
     "output_type": "stream",
     "text": [
      "쿼리에 대한 상위 20개 문서를 Dense Retrieval으로 검색했습니다.\n",
      "쿼리 임베딩이 생성되고 정규화되었습니다.\n",
      "쿼리에 대한 상위 20개 문서를 Dense Retrieval으로 검색했습니다.\n",
      "쿼리 임베딩이 생성되고 정규화되었습니다.\n",
      "쿼리에 대한 상위 20개 문서를 Dense Retrieval으로 검색했습니다.\n",
      "쿼리 임베딩이 생성되고 정규화되었습니다.\n",
      "쿼리에 대한 상위 20개 문서를 Dense Retrieval으로 검색했습니다.\n",
      "쿼리 임베딩이 생성되고 정규화되었습니다.\n",
      "쿼리에 대한 상위 20개 문서를 Dense Retrieval으로 검색했습니다.\n",
      "쿼리 임베딩이 생성되고 정규화되었습니다.\n",
      "쿼리에 대한 상위 20개 문서를 Dense Retrieval으로 검색했습니다.\n",
      "쿼리 임베딩이 생성되고 정규화되었습니다.\n",
      "쿼리에 대한 상위 20개 문서를 Dense Retrieval으로 검색했습니다.\n",
      "쿼리 임베딩이 생성되고 정규화되었습니다.\n",
      "쿼리에 대한 상위 20개 문서를 Dense Retrieval으로 검색했습니다.\n",
      "쿼리 임베딩이 생성되고 정규화되었습니다.\n",
      "쿼리에 대한 상위 20개 문서를 Dense Retrieval으로 검색했습니다.\n",
      "쿼리 임베딩이 생성되고 정규화되었습니다.\n"
     ]
    },
    {
     "name": "stderr",
     "output_type": "stream",
     "text": [
      "Dense Retrieval:  43%|████▎     | 256/600 [00:06<00:07, 43.29it/s]"
     ]
    },
    {
     "name": "stdout",
     "output_type": "stream",
     "text": [
      "쿼리에 대한 상위 20개 문서를 Dense Retrieval으로 검색했습니다.\n",
      "쿼리 임베딩이 생성되고 정규화되었습니다.\n",
      "쿼리에 대한 상위 20개 문서를 Dense Retrieval으로 검색했습니다.\n",
      "쿼리 임베딩이 생성되고 정규화되었습니다.\n",
      "쿼리에 대한 상위 20개 문서를 Dense Retrieval으로 검색했습니다.\n",
      "쿼리 임베딩이 생성되고 정규화되었습니다.\n",
      "쿼리에 대한 상위 20개 문서를 Dense Retrieval으로 검색했습니다.\n",
      "쿼리 임베딩이 생성되고 정규화되었습니다.\n",
      "쿼리에 대한 상위 20개 문서를 Dense Retrieval으로 검색했습니다.\n",
      "쿼리 임베딩이 생성되고 정규화되었습니다.\n",
      "쿼리에 대한 상위 20개 문서를 Dense Retrieval으로 검색했습니다.\n",
      "쿼리 임베딩이 생성되고 정규화되었습니다.\n",
      "쿼리에 대한 상위 20개 문서를 Dense Retrieval으로 검색했습니다.\n",
      "쿼리 임베딩이 생성되고 정규화되었습니다.\n",
      "쿼리에 대한 상위 20개 문서를 Dense Retrieval으로 검색했습니다.\n",
      "쿼리 임베딩이 생성되고 정규화되었습니다.\n",
      "쿼리에 대한 상위 20개 문서를 Dense Retrieval으로 검색했습니다.\n"
     ]
    },
    {
     "name": "stderr",
     "output_type": "stream",
     "text": [
      "Dense Retrieval:  44%|████▎     | 261/600 [00:06<00:07, 43.08it/s]"
     ]
    },
    {
     "name": "stdout",
     "output_type": "stream",
     "text": [
      "쿼리 임베딩이 생성되고 정규화되었습니다.\n",
      "쿼리에 대한 상위 20개 문서를 Dense Retrieval으로 검색했습니다.\n",
      "쿼리 임베딩이 생성되고 정규화되었습니다.\n",
      "쿼리에 대한 상위 20개 문서를 Dense Retrieval으로 검색했습니다.\n",
      "쿼리 임베딩이 생성되고 정규화되었습니다.\n",
      "쿼리에 대한 상위 20개 문서를 Dense Retrieval으로 검색했습니다.\n",
      "쿼리 임베딩이 생성되고 정규화되었습니다.\n",
      "쿼리에 대한 상위 20개 문서를 Dense Retrieval으로 검색했습니다.\n",
      "쿼리 임베딩이 생성되고 정규화되었습니다.\n",
      "쿼리에 대한 상위 20개 문서를 Dense Retrieval으로 검색했습니다.\n",
      "쿼리 임베딩이 생성되고 정규화되었습니다.\n",
      "쿼리에 대한 상위 20개 문서를 Dense Retrieval으로 검색했습니다.\n",
      "쿼리 임베딩이 생성되고 정규화되었습니다.\n",
      "쿼리에 대한 상위 20개 문서를 Dense Retrieval으로 검색했습니다.\n"
     ]
    },
    {
     "name": "stderr",
     "output_type": "stream",
     "text": [
      "Dense Retrieval:  44%|████▍     | 266/600 [00:06<00:07, 43.42it/s]"
     ]
    },
    {
     "name": "stdout",
     "output_type": "stream",
     "text": [
      "쿼리 임베딩이 생성되고 정규화되었습니다.\n",
      "쿼리에 대한 상위 20개 문서를 Dense Retrieval으로 검색했습니다.\n",
      "쿼리 임베딩이 생성되고 정규화되었습니다.\n",
      "쿼리에 대한 상위 20개 문서를 Dense Retrieval으로 검색했습니다.\n"
     ]
    },
    {
     "name": "stderr",
     "output_type": "stream",
     "text": [
      "Dense Retrieval:  45%|████▌     | 271/600 [00:06<00:07, 43.14it/s]"
     ]
    },
    {
     "name": "stdout",
     "output_type": "stream",
     "text": [
      "쿼리 임베딩이 생성되고 정규화되었습니다.\n",
      "쿼리에 대한 상위 20개 문서를 Dense Retrieval으로 검색했습니다.\n",
      "쿼리 임베딩이 생성되고 정규화되었습니다.\n",
      "쿼리에 대한 상위 20개 문서를 Dense Retrieval으로 검색했습니다.\n",
      "쿼리 임베딩이 생성되고 정규화되었습니다.\n",
      "쿼리에 대한 상위 20개 문서를 Dense Retrieval으로 검색했습니다.\n",
      "쿼리 임베딩이 생성되고 정규화되었습니다.\n",
      "쿼리에 대한 상위 20개 문서를 Dense Retrieval으로 검색했습니다.\n",
      "쿼리 임베딩이 생성되고 정규화되었습니다.\n",
      "쿼리에 대한 상위 20개 문서를 Dense Retrieval으로 검색했습니다.\n",
      "쿼리 임베딩이 생성되고 정규화되었습니다.\n",
      "쿼리에 대한 상위 20개 문서를 Dense Retrieval으로 검색했습니다.\n",
      "쿼리 임베딩이 생성되고 정규화되었습니다.\n",
      "쿼리에 대한 상위 20개 문서를 Dense Retrieval으로 검색했습니다.\n"
     ]
    },
    {
     "name": "stderr",
     "output_type": "stream",
     "text": [
      "Dense Retrieval:  46%|████▌     | 276/600 [00:06<00:07, 43.86it/s]"
     ]
    },
    {
     "name": "stdout",
     "output_type": "stream",
     "text": [
      "쿼리 임베딩이 생성되고 정규화되었습니다.\n",
      "쿼리에 대한 상위 20개 문서를 Dense Retrieval으로 검색했습니다.\n",
      "쿼리 임베딩이 생성되고 정규화되었습니다.\n",
      "쿼리에 대한 상위 20개 문서를 Dense Retrieval으로 검색했습니다.\n"
     ]
    },
    {
     "name": "stderr",
     "output_type": "stream",
     "text": [
      "Dense Retrieval:  47%|████▋     | 281/600 [00:06<00:07, 42.34it/s]"
     ]
    },
    {
     "name": "stdout",
     "output_type": "stream",
     "text": [
      "쿼리 임베딩이 생성되고 정규화되었습니다.\n",
      "쿼리에 대한 상위 20개 문서를 Dense Retrieval으로 검색했습니다.\n",
      "쿼리 임베딩이 생성되고 정규화되었습니다.\n",
      "쿼리에 대한 상위 20개 문서를 Dense Retrieval으로 검색했습니다.\n",
      "쿼리 임베딩이 생성되고 정규화되었습니다.\n",
      "쿼리에 대한 상위 20개 문서를 Dense Retrieval으로 검색했습니다.\n",
      "쿼리 임베딩이 생성되고 정규화되었습니다.\n",
      "쿼리에 대한 상위 20개 문서를 Dense Retrieval으로 검색했습니다.\n",
      "쿼리 임베딩이 생성되고 정규화되었습니다.\n",
      "쿼리에 대한 상위 20개 문서를 Dense Retrieval으로 검색했습니다.\n",
      "쿼리 임베딩이 생성되고 정규화되었습니다.\n",
      "쿼리에 대한 상위 20개 문서를 Dense Retrieval으로 검색했습니다.\n",
      "쿼리 임베딩이 생성되고 정규화되었습니다.\n",
      "쿼리에 대한 상위 20개 문서를 Dense Retrieval으로 검색했습니다.\n",
      "쿼리 임베딩이 생성되고 정규화되었습니다.\n",
      "쿼리에 대한 상위 20개 문서를 Dense Retrieval으로 검색했습니다.\n",
      "쿼리 임베딩이 생성되고 정규화되었습니다.\n",
      "쿼리에 대한 상위 20개 문서를 Dense Retrieval으로 검색했습니다.\n"
     ]
    },
    {
     "name": "stderr",
     "output_type": "stream",
     "text": [
      "Dense Retrieval:  48%|████▊     | 291/600 [00:07<00:07, 42.58it/s]"
     ]
    },
    {
     "name": "stdout",
     "output_type": "stream",
     "text": [
      "쿼리 임베딩이 생성되고 정규화되었습니다.\n",
      "쿼리에 대한 상위 20개 문서를 Dense Retrieval으로 검색했습니다.\n",
      "쿼리 임베딩이 생성되고 정규화되었습니다.\n",
      "쿼리에 대한 상위 20개 문서를 Dense Retrieval으로 검색했습니다.\n",
      "쿼리 임베딩이 생성되고 정규화되었습니다.\n",
      "쿼리에 대한 상위 20개 문서를 Dense Retrieval으로 검색했습니다.\n",
      "쿼리 임베딩이 생성되고 정규화되었습니다.\n",
      "쿼리에 대한 상위 20개 문서를 Dense Retrieval으로 검색했습니다.\n",
      "쿼리 임베딩이 생성되고 정규화되었습니다.\n",
      "쿼리에 대한 상위 20개 문서를 Dense Retrieval으로 검색했습니다.\n",
      "쿼리 임베딩이 생성되고 정규화되었습니다.\n",
      "쿼리에 대한 상위 20개 문서를 Dense Retrieval으로 검색했습니다.\n",
      "쿼리 임베딩이 생성되고 정규화되었습니다.\n",
      "쿼리에 대한 상위 20개 문서를 Dense Retrieval으로 검색했습니다.\n",
      "쿼리 임베딩이 생성되고 정규화되었습니다.\n",
      "쿼리에 대한 상위 20개 문서를 Dense Retrieval으로 검색했습니다.\n",
      "쿼리 임베딩이 생성되고 정규화되었습니다.\n",
      "쿼리에 대한 상위 20개 문서를 Dense Retrieval으로 검색했습니다.\n"
     ]
    },
    {
     "name": "stderr",
     "output_type": "stream",
     "text": [
      "Dense Retrieval:  50%|█████     | 301/600 [00:07<00:07, 42.53it/s]"
     ]
    },
    {
     "name": "stdout",
     "output_type": "stream",
     "text": [
      "쿼리 임베딩이 생성되고 정규화되었습니다.\n",
      "쿼리에 대한 상위 20개 문서를 Dense Retrieval으로 검색했습니다.\n",
      "쿼리 임베딩이 생성되고 정규화되었습니다.\n",
      "쿼리에 대한 상위 20개 문서를 Dense Retrieval으로 검색했습니다.\n",
      "쿼리 임베딩이 생성되고 정규화되었습니다.\n",
      "쿼리에 대한 상위 20개 문서를 Dense Retrieval으로 검색했습니다.\n",
      "쿼리 임베딩이 생성되고 정규화되었습니다.\n",
      "쿼리에 대한 상위 20개 문서를 Dense Retrieval으로 검색했습니다.\n",
      "쿼리 임베딩이 생성되고 정규화되었습니다.\n",
      "쿼리에 대한 상위 20개 문서를 Dense Retrieval으로 검색했습니다.\n",
      "쿼리 임베딩이 생성되고 정규화되었습니다.\n",
      "쿼리에 대한 상위 20개 문서를 Dense Retrieval으로 검색했습니다.\n",
      "쿼리 임베딩이 생성되고 정규화되었습니다.\n",
      "쿼리에 대한 상위 20개 문서를 Dense Retrieval으로 검색했습니다.\n",
      "쿼리 임베딩이 생성되고 정규화되었습니다.\n",
      "쿼리에 대한 상위 20개 문서를 Dense Retrieval으로 검색했습니다.\n",
      "쿼리 임베딩이 생성되고 정규화되었습니다.\n",
      "쿼리에 대한 상위 20개 문서를 Dense Retrieval으로 검색했습니다.\n"
     ]
    },
    {
     "name": "stderr",
     "output_type": "stream",
     "text": [
      "Dense Retrieval:  51%|█████     | 306/600 [00:07<00:07, 41.68it/s]"
     ]
    },
    {
     "name": "stdout",
     "output_type": "stream",
     "text": [
      "쿼리 임베딩이 생성되고 정규화되었습니다.\n",
      "쿼리에 대한 상위 20개 문서를 Dense Retrieval으로 검색했습니다.\n",
      "쿼리 임베딩이 생성되고 정규화되었습니다.\n",
      "쿼리에 대한 상위 20개 문서를 Dense Retrieval으로 검색했습니다.\n",
      "쿼리 임베딩이 생성되고 정규화되었습니다.\n",
      "쿼리에 대한 상위 20개 문서를 Dense Retrieval으로 검색했습니다.\n",
      "쿼리 임베딩이 생성되고 정규화되었습니다.\n",
      "쿼리에 대한 상위 20개 문서를 Dense Retrieval으로 검색했습니다.\n",
      "쿼리 임베딩이 생성되고 정규화되었습니다.\n",
      "쿼리에 대한 상위 20개 문서를 Dense Retrieval으로 검색했습니다.\n",
      "쿼리 임베딩이 생성되고 정규화되었습니다.\n",
      "쿼리에 대한 상위 20개 문서를 Dense Retrieval으로 검색했습니다.\n",
      "쿼리 임베딩이 생성되고 정규화되었습니다.\n",
      "쿼리에 대한 상위 20개 문서를 Dense Retrieval으로 검색했습니다.\n"
     ]
    },
    {
     "name": "stderr",
     "output_type": "stream",
     "text": [
      "Dense Retrieval:  52%|█████▏    | 311/600 [00:07<00:06, 42.18it/s]"
     ]
    },
    {
     "name": "stdout",
     "output_type": "stream",
     "text": [
      "쿼리 임베딩이 생성되고 정규화되었습니다.\n",
      "쿼리에 대한 상위 20개 문서를 Dense Retrieval으로 검색했습니다.\n",
      "쿼리 임베딩이 생성되고 정규화되었습니다.\n",
      "쿼리에 대한 상위 20개 문서를 Dense Retrieval으로 검색했습니다.\n"
     ]
    },
    {
     "name": "stderr",
     "output_type": "stream",
     "text": [
      "Dense Retrieval:  53%|█████▎    | 316/600 [00:07<00:06, 42.45it/s]"
     ]
    },
    {
     "name": "stdout",
     "output_type": "stream",
     "text": [
      "쿼리 임베딩이 생성되고 정규화되었습니다.\n",
      "쿼리에 대한 상위 20개 문서를 Dense Retrieval으로 검색했습니다.\n",
      "쿼리 임베딩이 생성되고 정규화되었습니다.\n",
      "쿼리에 대한 상위 20개 문서를 Dense Retrieval으로 검색했습니다.\n",
      "쿼리 임베딩이 생성되고 정규화되었습니다.\n",
      "쿼리에 대한 상위 20개 문서를 Dense Retrieval으로 검색했습니다.\n",
      "쿼리 임베딩이 생성되고 정규화되었습니다.\n",
      "쿼리에 대한 상위 20개 문서를 Dense Retrieval으로 검색했습니다.\n",
      "쿼리 임베딩이 생성되고 정규화되었습니다.\n",
      "쿼리에 대한 상위 20개 문서를 Dense Retrieval으로 검색했습니다.\n",
      "쿼리 임베딩이 생성되고 정규화되었습니다.\n",
      "쿼리에 대한 상위 20개 문서를 Dense Retrieval으로 검색했습니다.\n",
      "쿼리 임베딩이 생성되고 정규화되었습니다.\n",
      "쿼리에 대한 상위 20개 문서를 Dense Retrieval으로 검색했습니다.\n"
     ]
    },
    {
     "name": "stderr",
     "output_type": "stream",
     "text": [
      "Dense Retrieval:  54%|█████▎    | 321/600 [00:07<00:06, 43.17it/s]"
     ]
    },
    {
     "name": "stdout",
     "output_type": "stream",
     "text": [
      "쿼리 임베딩이 생성되고 정규화되었습니다.\n",
      "쿼리에 대한 상위 20개 문서를 Dense Retrieval으로 검색했습니다.\n",
      "쿼리 임베딩이 생성되고 정규화되었습니다.\n",
      "쿼리에 대한 상위 20개 문서를 Dense Retrieval으로 검색했습니다.\n"
     ]
    },
    {
     "name": "stderr",
     "output_type": "stream",
     "text": [
      "Dense Retrieval:  54%|█████▍    | 326/600 [00:07<00:06, 43.75it/s]"
     ]
    },
    {
     "name": "stdout",
     "output_type": "stream",
     "text": [
      "쿼리 임베딩이 생성되고 정규화되었습니다.\n",
      "쿼리에 대한 상위 20개 문서를 Dense Retrieval으로 검색했습니다.\n",
      "쿼리 임베딩이 생성되고 정규화되었습니다.\n",
      "쿼리에 대한 상위 20개 문서를 Dense Retrieval으로 검색했습니다.\n",
      "쿼리 임베딩이 생성되고 정규화되었습니다.\n",
      "쿼리에 대한 상위 20개 문서를 Dense Retrieval으로 검색했습니다.\n",
      "쿼리 임베딩이 생성되고 정규화되었습니다.\n",
      "쿼리에 대한 상위 20개 문서를 Dense Retrieval으로 검색했습니다.\n",
      "쿼리 임베딩이 생성되고 정규화되었습니다.\n",
      "쿼리에 대한 상위 20개 문서를 Dense Retrieval으로 검색했습니다.\n",
      "쿼리 임베딩이 생성되고 정규화되었습니다.\n",
      "쿼리에 대한 상위 20개 문서를 Dense Retrieval으로 검색했습니다.\n",
      "쿼리 임베딩이 생성되고 정규화되었습니다.\n",
      "쿼리에 대한 상위 20개 문서를 Dense Retrieval으로 검색했습니다.\n",
      "쿼리 임베딩이 생성되고 정규화되었습니다.\n",
      "쿼리에 대한 상위 20개 문서를 Dense Retrieval으로 검색했습니다.\n",
      "쿼리 임베딩이 생성되고 정규화되었습니다.\n",
      "쿼리에 대한 상위 20개 문서를 Dense Retrieval으로 검색했습니다.\n"
     ]
    },
    {
     "name": "stderr",
     "output_type": "stream",
     "text": [
      "Dense Retrieval:  56%|█████▌    | 336/600 [00:08<00:06, 42.47it/s]"
     ]
    },
    {
     "name": "stdout",
     "output_type": "stream",
     "text": [
      "쿼리 임베딩이 생성되고 정규화되었습니다.\n",
      "쿼리에 대한 상위 20개 문서를 Dense Retrieval으로 검색했습니다.\n",
      "쿼리 임베딩이 생성되고 정규화되었습니다.\n",
      "쿼리에 대한 상위 20개 문서를 Dense Retrieval으로 검색했습니다.\n",
      "쿼리 임베딩이 생성되고 정규화되었습니다.\n",
      "쿼리에 대한 상위 20개 문서를 Dense Retrieval으로 검색했습니다.\n",
      "쿼리 임베딩이 생성되고 정규화되었습니다.\n",
      "쿼리에 대한 상위 20개 문서를 Dense Retrieval으로 검색했습니다.\n",
      "쿼리 임베딩이 생성되고 정규화되었습니다.\n",
      "쿼리에 대한 상위 20개 문서를 Dense Retrieval으로 검색했습니다.\n",
      "쿼리 임베딩이 생성되고 정규화되었습니다.\n",
      "쿼리에 대한 상위 20개 문서를 Dense Retrieval으로 검색했습니다.\n",
      "쿼리 임베딩이 생성되고 정규화되었습니다.\n",
      "쿼리에 대한 상위 20개 문서를 Dense Retrieval으로 검색했습니다.\n",
      "쿼리 임베딩이 생성되고 정규화되었습니다.\n",
      "쿼리에 대한 상위 20개 문서를 Dense Retrieval으로 검색했습니다.\n",
      "쿼리 임베딩이 생성되고 정규화되었습니다.\n",
      "쿼리에 대한 상위 20개 문서를 Dense Retrieval으로 검색했습니다.\n"
     ]
    },
    {
     "name": "stderr",
     "output_type": "stream",
     "text": [
      "Dense Retrieval:  58%|█████▊    | 346/600 [00:08<00:05, 43.32it/s]"
     ]
    },
    {
     "name": "stdout",
     "output_type": "stream",
     "text": [
      "쿼리 임베딩이 생성되고 정규화되었습니다.\n",
      "쿼리에 대한 상위 20개 문서를 Dense Retrieval으로 검색했습니다.\n",
      "쿼리 임베딩이 생성되고 정규화되었습니다.\n",
      "쿼리에 대한 상위 20개 문서를 Dense Retrieval으로 검색했습니다.\n",
      "쿼리 임베딩이 생성되고 정규화되었습니다.\n",
      "쿼리에 대한 상위 20개 문서를 Dense Retrieval으로 검색했습니다.\n",
      "쿼리 임베딩이 생성되고 정규화되었습니다.\n",
      "쿼리에 대한 상위 20개 문서를 Dense Retrieval으로 검색했습니다.\n",
      "쿼리 임베딩이 생성되고 정규화되었습니다.\n",
      "쿼리에 대한 상위 20개 문서를 Dense Retrieval으로 검색했습니다.\n",
      "쿼리 임베딩이 생성되고 정규화되었습니다.\n",
      "쿼리에 대한 상위 20개 문서를 Dense Retrieval으로 검색했습니다.\n",
      "쿼리 임베딩이 생성되고 정규화되었습니다.\n",
      "쿼리에 대한 상위 20개 문서를 Dense Retrieval으로 검색했습니다.\n",
      "쿼리 임베딩이 생성되고 정규화되었습니다.\n",
      "쿼리에 대한 상위 20개 문서를 Dense Retrieval으로 검색했습니다.\n",
      "쿼리 임베딩이 생성되고 정규화되었습니다.\n",
      "쿼리에 대한 상위 20개 문서를 Dense Retrieval으로 검색했습니다.\n"
     ]
    },
    {
     "name": "stderr",
     "output_type": "stream",
     "text": [
      "Dense Retrieval:  58%|█████▊    | 351/600 [00:08<00:05, 43.88it/s]"
     ]
    },
    {
     "name": "stdout",
     "output_type": "stream",
     "text": [
      "쿼리 임베딩이 생성되고 정규화되었습니다.\n",
      "쿼리에 대한 상위 20개 문서를 Dense Retrieval으로 검색했습니다.\n",
      "쿼리 임베딩이 생성되고 정규화되었습니다.\n",
      "쿼리에 대한 상위 20개 문서를 Dense Retrieval으로 검색했습니다.\n",
      "쿼리 임베딩이 생성되고 정규화되었습니다.\n",
      "쿼리에 대한 상위 20개 문서를 Dense Retrieval으로 검색했습니다.\n",
      "쿼리 임베딩이 생성되고 정규화되었습니다.\n",
      "쿼리에 대한 상위 20개 문서를 Dense Retrieval으로 검색했습니다.\n",
      "쿼리 임베딩이 생성되고 정규화되었습니다.\n",
      "쿼리에 대한 상위 20개 문서를 Dense Retrieval으로 검색했습니다.\n",
      "쿼리 임베딩이 생성되고 정규화되었습니다.\n",
      "쿼리에 대한 상위 20개 문서를 Dense Retrieval으로 검색했습니다.\n",
      "쿼리 임베딩이 생성되고 정규화되었습니다.\n",
      "쿼리에 대한 상위 20개 문서를 Dense Retrieval으로 검색했습니다.\n",
      "쿼리 임베딩이 생성되고 정규화되었습니다.\n"
     ]
    },
    {
     "name": "stderr",
     "output_type": "stream",
     "text": [
      "Dense Retrieval:  59%|█████▉    | 356/600 [00:08<00:05, 44.32it/s]"
     ]
    },
    {
     "name": "stdout",
     "output_type": "stream",
     "text": [
      "쿼리에 대한 상위 20개 문서를 Dense Retrieval으로 검색했습니다.\n",
      "쿼리 임베딩이 생성되고 정규화되었습니다.\n",
      "쿼리에 대한 상위 20개 문서를 Dense Retrieval으로 검색했습니다.\n"
     ]
    },
    {
     "name": "stderr",
     "output_type": "stream",
     "text": [
      "Dense Retrieval:  60%|██████    | 361/600 [00:08<00:05, 43.83it/s]"
     ]
    },
    {
     "name": "stdout",
     "output_type": "stream",
     "text": [
      "쿼리 임베딩이 생성되고 정규화되었습니다.\n",
      "쿼리에 대한 상위 20개 문서를 Dense Retrieval으로 검색했습니다.\n",
      "쿼리 임베딩이 생성되고 정규화되었습니다.\n",
      "쿼리에 대한 상위 20개 문서를 Dense Retrieval으로 검색했습니다.\n",
      "쿼리 임베딩이 생성되고 정규화되었습니다.\n",
      "쿼리에 대한 상위 20개 문서를 Dense Retrieval으로 검색했습니다.\n",
      "쿼리 임베딩이 생성되고 정규화되었습니다.\n",
      "쿼리에 대한 상위 20개 문서를 Dense Retrieval으로 검색했습니다.\n",
      "쿼리 임베딩이 생성되고 정규화되었습니다.\n",
      "쿼리에 대한 상위 20개 문서를 Dense Retrieval으로 검색했습니다.\n",
      "쿼리 임베딩이 생성되고 정규화되었습니다.\n",
      "쿼리에 대한 상위 20개 문서를 Dense Retrieval으로 검색했습니다.\n",
      "쿼리 임베딩이 생성되고 정규화되었습니다.\n",
      "쿼리에 대한 상위 20개 문서를 Dense Retrieval으로 검색했습니다.\n"
     ]
    },
    {
     "name": "stderr",
     "output_type": "stream",
     "text": [
      "Dense Retrieval:  61%|██████    | 366/600 [00:08<00:05, 42.07it/s]"
     ]
    },
    {
     "name": "stdout",
     "output_type": "stream",
     "text": [
      "쿼리 임베딩이 생성되고 정규화되었습니다.\n",
      "쿼리에 대한 상위 20개 문서를 Dense Retrieval으로 검색했습니다.\n",
      "쿼리 임베딩이 생성되고 정규화되었습니다.\n",
      "쿼리에 대한 상위 20개 문서를 Dense Retrieval으로 검색했습니다.\n"
     ]
    },
    {
     "name": "stderr",
     "output_type": "stream",
     "text": [
      "Dense Retrieval:  62%|██████▏   | 371/600 [00:08<00:05, 42.57it/s]"
     ]
    },
    {
     "name": "stdout",
     "output_type": "stream",
     "text": [
      "쿼리 임베딩이 생성되고 정규화되었습니다.\n",
      "쿼리에 대한 상위 20개 문서를 Dense Retrieval으로 검색했습니다.\n",
      "쿼리 임베딩이 생성되고 정규화되었습니다.\n",
      "쿼리에 대한 상위 20개 문서를 Dense Retrieval으로 검색했습니다.\n",
      "쿼리 임베딩이 생성되고 정규화되었습니다.\n",
      "쿼리에 대한 상위 20개 문서를 Dense Retrieval으로 검색했습니다.\n",
      "쿼리 임베딩이 생성되고 정규화되었습니다.\n",
      "쿼리에 대한 상위 20개 문서를 Dense Retrieval으로 검색했습니다.\n",
      "쿼리 임베딩이 생성되고 정규화되었습니다.\n",
      "쿼리에 대한 상위 20개 문서를 Dense Retrieval으로 검색했습니다.\n",
      "쿼리 임베딩이 생성되고 정규화되었습니다.\n",
      "쿼리에 대한 상위 20개 문서를 Dense Retrieval으로 검색했습니다.\n",
      "쿼리 임베딩이 생성되고 정규화되었습니다.\n",
      "쿼리에 대한 상위 20개 문서를 Dense Retrieval으로 검색했습니다.\n",
      "쿼리 임베딩이 생성되고 정규화되었습니다.\n",
      "쿼리에 대한 상위 20개 문서를 Dense Retrieval으로 검색했습니다.\n",
      "쿼리 임베딩이 생성되고 정규화되었습니다.\n",
      "쿼리에 대한 상위 20개 문서를 Dense Retrieval으로 검색했습니다.\n"
     ]
    },
    {
     "name": "stderr",
     "output_type": "stream",
     "text": [
      "Dense Retrieval:  64%|██████▎   | 381/600 [00:09<00:05, 42.68it/s]"
     ]
    },
    {
     "name": "stdout",
     "output_type": "stream",
     "text": [
      "쿼리 임베딩이 생성되고 정규화되었습니다.\n",
      "쿼리에 대한 상위 20개 문서를 Dense Retrieval으로 검색했습니다.\n",
      "쿼리 임베딩이 생성되고 정규화되었습니다.\n",
      "쿼리에 대한 상위 20개 문서를 Dense Retrieval으로 검색했습니다.\n",
      "쿼리 임베딩이 생성되고 정규화되었습니다.\n",
      "쿼리에 대한 상위 20개 문서를 Dense Retrieval으로 검색했습니다.\n",
      "쿼리 임베딩이 생성되고 정규화되었습니다.\n",
      "쿼리에 대한 상위 20개 문서를 Dense Retrieval으로 검색했습니다.\n",
      "쿼리 임베딩이 생성되고 정규화되었습니다.\n",
      "쿼리에 대한 상위 20개 문서를 Dense Retrieval으로 검색했습니다.\n",
      "쿼리 임베딩이 생성되고 정규화되었습니다.\n",
      "쿼리에 대한 상위 20개 문서를 Dense Retrieval으로 검색했습니다.\n",
      "쿼리 임베딩이 생성되고 정규화되었습니다.\n",
      "쿼리에 대한 상위 20개 문서를 Dense Retrieval으로 검색했습니다.\n",
      "쿼리 임베딩이 생성되고 정규화되었습니다.\n",
      "쿼리에 대한 상위 20개 문서를 Dense Retrieval으로 검색했습니다.\n",
      "쿼리 임베딩이 생성되고 정규화되었습니다.\n",
      "쿼리에 대한 상위 20개 문서를 Dense Retrieval으로 검색했습니다.\n"
     ]
    },
    {
     "name": "stderr",
     "output_type": "stream",
     "text": [
      "Dense Retrieval:  64%|██████▍   | 386/600 [00:09<00:05, 42.39it/s]"
     ]
    },
    {
     "name": "stdout",
     "output_type": "stream",
     "text": [
      "쿼리 임베딩이 생성되고 정규화되었습니다.\n",
      "쿼리에 대한 상위 20개 문서를 Dense Retrieval으로 검색했습니다.\n",
      "쿼리 임베딩이 생성되고 정규화되었습니다.\n",
      "쿼리에 대한 상위 20개 문서를 Dense Retrieval으로 검색했습니다.\n",
      "쿼리 임베딩이 생성되고 정규화되었습니다.\n",
      "쿼리에 대한 상위 20개 문서를 Dense Retrieval으로 검색했습니다.\n",
      "쿼리 임베딩이 생성되고 정규화되었습니다.\n",
      "쿼리에 대한 상위 20개 문서를 Dense Retrieval으로 검색했습니다.\n",
      "쿼리 임베딩이 생성되고 정규화되었습니다.\n",
      "쿼리에 대한 상위 20개 문서를 Dense Retrieval으로 검색했습니다.\n",
      "쿼리 임베딩이 생성되고 정규화되었습니다.\n",
      "쿼리에 대한 상위 20개 문서를 Dense Retrieval으로 검색했습니다.\n"
     ]
    },
    {
     "name": "stderr",
     "output_type": "stream",
     "text": [
      "Dense Retrieval:  65%|██████▌   | 391/600 [00:09<00:04, 42.59it/s]"
     ]
    },
    {
     "name": "stdout",
     "output_type": "stream",
     "text": [
      "쿼리 임베딩이 생성되고 정규화되었습니다.\n",
      "쿼리에 대한 상위 20개 문서를 Dense Retrieval으로 검색했습니다.\n",
      "쿼리 임베딩이 생성되고 정규화되었습니다.\n",
      "쿼리에 대한 상위 20개 문서를 Dense Retrieval으로 검색했습니다.\n",
      "쿼리 임베딩이 생성되고 정규화되었습니다.\n",
      "쿼리에 대한 상위 20개 문서를 Dense Retrieval으로 검색했습니다.\n"
     ]
    },
    {
     "name": "stderr",
     "output_type": "stream",
     "text": [
      "Dense Retrieval:  66%|██████▌   | 396/600 [00:09<00:04, 41.38it/s]"
     ]
    },
    {
     "name": "stdout",
     "output_type": "stream",
     "text": [
      "쿼리 임베딩이 생성되고 정규화되었습니다.\n",
      "쿼리에 대한 상위 20개 문서를 Dense Retrieval으로 검색했습니다.\n",
      "쿼리 임베딩이 생성되고 정규화되었습니다.\n",
      "쿼리에 대한 상위 20개 문서를 Dense Retrieval으로 검색했습니다.\n",
      "쿼리 임베딩이 생성되고 정규화되었습니다.\n",
      "쿼리에 대한 상위 20개 문서를 Dense Retrieval으로 검색했습니다.\n",
      "쿼리 임베딩이 생성되고 정규화되었습니다.\n",
      "쿼리에 대한 상위 20개 문서를 Dense Retrieval으로 검색했습니다.\n",
      "쿼리 임베딩이 생성되고 정규화되었습니다.\n",
      "쿼리에 대한 상위 20개 문서를 Dense Retrieval으로 검색했습니다.\n",
      "쿼리 임베딩이 생성되고 정규화되었습니다.\n",
      "쿼리에 대한 상위 20개 문서를 Dense Retrieval으로 검색했습니다.\n"
     ]
    },
    {
     "name": "stderr",
     "output_type": "stream",
     "text": [
      "Dense Retrieval:  67%|██████▋   | 401/600 [00:09<00:04, 42.02it/s]"
     ]
    },
    {
     "name": "stdout",
     "output_type": "stream",
     "text": [
      "쿼리 임베딩이 생성되고 정규화되었습니다.\n",
      "쿼리에 대한 상위 20개 문서를 Dense Retrieval으로 검색했습니다.\n",
      "쿼리 임베딩이 생성되고 정규화되었습니다.\n",
      "쿼리에 대한 상위 20개 문서를 Dense Retrieval으로 검색했습니다.\n",
      "쿼리 임베딩이 생성되고 정규화되었습니다.\n",
      "쿼리에 대한 상위 20개 문서를 Dense Retrieval으로 검색했습니다.\n"
     ]
    },
    {
     "name": "stderr",
     "output_type": "stream",
     "text": [
      "Dense Retrieval:  68%|██████▊   | 406/600 [00:09<00:04, 42.54it/s]"
     ]
    },
    {
     "name": "stdout",
     "output_type": "stream",
     "text": [
      "쿼리 임베딩이 생성되고 정규화되었습니다.\n",
      "쿼리에 대한 상위 20개 문서를 Dense Retrieval으로 검색했습니다.\n",
      "쿼리 임베딩이 생성되고 정규화되었습니다.\n",
      "쿼리에 대한 상위 20개 문서를 Dense Retrieval으로 검색했습니다.\n",
      "쿼리 임베딩이 생성되고 정규화되었습니다.\n",
      "쿼리에 대한 상위 20개 문서를 Dense Retrieval으로 검색했습니다.\n",
      "쿼리 임베딩이 생성되고 정규화되었습니다.\n",
      "쿼리에 대한 상위 20개 문서를 Dense Retrieval으로 검색했습니다.\n",
      "쿼리 임베딩이 생성되고 정규화되었습니다.\n",
      "쿼리에 대한 상위 20개 문서를 Dense Retrieval으로 검색했습니다.\n",
      "쿼리 임베딩이 생성되고 정규화되었습니다.\n",
      "쿼리에 대한 상위 20개 문서를 Dense Retrieval으로 검색했습니다.\n"
     ]
    },
    {
     "name": "stderr",
     "output_type": "stream",
     "text": [
      "Dense Retrieval:  68%|██████▊   | 411/600 [00:09<00:04, 42.61it/s]"
     ]
    },
    {
     "name": "stdout",
     "output_type": "stream",
     "text": [
      "쿼리 임베딩이 생성되고 정규화되었습니다.\n",
      "쿼리에 대한 상위 20개 문서를 Dense Retrieval으로 검색했습니다.\n",
      "쿼리 임베딩이 생성되고 정규화되었습니다.\n",
      "쿼리에 대한 상위 20개 문서를 Dense Retrieval으로 검색했습니다.\n",
      "쿼리 임베딩이 생성되고 정규화되었습니다.\n",
      "쿼리에 대한 상위 20개 문서를 Dense Retrieval으로 검색했습니다.\n"
     ]
    },
    {
     "name": "stderr",
     "output_type": "stream",
     "text": [
      "Dense Retrieval:  69%|██████▉   | 416/600 [00:10<00:04, 42.03it/s]"
     ]
    },
    {
     "name": "stdout",
     "output_type": "stream",
     "text": [
      "쿼리 임베딩이 생성되고 정규화되었습니다.\n",
      "쿼리에 대한 상위 20개 문서를 Dense Retrieval으로 검색했습니다.\n",
      "쿼리 임베딩이 생성되고 정규화되었습니다.\n",
      "쿼리에 대한 상위 20개 문서를 Dense Retrieval으로 검색했습니다.\n",
      "쿼리 임베딩이 생성되고 정규화되었습니다.\n",
      "쿼리에 대한 상위 20개 문서를 Dense Retrieval으로 검색했습니다.\n",
      "쿼리 임베딩이 생성되고 정규화되었습니다.\n",
      "쿼리에 대한 상위 20개 문서를 Dense Retrieval으로 검색했습니다.\n",
      "쿼리 임베딩이 생성되고 정규화되었습니다.\n",
      "쿼리에 대한 상위 20개 문서를 Dense Retrieval으로 검색했습니다.\n",
      "쿼리 임베딩이 생성되고 정규화되었습니다.\n",
      "쿼리에 대한 상위 20개 문서를 Dense Retrieval으로 검색했습니다.\n",
      "쿼리 임베딩이 생성되고 정규화되었습니다.\n",
      "쿼리에 대한 상위 20개 문서를 Dense Retrieval으로 검색했습니다.\n",
      "쿼리 임베딩이 생성되고 정규화되었습니다.\n",
      "쿼리에 대한 상위 20개 문서를 Dense Retrieval으로 검색했습니다.\n"
     ]
    },
    {
     "name": "stderr",
     "output_type": "stream",
     "text": [
      "Dense Retrieval:  70%|███████   | 421/600 [00:10<00:04, 39.19it/s]"
     ]
    },
    {
     "name": "stdout",
     "output_type": "stream",
     "text": [
      "쿼리 임베딩이 생성되고 정규화되었습니다.\n",
      "쿼리에 대한 상위 20개 문서를 Dense Retrieval으로 검색했습니다.\n",
      "쿼리 임베딩이 생성되고 정규화되었습니다.\n",
      "쿼리에 대한 상위 20개 문서를 Dense Retrieval으로 검색했습니다.\n",
      "쿼리 임베딩이 생성되고 정규화되었습니다.\n",
      "쿼리에 대한 상위 20개 문서를 Dense Retrieval으로 검색했습니다.\n",
      "쿼리 임베딩이 생성되고 정규화되었습니다.\n",
      "쿼리에 대한 상위 20개 문서를 Dense Retrieval으로 검색했습니다.\n",
      "쿼리 임베딩이 생성되고 정규화되었습니다.\n",
      "쿼리에 대한 상위 20개 문서를 Dense Retrieval으로 검색했습니다.\n"
     ]
    },
    {
     "name": "stderr",
     "output_type": "stream",
     "text": [
      "Dense Retrieval:  71%|███████   | 425/600 [00:10<00:04, 39.26it/s]"
     ]
    },
    {
     "name": "stdout",
     "output_type": "stream",
     "text": [
      "쿼리 임베딩이 생성되고 정규화되었습니다.\n",
      "쿼리에 대한 상위 20개 문서를 Dense Retrieval으로 검색했습니다.\n",
      "쿼리 임베딩이 생성되고 정규화되었습니다.\n",
      "쿼리에 대한 상위 20개 문서를 Dense Retrieval으로 검색했습니다.\n",
      "쿼리 임베딩이 생성되고 정규화되었습니다.\n",
      "쿼리에 대한 상위 20개 문서를 Dense Retrieval으로 검색했습니다.\n",
      "쿼리 임베딩이 생성되고 정규화되었습니다.\n"
     ]
    },
    {
     "name": "stderr",
     "output_type": "stream",
     "text": [
      "Dense Retrieval:  72%|███████▏  | 430/600 [00:10<00:04, 39.50it/s]"
     ]
    },
    {
     "name": "stdout",
     "output_type": "stream",
     "text": [
      "쿼리에 대한 상위 20개 문서를 Dense Retrieval으로 검색했습니다.\n",
      "쿼리 임베딩이 생성되고 정규화되었습니다.\n",
      "쿼리에 대한 상위 20개 문서를 Dense Retrieval으로 검색했습니다.\n",
      "쿼리 임베딩이 생성되고 정규화되었습니다.\n",
      "쿼리에 대한 상위 20개 문서를 Dense Retrieval으로 검색했습니다.\n",
      "쿼리 임베딩이 생성되고 정규화되었습니다.\n",
      "쿼리에 대한 상위 20개 문서를 Dense Retrieval으로 검색했습니다.\n",
      "쿼리 임베딩이 생성되고 정규화되었습니다.\n",
      "쿼리에 대한 상위 20개 문서를 Dense Retrieval으로 검색했습니다.\n",
      "쿼리 임베딩이 생성되고 정규화되었습니다.\n"
     ]
    },
    {
     "name": "stderr",
     "output_type": "stream",
     "text": [
      "Dense Retrieval:  72%|███████▏  | 434/600 [00:10<00:04, 39.34it/s]"
     ]
    },
    {
     "name": "stdout",
     "output_type": "stream",
     "text": [
      "쿼리에 대한 상위 20개 문서를 Dense Retrieval으로 검색했습니다.\n",
      "쿼리 임베딩이 생성되고 정규화되었습니다.\n",
      "쿼리에 대한 상위 20개 문서를 Dense Retrieval으로 검색했습니다.\n",
      "쿼리 임베딩이 생성되고 정규화되었습니다.\n",
      "쿼리에 대한 상위 20개 문서를 Dense Retrieval으로 검색했습니다.\n",
      "쿼리 임베딩이 생성되고 정규화되었습니다.\n",
      "쿼리에 대한 상위 20개 문서를 Dense Retrieval으로 검색했습니다.\n"
     ]
    },
    {
     "name": "stderr",
     "output_type": "stream",
     "text": [
      "Dense Retrieval:  73%|███████▎  | 439/600 [00:10<00:03, 40.46it/s]"
     ]
    },
    {
     "name": "stdout",
     "output_type": "stream",
     "text": [
      "쿼리 임베딩이 생성되고 정규화되었습니다.\n",
      "쿼리에 대한 상위 20개 문서를 Dense Retrieval으로 검색했습니다.\n",
      "쿼리 임베딩이 생성되고 정규화되었습니다.\n",
      "쿼리에 대한 상위 20개 문서를 Dense Retrieval으로 검색했습니다.\n",
      "쿼리 임베딩이 생성되고 정규화되었습니다.\n",
      "쿼리에 대한 상위 20개 문서를 Dense Retrieval으로 검색했습니다.\n",
      "쿼리 임베딩이 생성되고 정규화되었습니다.\n",
      "쿼리에 대한 상위 20개 문서를 Dense Retrieval으로 검색했습니다.\n",
      "쿼리 임베딩이 생성되고 정규화되었습니다.\n"
     ]
    },
    {
     "name": "stderr",
     "output_type": "stream",
     "text": [
      "Dense Retrieval:  74%|███████▍  | 444/600 [00:10<00:03, 39.04it/s]"
     ]
    },
    {
     "name": "stdout",
     "output_type": "stream",
     "text": [
      "쿼리에 대한 상위 20개 문서를 Dense Retrieval으로 검색했습니다.\n",
      "쿼리 임베딩이 생성되고 정규화되었습니다.\n",
      "쿼리에 대한 상위 20개 문서를 Dense Retrieval으로 검색했습니다.\n",
      "쿼리 임베딩이 생성되고 정규화되었습니다.\n",
      "쿼리에 대한 상위 20개 문서를 Dense Retrieval으로 검색했습니다.\n",
      "쿼리 임베딩이 생성되고 정규화되었습니다.\n",
      "쿼리에 대한 상위 20개 문서를 Dense Retrieval으로 검색했습니다.\n"
     ]
    },
    {
     "name": "stderr",
     "output_type": "stream",
     "text": [
      "Dense Retrieval:  75%|███████▍  | 448/600 [00:10<00:03, 38.60it/s]"
     ]
    },
    {
     "name": "stdout",
     "output_type": "stream",
     "text": [
      "쿼리 임베딩이 생성되고 정규화되었습니다.\n",
      "쿼리에 대한 상위 20개 문서를 Dense Retrieval으로 검색했습니다.\n",
      "쿼리 임베딩이 생성되고 정규화되었습니다.\n",
      "쿼리에 대한 상위 20개 문서를 Dense Retrieval으로 검색했습니다.\n",
      "쿼리 임베딩이 생성되고 정규화되었습니다.\n",
      "쿼리에 대한 상위 20개 문서를 Dense Retrieval으로 검색했습니다.\n",
      "쿼리 임베딩이 생성되고 정규화되었습니다.\n",
      "쿼리에 대한 상위 20개 문서를 Dense Retrieval으로 검색했습니다.\n",
      "쿼리 임베딩이 생성되고 정규화되었습니다.\n"
     ]
    },
    {
     "name": "stderr",
     "output_type": "stream",
     "text": [
      "Dense Retrieval:  75%|███████▌  | 452/600 [00:10<00:03, 37.76it/s]"
     ]
    },
    {
     "name": "stdout",
     "output_type": "stream",
     "text": [
      "쿼리에 대한 상위 20개 문서를 Dense Retrieval으로 검색했습니다.\n",
      "쿼리 임베딩이 생성되고 정규화되었습니다.\n",
      "쿼리에 대한 상위 20개 문서를 Dense Retrieval으로 검색했습니다.\n",
      "쿼리 임베딩이 생성되고 정규화되었습니다.\n",
      "쿼리에 대한 상위 20개 문서를 Dense Retrieval으로 검색했습니다.\n",
      "쿼리 임베딩이 생성되고 정규화되었습니다.\n",
      "쿼리에 대한 상위 20개 문서를 Dense Retrieval으로 검색했습니다.\n"
     ]
    },
    {
     "name": "stderr",
     "output_type": "stream",
     "text": [
      "Dense Retrieval:  76%|███████▌  | 456/600 [00:11<00:03, 38.31it/s]"
     ]
    },
    {
     "name": "stdout",
     "output_type": "stream",
     "text": [
      "쿼리 임베딩이 생성되고 정규화되었습니다.\n",
      "쿼리에 대한 상위 20개 문서를 Dense Retrieval으로 검색했습니다.\n",
      "쿼리 임베딩이 생성되고 정규화되었습니다.\n",
      "쿼리에 대한 상위 20개 문서를 Dense Retrieval으로 검색했습니다.\n",
      "쿼리 임베딩이 생성되고 정규화되었습니다.\n",
      "쿼리에 대한 상위 20개 문서를 Dense Retrieval으로 검색했습니다.\n",
      "쿼리 임베딩이 생성되고 정규화되었습니다.\n",
      "쿼리에 대한 상위 20개 문서를 Dense Retrieval으로 검색했습니다.\n"
     ]
    },
    {
     "name": "stderr",
     "output_type": "stream",
     "text": [
      "Dense Retrieval:  77%|███████▋  | 461/600 [00:11<00:03, 39.72it/s]"
     ]
    },
    {
     "name": "stdout",
     "output_type": "stream",
     "text": [
      "쿼리 임베딩이 생성되고 정규화되었습니다.\n",
      "쿼리에 대한 상위 20개 문서를 Dense Retrieval으로 검색했습니다.\n",
      "쿼리 임베딩이 생성되고 정규화되었습니다.\n",
      "쿼리에 대한 상위 20개 문서를 Dense Retrieval으로 검색했습니다.\n",
      "쿼리 임베딩이 생성되고 정규화되었습니다.\n",
      "쿼리에 대한 상위 20개 문서를 Dense Retrieval으로 검색했습니다.\n",
      "쿼리 임베딩이 생성되고 정규화되었습니다.\n",
      "쿼리에 대한 상위 20개 문서를 Dense Retrieval으로 검색했습니다.\n",
      "쿼리 임베딩이 생성되고 정규화되었습니다.\n",
      "쿼리에 대한 상위 20개 문서를 Dense Retrieval으로 검색했습니다.\n",
      "쿼리 임베딩이 생성되고 정규화되었습니다.\n",
      "쿼리에 대한 상위 20개 문서를 Dense Retrieval으로 검색했습니다.\n",
      "쿼리 임베딩이 생성되고 정규화되었습니다.\n",
      "쿼리에 대한 상위 20개 문서를 Dense Retrieval으로 검색했습니다.\n",
      "쿼리 임베딩이 생성되고 정규화되었습니다.\n",
      "쿼리에 대한 상위 20개 문서를 Dense Retrieval으로 검색했습니다.\n",
      "쿼리 임베딩이 생성되고 정규화되었습니다.\n",
      "쿼리에 대한 상위 20개 문서를 Dense Retrieval으로 검색했습니다.\n"
     ]
    },
    {
     "name": "stderr",
     "output_type": "stream",
     "text": [
      "Dense Retrieval:  78%|███████▊  | 466/600 [00:11<00:03, 40.24it/s]"
     ]
    },
    {
     "name": "stdout",
     "output_type": "stream",
     "text": [
      "쿼리 임베딩이 생성되고 정규화되었습니다.\n",
      "쿼리에 대한 상위 20개 문서를 Dense Retrieval으로 검색했습니다.\n",
      "쿼리 임베딩이 생성되고 정규화되었습니다.\n",
      "쿼리에 대한 상위 20개 문서를 Dense Retrieval으로 검색했습니다.\n",
      "쿼리 임베딩이 생성되고 정규화되었습니다.\n",
      "쿼리에 대한 상위 20개 문서를 Dense Retrieval으로 검색했습니다.\n",
      "쿼리 임베딩이 생성되고 정규화되었습니다.\n",
      "쿼리에 대한 상위 20개 문서를 Dense Retrieval으로 검색했습니다.\n"
     ]
    },
    {
     "name": "stderr",
     "output_type": "stream",
     "text": [
      "Dense Retrieval:  78%|███████▊  | 471/600 [00:11<00:03, 37.92it/s]"
     ]
    },
    {
     "name": "stdout",
     "output_type": "stream",
     "text": [
      "쿼리 임베딩이 생성되고 정규화되었습니다.\n",
      "쿼리에 대한 상위 20개 문서를 Dense Retrieval으로 검색했습니다.\n",
      "쿼리 임베딩이 생성되고 정규화되었습니다.\n",
      "쿼리에 대한 상위 20개 문서를 Dense Retrieval으로 검색했습니다.\n",
      "쿼리 임베딩이 생성되고 정규화되었습니다.\n",
      "쿼리에 대한 상위 20개 문서를 Dense Retrieval으로 검색했습니다.\n",
      "쿼리 임베딩이 생성되고 정규화되었습니다.\n",
      "쿼리에 대한 상위 20개 문서를 Dense Retrieval으로 검색했습니다.\n"
     ]
    },
    {
     "name": "stderr",
     "output_type": "stream",
     "text": [
      "Dense Retrieval:  79%|███████▉  | 475/600 [00:11<00:03, 38.26it/s]"
     ]
    },
    {
     "name": "stdout",
     "output_type": "stream",
     "text": [
      "쿼리 임베딩이 생성되고 정규화되었습니다.\n",
      "쿼리에 대한 상위 20개 문서를 Dense Retrieval으로 검색했습니다.\n",
      "쿼리 임베딩이 생성되고 정규화되었습니다.\n",
      "쿼리에 대한 상위 20개 문서를 Dense Retrieval으로 검색했습니다.\n",
      "쿼리 임베딩이 생성되고 정규화되었습니다.\n",
      "쿼리에 대한 상위 20개 문서를 Dense Retrieval으로 검색했습니다.\n",
      "쿼리 임베딩이 생성되고 정규화되었습니다.\n",
      "쿼리에 대한 상위 20개 문서를 Dense Retrieval으로 검색했습니다.\n",
      "쿼리 임베딩이 생성되고 정규화되었습니다.\n"
     ]
    },
    {
     "name": "stderr",
     "output_type": "stream",
     "text": [
      "Dense Retrieval:  80%|████████  | 480/600 [00:11<00:03, 39.45it/s]"
     ]
    },
    {
     "name": "stdout",
     "output_type": "stream",
     "text": [
      "쿼리에 대한 상위 20개 문서를 Dense Retrieval으로 검색했습니다.\n",
      "쿼리 임베딩이 생성되고 정규화되었습니다.\n",
      "쿼리에 대한 상위 20개 문서를 Dense Retrieval으로 검색했습니다.\n",
      "쿼리 임베딩이 생성되고 정규화되었습니다.\n",
      "쿼리에 대한 상위 20개 문서를 Dense Retrieval으로 검색했습니다.\n",
      "쿼리 임베딩이 생성되고 정규화되었습니다.\n",
      "쿼리에 대한 상위 20개 문서를 Dense Retrieval으로 검색했습니다.\n"
     ]
    },
    {
     "name": "stderr",
     "output_type": "stream",
     "text": [
      "Dense Retrieval:  81%|████████  | 484/600 [00:11<00:02, 38.69it/s]"
     ]
    },
    {
     "name": "stdout",
     "output_type": "stream",
     "text": [
      "쿼리 임베딩이 생성되고 정규화되었습니다.\n",
      "쿼리에 대한 상위 20개 문서를 Dense Retrieval으로 검색했습니다.\n",
      "쿼리 임베딩이 생성되고 정규화되었습니다.\n",
      "쿼리에 대한 상위 20개 문서를 Dense Retrieval으로 검색했습니다.\n",
      "쿼리 임베딩이 생성되고 정규화되었습니다.\n",
      "쿼리에 대한 상위 20개 문서를 Dense Retrieval으로 검색했습니다.\n",
      "쿼리 임베딩이 생성되고 정규화되었습니다.\n",
      "쿼리에 대한 상위 20개 문서를 Dense Retrieval으로 검색했습니다.\n",
      "쿼리 임베딩이 생성되고 정규화되었습니다.\n"
     ]
    },
    {
     "name": "stderr",
     "output_type": "stream",
     "text": [
      "Dense Retrieval:  81%|████████▏ | 488/600 [00:11<00:02, 38.84it/s]"
     ]
    },
    {
     "name": "stdout",
     "output_type": "stream",
     "text": [
      "쿼리에 대한 상위 20개 문서를 Dense Retrieval으로 검색했습니다.\n",
      "쿼리 임베딩이 생성되고 정규화되었습니다.\n",
      "쿼리에 대한 상위 20개 문서를 Dense Retrieval으로 검색했습니다.\n",
      "쿼리 임베딩이 생성되고 정규화되었습니다.\n",
      "쿼리에 대한 상위 20개 문서를 Dense Retrieval으로 검색했습니다.\n",
      "쿼리 임베딩이 생성되고 정규화되었습니다.\n",
      "쿼리에 대한 상위 20개 문서를 Dense Retrieval으로 검색했습니다.\n"
     ]
    },
    {
     "name": "stderr",
     "output_type": "stream",
     "text": [
      "Dense Retrieval:  82%|████████▏ | 492/600 [00:12<00:02, 38.27it/s]"
     ]
    },
    {
     "name": "stdout",
     "output_type": "stream",
     "text": [
      "쿼리 임베딩이 생성되고 정규화되었습니다.\n",
      "쿼리에 대한 상위 20개 문서를 Dense Retrieval으로 검색했습니다.\n",
      "쿼리 임베딩이 생성되고 정규화되었습니다.\n",
      "쿼리에 대한 상위 20개 문서를 Dense Retrieval으로 검색했습니다.\n",
      "쿼리 임베딩이 생성되고 정규화되었습니다.\n",
      "쿼리에 대한 상위 20개 문서를 Dense Retrieval으로 검색했습니다.\n",
      "쿼리 임베딩이 생성되고 정규화되었습니다.\n",
      "쿼리에 대한 상위 20개 문서를 Dense Retrieval으로 검색했습니다.\n"
     ]
    },
    {
     "name": "stderr",
     "output_type": "stream",
     "text": [
      "Dense Retrieval:  83%|████████▎ | 496/600 [00:12<00:02, 38.12it/s]"
     ]
    },
    {
     "name": "stdout",
     "output_type": "stream",
     "text": [
      "쿼리 임베딩이 생성되고 정규화되었습니다.\n",
      "쿼리에 대한 상위 20개 문서를 Dense Retrieval으로 검색했습니다.\n",
      "쿼리 임베딩이 생성되고 정규화되었습니다.\n",
      "쿼리에 대한 상위 20개 문서를 Dense Retrieval으로 검색했습니다.\n",
      "쿼리 임베딩이 생성되고 정규화되었습니다.\n",
      "쿼리에 대한 상위 20개 문서를 Dense Retrieval으로 검색했습니다.\n",
      "쿼리 임베딩이 생성되고 정규화되었습니다.\n",
      "쿼리에 대한 상위 20개 문서를 Dense Retrieval으로 검색했습니다.\n"
     ]
    },
    {
     "name": "stderr",
     "output_type": "stream",
     "text": [
      "Dense Retrieval:  83%|████████▎ | 500/600 [00:12<00:02, 38.47it/s]"
     ]
    },
    {
     "name": "stdout",
     "output_type": "stream",
     "text": [
      "쿼리 임베딩이 생성되고 정규화되었습니다.\n",
      "쿼리에 대한 상위 20개 문서를 Dense Retrieval으로 검색했습니다.\n",
      "쿼리 임베딩이 생성되고 정규화되었습니다.\n",
      "쿼리에 대한 상위 20개 문서를 Dense Retrieval으로 검색했습니다.\n",
      "쿼리 임베딩이 생성되고 정규화되었습니다.\n",
      "쿼리에 대한 상위 20개 문서를 Dense Retrieval으로 검색했습니다.\n",
      "쿼리 임베딩이 생성되고 정규화되었습니다.\n",
      "쿼리에 대한 상위 20개 문서를 Dense Retrieval으로 검색했습니다.\n",
      "쿼리 임베딩이 생성되고 정규화되었습니다.\n"
     ]
    },
    {
     "name": "stderr",
     "output_type": "stream",
     "text": [
      "Dense Retrieval:  84%|████████▍ | 504/600 [00:12<00:02, 38.47it/s]"
     ]
    },
    {
     "name": "stdout",
     "output_type": "stream",
     "text": [
      "쿼리에 대한 상위 20개 문서를 Dense Retrieval으로 검색했습니다.\n",
      "쿼리 임베딩이 생성되고 정규화되었습니다.\n",
      "쿼리에 대한 상위 20개 문서를 Dense Retrieval으로 검색했습니다.\n",
      "쿼리 임베딩이 생성되고 정규화되었습니다.\n",
      "쿼리에 대한 상위 20개 문서를 Dense Retrieval으로 검색했습니다.\n",
      "쿼리 임베딩이 생성되고 정규화되었습니다.\n",
      "쿼리에 대한 상위 20개 문서를 Dense Retrieval으로 검색했습니다.\n",
      "쿼리 임베딩이 생성되고 정규화되었습니다.\n"
     ]
    },
    {
     "name": "stderr",
     "output_type": "stream",
     "text": [
      "Dense Retrieval:  85%|████████▍ | 509/600 [00:12<00:02, 38.55it/s]"
     ]
    },
    {
     "name": "stdout",
     "output_type": "stream",
     "text": [
      "쿼리에 대한 상위 20개 문서를 Dense Retrieval으로 검색했습니다.\n",
      "쿼리 임베딩이 생성되고 정규화되었습니다.\n",
      "쿼리에 대한 상위 20개 문서를 Dense Retrieval으로 검색했습니다.\n",
      "쿼리 임베딩이 생성되고 정규화되었습니다.\n",
      "쿼리에 대한 상위 20개 문서를 Dense Retrieval으로 검색했습니다.\n",
      "쿼리 임베딩이 생성되고 정규화되었습니다.\n",
      "쿼리에 대한 상위 20개 문서를 Dense Retrieval으로 검색했습니다.\n",
      "쿼리 임베딩이 생성되고 정규화되었습니다.\n",
      "쿼리에 대한 상위 20개 문서를 Dense Retrieval으로 검색했습니다.\n",
      "쿼리 임베딩이 생성되고 정규화되었습니다.\n",
      "쿼리에 대한 상위 20개 문서를 Dense Retrieval으로 검색했습니다.\n",
      "쿼리 임베딩이 생성되고 정규화되었습니다.\n",
      "쿼리에 대한 상위 20개 문서를 Dense Retrieval으로 검색했습니다.\n",
      "쿼리 임베딩이 생성되고 정규화되었습니다.\n",
      "쿼리에 대한 상위 20개 문서를 Dense Retrieval으로 검색했습니다.\n",
      "쿼리 임베딩이 생성되고 정규화되었습니다.\n",
      "쿼리에 대한 상위 20개 문서를 Dense Retrieval으로 검색했습니다.\n"
     ]
    },
    {
     "name": "stderr",
     "output_type": "stream",
     "text": [
      "Dense Retrieval:  86%|████████▌ | 514/600 [00:12<00:02, 39.72it/s]"
     ]
    },
    {
     "name": "stdout",
     "output_type": "stream",
     "text": [
      "쿼리 임베딩이 생성되고 정규화되었습니다.\n",
      "쿼리에 대한 상위 20개 문서를 Dense Retrieval으로 검색했습니다.\n",
      "쿼리 임베딩이 생성되고 정규화되었습니다.\n",
      "쿼리에 대한 상위 20개 문서를 Dense Retrieval으로 검색했습니다.\n",
      "쿼리 임베딩이 생성되고 정규화되었습니다.\n",
      "쿼리에 대한 상위 20개 문서를 Dense Retrieval으로 검색했습니다.\n",
      "쿼리 임베딩이 생성되고 정규화되었습니다.\n",
      "쿼리에 대한 상위 20개 문서를 Dense Retrieval으로 검색했습니다.\n"
     ]
    },
    {
     "name": "stderr",
     "output_type": "stream",
     "text": [
      "Dense Retrieval:  86%|████████▋ | 519/600 [00:12<00:02, 40.32it/s]"
     ]
    },
    {
     "name": "stdout",
     "output_type": "stream",
     "text": [
      "쿼리 임베딩이 생성되고 정규화되었습니다.\n",
      "쿼리에 대한 상위 20개 문서를 Dense Retrieval으로 검색했습니다.\n",
      "쿼리 임베딩이 생성되고 정규화되었습니다.\n",
      "쿼리에 대한 상위 20개 문서를 Dense Retrieval으로 검색했습니다.\n",
      "쿼리 임베딩이 생성되고 정규화되었습니다.\n",
      "쿼리에 대한 상위 20개 문서를 Dense Retrieval으로 검색했습니다.\n",
      "쿼리 임베딩이 생성되고 정규화되었습니다.\n",
      "쿼리에 대한 상위 20개 문서를 Dense Retrieval으로 검색했습니다.\n",
      "쿼리 임베딩이 생성되고 정규화되었습니다.\n"
     ]
    },
    {
     "name": "stderr",
     "output_type": "stream",
     "text": [
      "Dense Retrieval:  87%|████████▋ | 524/600 [00:12<00:01, 39.92it/s]"
     ]
    },
    {
     "name": "stdout",
     "output_type": "stream",
     "text": [
      "쿼리에 대한 상위 20개 문서를 Dense Retrieval으로 검색했습니다.\n",
      "쿼리 임베딩이 생성되고 정규화되었습니다.\n",
      "쿼리에 대한 상위 20개 문서를 Dense Retrieval으로 검색했습니다.\n",
      "쿼리 임베딩이 생성되고 정규화되었습니다.\n",
      "쿼리에 대한 상위 20개 문서를 Dense Retrieval으로 검색했습니다.\n",
      "쿼리 임베딩이 생성되고 정규화되었습니다.\n",
      "쿼리에 대한 상위 20개 문서를 Dense Retrieval으로 검색했습니다.\n"
     ]
    },
    {
     "name": "stderr",
     "output_type": "stream",
     "text": [
      "Dense Retrieval:  88%|████████▊ | 528/600 [00:12<00:01, 39.40it/s]"
     ]
    },
    {
     "name": "stdout",
     "output_type": "stream",
     "text": [
      "쿼리 임베딩이 생성되고 정규화되었습니다.\n",
      "쿼리에 대한 상위 20개 문서를 Dense Retrieval으로 검색했습니다.\n",
      "쿼리 임베딩이 생성되고 정규화되었습니다.\n",
      "쿼리에 대한 상위 20개 문서를 Dense Retrieval으로 검색했습니다.\n",
      "쿼리 임베딩이 생성되고 정규화되었습니다.\n",
      "쿼리에 대한 상위 20개 문서를 Dense Retrieval으로 검색했습니다.\n",
      "쿼리 임베딩이 생성되고 정규화되었습니다.\n",
      "쿼리에 대한 상위 20개 문서를 Dense Retrieval으로 검색했습니다.\n",
      "쿼리 임베딩이 생성되고 정규화되었습니다.\n",
      "쿼리에 대한 상위 20개 문서를 Dense Retrieval으로 검색했습니다.\n"
     ]
    },
    {
     "name": "stderr",
     "output_type": "stream",
     "text": [
      "Dense Retrieval:  89%|████████▊ | 532/600 [00:13<00:01, 39.41it/s]"
     ]
    },
    {
     "name": "stdout",
     "output_type": "stream",
     "text": [
      "쿼리 임베딩이 생성되고 정규화되었습니다.\n",
      "쿼리에 대한 상위 20개 문서를 Dense Retrieval으로 검색했습니다.\n",
      "쿼리 임베딩이 생성되고 정규화되었습니다.\n",
      "쿼리에 대한 상위 20개 문서를 Dense Retrieval으로 검색했습니다.\n",
      "쿼리 임베딩이 생성되고 정규화되었습니다.\n",
      "쿼리에 대한 상위 20개 문서를 Dense Retrieval으로 검색했습니다.\n"
     ]
    },
    {
     "name": "stderr",
     "output_type": "stream",
     "text": [
      "Dense Retrieval:  89%|████████▉ | 536/600 [00:13<00:01, 39.28it/s]"
     ]
    },
    {
     "name": "stdout",
     "output_type": "stream",
     "text": [
      "쿼리 임베딩이 생성되고 정규화되었습니다.\n",
      "쿼리에 대한 상위 20개 문서를 Dense Retrieval으로 검색했습니다.\n",
      "쿼리 임베딩이 생성되고 정규화되었습니다.\n",
      "쿼리에 대한 상위 20개 문서를 Dense Retrieval으로 검색했습니다.\n",
      "쿼리 임베딩이 생성되고 정규화되었습니다.\n",
      "쿼리에 대한 상위 20개 문서를 Dense Retrieval으로 검색했습니다.\n",
      "쿼리 임베딩이 생성되고 정규화되었습니다.\n",
      "쿼리에 대한 상위 20개 문서를 Dense Retrieval으로 검색했습니다.\n",
      "쿼리 임베딩이 생성되고 정규화되었습니다.\n",
      "쿼리에 대한 상위 20개 문서를 Dense Retrieval으로 검색했습니다.\n",
      "쿼리 임베딩이 생성되고 정규화되었습니다.\n"
     ]
    },
    {
     "name": "stderr",
     "output_type": "stream",
     "text": [
      "Dense Retrieval:  90%|█████████ | 541/600 [00:13<00:01, 38.60it/s]"
     ]
    },
    {
     "name": "stdout",
     "output_type": "stream",
     "text": [
      "쿼리에 대한 상위 20개 문서를 Dense Retrieval으로 검색했습니다.\n",
      "쿼리 임베딩이 생성되고 정규화되었습니다.\n",
      "쿼리에 대한 상위 20개 문서를 Dense Retrieval으로 검색했습니다.\n",
      "쿼리 임베딩이 생성되고 정규화되었습니다.\n",
      "쿼리에 대한 상위 20개 문서를 Dense Retrieval으로 검색했습니다.\n"
     ]
    },
    {
     "name": "stderr",
     "output_type": "stream",
     "text": [
      "Dense Retrieval:  91%|█████████ | 545/600 [00:13<00:01, 38.70it/s]"
     ]
    },
    {
     "name": "stdout",
     "output_type": "stream",
     "text": [
      "쿼리 임베딩이 생성되고 정규화되었습니다.\n",
      "쿼리에 대한 상위 20개 문서를 Dense Retrieval으로 검색했습니다.\n",
      "쿼리 임베딩이 생성되고 정규화되었습니다.\n",
      "쿼리에 대한 상위 20개 문서를 Dense Retrieval으로 검색했습니다.\n",
      "쿼리 임베딩이 생성되고 정규화되었습니다.\n",
      "쿼리에 대한 상위 20개 문서를 Dense Retrieval으로 검색했습니다.\n",
      "쿼리 임베딩이 생성되고 정규화되었습니다.\n",
      "쿼리에 대한 상위 20개 문서를 Dense Retrieval으로 검색했습니다.\n",
      "쿼리 임베딩이 생성되고 정규화되었습니다.\n",
      "쿼리에 대한 상위 20개 문서를 Dense Retrieval으로 검색했습니다.\n"
     ]
    },
    {
     "name": "stderr",
     "output_type": "stream",
     "text": [
      "Dense Retrieval:  92%|█████████▏| 549/600 [00:13<00:01, 38.11it/s]"
     ]
    },
    {
     "name": "stdout",
     "output_type": "stream",
     "text": [
      "쿼리 임베딩이 생성되고 정규화되었습니다.\n",
      "쿼리에 대한 상위 20개 문서를 Dense Retrieval으로 검색했습니다.\n",
      "쿼리 임베딩이 생성되고 정규화되었습니다.\n",
      "쿼리에 대한 상위 20개 문서를 Dense Retrieval으로 검색했습니다.\n",
      "쿼리 임베딩이 생성되고 정규화되었습니다.\n",
      "쿼리에 대한 상위 20개 문서를 Dense Retrieval으로 검색했습니다.\n"
     ]
    },
    {
     "name": "stderr",
     "output_type": "stream",
     "text": [
      "Dense Retrieval:  92%|█████████▏| 553/600 [00:13<00:01, 38.25it/s]"
     ]
    },
    {
     "name": "stdout",
     "output_type": "stream",
     "text": [
      "쿼리 임베딩이 생성되고 정규화되었습니다.\n",
      "쿼리에 대한 상위 20개 문서를 Dense Retrieval으로 검색했습니다.\n",
      "쿼리 임베딩이 생성되고 정규화되었습니다.\n",
      "쿼리에 대한 상위 20개 문서를 Dense Retrieval으로 검색했습니다.\n",
      "쿼리 임베딩이 생성되고 정규화되었습니다.\n",
      "쿼리에 대한 상위 20개 문서를 Dense Retrieval으로 검색했습니다.\n",
      "쿼리 임베딩이 생성되고 정규화되었습니다.\n",
      "쿼리에 대한 상위 20개 문서를 Dense Retrieval으로 검색했습니다.\n",
      "쿼리 임베딩이 생성되고 정규화되었습니다.\n",
      "쿼리에 대한 상위 20개 문서를 Dense Retrieval으로 검색했습니다.\n"
     ]
    },
    {
     "name": "stderr",
     "output_type": "stream",
     "text": [
      "Dense Retrieval:  93%|█████████▎| 557/600 [00:13<00:01, 38.04it/s]"
     ]
    },
    {
     "name": "stdout",
     "output_type": "stream",
     "text": [
      "쿼리 임베딩이 생성되고 정규화되었습니다.\n",
      "쿼리에 대한 상위 20개 문서를 Dense Retrieval으로 검색했습니다.\n",
      "쿼리 임베딩이 생성되고 정규화되었습니다.\n",
      "쿼리에 대한 상위 20개 문서를 Dense Retrieval으로 검색했습니다.\n",
      "쿼리 임베딩이 생성되고 정규화되었습니다.\n",
      "쿼리에 대한 상위 20개 문서를 Dense Retrieval으로 검색했습니다.\n"
     ]
    },
    {
     "name": "stderr",
     "output_type": "stream",
     "text": [
      "Dense Retrieval:  94%|█████████▎| 562/600 [00:13<00:00, 39.46it/s]"
     ]
    },
    {
     "name": "stdout",
     "output_type": "stream",
     "text": [
      "쿼리 임베딩이 생성되고 정규화되었습니다.\n",
      "쿼리에 대한 상위 20개 문서를 Dense Retrieval으로 검색했습니다.\n",
      "쿼리 임베딩이 생성되고 정규화되었습니다.\n",
      "쿼리에 대한 상위 20개 문서를 Dense Retrieval으로 검색했습니다.\n",
      "쿼리 임베딩이 생성되고 정규화되었습니다.\n",
      "쿼리에 대한 상위 20개 문서를 Dense Retrieval으로 검색했습니다.\n",
      "쿼리 임베딩이 생성되고 정규화되었습니다.\n",
      "쿼리에 대한 상위 20개 문서를 Dense Retrieval으로 검색했습니다.\n",
      "쿼리 임베딩이 생성되고 정규화되었습니다.\n",
      "쿼리에 대한 상위 20개 문서를 Dense Retrieval으로 검색했습니다.\n",
      "쿼리 임베딩이 생성되고 정규화되었습니다.\n"
     ]
    },
    {
     "name": "stderr",
     "output_type": "stream",
     "text": [
      "Dense Retrieval:  94%|█████████▍| 566/600 [00:13<00:00, 39.39it/s]"
     ]
    },
    {
     "name": "stdout",
     "output_type": "stream",
     "text": [
      "쿼리에 대한 상위 20개 문서를 Dense Retrieval으로 검색했습니다.\n",
      "쿼리 임베딩이 생성되고 정규화되었습니다.\n",
      "쿼리에 대한 상위 20개 문서를 Dense Retrieval으로 검색했습니다.\n",
      "쿼리 임베딩이 생성되고 정규화되었습니다.\n",
      "쿼리에 대한 상위 20개 문서를 Dense Retrieval으로 검색했습니다.\n"
     ]
    },
    {
     "name": "stderr",
     "output_type": "stream",
     "text": [
      "Dense Retrieval:  95%|█████████▌| 570/600 [00:14<00:00, 37.69it/s]"
     ]
    },
    {
     "name": "stdout",
     "output_type": "stream",
     "text": [
      "쿼리 임베딩이 생성되고 정규화되었습니다.\n",
      "쿼리에 대한 상위 20개 문서를 Dense Retrieval으로 검색했습니다.\n",
      "쿼리 임베딩이 생성되고 정규화되었습니다.\n",
      "쿼리에 대한 상위 20개 문서를 Dense Retrieval으로 검색했습니다.\n",
      "쿼리 임베딩이 생성되고 정규화되었습니다.\n",
      "쿼리에 대한 상위 20개 문서를 Dense Retrieval으로 검색했습니다.\n",
      "쿼리 임베딩이 생성되고 정규화되었습니다.\n",
      "쿼리에 대한 상위 20개 문서를 Dense Retrieval으로 검색했습니다.\n",
      "쿼리 임베딩이 생성되고 정규화되었습니다.\n",
      "쿼리에 대한 상위 20개 문서를 Dense Retrieval으로 검색했습니다.\n",
      "쿼리 임베딩이 생성되고 정규화되었습니다.\n",
      "쿼리에 대한 상위 20개 문서를 Dense Retrieval으로 검색했습니다.\n",
      "쿼리 임베딩이 생성되고 정규화되었습니다.\n"
     ]
    },
    {
     "name": "stderr",
     "output_type": "stream",
     "text": [
      "Dense Retrieval:  96%|█████████▌| 574/600 [00:14<00:00, 32.08it/s]"
     ]
    },
    {
     "name": "stdout",
     "output_type": "stream",
     "text": [
      "쿼리에 대한 상위 20개 문서를 Dense Retrieval으로 검색했습니다.\n",
      "쿼리 임베딩이 생성되고 정규화되었습니다.\n",
      "쿼리에 대한 상위 20개 문서를 Dense Retrieval으로 검색했습니다.\n",
      "쿼리 임베딩이 생성되고 정규화되었습니다.\n",
      "쿼리에 대한 상위 20개 문서를 Dense Retrieval으로 검색했습니다.\n",
      "쿼리 임베딩이 생성되고 정규화되었습니다.\n",
      "쿼리에 대한 상위 20개 문서를 Dense Retrieval으로 검색했습니다.\n",
      "쿼리 임베딩이 생성되고 정규화되었습니다.\n",
      "쿼리에 대한 상위 20개 문서를 Dense Retrieval으로 검색했습니다.\n",
      "쿼리 임베딩이 생성되고 정규화되었습니다.\n",
      "쿼리에 대한 상위 20개 문서를 Dense Retrieval으로 검색했습니다.\n"
     ]
    },
    {
     "name": "stderr",
     "output_type": "stream",
     "text": [
      "Dense Retrieval:  96%|█████████▋| 578/600 [00:14<00:00, 33.76it/s]"
     ]
    },
    {
     "name": "stdout",
     "output_type": "stream",
     "text": [
      "쿼리 임베딩이 생성되고 정규화되었습니다.\n",
      "쿼리에 대한 상위 20개 문서를 Dense Retrieval으로 검색했습니다.\n",
      "쿼리 임베딩이 생성되고 정규화되었습니다.\n",
      "쿼리에 대한 상위 20개 문서를 Dense Retrieval으로 검색했습니다.\n",
      "쿼리 임베딩이 생성되고 정규화되었습니다.\n"
     ]
    },
    {
     "name": "stderr",
     "output_type": "stream",
     "text": [
      "Dense Retrieval:  97%|█████████▋| 583/600 [00:14<00:00, 36.36it/s]"
     ]
    },
    {
     "name": "stdout",
     "output_type": "stream",
     "text": [
      "쿼리에 대한 상위 20개 문서를 Dense Retrieval으로 검색했습니다.\n",
      "쿼리 임베딩이 생성되고 정규화되었습니다.\n",
      "쿼리에 대한 상위 20개 문서를 Dense Retrieval으로 검색했습니다.\n",
      "쿼리 임베딩이 생성되고 정규화되었습니다.\n",
      "쿼리에 대한 상위 20개 문서를 Dense Retrieval으로 검색했습니다.\n",
      "쿼리 임베딩이 생성되고 정규화되었습니다.\n",
      "쿼리에 대한 상위 20개 문서를 Dense Retrieval으로 검색했습니다.\n",
      "쿼리 임베딩이 생성되고 정규화되었습니다.\n",
      "쿼리에 대한 상위 20개 문서를 Dense Retrieval으로 검색했습니다.\n",
      "쿼리 임베딩이 생성되고 정규화되었습니다.\n",
      "쿼리에 대한 상위 20개 문서를 Dense Retrieval으로 검색했습니다.\n",
      "쿼리 임베딩이 생성되고 정규화되었습니다.\n",
      "쿼리에 대한 상위 20개 문서를 Dense Retrieval으로 검색했습니다.\n"
     ]
    },
    {
     "name": "stderr",
     "output_type": "stream",
     "text": [
      "Dense Retrieval:  98%|█████████▊| 588/600 [00:14<00:00, 37.99it/s]"
     ]
    },
    {
     "name": "stdout",
     "output_type": "stream",
     "text": [
      "쿼리 임베딩이 생성되고 정규화되었습니다.\n",
      "쿼리에 대한 상위 20개 문서를 Dense Retrieval으로 검색했습니다.\n",
      "쿼리 임베딩이 생성되고 정규화되었습니다.\n"
     ]
    },
    {
     "name": "stderr",
     "output_type": "stream",
     "text": [
      "Dense Retrieval:  99%|█████████▊| 592/600 [00:14<00:00, 36.02it/s]"
     ]
    },
    {
     "name": "stdout",
     "output_type": "stream",
     "text": [
      "쿼리에 대한 상위 20개 문서를 Dense Retrieval으로 검색했습니다.\n",
      "쿼리 임베딩이 생성되고 정규화되었습니다.\n",
      "쿼리에 대한 상위 20개 문서를 Dense Retrieval으로 검색했습니다.\n",
      "쿼리 임베딩이 생성되고 정규화되었습니다.\n",
      "쿼리에 대한 상위 20개 문서를 Dense Retrieval으로 검색했습니다.\n",
      "쿼리 임베딩이 생성되고 정규화되었습니다.\n",
      "쿼리에 대한 상위 20개 문서를 Dense Retrieval으로 검색했습니다.\n",
      "쿼리 임베딩이 생성되고 정규화되었습니다.\n",
      "쿼리에 대한 상위 20개 문서를 Dense Retrieval으로 검색했습니다.\n",
      "쿼리 임베딩이 생성되고 정규화되었습니다.\n",
      "쿼리에 대한 상위 20개 문서를 Dense Retrieval으로 검색했습니다.\n",
      "쿼리 임베딩이 생성되고 정규화되었습니다.\n",
      "쿼리에 대한 상위 20개 문서를 Dense Retrieval으로 검색했습니다.\n"
     ]
    },
    {
     "name": "stderr",
     "output_type": "stream",
     "text": [
      "Dense Retrieval:  99%|█████████▉| 596/600 [00:14<00:00, 36.98it/s]"
     ]
    },
    {
     "name": "stdout",
     "output_type": "stream",
     "text": [
      "쿼리 임베딩이 생성되고 정규화되었습니다.\n",
      "쿼리에 대한 상위 20개 문서를 Dense Retrieval으로 검색했습니다.\n"
     ]
    },
    {
     "name": "stderr",
     "output_type": "stream",
     "text": [
      "Dense Retrieval: 100%|██████████| 600/600 [00:14<00:00, 40.38it/s]\n"
     ]
    },
    {
     "name": "stdout",
     "output_type": "stream",
     "text": [
      "쿼리 임베딩이 생성되고 정규화되었습니다.\n",
      "쿼리에 대한 상위 20개 문서를 Dense Retrieval으로 검색했습니다.\n",
      "쿼리 임베딩이 생성되고 정규화되었습니다.\n",
      "쿼리에 대한 상위 20개 문서를 Dense Retrieval으로 검색했습니다.\n",
      "쿼리 임베딩이 생성되고 정규화되었습니다.\n",
      "쿼리에 대한 상위 20개 문서를 Dense Retrieval으로 검색했습니다.\n",
      "쿼리 임베딩이 생성되고 정규화되었습니다.\n",
      "쿼리에 대한 상위 20개 문서를 Dense Retrieval으로 검색했습니다.\n",
      "DataFrame columns: ['question', 'id', 'context']\n",
      "DatasetDict가 성공적으로 생성되었습니다.\n",
      "DatasetDict({\n",
      "    validation: Dataset({\n",
      "        features: ['context', 'id', 'question'],\n",
      "        num_rows: 600\n",
      "    })\n",
      "})\n"
     ]
    }
   ],
   "source": [
    "# Dense Retrieval을 위한 Dense.py 모듈 임포트\n",
    "import importlib\n",
    "import Dense  # Dense.py 파일이 동일한 디렉토리에 있다고 가정\n",
    "importlib.reload(Dense)\n",
    "\n",
    "# DenseRetrievalSearch 인스턴스 생성\n",
    "dense_retrieval = Dense.DenseRetrievalSearch(\n",
    "    model_class=Dense.DenseRetrievalModel,\n",
    "    model_path='/data/ephemeral/retrieval_result/dense_retrieval_model.pth',  # 모델 가중치 파일 경로\n",
    "    tokenizer_name='klue/bert-base',  # 사용한 토크나이저와 동일해야 함\n",
    "    embeddings_path='/data/ephemeral/retrieval_result/Dense_embedding.npy',  # 문서 임베딩 파일 경로\n",
    "    doc_ids_path='/data/ephemeral/retrieval_result/doc_ids.json',  # 문서 ID 파일 경로\n",
    "    contexts_path='/data/ephemeral/retrieval_result/contexts.json',  # 문서 내용 파일 경로\n",
    "    device='cuda' if torch.cuda.is_available() else 'cpu'\n",
    ")\n",
    "\n",
    "# Dense 임베딩 생성 및 저장/로드\n",
    "dense_retrieval.get_dense_embedding()  # 현재는 임베딩이 이미 로드되어 있다고 가정\n",
    "\n",
    "# 테스트 데이터셋 경로 설정\n",
    "test_data_route = '/data/ephemeral/data/test_dataset'  # 실제 테스트 데이터셋 경로로 수정\n",
    "\n",
    "# Dense Retrieval을 통해 검색하고 DatasetDict 생성\n",
    "result = dense_retrieval.search_and_create_dataset_dense(test_data_route=test_data_route, k=20)\n",
    "\n",
    "print(result)\n"
   ]
  },
  {
   "cell_type": "code",
   "execution_count": null,
   "metadata": {},
   "outputs": [],
   "source": []
  },
  {
   "cell_type": "code",
   "execution_count": 4,
   "metadata": {},
   "outputs": [
    {
     "name": "stderr",
     "output_type": "stream",
     "text": [
      "loading configuration file config.json from cache at /data/ephemeral/home/.cache/huggingface/hub/models--klue--bert-base/snapshots/77c8b3d707df785034b4e50f2da5d37be5f0f546/config.json\n",
      "Model config BertConfig {\n",
      "  \"_name_or_path\": \"klue/bert-base\",\n",
      "  \"architectures\": [\n",
      "    \"BertForMaskedLM\"\n",
      "  ],\n",
      "  \"attention_probs_dropout_prob\": 0.1,\n",
      "  \"classifier_dropout\": null,\n",
      "  \"hidden_act\": \"gelu\",\n",
      "  \"hidden_dropout_prob\": 0.1,\n",
      "  \"hidden_size\": 768,\n",
      "  \"initializer_range\": 0.02,\n",
      "  \"intermediate_size\": 3072,\n",
      "  \"layer_norm_eps\": 1e-12,\n",
      "  \"max_position_embeddings\": 512,\n",
      "  \"model_type\": \"bert\",\n",
      "  \"num_attention_heads\": 12,\n",
      "  \"num_hidden_layers\": 12,\n",
      "  \"pad_token_id\": 0,\n",
      "  \"position_embedding_type\": \"absolute\",\n",
      "  \"transformers_version\": \"4.24.0\",\n",
      "  \"type_vocab_size\": 2,\n",
      "  \"use_cache\": true,\n",
      "  \"vocab_size\": 32000\n",
      "}\n",
      "\n",
      "loading configuration file config.json from cache at /data/ephemeral/home/.cache/huggingface/hub/models--klue--bert-base/snapshots/77c8b3d707df785034b4e50f2da5d37be5f0f546/config.json\n",
      "Model config BertConfig {\n",
      "  \"_name_or_path\": \"klue/bert-base\",\n",
      "  \"architectures\": [\n",
      "    \"BertForMaskedLM\"\n",
      "  ],\n",
      "  \"attention_probs_dropout_prob\": 0.1,\n",
      "  \"classifier_dropout\": null,\n",
      "  \"hidden_act\": \"gelu\",\n",
      "  \"hidden_dropout_prob\": 0.1,\n",
      "  \"hidden_size\": 768,\n",
      "  \"initializer_range\": 0.02,\n",
      "  \"intermediate_size\": 3072,\n",
      "  \"layer_norm_eps\": 1e-12,\n",
      "  \"max_position_embeddings\": 512,\n",
      "  \"model_type\": \"bert\",\n",
      "  \"num_attention_heads\": 12,\n",
      "  \"num_hidden_layers\": 12,\n",
      "  \"pad_token_id\": 0,\n",
      "  \"position_embedding_type\": \"absolute\",\n",
      "  \"transformers_version\": \"4.24.0\",\n",
      "  \"type_vocab_size\": 2,\n",
      "  \"use_cache\": true,\n",
      "  \"vocab_size\": 32000\n",
      "}\n",
      "\n",
      "loading file vocab.txt from cache at /data/ephemeral/home/.cache/huggingface/hub/models--klue--bert-base/snapshots/77c8b3d707df785034b4e50f2da5d37be5f0f546/vocab.txt\n",
      "loading file tokenizer.json from cache at /data/ephemeral/home/.cache/huggingface/hub/models--klue--bert-base/snapshots/77c8b3d707df785034b4e50f2da5d37be5f0f546/tokenizer.json\n",
      "loading file added_tokens.json from cache at None\n",
      "loading file special_tokens_map.json from cache at /data/ephemeral/home/.cache/huggingface/hub/models--klue--bert-base/snapshots/77c8b3d707df785034b4e50f2da5d37be5f0f546/special_tokens_map.json\n",
      "loading file tokenizer_config.json from cache at /data/ephemeral/home/.cache/huggingface/hub/models--klue--bert-base/snapshots/77c8b3d707df785034b4e50f2da5d37be5f0f546/tokenizer_config.json\n",
      "loading configuration file config.json from cache at /data/ephemeral/home/.cache/huggingface/hub/models--klue--bert-base/snapshots/77c8b3d707df785034b4e50f2da5d37be5f0f546/config.json\n",
      "Model config BertConfig {\n",
      "  \"_name_or_path\": \"klue/bert-base\",\n",
      "  \"architectures\": [\n",
      "    \"BertForMaskedLM\"\n",
      "  ],\n",
      "  \"attention_probs_dropout_prob\": 0.1,\n",
      "  \"classifier_dropout\": null,\n",
      "  \"hidden_act\": \"gelu\",\n",
      "  \"hidden_dropout_prob\": 0.1,\n",
      "  \"hidden_size\": 768,\n",
      "  \"initializer_range\": 0.02,\n",
      "  \"intermediate_size\": 3072,\n",
      "  \"layer_norm_eps\": 1e-12,\n",
      "  \"max_position_embeddings\": 512,\n",
      "  \"model_type\": \"bert\",\n",
      "  \"num_attention_heads\": 12,\n",
      "  \"num_hidden_layers\": 12,\n",
      "  \"pad_token_id\": 0,\n",
      "  \"position_embedding_type\": \"absolute\",\n",
      "  \"transformers_version\": \"4.24.0\",\n",
      "  \"type_vocab_size\": 2,\n",
      "  \"use_cache\": true,\n",
      "  \"vocab_size\": 32000\n",
      "}\n",
      "\n",
      "loading weights file model.safetensors from cache at /data/ephemeral/home/.cache/huggingface/hub/models--klue--bert-base/snapshots/77c8b3d707df785034b4e50f2da5d37be5f0f546/model.safetensors\n",
      "Some weights of the model checkpoint at klue/bert-base were not used when initializing BertForQuestionAnswering: ['cls.seq_relationship.bias', 'cls.predictions.transform.LayerNorm.weight', 'cls.seq_relationship.weight', 'cls.predictions.transform.dense.weight', 'cls.predictions.bias', 'cls.predictions.transform.dense.bias', 'cls.predictions.transform.LayerNorm.bias']\n",
      "- This IS expected if you are initializing BertForQuestionAnswering from the checkpoint of a model trained on another task or with another architecture (e.g. initializing a BertForSequenceClassification model from a BertForPreTraining model).\n",
      "- This IS NOT expected if you are initializing BertForQuestionAnswering from the checkpoint of a model that you expect to be exactly identical (initializing a BertForSequenceClassification model from a BertForSequenceClassification model).\n",
      "Some weights of BertForQuestionAnswering were not initialized from the model checkpoint at klue/bert-base and are newly initialized: ['qa_outputs.bias', 'qa_outputs.weight']\n",
      "You should probably TRAIN this model on a down-stream task to be able to use it for predictions and inference.\n",
      "loading configuration file config.json from cache at /data/ephemeral/home/.cache/huggingface/hub/models--klue--bert-base/snapshots/77c8b3d707df785034b4e50f2da5d37be5f0f546/config.json\n",
      "Model config BertConfig {\n",
      "  \"_name_or_path\": \"klue/bert-base\",\n",
      "  \"architectures\": [\n",
      "    \"BertForMaskedLM\"\n",
      "  ],\n",
      "  \"attention_probs_dropout_prob\": 0.1,\n",
      "  \"classifier_dropout\": null,\n",
      "  \"hidden_act\": \"gelu\",\n",
      "  \"hidden_dropout_prob\": 0.1,\n",
      "  \"hidden_size\": 768,\n",
      "  \"initializer_range\": 0.02,\n",
      "  \"intermediate_size\": 3072,\n",
      "  \"layer_norm_eps\": 1e-12,\n",
      "  \"max_position_embeddings\": 512,\n",
      "  \"model_type\": \"bert\",\n",
      "  \"num_attention_heads\": 12,\n",
      "  \"num_hidden_layers\": 12,\n",
      "  \"pad_token_id\": 0,\n",
      "  \"position_embedding_type\": \"absolute\",\n",
      "  \"transformers_version\": \"4.24.0\",\n",
      "  \"type_vocab_size\": 2,\n",
      "  \"use_cache\": true,\n",
      "  \"vocab_size\": 32000\n",
      "}\n",
      "\n",
      "loading file vocab.txt from cache at /data/ephemeral/home/.cache/huggingface/hub/models--klue--bert-base/snapshots/77c8b3d707df785034b4e50f2da5d37be5f0f546/vocab.txt\n",
      "loading file tokenizer.json from cache at /data/ephemeral/home/.cache/huggingface/hub/models--klue--bert-base/snapshots/77c8b3d707df785034b4e50f2da5d37be5f0f546/tokenizer.json\n",
      "loading file added_tokens.json from cache at None\n",
      "loading file special_tokens_map.json from cache at /data/ephemeral/home/.cache/huggingface/hub/models--klue--bert-base/snapshots/77c8b3d707df785034b4e50f2da5d37be5f0f546/special_tokens_map.json\n",
      "loading file tokenizer_config.json from cache at /data/ephemeral/home/.cache/huggingface/hub/models--klue--bert-base/snapshots/77c8b3d707df785034b4e50f2da5d37be5f0f546/tokenizer_config.json\n",
      "loading configuration file config.json from cache at /data/ephemeral/home/.cache/huggingface/hub/models--klue--bert-base/snapshots/77c8b3d707df785034b4e50f2da5d37be5f0f546/config.json\n",
      "Model config BertConfig {\n",
      "  \"_name_or_path\": \"klue/bert-base\",\n",
      "  \"architectures\": [\n",
      "    \"BertForMaskedLM\"\n",
      "  ],\n",
      "  \"attention_probs_dropout_prob\": 0.1,\n",
      "  \"classifier_dropout\": null,\n",
      "  \"hidden_act\": \"gelu\",\n",
      "  \"hidden_dropout_prob\": 0.1,\n",
      "  \"hidden_size\": 768,\n",
      "  \"initializer_range\": 0.02,\n",
      "  \"intermediate_size\": 3072,\n",
      "  \"layer_norm_eps\": 1e-12,\n",
      "  \"max_position_embeddings\": 512,\n",
      "  \"model_type\": \"bert\",\n",
      "  \"num_attention_heads\": 12,\n",
      "  \"num_hidden_layers\": 12,\n",
      "  \"pad_token_id\": 0,\n",
      "  \"position_embedding_type\": \"absolute\",\n",
      "  \"transformers_version\": \"4.24.0\",\n",
      "  \"type_vocab_size\": 2,\n",
      "  \"use_cache\": true,\n",
      "  \"vocab_size\": 32000\n",
      "}\n",
      "\n"
     ]
    },
    {
     "data": {
      "text/html": [
       "Finishing last run (ID:vvmqwsl4) before initializing another..."
      ],
      "text/plain": [
       "<IPython.core.display.HTML object>"
      ]
     },
     "metadata": {},
     "output_type": "display_data"
    },
    {
     "data": {
      "text/html": [
       " View run <strong style=\"color:#cdcd00\">fanciful-salad-20</strong> at: <a href='https://wandb.ai/so03892004-student/Dense_embedding_retrieval/runs/vvmqwsl4' target=\"_blank\">https://wandb.ai/so03892004-student/Dense_embedding_retrieval/runs/vvmqwsl4</a><br/> View project at: <a href='https://wandb.ai/so03892004-student/Dense_embedding_retrieval' target=\"_blank\">https://wandb.ai/so03892004-student/Dense_embedding_retrieval</a><br/>Synced 5 W&B file(s), 0 media file(s), 2 artifact file(s) and 0 other file(s)"
      ],
      "text/plain": [
       "<IPython.core.display.HTML object>"
      ]
     },
     "metadata": {},
     "output_type": "display_data"
    },
    {
     "data": {
      "text/html": [
       "Find logs at: <code>./wandb/run-20241016_075103-vvmqwsl4/logs</code>"
      ],
      "text/plain": [
       "<IPython.core.display.HTML object>"
      ]
     },
     "metadata": {},
     "output_type": "display_data"
    },
    {
     "data": {
      "text/html": [
       "Successfully finished last run (ID:vvmqwsl4). Initializing new run:<br/>"
      ],
      "text/plain": [
       "<IPython.core.display.HTML object>"
      ]
     },
     "metadata": {},
     "output_type": "display_data"
    },
    {
     "data": {
      "text/html": [
       "Tracking run with wandb version 0.18.3"
      ],
      "text/plain": [
       "<IPython.core.display.HTML object>"
      ]
     },
     "metadata": {},
     "output_type": "display_data"
    },
    {
     "data": {
      "text/html": [
       "Run data is saved locally in <code>/data/ephemeral/Jung/level2-mrc-nlp-10/Template/wandb/run-20241016_075210-qyolqpvd</code>"
      ],
      "text/plain": [
       "<IPython.core.display.HTML object>"
      ]
     },
     "metadata": {},
     "output_type": "display_data"
    },
    {
     "data": {
      "text/html": [
       "Syncing run <strong><a href='https://wandb.ai/so03892004-student/Dense_embedding_retrieval/runs/qyolqpvd' target=\"_blank\">woven-dream-21</a></strong> to <a href='https://wandb.ai/so03892004-student/Dense_embedding_retrieval' target=\"_blank\">Weights & Biases</a> (<a href='https://wandb.me/run' target=\"_blank\">docs</a>)<br/>"
      ],
      "text/plain": [
       "<IPython.core.display.HTML object>"
      ]
     },
     "metadata": {},
     "output_type": "display_data"
    },
    {
     "data": {
      "text/html": [
       " View project at <a href='https://wandb.ai/so03892004-student/Dense_embedding_retrieval' target=\"_blank\">https://wandb.ai/so03892004-student/Dense_embedding_retrieval</a>"
      ],
      "text/plain": [
       "<IPython.core.display.HTML object>"
      ]
     },
     "metadata": {},
     "output_type": "display_data"
    },
    {
     "data": {
      "text/html": [
       " View run at <a href='https://wandb.ai/so03892004-student/Dense_embedding_retrieval/runs/qyolqpvd' target=\"_blank\">https://wandb.ai/so03892004-student/Dense_embedding_retrieval/runs/qyolqpvd</a>"
      ],
      "text/plain": [
       "<IPython.core.display.HTML object>"
      ]
     },
     "metadata": {},
     "output_type": "display_data"
    },
    {
     "name": "stderr",
     "output_type": "stream",
     "text": [
      "PyTorch: setting up devices\n",
      "Map: 100%|██████████| 3952/3952 [00:13<00:00, 299.06 examples/s]\n"
     ]
    },
    {
     "name": "stdout",
     "output_type": "stream",
     "text": [
      "train_dataset을 넣지 않아 기존에 주어진 train dataset으로 학습합니다.\n"
     ]
    },
    {
     "name": "stderr",
     "output_type": "stream",
     "text": [
      "Map: 100%|██████████| 240/240 [00:01<00:00, 238.51 examples/s]\n",
      "***** Running training *****\n",
      "  Num examples = 7978\n",
      "  Num Epochs = 2\n",
      "  Instantaneous batch size per device = 8\n",
      "  Total train batch size (w. parallel, distributed & accumulation) = 8\n",
      "  Gradient Accumulation steps = 1\n",
      "  Total optimization steps = 1996\n",
      "  Number of trainable parameters = 110028290\n",
      "Automatic Weights & Biases logging enabled, to disable set os.environ[\"WANDB_DISABLED\"] = \"true\"\n",
      "You're using a BertTokenizerFast tokenizer. Please note that with a fast tokenizer, using the `__call__` method is faster than using a method to encode the text followed by a call to the `pad` method to get a padded encoding.\n"
     ]
    },
    {
     "name": "stdout",
     "output_type": "stream",
     "text": [
      "eval_dataset을 넣지 않아 기존에 주어진 eval_dataset으로 평가합니다.\n"
     ]
    },
    {
     "data": {
      "text/html": [
       "\n",
       "    <div>\n",
       "      \n",
       "      <progress value='1996' max='1996' style='width:300px; height:20px; vertical-align: middle;'></progress>\n",
       "      [1996/1996 07:02, Epoch 2/2]\n",
       "    </div>\n",
       "    <table border=\"1\" class=\"dataframe\">\n",
       "  <thead>\n",
       " <tr style=\"text-align: left;\">\n",
       "      <th>Epoch</th>\n",
       "      <th>Training Loss</th>\n",
       "      <th>Validation Loss</th>\n",
       "      <th>Match</th>\n",
       "      <th></th>\n",
       "    </tr>\n",
       "  </thead>\n",
       "  <tbody>\n",
       "    <tr>\n",
       "      <td>1</td>\n",
       "      <td>1.374200</td>\n",
       "      <td>0.976891</td>\n",
       "      <td>55.833333</td>\n",
       "      <td>66.431764</td>\n",
       "    </tr>\n",
       "    <tr>\n",
       "      <td>2</td>\n",
       "      <td>0.455400</td>\n",
       "      <td>1.184575</td>\n",
       "      <td>54.583333</td>\n",
       "      <td>65.756764</td>\n",
       "    </tr>\n",
       "  </tbody>\n",
       "</table><p>"
      ],
      "text/plain": [
       "<IPython.core.display.HTML object>"
      ]
     },
     "metadata": {},
     "output_type": "display_data"
    },
    {
     "name": "stderr",
     "output_type": "stream",
     "text": [
      "The following columns in the evaluation set don't have a corresponding argument in `BertForQuestionAnswering.forward` and have been ignored: example_id, offset_mapping. If example_id, offset_mapping are not expected by `BertForQuestionAnswering.forward`,  you can safely ignore this message.\n",
      "***** Running Evaluation *****\n",
      "  Num examples = 474\n",
      "  Batch size = 8\n",
      "100%|██████████| 240/240 [00:01<00:00, 121.75it/s]\n"
     ]
    },
    {
     "name": "stdout",
     "output_type": "stream",
     "text": [
      "Dataset({\n",
      "    features: ['title', 'context', 'question', 'id', 'answers', 'document_id', '__index_level_0__'],\n",
      "    num_rows: 240\n",
      "})\n"
     ]
    },
    {
     "name": "stderr",
     "output_type": "stream",
     "text": [
      "Saving model checkpoint to /data/ephemeral/home/practice/Template/Extraction_based_MRC_outputsbert-base/checkpoint-998\n",
      "Configuration saved in /data/ephemeral/home/practice/Template/Extraction_based_MRC_outputsbert-base/checkpoint-998/config.json\n",
      "Model weights saved in /data/ephemeral/home/practice/Template/Extraction_based_MRC_outputsbert-base/checkpoint-998/pytorch_model.bin\n",
      "tokenizer config file saved in /data/ephemeral/home/practice/Template/Extraction_based_MRC_outputsbert-base/checkpoint-998/tokenizer_config.json\n",
      "Special tokens file saved in /data/ephemeral/home/practice/Template/Extraction_based_MRC_outputsbert-base/checkpoint-998/special_tokens_map.json\n",
      "The following columns in the evaluation set don't have a corresponding argument in `BertForQuestionAnswering.forward` and have been ignored: example_id, offset_mapping. If example_id, offset_mapping are not expected by `BertForQuestionAnswering.forward`,  you can safely ignore this message.\n",
      "***** Running Evaluation *****\n",
      "  Num examples = 474\n",
      "  Batch size = 8\n",
      "100%|██████████| 240/240 [00:01<00:00, 121.71it/s]\n"
     ]
    },
    {
     "name": "stdout",
     "output_type": "stream",
     "text": [
      "Dataset({\n",
      "    features: ['title', 'context', 'question', 'id', 'answers', 'document_id', '__index_level_0__'],\n",
      "    num_rows: 240\n",
      "})\n"
     ]
    },
    {
     "name": "stderr",
     "output_type": "stream",
     "text": [
      "Saving model checkpoint to /data/ephemeral/home/practice/Template/Extraction_based_MRC_outputsbert-base/checkpoint-1996\n",
      "Configuration saved in /data/ephemeral/home/practice/Template/Extraction_based_MRC_outputsbert-base/checkpoint-1996/config.json\n",
      "Model weights saved in /data/ephemeral/home/practice/Template/Extraction_based_MRC_outputsbert-base/checkpoint-1996/pytorch_model.bin\n",
      "tokenizer config file saved in /data/ephemeral/home/practice/Template/Extraction_based_MRC_outputsbert-base/checkpoint-1996/tokenizer_config.json\n",
      "Special tokens file saved in /data/ephemeral/home/practice/Template/Extraction_based_MRC_outputsbert-base/checkpoint-1996/special_tokens_map.json\n",
      "\n",
      "\n",
      "Training completed. Do not forget to share your model on huggingface.co/models =)\n",
      "\n",
      "\n",
      "Loading best model from /data/ephemeral/home/practice/Template/Extraction_based_MRC_outputsbert-base/checkpoint-998 (score: 0.9768912196159363).\n",
      "Map: 100%|██████████| 600/600 [00:03<00:00, 166.23 examples/s]\n",
      "The following columns in the test set don't have a corresponding argument in `BertForQuestionAnswering.forward` and have been ignored: example_id, offset_mapping. If example_id, offset_mapping are not expected by `BertForQuestionAnswering.forward`,  you can safely ignore this message.\n",
      "***** Running Evaluation *****\n",
      "  Num examples = 4597\n",
      "  Batch size = 8\n"
     ]
    },
    {
     "data": {
      "text/html": [
       "\n",
       "    <div>\n",
       "      \n",
       "      <progress value='575' max='575' style='width:300px; height:20px; vertical-align: middle;'></progress>\n",
       "      [575/575 00:31]\n",
       "    </div>\n",
       "    "
      ],
      "text/plain": [
       "<IPython.core.display.HTML object>"
      ]
     },
     "metadata": {},
     "output_type": "display_data"
    },
    {
     "name": "stdout",
     "output_type": "stream",
     "text": [
      "post_process_function을 실행합니다.\n"
     ]
    },
    {
     "name": "stderr",
     "output_type": "stream",
     "text": [
      "100%|██████████| 600/600 [00:18<00:00, 31.58it/s]\n"
     ]
    },
    {
     "name": "stdout",
     "output_type": "stream",
     "text": [
      "Dataset({\n",
      "    features: ['context', 'id', 'question', 'answers'],\n",
      "    num_rows: 600\n",
      "})\n",
      "output을 id : answers 형태의 json파일로 내보냅니다. 결과는 model.extraction_mrc_results로 확인할 수 있습니다.\n"
     ]
    },
    {
     "data": {
      "text/plain": [
       "\"inference는 반드시\\nDatasetDict({\\n    validation: Dataset({\\n        features: ['context', 'id', 'question'],\\n        num_rows: 600\\n    })\\n}) 의 형태를 따라야 합니다.\\n\""
      ]
     },
     "execution_count": 4,
     "metadata": {},
     "output_type": "execute_result"
    }
   ],
   "source": [
    "from MRC import Extraction_based_MRC\n",
    "model = Extraction_based_MRC()\n",
    "model.train() #model.train()은 기존에 주어진 데이터셋을 활용하여 훈련합니다. model.train(train_dataset, eval_dataset)으로 본인이 직접 지정한 데이터를 훈련할 수도 있습니다.\n",
    "# 이때, train 데이터셋의 형태는 load_from_disk(기존에 주어진 데이터경로)['train'], eval 데이터셋의 형태는 load_from_disk(기존에 주어진 데이터경로)['validation']의 형태여야 합니다.\n",
    "# 모델은 Extraction_based_MRC_outputs + model_name의 폴더로 저장됩니다.\n",
    "# 모델은 학습이 끝나면 가장 낮은 validaiton loss를 기준으로 저장됩니다.\n",
    "model.inference(result)\n",
    "# retrieval을 통해 얻어낸 결과를 predict_reuslt에 json파일 형태로 저장합니다.\n",
    "\"\"\"inference는 반드시\n",
    "DatasetDict({\n",
    "    validation: Dataset({\n",
    "        features: ['context', 'id', 'question'],\n",
    "        num_rows: 600\n",
    "    })\n",
    "}) 의 형태를 따라야 합니다.\n",
    "\"\"\"\n"
   ]
  },
  {
   "cell_type": "code",
   "execution_count": 6,
   "metadata": {},
   "outputs": [
    {
     "name": "stderr",
     "output_type": "stream",
     "text": [
      "[nltk_data] Downloading package punkt to\n",
      "[nltk_data]     /data/ephemeral/home/nltk_data...\n",
      "[nltk_data]   Package punkt is already up-to-date!\n",
      "Some weights of the model checkpoint at klue/bert-base were not used when initializing BertForQuestionAnswering: ['cls.predictions.transform.LayerNorm.weight', 'cls.seq_relationship.weight', 'cls.predictions.transform.dense.bias', 'cls.predictions.bias', 'cls.seq_relationship.bias', 'cls.predictions.transform.LayerNorm.bias', 'cls.predictions.transform.dense.weight']\n",
      "- This IS expected if you are initializing BertForQuestionAnswering from the checkpoint of a model trained on another task or with another architecture (e.g. initializing a BertForSequenceClassification model from a BertForPreTraining model).\n",
      "- This IS NOT expected if you are initializing BertForQuestionAnswering from the checkpoint of a model that you expect to be exactly identical (initializing a BertForSequenceClassification model from a BertForSequenceClassification model).\n",
      "Some weights of BertForQuestionAnswering were not initialized from the model checkpoint at klue/bert-base and are newly initialized: ['qa_outputs.bias', 'qa_outputs.weight']\n",
      "You should probably TRAIN this model on a down-stream task to be able to use it for predictions and inference.\n",
      "\u001b[34m\u001b[1mwandb\u001b[0m: Using wandb-core as the SDK backend. Please refer to https://wandb.me/wandb-core for more information.\n",
      "\u001b[34m\u001b[1mwandb\u001b[0m: W&B API key is configured. Use \u001b[1m`wandb login --relogin`\u001b[0m to force relogin\n"
     ]
    },
    {
     "data": {
      "text/html": [
       "Tracking run with wandb version 0.18.3"
      ],
      "text/plain": [
       "<IPython.core.display.HTML object>"
      ]
     },
     "metadata": {},
     "output_type": "display_data"
    },
    {
     "data": {
      "text/html": [
       "Run data is saved locally in <code>/data/ephemeral/Jung/level2-mrc-nlp-10/Template/wandb/run-20241017_023346-j71ezu9e</code>"
      ],
      "text/plain": [
       "<IPython.core.display.HTML object>"
      ]
     },
     "metadata": {},
     "output_type": "display_data"
    },
    {
     "data": {
      "text/html": [
       "Syncing run <strong><a href='https://wandb.ai/so03892004-student/Dense_embedding_retrieval/runs/j71ezu9e' target=\"_blank\">valiant-bush-27</a></strong> to <a href='https://wandb.ai/so03892004-student/Dense_embedding_retrieval' target=\"_blank\">Weights & Biases</a> (<a href='https://wandb.me/run' target=\"_blank\">docs</a>)<br/>"
      ],
      "text/plain": [
       "<IPython.core.display.HTML object>"
      ]
     },
     "metadata": {},
     "output_type": "display_data"
    },
    {
     "data": {
      "text/html": [
       " View project at <a href='https://wandb.ai/so03892004-student/Dense_embedding_retrieval' target=\"_blank\">https://wandb.ai/so03892004-student/Dense_embedding_retrieval</a>"
      ],
      "text/plain": [
       "<IPython.core.display.HTML object>"
      ]
     },
     "metadata": {},
     "output_type": "display_data"
    },
    {
     "data": {
      "text/html": [
       " View run at <a href='https://wandb.ai/so03892004-student/Dense_embedding_retrieval/runs/j71ezu9e' target=\"_blank\">https://wandb.ai/so03892004-student/Dense_embedding_retrieval/runs/j71ezu9e</a>"
      ],
      "text/plain": [
       "<IPython.core.display.HTML object>"
      ]
     },
     "metadata": {},
     "output_type": "display_data"
    },
    {
     "name": "stdout",
     "output_type": "stream",
     "text": [
      "제일 마지막 checkpoint : /data/ephemeral/home/practice/Template/Extraction_based_MRC_outputsbert-base/checkpoint-998/trainer_state.json\n",
      "best checkpoint : /data/ephemeral/home/practice/Template/Extraction_based_MRC_outputsbert-base/checkpoint-998\n",
      "bestmodel 체크포인트로 모델과 Trainer가 로드되었습니다.\n"
     ]
    },
    {
     "name": "stderr",
     "output_type": "stream",
     "text": [
      "Map: 100%|██████████| 600/600 [00:16<00:00, 36.71 examples/s]\n",
      "The following columns in the test set don't have a corresponding argument in `BertForQuestionAnswering.forward` and have been ignored: offset_mapping, example_id. If offset_mapping, example_id are not expected by `BertForQuestionAnswering.forward`,  you can safely ignore this message.\n",
      "***** Running Evaluation *****\n",
      "  Num examples = 19936\n",
      "  Batch size = 8\n"
     ]
    },
    {
     "data": {
      "text/html": [
       "\n",
       "    <div>\n",
       "      \n",
       "      <progress value='2492' max='2492' style='width:300px; height:20px; vertical-align: middle;'></progress>\n",
       "      [2492/2492 02:18]\n",
       "    </div>\n",
       "    "
      ],
      "text/plain": [
       "<IPython.core.display.HTML object>"
      ]
     },
     "metadata": {},
     "output_type": "display_data"
    },
    {
     "name": "stdout",
     "output_type": "stream",
     "text": [
      "post_process_function을 실행합니다.\n"
     ]
    },
    {
     "name": "stderr",
     "output_type": "stream",
     "text": [
      "100%|██████████| 600/600 [01:34<00:00,  6.34it/s]\n"
     ]
    },
    {
     "name": "stdout",
     "output_type": "stream",
     "text": [
      "Dataset({\n",
      "    features: ['context', 'id', 'question'],\n",
      "    num_rows: 600\n",
      "})\n",
      "output을 id : answers 형태의 json파일로 내보냅니다. 결과는 model.extraction_mrc_results로 확인할 수 있습니다.\n"
     ]
    }
   ],
   "source": [
    "from MRC import Extraction_based_MRC\n",
    "model = Extraction_based_MRC()\n",
    "model.load_model() # 체크포인트의 제일 마지막 폴더를 따라가서 trainer_state.json을 열고 거기서 best_model_checkpoint의 경로를 통해 모델을 불러옵니다.\n",
    "model.inference(result)\n",
    "# 불러온 모델은 inference할 수 있습니다."
   ]
  },
  {
   "cell_type": "code",
   "execution_count": null,
   "metadata": {},
   "outputs": [],
   "source": [
    "import All_dataset\n",
    "from arguments import Extraction_based_MRC_arguments, Dense_search_retrieval_arguments, Generation_based_MRC_arguments\n",
    "datas = All_dataset.prepare_dataset(Extraction_based_MRC_arguments)\n",
    "train = datas.get_mrc_train_dataset()\n",
    "eval = datas.get_mrc_eval_dataset()\n",
    "# test =  datas.get_mrc_test_dataset(리트리버결과)\n",
    "print(train)\n",
    "print(eval)"
   ]
  }
 ],
 "metadata": {
  "kernelspec": {
   "display_name": "base",
   "language": "python",
   "name": "python3"
  },
  "language_info": {
   "codemirror_mode": {
    "name": "ipython",
    "version": 3
   },
   "file_extension": ".py",
   "mimetype": "text/x-python",
   "name": "python",
   "nbconvert_exporter": "python",
   "pygments_lexer": "ipython3",
   "version": "3.10.13"
  }
 },
 "nbformat": 4,
 "nbformat_minor": 2
}
