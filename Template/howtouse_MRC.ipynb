{
 "cells": [
  {
   "cell_type": "code",
   "execution_count": 2,
   "metadata": {},
   "outputs": [
    {
     "name": "stderr",
     "output_type": "stream",
     "text": [
      "/opt/conda/lib/python3.10/site-packages/tqdm/auto.py:21: TqdmWarning: IProgress not found. Please update jupyter and ipywidgets. See https://ipywidgets.readthedocs.io/en/stable/user_install.html\n",
      "  from .autonotebook import tqdm as notebook_tqdm\n"
     ]
    }
   ],
   "source": [
    "import retrieval\n"
   ]
  },
  {
   "cell_type": "code",
   "execution_count": 3,
   "metadata": {},
   "outputs": [
    {
     "name": "stderr",
     "output_type": "stream",
     "text": [
      "/opt/conda/lib/python3.10/site-packages/huggingface_hub/file_download.py:1142: FutureWarning: `resume_download` is deprecated and will be removed in version 1.0.0. Downloads always resume when possible. If you want to force a new download, use `force_download=True`.\n",
      "  warnings.warn(\n"
     ]
    },
    {
     "name": "stdout",
     "output_type": "stream",
     "text": [
      "56737\n",
      "tfidf를 로드했습니다.\n",
      "Faiss Indexer을 로드했습니다.\n"
     ]
    },
    {
     "name": "stderr",
     "output_type": "stream",
     "text": [
      "Sparse retrieval: 100%|██████████| 600/600 [00:00<00:00, 21784.07it/s]\n"
     ]
    },
    {
     "name": "stdout",
     "output_type": "stream",
     "text": [
      "쿼리당 20개의 문서를 faiss indexer을 통해 찾습니다.\n"
     ]
    },
    {
     "name": "stderr",
     "output_type": "stream",
     "text": [
      "Sparse retrieval: 100%|██████████| 600/600 [00:00<00:00, 24249.20it/s]\n"
     ]
    },
    {
     "data": {
      "text/plain": [
       "DatasetDict({\n",
       "    validation: Dataset({\n",
       "        features: ['context', 'id', 'question'],\n",
       "        num_rows: 600\n",
       "    })\n",
       "})"
      ]
     },
     "execution_count": 3,
     "metadata": {},
     "output_type": "execute_result"
    }
   ],
   "source": [
    "tfidf = retrieval.TF_IDFSearch() # 리트리버 정의\n",
    "tfidf.get_sparse_embedding() # 위키 기반의 tfidfvectorizer을 만들고 passge_embedding을 만듭니다.\n",
    "tfidf.build_faiss() # faiss를 통해 빠른 서치가 가능하도록 faiss index를 만듭니다.\n",
    "result = tfidf.search_query() # faiss를 사용하지 않고 tfidf를 통해 test dataset의 질문과 관련된 문서를 찾습니다.\n",
    "result2 = tfidf.search_query_faiss() # faiss를 사용하여 tfidf를 통해 test dataset의 질문과 관련된 문서를 찾습니다.\n",
    "result # result와 result2 는 같은 모양새로 반환됩니다."
   ]
  },
  {
   "cell_type": "code",
   "execution_count": 3,
   "metadata": {},
   "outputs": [
    {
     "name": "stderr",
     "output_type": "stream",
     "text": [
      "[nltk_data] Downloading package punkt to\n",
      "[nltk_data]     /data/ephemeral/home/nltk_data...\n",
      "[nltk_data]   Package punkt is already up-to-date!\n",
      "Some weights of the model checkpoint at klue/roberta-large were not used when initializing RobertaModel: ['lm_head.layer_norm.bias', 'lm_head.bias', 'lm_head.layer_norm.weight', 'lm_head.dense.bias', 'lm_head.dense.weight']\n",
      "- This IS expected if you are initializing RobertaModel from the checkpoint of a model trained on another task or with another architecture (e.g. initializing a BertForSequenceClassification model from a BertForPreTraining model).\n",
      "- This IS NOT expected if you are initializing RobertaModel from the checkpoint of a model that you expect to be exactly identical (initializing a BertForSequenceClassification model from a BertForSequenceClassification model).\n",
      "Some weights of RobertaModel were not initialized from the model checkpoint at klue/roberta-large and are newly initialized: ['roberta.pooler.dense.bias', 'roberta.pooler.dense.weight']\n",
      "You should probably TRAIN this model on a down-stream task to be able to use it for predictions and inference.\n",
      "\u001b[34m\u001b[1mwandb\u001b[0m: Using wandb-core as the SDK backend. Please refer to https://wandb.me/wandb-core for more information.\n",
      "\u001b[34m\u001b[1mwandb\u001b[0m: Currently logged in as: \u001b[33mkimybjg2\u001b[0m (\u001b[33mkimybjg2-boostcampaitech\u001b[0m). Use \u001b[1m`wandb login --relogin`\u001b[0m to force relogin\n"
     ]
    },
    {
     "data": {
      "text/html": [
       "Tracking run with wandb version 0.18.3"
      ],
      "text/plain": [
       "<IPython.core.display.HTML object>"
      ]
     },
     "metadata": {},
     "output_type": "display_data"
    },
    {
     "data": {
      "text/html": [
       "Run data is saved locally in <code>/data/ephemeral/Jung/level2-mrc-nlp-10/Template/wandb/run-20241023_093254-r3a8s4dt</code>"
      ],
      "text/plain": [
       "<IPython.core.display.HTML object>"
      ]
     },
     "metadata": {},
     "output_type": "display_data"
    },
    {
     "data": {
      "text/html": [
       "Syncing run <strong><a href='https://wandb.ai/kimybjg2-boostcampaitech/Dense_embedding_retrieval/runs/r3a8s4dt' target=\"_blank\">decent-oath-857</a></strong> to <a href='https://wandb.ai/kimybjg2-boostcampaitech/Dense_embedding_retrieval' target=\"_blank\">Weights & Biases</a> (<a href='https://wandb.me/run' target=\"_blank\">docs</a>)<br/>"
      ],
      "text/plain": [
       "<IPython.core.display.HTML object>"
      ]
     },
     "metadata": {},
     "output_type": "display_data"
    },
    {
     "data": {
      "text/html": [
       " View project at <a href='https://wandb.ai/kimybjg2-boostcampaitech/Dense_embedding_retrieval' target=\"_blank\">https://wandb.ai/kimybjg2-boostcampaitech/Dense_embedding_retrieval</a>"
      ],
      "text/plain": [
       "<IPython.core.display.HTML object>"
      ]
     },
     "metadata": {},
     "output_type": "display_data"
    },
    {
     "data": {
      "text/html": [
       " View run at <a href='https://wandb.ai/kimybjg2-boostcampaitech/Dense_embedding_retrieval/runs/r3a8s4dt' target=\"_blank\">https://wandb.ai/kimybjg2-boostcampaitech/Dense_embedding_retrieval/runs/r3a8s4dt</a>"
      ],
      "text/plain": [
       "<IPython.core.display.HTML object>"
      ]
     },
     "metadata": {},
     "output_type": "display_data"
    },
    {
     "name": "stderr",
     "output_type": "stream",
     "text": [
      "Using cuda_amp half precision backend\n",
      "***** Running training *****\n",
      "  Num examples = 3952\n",
      "  Num Epochs = 3\n",
      "  Instantaneous batch size per device = 8\n",
      "  Total train batch size (w. parallel, distributed & accumulation) = 16\n",
      "  Gradient Accumulation steps = 2\n",
      "  Total optimization steps = 741\n",
      "  Number of trainable parameters = 336656384\n",
      "Automatic Weights & Biases logging enabled, to disable set os.environ[\"WANDB_DISABLED\"] = \"true\"\n",
      "Could not estimate the number of tokens of the input, floating-point operations will not be computed\n"
     ]
    },
    {
     "data": {
      "text/html": [
       "\n",
       "    <div>\n",
       "      \n",
       "      <progress value='741' max='741' style='width:300px; height:20px; vertical-align: middle;'></progress>\n",
       "      [741/741 14:33, Epoch 3/3]\n",
       "    </div>\n",
       "    <table border=\"1\" class=\"dataframe\">\n",
       "  <thead>\n",
       " <tr style=\"text-align: left;\">\n",
       "      <th>Epoch</th>\n",
       "      <th>Training Loss</th>\n",
       "      <th>Validation Loss</th>\n",
       "      <th>Accuracy</th>\n",
       "      <th>F1</th>\n",
       "    </tr>\n",
       "  </thead>\n",
       "  <tbody>\n",
       "    <tr>\n",
       "      <td>1</td>\n",
       "      <td>0.230300</td>\n",
       "      <td>0.087784</td>\n",
       "      <td>0.966667</td>\n",
       "      <td>0.966488</td>\n",
       "    </tr>\n",
       "    <tr>\n",
       "      <td>2</td>\n",
       "      <td>0.095000</td>\n",
       "      <td>0.094672</td>\n",
       "      <td>0.970833</td>\n",
       "      <td>0.970819</td>\n",
       "    </tr>\n",
       "    <tr>\n",
       "      <td>3</td>\n",
       "      <td>0.017100</td>\n",
       "      <td>0.010370</td>\n",
       "      <td>1.000000</td>\n",
       "      <td>1.000000</td>\n",
       "    </tr>\n",
       "  </tbody>\n",
       "</table><p>"
      ],
      "text/plain": [
       "<IPython.core.display.HTML object>"
      ]
     },
     "metadata": {},
     "output_type": "display_data"
    },
    {
     "name": "stderr",
     "output_type": "stream",
     "text": [
      "***** Running Evaluation *****\n",
      "  Num examples = 240\n",
      "  Batch size = 8\n",
      "Saving model checkpoint to ./Dense_embedding_retrieval_model_results/checkpoint-247\n",
      "Configuration saved in ./Dense_embedding_retrieval_model_results/checkpoint-247/config.json\n",
      "Model weights saved in ./Dense_embedding_retrieval_model_results/checkpoint-247/pytorch_model.bin\n",
      "***** Running Evaluation *****\n",
      "  Num examples = 240\n",
      "  Batch size = 8\n",
      "Saving model checkpoint to ./Dense_embedding_retrieval_model_results/checkpoint-494\n",
      "Configuration saved in ./Dense_embedding_retrieval_model_results/checkpoint-494/config.json\n",
      "Model weights saved in ./Dense_embedding_retrieval_model_results/checkpoint-494/pytorch_model.bin\n",
      "***** Running Evaluation *****\n",
      "  Num examples = 240\n",
      "  Batch size = 8\n",
      "Saving model checkpoint to ./Dense_embedding_retrieval_model_results/checkpoint-741\n",
      "Configuration saved in ./Dense_embedding_retrieval_model_results/checkpoint-741/config.json\n",
      "Model weights saved in ./Dense_embedding_retrieval_model_results/checkpoint-741/pytorch_model.bin\n",
      "\n",
      "\n",
      "Training completed. Do not forget to share your model on huggingface.co/models =)\n",
      "\n",
      "\n",
      "Loading best model from ./Dense_embedding_retrieval_model_results/checkpoint-741 (score: 0.010369629599153996).\n"
     ]
    }
   ],
   "source": [
    "from retrieval import Dense_embedding_retrieval, BM25Search\n",
    "from MRC import Extraction_based_MRC\n",
    "\n",
    "# Dense Embedding 모델 학습 후 저장\n",
    "dense_retriever = Dense_embedding_retrieval()\n",
    "dense_retriever.get_trainer()\n",
    "dense_retriever.train()"
   ]
  },
  {
   "cell_type": "code",
   "execution_count": 4,
   "metadata": {},
   "outputs": [
    {
     "name": "stdout",
     "output_type": "stream",
     "text": [
      "Data route: /data/ephemeral/data/train_dataset\n",
      "Test data route: /data/ephemeral/data/test_dataset\n",
      "Wiki route: /data/ephemeral/data/wikipedia_documents.json\n",
      "Data path: ./bm25_retrieval_result\n"
     ]
    },
    {
     "name": "stderr",
     "output_type": "stream",
     "text": [
      "/opt/conda/lib/python3.10/site-packages/huggingface_hub/file_download.py:1142: FutureWarning: `resume_download` is deprecated and will be removed in version 1.0.0. Downloads always resume when possible. If you want to force a new download, use `force_download=True`.\n",
      "  warnings.warn(\n",
      "Token indices sequence length is longer than the specified maximum sequence length for this model (1131 > 512). Running this sequence through the model will result in indexing errors\n"
     ]
    },
    {
     "name": "stdout",
     "output_type": "stream",
     "text": [
      "File loaded successfully\n",
      "위키 컨텍스트의 수: 56737\n",
      "./bm25_retrieval_result 폴더가 없어서 만듭니다.\n",
      "Passage embedding을 만듭니다.\n",
      "임베딩을 피클 형태로 저장했습니다.\n"
     ]
    },
    {
     "name": "stderr",
     "output_type": "stream",
     "text": [
      "BM25 retrieval: 100%|██████████| 600/600 [00:00<00:00, 10526.51it/s]\n"
     ]
    }
   ],
   "source": [
    "# Dense Embedding 모델 학습 후 저장\n",
    "from retrieval import BM25Search\n",
    "bm25 = BM25Search()\n",
    "bm25.get_sparse_embedding()\n",
    "\n",
    "bm25_result = bm25.search_query_bm25()"
   ]
  },
  {
   "cell_type": "code",
   "execution_count": 5,
   "metadata": {},
   "outputs": [
    {
     "name": "stderr",
     "output_type": "stream",
     "text": [
      "[nltk_data] Downloading package punkt to\n",
      "[nltk_data]     /data/ephemeral/home/nltk_data...\n",
      "[nltk_data]   Package punkt is already up-to-date!\n",
      "Some weights of the model checkpoint at klue/roberta-large were not used when initializing RobertaModel: ['lm_head.dense.bias', 'lm_head.dense.weight', 'lm_head.layer_norm.weight', 'lm_head.layer_norm.bias', 'lm_head.bias']\n",
      "- This IS expected if you are initializing RobertaModel from the checkpoint of a model trained on another task or with another architecture (e.g. initializing a BertForSequenceClassification model from a BertForPreTraining model).\n",
      "- This IS NOT expected if you are initializing RobertaModel from the checkpoint of a model that you expect to be exactly identical (initializing a BertForSequenceClassification model from a BertForSequenceClassification model).\n",
      "Some weights of RobertaModel were not initialized from the model checkpoint at klue/roberta-large and are newly initialized: ['roberta.pooler.dense.weight', 'roberta.pooler.dense.bias']\n",
      "You should probably TRAIN this model on a down-stream task to be able to use it for predictions and inference.\n",
      "\u001b[34m\u001b[1mwandb\u001b[0m: Using wandb-core as the SDK backend. Please refer to https://wandb.me/wandb-core for more information.\n",
      "\u001b[34m\u001b[1mwandb\u001b[0m: Currently logged in as: \u001b[33mkimybjg2\u001b[0m (\u001b[33mkimybjg2-boostcampaitech\u001b[0m). Use \u001b[1m`wandb login --relogin`\u001b[0m to force relogin\n"
     ]
    },
    {
     "data": {
      "text/html": [
       "Tracking run with wandb version 0.18.3"
      ],
      "text/plain": [
       "<IPython.core.display.HTML object>"
      ]
     },
     "metadata": {},
     "output_type": "display_data"
    },
    {
     "data": {
      "text/html": [
       "Run data is saved locally in <code>/data/ephemeral/Jung/level2-mrc-nlp-10/Template/wandb/run-20241023_101249-et1pmx16</code>"
      ],
      "text/plain": [
       "<IPython.core.display.HTML object>"
      ]
     },
     "metadata": {},
     "output_type": "display_data"
    },
    {
     "data": {
      "text/html": [
       "Syncing run <strong><a href='https://wandb.ai/kimybjg2-boostcampaitech/Dense_embedding_retrieval/runs/et1pmx16' target=\"_blank\">vocal-paper-862</a></strong> to <a href='https://wandb.ai/kimybjg2-boostcampaitech/Dense_embedding_retrieval' target=\"_blank\">Weights & Biases</a> (<a href='https://wandb.me/run' target=\"_blank\">docs</a>)<br/>"
      ],
      "text/plain": [
       "<IPython.core.display.HTML object>"
      ]
     },
     "metadata": {},
     "output_type": "display_data"
    },
    {
     "data": {
      "text/html": [
       " View project at <a href='https://wandb.ai/kimybjg2-boostcampaitech/Dense_embedding_retrieval' target=\"_blank\">https://wandb.ai/kimybjg2-boostcampaitech/Dense_embedding_retrieval</a>"
      ],
      "text/plain": [
       "<IPython.core.display.HTML object>"
      ]
     },
     "metadata": {},
     "output_type": "display_data"
    },
    {
     "data": {
      "text/html": [
       " View run at <a href='https://wandb.ai/kimybjg2-boostcampaitech/Dense_embedding_retrieval/runs/et1pmx16' target=\"_blank\">https://wandb.ai/kimybjg2-boostcampaitech/Dense_embedding_retrieval/runs/et1pmx16</a>"
      ],
      "text/plain": [
       "<IPython.core.display.HTML object>"
      ]
     },
     "metadata": {},
     "output_type": "display_data"
    },
    {
     "name": "stdout",
     "output_type": "stream",
     "text": [
      "Data route: /data/ephemeral/data/train_dataset\n",
      "Test data route: /data/ephemeral/data/test_dataset\n",
      "Wiki route: /data/ephemeral/data/wikipedia_documents.json\n",
      "Data path: ./bm25_retrieval_result\n"
     ]
    },
    {
     "name": "stderr",
     "output_type": "stream",
     "text": [
      "Token indices sequence length is longer than the specified maximum sequence length for this model (1131 > 512). Running this sequence through the model will result in indexing errors\n"
     ]
    },
    {
     "name": "stdout",
     "output_type": "stream",
     "text": [
      "File loaded successfully\n",
      "위키 컨텍스트의 수: 56737\n",
      "제일 마지막 checkpoint: ./Dense_embedding_retrieval_model_results/checkpoint-741/trainer_state.json\n",
      "best checkpoint: ./Dense_embedding_retrieval_model_results/checkpoint-741\n"
     ]
    },
    {
     "name": "stderr",
     "output_type": "stream",
     "text": [
      "Some weights of the model checkpoint at ./Dense_embedding_retrieval_model_results/checkpoint-741 were not used when initializing RobertaModel: ['q_model.bert.encoder.layer.8.attention.self.query.weight', 'p_model.bert.encoder.layer.10.intermediate.dense.weight', 'q_model.bert.encoder.layer.1.attention.self.query.bias', 'q_model.bert.embeddings.LayerNorm.weight', 'p_model.bert.encoder.layer.13.attention.output.dense.weight', 'q_model.bert.encoder.layer.23.attention.output.dense.bias', 'p_model.bert.encoder.layer.9.attention.self.value.bias', 'p_model.bert.encoder.layer.7.attention.self.value.weight', 'p_model.bert.encoder.layer.15.intermediate.dense.weight', 'q_model.bert.encoder.layer.3.output.dense.bias', 'p_model.bert.encoder.layer.17.attention.self.key.bias', 'q_model.bert.encoder.layer.9.intermediate.dense.bias', 'p_model.bert.encoder.layer.6.attention.output.LayerNorm.weight', 'q_model.bert.encoder.layer.1.intermediate.dense.bias', 'p_model.bert.encoder.layer.9.intermediate.dense.weight', 'p_model.bert.encoder.layer.16.attention.self.query.bias', 'p_model.bert.encoder.layer.3.attention.self.key.weight', 'p_model.bert.encoder.layer.23.attention.output.dense.bias', 'p_model.bert.encoder.layer.0.attention.self.key.weight', 'p_model.bert.encoder.layer.1.output.LayerNorm.bias', 'p_model.bert.encoder.layer.22.attention.output.LayerNorm.weight', 'q_model.bert.encoder.layer.2.output.dense.bias', 'p_model.bert.encoder.layer.20.attention.self.query.weight', 'q_model.bert.encoder.layer.0.attention.self.key.bias', 'p_model.bert.encoder.layer.2.intermediate.dense.bias', 'q_model.bert.encoder.layer.16.attention.output.dense.bias', 'p_model.bert.encoder.layer.2.output.LayerNorm.bias', 'p_model.bert.encoder.layer.0.output.LayerNorm.bias', 'q_model.bert.encoder.layer.21.attention.output.LayerNorm.weight', 'p_model.bert.encoder.layer.14.output.dense.weight', 'p_model.bert.encoder.layer.7.attention.self.value.bias', 'p_model.bert.encoder.layer.13.output.LayerNorm.weight', 'p_model.bert.encoder.layer.9.output.dense.weight', 'p_model.bert.encoder.layer.22.attention.self.query.bias', 'p_model.bert.encoder.layer.20.attention.self.value.weight', 'q_model.bert.encoder.layer.0.attention.output.LayerNorm.bias', 'q_model.bert.encoder.layer.22.attention.output.dense.bias', 'q_model.bert.encoder.layer.13.intermediate.dense.weight', 'p_model.bert.encoder.layer.9.attention.self.query.weight', 'p_model.bert.encoder.layer.6.attention.output.dense.bias', 'q_model.bert.encoder.layer.15.output.dense.weight', 'q_model.bert.encoder.layer.2.attention.output.LayerNorm.bias', 'p_model.bert.encoder.layer.4.attention.output.dense.weight', 'p_model.bert.encoder.layer.10.attention.output.dense.weight', 'p_model.bert.encoder.layer.7.attention.self.query.weight', 'q_model.bert.encoder.layer.3.attention.self.query.bias', 'q_model.bert.encoder.layer.14.output.LayerNorm.weight', 'p_model.bert.encoder.layer.4.attention.self.key.bias', 'q_model.bert.encoder.layer.0.attention.self.query.weight', 'p_model.bert.encoder.layer.0.output.dense.bias', 'q_model.bert.encoder.layer.13.attention.output.LayerNorm.weight', 'q_model.bert.encoder.layer.15.output.LayerNorm.weight', 'p_model.bert.encoder.layer.3.attention.self.value.bias', 'q_model.bert.embeddings.word_embeddings.weight', 'q_model.bert.encoder.layer.21.attention.self.value.bias', 'p_model.bert.encoder.layer.1.attention.output.dense.bias', 'p_model.bert.encoder.layer.3.attention.self.value.weight', 'p_model.bert.encoder.layer.1.output.dense.weight', 'q_model.bert.encoder.layer.5.output.dense.weight', 'p_model.bert.encoder.layer.3.attention.self.key.bias', 'p_model.bert.encoder.layer.14.output.dense.bias', 'p_model.bert.encoder.layer.3.output.dense.weight', 'p_model.bert.encoder.layer.0.attention.output.dense.bias', 'q_model.bert.encoder.layer.8.output.LayerNorm.weight', 'q_model.bert.encoder.layer.19.output.LayerNorm.weight', 'p_model.bert.encoder.layer.9.attention.self.query.bias', 'q_model.bert.encoder.layer.18.attention.self.query.bias', 'p_model.bert.encoder.layer.11.attention.self.key.bias', 'p_model.bert.encoder.layer.21.intermediate.dense.bias', 'p_model.bert.encoder.layer.7.output.dense.bias', 'q_model.bert.encoder.layer.8.attention.output.LayerNorm.weight', 'p_model.bert.encoder.layer.2.attention.self.value.weight', 'p_model.bert.encoder.layer.3.output.LayerNorm.weight', 'q_model.bert.encoder.layer.20.attention.self.query.bias', 'p_model.bert.encoder.layer.19.attention.self.key.bias', 'q_model.bert.encoder.layer.6.attention.self.query.weight', 'p_model.bert.embeddings.word_embeddings.weight', 'q_model.bert.encoder.layer.16.output.dense.weight', 'q_model.bert.encoder.layer.23.attention.self.value.bias', 'p_model.bert.encoder.layer.8.attention.self.query.bias', 'q_model.bert.encoder.layer.16.attention.self.query.weight', 'q_model.bert.encoder.layer.8.attention.output.dense.weight', 'q_model.bert.encoder.layer.19.attention.output.LayerNorm.bias', 'q_model.bert.encoder.layer.19.output.dense.bias', 'p_model.bert.encoder.layer.6.intermediate.dense.weight', 'p_model.bert.encoder.layer.16.attention.output.LayerNorm.bias', 'p_model.bert.encoder.layer.18.attention.output.LayerNorm.bias', 'p_model.bert.encoder.layer.7.intermediate.dense.weight', 'q_model.bert.encoder.layer.21.intermediate.dense.bias', 'p_model.bert.encoder.layer.1.attention.output.dense.weight', 'p_model.bert.encoder.layer.22.attention.self.value.weight', 'p_model.bert.encoder.layer.16.attention.output.dense.bias', 'q_model.bert.encoder.layer.17.output.dense.weight', 'q_model.bert.encoder.layer.10.attention.output.LayerNorm.bias', 'q_model.bert.encoder.layer.20.intermediate.dense.weight', 'q_model.bert.encoder.layer.16.output.LayerNorm.bias', 'q_model.bert.encoder.layer.23.attention.output.LayerNorm.bias', 'p_model.bert.encoder.layer.14.attention.output.dense.weight', 'p_model.bert.encoder.layer.0.attention.output.LayerNorm.bias', 'q_model.bert.encoder.layer.1.attention.self.value.weight', 'q_model.bert.encoder.layer.20.attention.self.value.weight', 'q_model.bert.encoder.layer.7.intermediate.dense.weight', 'p_model.bert.encoder.layer.17.intermediate.dense.weight', 'p_model.bert.encoder.layer.19.intermediate.dense.weight', 'p_model.bert.encoder.layer.15.output.LayerNorm.bias', 'q_model.bert.encoder.layer.0.output.dense.bias', 'q_model.bert.encoder.layer.5.attention.self.key.bias', 'p_model.bert.encoder.layer.12.attention.self.value.bias', 'p_model.bert.encoder.layer.8.attention.output.dense.bias', 'p_model.bert.encoder.layer.23.intermediate.dense.bias', 'q_model.bert.encoder.layer.10.intermediate.dense.weight', 'q_model.bert.encoder.layer.4.output.LayerNorm.weight', 'p_model.bert.pooler.dense.bias', 'q_model.bert.encoder.layer.5.attention.self.key.weight', 'p_model.bert.encoder.layer.19.attention.self.value.weight', 'q_model.bert.encoder.layer.8.attention.self.value.bias', 'q_model.bert.encoder.layer.8.intermediate.dense.bias', 'q_model.bert.encoder.layer.16.output.LayerNorm.weight', 'p_model.bert.encoder.layer.9.attention.output.dense.weight', 'p_model.bert.embeddings.LayerNorm.weight', 'p_model.bert.encoder.layer.0.output.dense.weight', 'p_model.bert.encoder.layer.22.attention.output.dense.weight', 'p_model.bert.encoder.layer.21.attention.self.value.weight', 'p_model.bert.encoder.layer.6.attention.self.query.weight', 'q_model.bert.encoder.layer.0.attention.self.query.bias', 'q_model.bert.encoder.layer.10.output.dense.bias', 'p_model.bert.encoder.layer.10.attention.self.key.bias', 'q_model.bert.encoder.layer.2.attention.output.dense.weight', 'q_model.bert.encoder.layer.14.attention.self.query.bias', 'q_model.bert.encoder.layer.17.intermediate.dense.bias', 'q_model.bert.encoder.layer.22.attention.self.query.bias', 'q_model.bert.encoder.layer.3.attention.output.LayerNorm.weight', 'p_model.bert.encoder.layer.15.attention.self.query.bias', 'p_model.bert.encoder.layer.13.output.dense.bias', 'p_model.bert.encoder.layer.4.attention.self.key.weight', 'p_model.bert.encoder.layer.21.intermediate.dense.weight', 'q_model.bert.encoder.layer.21.attention.self.query.weight', 'q_model.bert.encoder.layer.1.attention.output.LayerNorm.weight', 'q_model.bert.encoder.layer.14.attention.output.dense.bias', 'p_model.bert.encoder.layer.8.output.LayerNorm.weight', 'p_model.bert.encoder.layer.12.attention.output.LayerNorm.weight', 'q_model.bert.encoder.layer.21.output.LayerNorm.bias', 'q_model.bert.encoder.layer.19.attention.self.query.weight', 'q_model.bert.encoder.layer.9.attention.output.LayerNorm.bias', 'q_model.bert.encoder.layer.18.attention.self.value.bias', 'p_model.bert.encoder.layer.6.attention.self.value.bias', 'p_model.bert.encoder.layer.18.output.LayerNorm.weight', 'q_model.bert.encoder.layer.5.output.dense.bias', 'q_model.bert.encoder.layer.15.output.dense.bias', 'p_model.bert.encoder.layer.4.attention.output.dense.bias', 'p_model.bert.encoder.layer.17.output.dense.bias', 'p_model.bert.encoder.layer.6.attention.self.value.weight', 'q_model.bert.encoder.layer.2.attention.self.key.weight', 'q_model.bert.encoder.layer.13.intermediate.dense.bias', 'p_model.bert.encoder.layer.18.attention.self.query.bias', 'p_model.bert.encoder.layer.10.output.dense.bias', 'q_model.bert.encoder.layer.8.output.LayerNorm.bias', 'p_model.bert.encoder.layer.3.output.LayerNorm.bias', 'p_model.bert.encoder.layer.7.attention.self.key.weight', 'p_model.bert.encoder.layer.19.output.LayerNorm.weight', 'q_model.bert.encoder.layer.10.attention.output.dense.bias', 'q_model.bert.encoder.layer.0.attention.output.dense.weight', 'p_model.bert.encoder.layer.6.output.LayerNorm.weight', 'q_model.bert.encoder.layer.18.intermediate.dense.bias', 'p_model.bert.encoder.layer.8.attention.output.LayerNorm.bias', 'p_model.bert.encoder.layer.13.intermediate.dense.bias', 'p_model.bert.encoder.layer.21.output.LayerNorm.bias', 'q_model.bert.encoder.layer.11.output.LayerNorm.weight', 'p_model.bert.encoder.layer.3.attention.output.dense.bias', 'p_model.bert.encoder.layer.18.attention.output.LayerNorm.weight', 'p_model.bert.encoder.layer.1.intermediate.dense.weight', 'q_model.bert.encoder.layer.14.attention.output.LayerNorm.weight', 'q_model.bert.encoder.layer.14.output.dense.weight', 'q_model.bert.encoder.layer.3.intermediate.dense.bias', 'q_model.bert.encoder.layer.23.intermediate.dense.weight', 'q_model.bert.encoder.layer.8.attention.self.query.bias', 'q_model.bert.encoder.layer.6.output.dense.weight', 'q_model.bert.encoder.layer.1.attention.output.LayerNorm.bias', 'q_model.bert.encoder.layer.7.attention.self.value.weight', 'q_model.bert.encoder.layer.10.attention.self.key.bias', 'p_model.bert.encoder.layer.5.output.LayerNorm.bias', 'p_model.bert.encoder.layer.14.output.LayerNorm.weight', 'q_model.bert.encoder.layer.3.output.LayerNorm.bias', 'p_model.bert.encoder.layer.1.attention.self.value.bias', 'p_model.bert.encoder.layer.23.attention.output.LayerNorm.weight', 'p_model.bert.encoder.layer.5.attention.self.key.weight', 'q_model.bert.encoder.layer.14.attention.self.value.weight', 'q_model.bert.encoder.layer.4.attention.self.key.weight', 'q_model.bert.encoder.layer.7.intermediate.dense.bias', 'q_model.bert.encoder.layer.23.attention.output.LayerNorm.weight', 'q_model.bert.encoder.layer.19.attention.self.value.weight', 'p_model.bert.encoder.layer.12.output.dense.weight', 'q_model.bert.encoder.layer.4.attention.self.query.weight', 'q_model.bert.encoder.layer.14.intermediate.dense.weight', 'p_model.bert.encoder.layer.23.attention.self.query.bias', 'p_model.bert.encoder.layer.17.attention.self.value.weight', 'q_model.bert.encoder.layer.9.attention.self.query.weight', 'q_model.bert.encoder.layer.17.attention.output.LayerNorm.weight', 'p_model.bert.encoder.layer.13.attention.output.LayerNorm.bias', 'q_model.bert.encoder.layer.19.intermediate.dense.weight', 'p_model.bert.encoder.layer.0.attention.self.query.bias', 'q_model.bert.encoder.layer.16.output.dense.bias', 'p_model.bert.encoder.layer.11.attention.self.value.weight', 'q_model.bert.encoder.layer.10.output.dense.weight', 'p_model.bert.encoder.layer.18.attention.self.value.bias', 'p_model.bert.encoder.layer.20.output.LayerNorm.bias', 'p_model.bert.encoder.layer.19.attention.output.LayerNorm.bias', 'p_model.bert.encoder.layer.16.output.LayerNorm.bias', 'q_model.bert.encoder.layer.4.intermediate.dense.weight', 'q_model.bert.encoder.layer.11.output.dense.bias', 'q_model.bert.encoder.layer.18.attention.self.query.weight', 'q_model.bert.encoder.layer.22.attention.self.key.bias', 'q_model.bert.encoder.layer.1.attention.self.key.weight', 'p_model.bert.encoder.layer.1.output.LayerNorm.weight', 'p_model.bert.encoder.layer.9.attention.output.LayerNorm.weight', 'p_model.bert.encoder.layer.14.attention.self.value.weight', 'p_model.bert.encoder.layer.21.attention.self.query.bias', 'p_model.bert.encoder.layer.20.attention.self.key.weight', 'p_model.bert.encoder.layer.10.attention.self.query.weight', 'p_model.bert.encoder.layer.0.intermediate.dense.bias', 'p_model.bert.encoder.layer.7.attention.output.dense.bias', 'p_model.bert.encoder.layer.6.output.LayerNorm.bias', 'p_model.bert.encoder.layer.22.output.LayerNorm.bias', 'p_model.bert.encoder.layer.2.output.dense.weight', 'q_model.bert.encoder.layer.5.output.LayerNorm.weight', 'p_model.bert.encoder.layer.6.attention.self.key.weight', 'p_model.bert.encoder.layer.12.attention.self.value.weight', 'q_model.bert.encoder.layer.13.attention.output.LayerNorm.bias', 'p_model.bert.encoder.layer.23.output.dense.bias', 'p_model.bert.encoder.layer.4.attention.self.query.weight', 'p_model.bert.encoder.layer.17.attention.output.LayerNorm.weight', 'q_model.bert.encoder.layer.12.attention.self.key.weight', 'p_model.bert.encoder.layer.12.attention.output.LayerNorm.bias', 'q_model.bert.encoder.layer.20.intermediate.dense.bias', 'q_model.bert.encoder.layer.19.attention.self.key.bias', 'p_model.bert.encoder.layer.20.output.LayerNorm.weight', 'p_model.bert.encoder.layer.3.intermediate.dense.bias', 'q_model.bert.encoder.layer.13.attention.output.dense.bias', 'q_model.bert.encoder.layer.14.attention.self.key.weight', 'q_model.bert.encoder.layer.14.attention.output.dense.weight', 'q_model.bert.encoder.layer.22.attention.self.value.bias', 'p_model.bert.encoder.layer.8.attention.self.key.weight', 'p_model.bert.encoder.layer.2.output.dense.bias', 'q_model.bert.encoder.layer.22.attention.self.query.weight', 'p_model.bert.encoder.layer.16.output.dense.weight', 'q_model.bert.encoder.layer.23.attention.self.key.bias', 'p_model.bert.encoder.layer.12.intermediate.dense.weight', 'q_model.bert.encoder.layer.21.attention.output.dense.weight', 'p_model.bert.encoder.layer.20.attention.self.query.bias', 'p_model.bert.encoder.layer.7.attention.output.LayerNorm.weight', 'p_model.bert.encoder.layer.15.attention.output.dense.weight', 'p_model.bert.encoder.layer.18.output.dense.weight', 'q_model.bert.encoder.layer.13.attention.self.query.weight', 'p_model.bert.encoder.layer.17.attention.output.LayerNorm.bias', 'p_model.bert.encoder.layer.19.attention.output.dense.weight', 'q_model.bert.encoder.layer.19.attention.self.value.bias', 'p_model.bert.encoder.layer.2.attention.self.query.weight', 'q_model.bert.encoder.layer.14.output.dense.bias', 'p_model.bert.encoder.layer.10.output.LayerNorm.bias', 'q_model.bert.encoder.layer.4.attention.output.LayerNorm.bias', 'q_model.bert.encoder.layer.2.output.dense.weight', 'p_model.bert.encoder.layer.6.output.dense.weight', 'q_model.bert.encoder.layer.2.output.LayerNorm.weight', 'p_model.bert.encoder.layer.15.attention.output.dense.bias', 'p_model.bert.encoder.layer.8.attention.self.value.weight', 'p_model.bert.encoder.layer.7.output.LayerNorm.bias', 'q_model.bert.encoder.layer.11.attention.output.LayerNorm.bias', 'p_model.bert.encoder.layer.13.attention.output.dense.bias', 'p_model.bert.encoder.layer.8.output.dense.bias', 'q_model.bert.encoder.layer.8.intermediate.dense.weight', 'p_model.bert.encoder.layer.0.intermediate.dense.weight', 'p_model.bert.encoder.layer.17.attention.self.key.weight', 'p_model.bert.encoder.layer.20.intermediate.dense.weight', 'p_model.bert.encoder.layer.19.intermediate.dense.bias', 'q_model.bert.encoder.layer.23.attention.self.value.weight', 'q_model.bert.encoder.layer.18.intermediate.dense.weight', 'p_model.bert.encoder.layer.8.attention.self.query.weight', 'q_model.bert.encoder.layer.5.attention.output.LayerNorm.bias', 'p_model.bert.embeddings.position_ids', 'q_model.bert.encoder.layer.11.intermediate.dense.weight', 'q_model.bert.encoder.layer.16.attention.self.value.weight', 'p_model.bert.encoder.layer.5.attention.output.dense.bias', 'p_model.bert.encoder.layer.21.attention.self.key.bias', 'q_model.bert.encoder.layer.17.attention.output.LayerNorm.bias', 'p_model.bert.encoder.layer.5.intermediate.dense.weight', 'p_model.bert.encoder.layer.20.attention.output.dense.bias', 'q_model.bert.encoder.layer.12.attention.self.value.bias', 'q_model.bert.encoder.layer.5.attention.output.dense.bias', 'p_model.bert.encoder.layer.22.output.dense.bias', 'q_model.bert.encoder.layer.22.attention.output.LayerNorm.bias', 'q_model.bert.encoder.layer.0.attention.self.value.weight', 'q_model.bert.encoder.layer.9.intermediate.dense.weight', 'p_model.bert.encoder.layer.12.attention.self.key.bias', 'p_model.bert.encoder.layer.5.attention.output.LayerNorm.bias', 'q_model.bert.encoder.layer.11.attention.output.LayerNorm.weight', 'q_model.bert.encoder.layer.17.attention.self.key.weight', 'p_model.bert.encoder.layer.3.intermediate.dense.weight', 'p_model.bert.encoder.layer.11.attention.self.query.weight', 'p_model.bert.encoder.layer.17.output.LayerNorm.bias', 'q_model.bert.encoder.layer.3.attention.self.key.weight', 'p_model.bert.encoder.layer.17.attention.self.value.bias', 'q_model.bert.encoder.layer.10.output.LayerNorm.bias', 'q_model.bert.encoder.layer.15.attention.self.key.weight', 'p_model.bert.encoder.layer.2.attention.self.value.bias', 'p_model.bert.encoder.layer.6.intermediate.dense.bias', 'p_model.bert.encoder.layer.0.attention.self.value.bias', 'p_model.bert.encoder.layer.4.intermediate.dense.bias', 'q_model.bert.encoder.layer.7.attention.self.query.bias', 'q_model.bert.encoder.layer.15.attention.self.value.bias', 'p_model.bert.encoder.layer.9.attention.output.LayerNorm.bias', 'p_model.bert.encoder.layer.23.output.LayerNorm.bias', 'q_model.bert.encoder.layer.7.output.LayerNorm.weight', 'p_model.bert.encoder.layer.10.attention.output.LayerNorm.weight', 'p_model.bert.encoder.layer.20.intermediate.dense.bias', 'p_model.bert.encoder.layer.21.attention.self.value.bias', 'p_model.bert.encoder.layer.20.output.dense.weight', 'q_model.bert.encoder.layer.21.output.dense.weight', 'q_model.bert.encoder.layer.11.attention.self.key.bias', 'p_model.bert.encoder.layer.23.attention.self.query.weight', 'q_model.bert.encoder.layer.14.output.LayerNorm.bias', 'q_model.bert.encoder.layer.23.attention.output.dense.weight', 'q_model.bert.encoder.layer.2.intermediate.dense.bias', 'q_model.bert.encoder.layer.3.attention.self.query.weight', 'p_model.bert.encoder.layer.15.output.dense.weight', 'q_model.bert.encoder.layer.3.intermediate.dense.weight', 'q_model.bert.encoder.layer.8.attention.self.key.weight', 'q_model.bert.encoder.layer.20.output.LayerNorm.bias', 'p_model.bert.encoder.layer.15.attention.self.key.bias', 'p_model.bert.encoder.layer.9.attention.output.dense.bias', 'p_model.bert.encoder.layer.20.attention.output.dense.weight', 'p_model.bert.encoder.layer.10.output.dense.weight', 'q_model.bert.encoder.layer.0.intermediate.dense.weight', 'p_model.bert.encoder.layer.20.attention.self.key.bias', 'q_model.bert.encoder.layer.4.attention.output.dense.weight', 'p_model.bert.encoder.layer.22.attention.output.LayerNorm.bias', 'p_model.bert.encoder.layer.12.attention.self.key.weight', 'p_model.bert.encoder.layer.16.output.dense.bias', 'p_model.bert.encoder.layer.13.output.dense.weight', 'p_model.bert.encoder.layer.0.attention.output.LayerNorm.weight', 'p_model.bert.encoder.layer.23.attention.self.value.weight', 'p_model.bert.encoder.layer.21.attention.self.query.weight', 'p_model.bert.encoder.layer.13.attention.self.value.bias', 'q_model.bert.encoder.layer.8.attention.self.value.weight', 'q_model.bert.encoder.layer.20.attention.self.value.bias', 'q_model.bert.encoder.layer.23.attention.self.query.bias', 'q_model.bert.encoder.layer.16.intermediate.dense.weight', 'p_model.bert.encoder.layer.18.attention.self.query.weight', 'q_model.bert.encoder.layer.17.attention.self.key.bias', 'p_model.bert.encoder.layer.12.attention.output.dense.weight', 'q_model.bert.encoder.layer.7.output.LayerNorm.bias', 'p_model.bert.encoder.layer.13.attention.self.query.weight', 'q_model.bert.encoder.layer.16.attention.output.dense.weight', 'q_model.bert.encoder.layer.23.intermediate.dense.bias', 'q_model.bert.encoder.layer.22.output.LayerNorm.bias', 'p_model.bert.encoder.layer.4.attention.self.value.bias', 'p_model.bert.encoder.layer.14.attention.self.query.bias', 'q_model.bert.encoder.layer.10.attention.self.value.bias', 'q_model.bert.encoder.layer.0.output.LayerNorm.bias', 'q_model.bert.encoder.layer.15.intermediate.dense.weight', 'q_model.bert.encoder.layer.22.intermediate.dense.weight', 'q_model.bert.encoder.layer.4.attention.self.query.bias', 'q_model.bert.embeddings.LayerNorm.bias', 'p_model.bert.encoder.layer.16.attention.output.LayerNorm.weight', 'p_model.bert.encoder.layer.0.attention.self.key.bias', 'q_model.bert.encoder.layer.0.attention.output.dense.bias', 'q_model.bert.encoder.layer.0.output.LayerNorm.weight', 'q_model.bert.encoder.layer.20.attention.output.dense.bias', 'p_model.bert.encoder.layer.2.attention.self.query.bias', 'p_model.bert.encoder.layer.11.attention.self.value.bias', 'q_model.bert.embeddings.token_type_embeddings.weight', 'q_model.bert.encoder.layer.6.output.dense.bias', 'q_model.bert.encoder.layer.13.attention.self.value.weight', 'p_model.bert.encoder.layer.11.attention.output.dense.weight', 'p_model.bert.encoder.layer.23.attention.self.value.bias', 'p_model.bert.encoder.layer.2.intermediate.dense.weight', 'p_model.bert.encoder.layer.7.attention.output.LayerNorm.bias', 'p_model.bert.encoder.layer.18.attention.self.value.weight', 'p_model.bert.encoder.layer.10.attention.output.LayerNorm.bias', 'p_model.bert.encoder.layer.12.output.LayerNorm.bias', 'p_model.bert.encoder.layer.6.attention.output.dense.weight', 'p_model.bert.encoder.layer.17.attention.self.query.bias', 'q_model.bert.encoder.layer.5.intermediate.dense.bias', 'p_model.bert.encoder.layer.17.attention.output.dense.weight', 'p_model.bert.encoder.layer.23.output.dense.weight', 'q_model.bert.encoder.layer.5.attention.output.dense.weight', 'p_model.bert.encoder.layer.7.attention.output.dense.weight', 'p_model.bert.encoder.layer.4.attention.self.query.bias', 'p_model.bert.encoder.layer.4.attention.self.value.weight', 'q_model.bert.encoder.layer.12.output.LayerNorm.bias', 'q_model.bert.encoder.layer.16.attention.output.LayerNorm.bias', 'p_model.bert.encoder.layer.8.output.LayerNorm.bias', 'p_model.bert.encoder.layer.16.attention.self.key.bias', 'p_model.bert.encoder.layer.5.attention.self.query.weight', 'p_model.bert.encoder.layer.12.attention.output.dense.bias', 'q_model.bert.encoder.layer.13.output.dense.bias', 'q_model.bert.encoder.layer.3.attention.output.dense.weight', 'p_model.bert.encoder.layer.15.attention.output.LayerNorm.bias', 'p_model.bert.encoder.layer.8.output.dense.weight', 'p_model.bert.encoder.layer.11.attention.output.dense.bias', 'q_model.bert.encoder.layer.23.output.dense.weight', 'q_model.bert.encoder.layer.23.attention.self.key.weight', 'q_model.bert.encoder.layer.17.attention.self.query.bias', 'q_model.bert.encoder.layer.6.attention.output.dense.weight', 'q_model.bert.encoder.layer.13.output.LayerNorm.weight', 'p_model.bert.encoder.layer.17.output.dense.weight', 'p_model.bert.encoder.layer.2.output.LayerNorm.weight', 'q_model.bert.encoder.layer.17.attention.output.dense.weight', 'p_model.bert.encoder.layer.19.attention.output.LayerNorm.weight', 'p_model.bert.encoder.layer.22.intermediate.dense.bias', 'p_model.bert.encoder.layer.9.output.dense.bias', 'q_model.bert.encoder.layer.6.attention.self.key.bias', 'p_model.bert.encoder.layer.19.output.LayerNorm.bias', 'q_model.bert.encoder.layer.21.intermediate.dense.weight', 'q_model.bert.encoder.layer.17.intermediate.dense.weight', 'p_model.bert.encoder.layer.4.output.dense.weight', 'q_model.bert.encoder.layer.23.output.LayerNorm.weight', 'q_model.bert.encoder.layer.10.attention.output.LayerNorm.weight', 'q_model.bert.encoder.layer.12.attention.output.LayerNorm.weight', 'p_model.bert.encoder.layer.23.attention.self.key.weight', 'p_model.bert.encoder.layer.22.attention.self.key.weight', 'q_model.bert.encoder.layer.6.attention.self.value.weight', 'p_model.bert.encoder.layer.18.intermediate.dense.bias', 'q_model.bert.encoder.layer.12.intermediate.dense.bias', 'q_model.bert.encoder.layer.20.attention.output.dense.weight', 'p_model.bert.encoder.layer.5.attention.self.value.weight', 'q_model.bert.encoder.layer.1.output.dense.bias', 'q_model.bert.encoder.layer.6.attention.self.key.weight', 'q_model.bert.encoder.layer.12.attention.output.dense.bias', 'p_model.bert.encoder.layer.14.attention.output.LayerNorm.weight', 'p_model.bert.encoder.layer.13.intermediate.dense.weight', 'p_model.bert.encoder.layer.8.attention.output.LayerNorm.weight', 'p_model.bert.encoder.layer.22.attention.output.dense.bias', 'q_model.bert.encoder.layer.2.intermediate.dense.weight', 'p_model.bert.encoder.layer.15.attention.self.key.weight', 'q_model.bert.encoder.layer.12.output.dense.bias', 'p_model.bert.encoder.layer.4.output.dense.bias', 'q_model.bert.encoder.layer.22.attention.self.key.weight', 'p_model.bert.encoder.layer.21.attention.self.key.weight', 'q_model.bert.encoder.layer.15.intermediate.dense.bias', 'q_model.bert.encoder.layer.3.attention.output.dense.bias', 'q_model.bert.encoder.layer.22.output.dense.weight', 'q_model.bert.encoder.layer.23.output.LayerNorm.bias', 'p_model.bert.encoder.layer.7.attention.self.key.bias', 'p_model.bert.encoder.layer.9.attention.self.value.weight', 'p_model.bert.encoder.layer.5.output.dense.weight', 'p_model.bert.encoder.layer.11.output.dense.bias', 'q_model.bert.encoder.layer.1.output.dense.weight', 'q_model.bert.encoder.layer.2.attention.self.value.weight', 'q_model.bert.encoder.layer.2.output.LayerNorm.bias', 'q_model.bert.encoder.layer.20.attention.self.key.bias', 'q_model.bert.encoder.layer.15.attention.self.value.weight', 'p_model.bert.encoder.layer.19.attention.self.query.weight', 'q_model.bert.encoder.layer.20.attention.self.key.weight', 'q_model.bert.encoder.layer.0.attention.output.LayerNorm.weight', 'q_model.bert.encoder.layer.5.attention.self.query.weight', 'q_model.bert.encoder.layer.3.attention.self.value.bias', 'q_model.bert.encoder.layer.6.output.LayerNorm.bias', 'p_model.bert.encoder.layer.3.attention.self.query.weight', 'q_model.bert.encoder.layer.9.output.dense.weight', 'p_model.bert.encoder.layer.20.attention.output.LayerNorm.weight', 'q_model.bert.encoder.layer.18.output.LayerNorm.bias', 'p_model.bert.encoder.layer.3.attention.self.query.bias', 'p_model.bert.encoder.layer.11.attention.output.LayerNorm.weight', 'q_model.bert.encoder.layer.3.output.dense.weight', 'p_model.bert.encoder.layer.15.intermediate.dense.bias', 'q_model.bert.encoder.layer.12.attention.self.query.weight', 'q_model.bert.encoder.layer.22.attention.output.LayerNorm.weight', 'p_model.bert.encoder.layer.21.attention.output.dense.weight', 'q_model.bert.encoder.layer.20.attention.output.LayerNorm.bias', 'q_model.bert.encoder.layer.7.output.dense.weight', 'q_model.bert.encoder.layer.9.attention.output.dense.bias', 'p_model.bert.encoder.layer.12.attention.self.query.bias', 'q_model.bert.encoder.layer.2.attention.self.query.bias', 'q_model.bert.encoder.layer.22.output.LayerNorm.weight', 'p_model.bert.encoder.layer.20.attention.output.LayerNorm.bias', 'q_model.bert.encoder.layer.11.attention.self.query.weight', 'p_model.bert.encoder.layer.14.attention.self.key.weight', 'p_model.bert.encoder.layer.12.output.dense.bias', 'p_model.bert.encoder.layer.16.intermediate.dense.weight', 'q_model.bert.encoder.layer.12.attention.self.value.weight', 'p_model.bert.encoder.layer.12.intermediate.dense.bias', 'p_model.bert.encoder.layer.19.attention.self.value.bias', 'q_model.bert.encoder.layer.4.intermediate.dense.bias', 'q_model.bert.encoder.layer.13.output.dense.weight', 'p_model.bert.encoder.layer.12.attention.self.query.weight', 'p_model.bert.encoder.layer.5.attention.self.key.bias', 'q_model.bert.encoder.layer.4.output.dense.weight', 'p_model.bert.encoder.layer.12.output.LayerNorm.weight', 'p_model.bert.encoder.layer.18.output.LayerNorm.bias', 'q_model.bert.encoder.layer.5.attention.output.LayerNorm.weight', 'p_model.bert.encoder.layer.1.attention.output.LayerNorm.bias', 'q_model.bert.encoder.layer.5.output.LayerNorm.bias', 'q_model.bert.encoder.layer.9.output.dense.bias', 'q_model.bert.encoder.layer.12.output.dense.weight', 'p_model.bert.encoder.layer.10.attention.self.key.weight', 'q_model.bert.embeddings.position_ids', 'q_model.bert.encoder.layer.13.attention.output.dense.weight', 'q_model.bert.encoder.layer.7.attention.self.key.bias', 'q_model.bert.encoder.layer.21.attention.output.LayerNorm.bias', 'q_model.bert.encoder.layer.14.intermediate.dense.bias', 'p_model.bert.encoder.layer.13.attention.self.key.weight', 'p_model.bert.encoder.layer.5.attention.self.value.bias', 'q_model.bert.encoder.layer.4.output.LayerNorm.bias', 'p_model.bert.encoder.layer.13.output.LayerNorm.bias', 'q_model.bert.encoder.layer.11.intermediate.dense.bias', 'q_model.bert.encoder.layer.6.attention.output.dense.bias', 'p_model.bert.encoder.layer.18.attention.output.dense.weight', 'p_model.bert.encoder.layer.5.attention.output.LayerNorm.weight', 'p_model.bert.encoder.layer.9.intermediate.dense.bias', 'p_model.bert.encoder.layer.19.attention.self.query.bias', 'p_model.bert.encoder.layer.3.attention.output.dense.weight', 'q_model.bert.encoder.layer.5.attention.self.value.bias', 'p_model.bert.encoder.layer.22.output.LayerNorm.weight', 'p_model.bert.encoder.layer.3.output.dense.bias', 'p_model.bert.encoder.layer.4.intermediate.dense.weight', 'p_model.bert.encoder.layer.14.attention.self.value.bias', 'p_model.bert.encoder.layer.23.attention.self.key.bias', 'q_model.bert.encoder.layer.7.attention.output.LayerNorm.weight', 'q_model.bert.encoder.layer.15.attention.output.dense.bias', 'q_model.bert.encoder.layer.20.output.dense.weight', 'p_model.bert.encoder.layer.14.attention.self.query.weight', 'q_model.bert.encoder.layer.9.attention.self.key.weight', 'q_model.bert.encoder.layer.20.output.dense.bias', 'q_model.bert.encoder.layer.3.attention.output.LayerNorm.bias', 'p_model.bert.encoder.layer.19.output.dense.weight', 'p_model.bert.encoder.layer.4.attention.output.LayerNorm.bias', 'p_model.bert.encoder.layer.9.attention.self.key.weight', 'p_model.bert.encoder.layer.22.attention.self.key.bias', 'q_model.bert.encoder.layer.10.output.LayerNorm.weight', 'q_model.bert.encoder.layer.10.attention.self.value.weight', 'p_model.bert.encoder.layer.21.output.LayerNorm.weight', 'q_model.bert.encoder.layer.21.attention.self.query.bias', 'p_model.bert.encoder.layer.5.output.dense.bias', 'p_model.bert.encoder.layer.16.output.LayerNorm.weight', 'q_model.bert.encoder.layer.1.output.LayerNorm.weight', 'q_model.bert.encoder.layer.19.intermediate.dense.bias', 'q_model.bert.encoder.layer.12.output.LayerNorm.weight', 'q_model.bert.encoder.layer.3.output.LayerNorm.weight', 'q_model.bert.encoder.layer.13.attention.self.value.bias', 'q_model.bert.encoder.layer.7.attention.output.dense.bias', 'p_model.bert.encoder.layer.19.output.dense.bias', 'p_model.bert.encoder.layer.5.output.LayerNorm.weight', 'q_model.bert.encoder.layer.4.attention.output.dense.bias', 'p_model.bert.encoder.layer.21.attention.output.dense.bias', 'p_model.bert.encoder.layer.7.output.dense.weight', 'p_model.bert.encoder.layer.9.attention.self.key.bias', 'q_model.bert.encoder.layer.11.attention.self.key.weight', 'p_model.bert.encoder.layer.18.attention.self.key.bias', 'p_model.bert.encoder.layer.16.intermediate.dense.bias', 'q_model.bert.encoder.layer.20.attention.output.LayerNorm.weight', 'q_model.bert.encoder.layer.1.attention.self.value.bias', 'p_model.bert.encoder.layer.15.attention.output.LayerNorm.weight', 'q_model.bert.encoder.layer.18.output.dense.bias', 'p_model.bert.encoder.layer.16.attention.self.key.weight', 'q_model.bert.encoder.layer.12.attention.output.LayerNorm.bias', 'q_model.bert.encoder.layer.15.attention.self.query.weight', 'q_model.bert.encoder.layer.20.output.LayerNorm.weight', 'p_model.bert.encoder.layer.2.attention.self.key.weight', 'p_model.bert.encoder.layer.3.attention.output.LayerNorm.bias', 'q_model.bert.encoder.layer.14.attention.self.value.bias', 'p_model.bert.encoder.layer.16.attention.self.value.weight', 'p_model.bert.encoder.layer.0.attention.self.value.weight', 'p_model.bert.encoder.layer.20.attention.self.value.bias', 'q_model.bert.encoder.layer.18.attention.output.LayerNorm.weight', 'q_model.bert.encoder.layer.12.attention.self.query.bias', 'p_model.bert.encoder.layer.15.output.LayerNorm.weight', 'p_model.bert.encoder.layer.10.attention.output.dense.bias', 'q_model.bert.encoder.layer.10.attention.self.key.weight', 'p_model.bert.encoder.layer.11.output.dense.weight', 'p_model.bert.encoder.layer.11.intermediate.dense.weight', 'p_model.bert.pooler.dense.weight', 'q_model.bert.encoder.layer.7.attention.self.key.weight', 'q_model.bert.encoder.layer.9.attention.self.value.bias', 'q_model.bert.encoder.layer.11.output.LayerNorm.bias', 'q_model.bert.encoder.layer.13.attention.self.key.bias', 'p_model.bert.encoder.layer.2.attention.self.key.bias', 'q_model.bert.encoder.layer.14.attention.self.key.bias', 'q_model.bert.encoder.layer.16.attention.self.value.bias', 'p_model.bert.encoder.layer.0.output.LayerNorm.weight', 'q_model.bert.encoder.layer.19.attention.output.LayerNorm.weight', 'q_model.bert.encoder.layer.14.attention.output.LayerNorm.bias', 'q_model.bert.encoder.layer.21.output.dense.bias', 'p_model.bert.encoder.layer.23.attention.output.LayerNorm.bias', 'p_model.bert.encoder.layer.13.attention.self.key.bias', 'q_model.bert.encoder.layer.22.intermediate.dense.bias', 'q_model.bert.encoder.layer.15.attention.self.key.bias', 'p_model.bert.encoder.layer.1.attention.self.key.bias', 'q_model.bert.pooler.dense.weight', 'q_model.bert.encoder.layer.11.attention.self.value.weight', 'q_model.bert.encoder.layer.0.intermediate.dense.bias', 'q_model.bert.encoder.layer.22.attention.output.dense.weight', 'p_model.bert.encoder.layer.22.attention.self.value.bias', 'p_model.bert.encoder.layer.0.attention.self.query.weight', 'p_model.bert.encoder.layer.22.attention.self.query.weight', 'q_model.bert.encoder.layer.21.attention.self.key.bias', 'q_model.bert.encoder.layer.11.attention.output.dense.bias', 'q_model.bert.encoder.layer.18.attention.output.dense.bias', 'p_model.bert.encoder.layer.8.intermediate.dense.bias', 'q_model.bert.encoder.layer.12.intermediate.dense.weight', 'q_model.bert.pooler.dense.bias', 'q_model.bert.encoder.layer.1.attention.output.dense.weight', 'q_model.bert.embeddings.position_embeddings.weight', 'q_model.bert.encoder.layer.4.attention.self.value.bias', 'p_model.bert.encoder.layer.14.output.LayerNorm.bias', 'q_model.bert.encoder.layer.7.attention.output.LayerNorm.bias', 'p_model.bert.encoder.layer.5.attention.self.query.bias', 'p_model.bert.encoder.layer.16.attention.self.query.weight', 'q_model.bert.encoder.layer.4.attention.output.LayerNorm.weight', 'p_model.bert.encoder.layer.15.attention.self.value.weight', 'q_model.bert.encoder.layer.15.attention.output.LayerNorm.weight', 'q_model.bert.encoder.layer.6.attention.output.LayerNorm.bias', 'q_model.bert.encoder.layer.21.attention.self.value.weight', 'p_model.bert.encoder.layer.4.output.LayerNorm.weight', 'q_model.bert.encoder.layer.2.attention.output.dense.bias', 'q_model.bert.encoder.layer.7.attention.self.query.weight', 'q_model.bert.encoder.layer.19.attention.self.query.bias', 'q_model.bert.encoder.layer.14.attention.self.query.weight', 'q_model.bert.encoder.layer.9.attention.self.query.bias', 'p_model.bert.encoder.layer.2.attention.output.LayerNorm.bias', 'q_model.bert.encoder.layer.2.attention.output.LayerNorm.weight', 'q_model.bert.encoder.layer.12.attention.output.dense.weight', 'p_model.bert.encoder.layer.16.attention.self.value.bias', 'q_model.bert.encoder.layer.4.output.dense.bias', 'q_model.bert.encoder.layer.0.attention.self.key.weight', 'p_model.bert.encoder.layer.9.output.LayerNorm.weight', 'p_model.bert.encoder.layer.13.attention.output.LayerNorm.weight', 'p_model.bert.encoder.layer.13.attention.self.value.weight', 'q_model.bert.encoder.layer.19.attention.output.dense.weight', 'q_model.bert.encoder.layer.10.intermediate.dense.bias', 'q_model.bert.encoder.layer.6.intermediate.dense.bias', 'p_model.bert.encoder.layer.17.intermediate.dense.bias', 'p_model.bert.encoder.layer.17.attention.output.dense.bias', 'q_model.bert.encoder.layer.21.attention.self.key.weight', 'q_model.bert.encoder.layer.2.attention.self.value.bias', 'q_model.bert.encoder.layer.13.attention.self.key.weight', 'p_model.bert.encoder.layer.5.attention.output.dense.weight', 'p_model.bert.encoder.layer.21.output.dense.weight', 'p_model.bert.encoder.layer.1.attention.output.LayerNorm.weight', 'p_model.bert.encoder.layer.18.attention.output.dense.bias', 'q_model.bert.encoder.layer.7.output.dense.bias', 'q_model.bert.encoder.layer.13.attention.self.query.bias', 'q_model.bert.encoder.layer.18.attention.self.key.weight', 'p_model.bert.encoder.layer.18.output.dense.bias', 'p_model.bert.encoder.layer.23.intermediate.dense.weight', 'p_model.bert.encoder.layer.8.attention.self.key.bias', 'p_model.bert.encoder.layer.1.attention.self.key.weight', 'p_model.bert.encoder.layer.19.attention.output.dense.bias', 'p_model.bert.encoder.layer.14.attention.output.LayerNorm.bias', 'q_model.bert.encoder.layer.5.attention.self.value.weight', 'q_model.bert.encoder.layer.9.output.LayerNorm.weight', 'q_model.bert.encoder.layer.18.attention.output.LayerNorm.bias', 'q_model.bert.encoder.layer.11.attention.self.query.bias', 'p_model.bert.encoder.layer.1.attention.self.query.bias', 'p_model.bert.encoder.layer.17.attention.self.query.weight', 'q_model.bert.encoder.layer.23.output.dense.bias', 'q_model.bert.encoder.layer.9.attention.self.key.bias', 'q_model.bert.encoder.layer.3.attention.self.key.bias', 'q_model.bert.encoder.layer.19.attention.self.key.weight', 'p_model.bert.encoder.layer.14.attention.self.key.bias', 'p_model.bert.encoder.layer.13.attention.self.query.bias', 'p_model.bert.encoder.layer.15.attention.self.query.weight', 'p_model.bert.encoder.layer.16.attention.output.dense.weight', 'q_model.bert.encoder.layer.10.attention.self.query.weight', 'q_model.bert.encoder.layer.11.attention.self.value.bias', 'q_model.bert.encoder.layer.18.attention.self.value.weight', 'q_model.bert.encoder.layer.21.output.LayerNorm.weight', 'q_model.bert.encoder.layer.17.attention.self.value.bias', 'p_model.bert.encoder.layer.18.intermediate.dense.weight', 'p_model.bert.encoder.layer.17.output.LayerNorm.weight', 'q_model.bert.encoder.layer.4.attention.self.value.weight', 'q_model.bert.encoder.layer.5.attention.self.query.bias', 'q_model.bert.encoder.layer.1.attention.self.query.weight', 'q_model.bert.encoder.layer.18.output.dense.weight', 'p_model.bert.encoder.layer.10.attention.self.value.weight', 'q_model.bert.encoder.layer.1.output.LayerNorm.bias', 'q_model.bert.encoder.layer.10.attention.self.query.bias', 'q_model.bert.encoder.layer.17.output.LayerNorm.weight', 'q_model.bert.encoder.layer.1.attention.output.dense.bias', 'q_model.bert.encoder.layer.22.attention.self.value.weight', 'q_model.bert.encoder.layer.19.attention.output.dense.bias', 'q_model.bert.encoder.layer.16.attention.self.key.bias', 'p_model.bert.encoder.layer.8.attention.self.value.bias', 'p_model.bert.encoder.layer.8.intermediate.dense.weight', 'p_model.bert.encoder.layer.1.attention.self.value.weight', 'p_model.bert.encoder.layer.1.attention.self.query.weight', 'p_model.bert.encoder.layer.15.output.dense.bias', 'p_model.bert.encoder.layer.22.output.dense.weight', 'q_model.bert.encoder.layer.1.attention.self.key.bias', 'p_model.bert.encoder.layer.19.attention.self.key.weight', 'q_model.bert.encoder.layer.8.attention.output.dense.bias', 'q_model.bert.encoder.layer.16.attention.output.LayerNorm.weight', 'p_model.bert.encoder.layer.10.attention.self.query.bias', 'p_model.bert.encoder.layer.3.attention.output.LayerNorm.weight', 'q_model.bert.encoder.layer.4.attention.self.key.bias', 'q_model.bert.encoder.layer.20.attention.self.query.weight', 'q_model.bert.encoder.layer.17.output.dense.bias', 'p_model.bert.encoder.layer.6.attention.self.query.bias', 'q_model.bert.encoder.layer.3.attention.self.value.weight', 'q_model.bert.encoder.layer.11.output.dense.weight', 'q_model.bert.encoder.layer.5.intermediate.dense.weight', 'q_model.bert.encoder.layer.6.intermediate.dense.weight', 'q_model.bert.encoder.layer.10.attention.output.dense.weight', 'p_model.bert.encoder.layer.23.attention.output.dense.weight', 'q_model.bert.encoder.layer.21.attention.output.dense.bias', 'p_model.bert.encoder.layer.2.attention.output.LayerNorm.weight', 'p_model.bert.encoder.layer.21.output.dense.bias', 'p_model.bert.embeddings.LayerNorm.bias', 'p_model.bert.encoder.layer.14.intermediate.dense.bias', 'q_model.bert.encoder.layer.7.attention.output.dense.weight', 'q_model.bert.encoder.layer.6.output.LayerNorm.weight', 'p_model.bert.encoder.layer.9.output.LayerNorm.bias', 'q_model.bert.encoder.layer.0.output.dense.weight', 'q_model.bert.encoder.layer.9.attention.self.value.weight', 'p_model.bert.encoder.layer.6.attention.output.LayerNorm.bias', 'p_model.bert.encoder.layer.8.attention.output.dense.weight', 'p_model.bert.encoder.layer.2.attention.output.dense.weight', 'p_model.bert.encoder.layer.1.intermediate.dense.bias', 'q_model.bert.encoder.layer.16.attention.self.query.bias', 'q_model.bert.encoder.layer.23.attention.self.query.weight', 'p_model.bert.embeddings.position_embeddings.weight', 'q_model.bert.encoder.layer.17.attention.self.query.weight', 'q_model.bert.encoder.layer.18.attention.self.key.bias', 'q_model.bert.encoder.layer.2.attention.self.query.weight', 'p_model.bert.encoder.layer.7.attention.self.query.bias', 'p_model.bert.encoder.layer.5.intermediate.dense.bias', 'p_model.bert.encoder.layer.1.output.dense.bias', 'q_model.bert.encoder.layer.8.output.dense.weight', 'q_model.bert.encoder.layer.22.output.dense.bias', 'p_model.bert.encoder.layer.21.attention.output.LayerNorm.weight', 'q_model.bert.encoder.layer.1.intermediate.dense.weight', 'q_model.bert.encoder.layer.6.attention.output.LayerNorm.weight', 'q_model.bert.encoder.layer.9.attention.output.dense.weight', 'p_model.bert.encoder.layer.6.attention.self.key.bias', 'q_model.bert.encoder.layer.12.attention.self.key.bias', 'p_model.bert.encoder.layer.0.attention.output.dense.weight', 'p_model.bert.encoder.layer.2.attention.output.dense.bias', 'q_model.bert.encoder.layer.6.attention.self.value.bias', 'p_model.bert.encoder.layer.11.intermediate.dense.bias', 'q_model.bert.encoder.layer.2.attention.self.key.bias', 'p_model.bert.encoder.layer.14.attention.output.dense.bias', 'p_model.bert.encoder.layer.23.output.LayerNorm.weight', 'q_model.bert.encoder.layer.16.intermediate.dense.bias', 'p_model.bert.encoder.layer.7.intermediate.dense.bias', 'p_model.bert.encoder.layer.11.output.LayerNorm.weight', 'p_model.bert.encoder.layer.11.attention.self.query.bias', 'q_model.bert.encoder.layer.17.output.LayerNorm.bias', 'q_model.bert.encoder.layer.19.output.LayerNorm.bias', 'q_model.bert.encoder.layer.8.attention.self.key.bias', 'p_model.bert.encoder.layer.20.output.dense.bias', 'q_model.bert.encoder.layer.15.attention.output.dense.weight', 'p_model.bert.encoder.layer.4.attention.output.LayerNorm.weight', 'p_model.bert.encoder.layer.10.output.LayerNorm.weight', 'q_model.bert.encoder.layer.16.attention.self.key.weight', 'q_model.bert.encoder.layer.19.output.dense.weight', 'p_model.bert.encoder.layer.11.attention.self.key.weight', 'p_model.bert.encoder.layer.6.output.dense.bias', 'p_model.bert.encoder.layer.10.attention.self.value.bias', 'p_model.bert.encoder.layer.14.intermediate.dense.weight', 'p_model.bert.encoder.layer.21.attention.output.LayerNorm.bias', 'p_model.bert.encoder.layer.18.attention.self.key.weight', 'q_model.bert.encoder.layer.15.output.LayerNorm.bias', 'q_model.bert.encoder.layer.0.attention.self.value.bias', 'q_model.bert.encoder.layer.11.attention.output.dense.weight', 'q_model.bert.encoder.layer.18.output.LayerNorm.weight', 'q_model.bert.encoder.layer.15.attention.output.LayerNorm.bias', 'p_model.bert.encoder.layer.11.attention.output.LayerNorm.bias', 'q_model.bert.encoder.layer.6.attention.self.query.bias', 'q_model.bert.encoder.layer.7.attention.self.value.bias', 'p_model.bert.encoder.layer.15.attention.self.value.bias', 'q_model.bert.encoder.layer.13.output.LayerNorm.bias', 'q_model.bert.encoder.layer.15.attention.self.query.bias', 'q_model.bert.encoder.layer.8.output.dense.bias', 'q_model.bert.encoder.layer.9.output.LayerNorm.bias', 'p_model.bert.encoder.layer.7.output.LayerNorm.weight', 'q_model.bert.encoder.layer.8.attention.output.LayerNorm.bias', 'p_model.bert.encoder.layer.22.intermediate.dense.weight', 'q_model.bert.encoder.layer.17.attention.self.value.weight', 'q_model.bert.encoder.layer.18.attention.output.dense.weight', 'q_model.bert.encoder.layer.9.attention.output.LayerNorm.weight', 'q_model.bert.encoder.layer.17.attention.output.dense.bias', 'p_model.bert.embeddings.token_type_embeddings.weight', 'p_model.bert.encoder.layer.11.output.LayerNorm.bias', 'p_model.bert.encoder.layer.4.output.LayerNorm.bias', 'p_model.bert.encoder.layer.10.intermediate.dense.bias']\n",
      "- This IS expected if you are initializing RobertaModel from the checkpoint of a model trained on another task or with another architecture (e.g. initializing a BertForSequenceClassification model from a BertForPreTraining model).\n",
      "- This IS NOT expected if you are initializing RobertaModel from the checkpoint of a model that you expect to be exactly identical (initializing a BertForSequenceClassification model from a BertForSequenceClassification model).\n",
      "Some weights of RobertaModel were not initialized from the model checkpoint at ./Dense_embedding_retrieval_model_results/checkpoint-741 and are newly initialized: ['encoder.layer.9.attention.self.key.weight', 'encoder.layer.23.attention.self.value.weight', 'encoder.layer.6.output.dense.bias', 'encoder.layer.2.attention.output.LayerNorm.bias', 'encoder.layer.17.output.dense.bias', 'encoder.layer.5.output.dense.bias', 'encoder.layer.20.output.dense.bias', 'encoder.layer.8.attention.output.LayerNorm.weight', 'encoder.layer.12.intermediate.dense.weight', 'encoder.layer.21.output.LayerNorm.bias', 'encoder.layer.14.output.LayerNorm.bias', 'encoder.layer.14.output.dense.bias', 'encoder.layer.15.output.LayerNorm.weight', 'encoder.layer.0.attention.self.key.bias', 'encoder.layer.14.attention.self.query.bias', 'encoder.layer.22.attention.self.key.weight', 'encoder.layer.4.intermediate.dense.bias', 'encoder.layer.18.attention.self.value.bias', 'encoder.layer.23.intermediate.dense.weight', 'encoder.layer.18.attention.output.LayerNorm.weight', 'encoder.layer.11.attention.self.key.bias', 'encoder.layer.5.attention.self.key.bias', 'encoder.layer.0.attention.output.dense.weight', 'encoder.layer.11.attention.self.query.bias', 'encoder.layer.13.attention.output.dense.weight', 'encoder.layer.3.attention.self.value.weight', 'encoder.layer.13.intermediate.dense.bias', 'encoder.layer.22.intermediate.dense.bias', 'encoder.layer.7.attention.output.LayerNorm.weight', 'encoder.layer.13.attention.output.LayerNorm.bias', 'encoder.layer.18.intermediate.dense.weight', 'encoder.layer.10.attention.self.query.bias', 'encoder.layer.9.output.dense.bias', 'encoder.layer.20.attention.self.query.weight', 'encoder.layer.14.attention.self.value.weight', 'encoder.layer.4.output.dense.bias', 'encoder.layer.6.output.dense.weight', 'encoder.layer.5.attention.output.LayerNorm.weight', 'encoder.layer.10.attention.self.value.bias', 'encoder.layer.20.attention.output.LayerNorm.bias', 'encoder.layer.22.output.dense.bias', 'encoder.layer.1.attention.self.query.bias', 'encoder.layer.6.attention.self.value.bias', 'encoder.layer.0.attention.output.LayerNorm.weight', 'encoder.layer.12.attention.output.dense.bias', 'encoder.layer.17.output.dense.weight', 'encoder.layer.17.intermediate.dense.bias', 'encoder.layer.7.attention.self.value.weight', 'encoder.layer.23.output.LayerNorm.weight', 'encoder.layer.17.attention.self.query.bias', 'encoder.layer.4.attention.output.LayerNorm.weight', 'encoder.layer.19.attention.output.LayerNorm.weight', 'encoder.layer.12.attention.self.query.bias', 'encoder.layer.12.attention.self.query.weight', 'encoder.layer.21.intermediate.dense.weight', 'encoder.layer.7.intermediate.dense.bias', 'encoder.layer.3.attention.self.key.bias', 'encoder.layer.2.attention.self.value.weight', 'encoder.layer.1.attention.self.key.bias', 'encoder.layer.0.intermediate.dense.weight', 'encoder.layer.9.output.LayerNorm.bias', 'encoder.layer.20.attention.self.value.bias', 'encoder.layer.18.output.dense.bias', 'encoder.layer.5.attention.output.dense.bias', 'encoder.layer.14.intermediate.dense.weight', 'encoder.layer.10.attention.output.LayerNorm.weight', 'encoder.layer.7.output.LayerNorm.weight', 'encoder.layer.4.attention.output.dense.weight', 'encoder.layer.10.attention.self.key.weight', 'encoder.layer.7.attention.self.query.bias', 'encoder.layer.12.output.LayerNorm.weight', 'encoder.layer.22.attention.output.dense.weight', 'encoder.layer.11.attention.output.dense.weight', 'encoder.layer.16.output.LayerNorm.bias', 'encoder.layer.16.output.LayerNorm.weight', 'encoder.layer.12.attention.self.key.bias', 'encoder.layer.20.attention.output.dense.bias', 'encoder.layer.12.attention.self.value.weight', 'encoder.layer.14.attention.self.value.bias', 'encoder.layer.10.attention.self.query.weight', 'encoder.layer.1.attention.self.key.weight', 'encoder.layer.18.attention.self.key.bias', 'encoder.layer.2.attention.self.key.bias', 'encoder.layer.5.attention.output.dense.weight', 'encoder.layer.15.output.dense.weight', 'encoder.layer.15.attention.self.key.weight', 'encoder.layer.9.intermediate.dense.weight', 'encoder.layer.8.attention.self.value.bias', 'encoder.layer.3.attention.output.LayerNorm.bias', 'encoder.layer.11.attention.output.dense.bias', 'encoder.layer.22.output.dense.weight', 'encoder.layer.5.attention.self.key.weight', 'encoder.layer.14.attention.output.dense.bias', 'encoder.layer.0.attention.output.LayerNorm.bias', 'encoder.layer.9.attention.output.LayerNorm.weight', 'encoder.layer.3.attention.output.dense.weight', 'encoder.layer.8.attention.self.value.weight', 'encoder.layer.4.intermediate.dense.weight', 'encoder.layer.1.attention.self.query.weight', 'encoder.layer.6.intermediate.dense.weight', 'encoder.layer.9.output.dense.weight', 'encoder.layer.7.attention.self.key.weight', 'embeddings.word_embeddings.weight', 'encoder.layer.20.attention.self.query.bias', 'encoder.layer.0.attention.output.dense.bias', 'encoder.layer.13.attention.self.key.weight', 'encoder.layer.6.attention.output.LayerNorm.bias', 'encoder.layer.2.attention.output.dense.weight', 'encoder.layer.22.attention.self.value.bias', 'encoder.layer.17.attention.output.dense.weight', 'encoder.layer.11.attention.self.value.bias', 'encoder.layer.3.attention.self.query.bias', 'encoder.layer.1.attention.output.dense.bias', 'encoder.layer.18.attention.self.value.weight', 'encoder.layer.5.output.dense.weight', 'encoder.layer.12.attention.output.dense.weight', 'encoder.layer.10.attention.output.dense.bias', 'encoder.layer.2.output.LayerNorm.bias', 'encoder.layer.22.attention.self.value.weight', 'encoder.layer.16.intermediate.dense.weight', 'encoder.layer.4.attention.self.key.bias', 'encoder.layer.2.intermediate.dense.bias', 'encoder.layer.3.intermediate.dense.bias', 'encoder.layer.22.attention.output.dense.bias', 'encoder.layer.10.attention.output.LayerNorm.bias', 'encoder.layer.20.output.dense.weight', 'encoder.layer.11.output.dense.weight', 'encoder.layer.4.output.LayerNorm.weight', 'encoder.layer.7.attention.output.dense.bias', 'encoder.layer.22.attention.self.key.bias', 'encoder.layer.14.output.dense.weight', 'encoder.layer.1.attention.self.value.bias', 'encoder.layer.23.attention.output.LayerNorm.bias', 'pooler.dense.bias', 'encoder.layer.21.attention.self.value.bias', 'encoder.layer.8.intermediate.dense.bias', 'encoder.layer.3.attention.self.key.weight', 'encoder.layer.13.output.dense.bias', 'encoder.layer.0.output.dense.weight', 'encoder.layer.4.output.dense.weight', 'encoder.layer.17.attention.self.key.weight', 'encoder.layer.20.attention.self.key.bias', 'encoder.layer.5.intermediate.dense.weight', 'encoder.layer.18.attention.output.LayerNorm.bias', 'encoder.layer.20.attention.output.dense.weight', 'encoder.layer.16.attention.self.value.weight', 'encoder.layer.3.attention.output.LayerNorm.weight', 'encoder.layer.16.attention.self.key.weight', 'encoder.layer.16.intermediate.dense.bias', 'encoder.layer.1.output.dense.bias', 'encoder.layer.21.attention.output.dense.bias', 'encoder.layer.6.attention.output.dense.weight', 'encoder.layer.15.attention.output.LayerNorm.bias', 'encoder.layer.8.attention.self.query.weight', 'encoder.layer.23.attention.self.query.weight', 'encoder.layer.5.attention.self.query.weight', 'encoder.layer.9.attention.output.LayerNorm.bias', 'encoder.layer.13.output.LayerNorm.weight', 'encoder.layer.4.attention.self.value.weight', 'encoder.layer.21.attention.self.value.weight', 'encoder.layer.9.attention.self.value.weight', 'encoder.layer.9.output.LayerNorm.weight', 'encoder.layer.1.attention.output.dense.weight', 'encoder.layer.21.attention.self.key.bias', 'encoder.layer.18.output.dense.weight', 'encoder.layer.14.intermediate.dense.bias', 'encoder.layer.22.output.LayerNorm.bias', 'encoder.layer.2.attention.self.key.weight', 'encoder.layer.7.attention.self.value.bias', 'encoder.layer.23.attention.self.query.bias', 'encoder.layer.22.intermediate.dense.weight', 'encoder.layer.13.attention.self.key.bias', 'encoder.layer.19.attention.self.query.weight', 'encoder.layer.14.attention.output.LayerNorm.bias', 'encoder.layer.9.attention.self.key.bias', 'encoder.layer.7.output.dense.weight', 'encoder.layer.3.intermediate.dense.weight', 'encoder.layer.18.attention.output.dense.bias', 'encoder.layer.12.intermediate.dense.bias', 'encoder.layer.2.attention.output.dense.bias', 'encoder.layer.10.output.LayerNorm.bias', 'encoder.layer.13.attention.self.value.weight', 'encoder.layer.17.attention.output.LayerNorm.weight', 'encoder.layer.4.output.LayerNorm.bias', 'embeddings.LayerNorm.bias', 'encoder.layer.1.output.LayerNorm.weight', 'encoder.layer.5.intermediate.dense.bias', 'encoder.layer.13.attention.output.dense.bias', 'encoder.layer.13.output.dense.weight', 'encoder.layer.16.attention.self.key.bias', 'encoder.layer.15.intermediate.dense.bias', 'encoder.layer.17.attention.output.dense.bias', 'encoder.layer.18.output.LayerNorm.weight', 'encoder.layer.14.attention.self.key.bias', 'encoder.layer.0.attention.self.query.weight', 'encoder.layer.17.output.LayerNorm.bias', 'pooler.dense.weight', 'encoder.layer.1.output.dense.weight', 'encoder.layer.16.attention.self.query.weight', 'encoder.layer.7.attention.output.LayerNorm.bias', 'encoder.layer.22.output.LayerNorm.weight', 'encoder.layer.15.attention.self.key.bias', 'encoder.layer.15.attention.self.value.bias', 'encoder.layer.10.intermediate.dense.weight', 'encoder.layer.19.intermediate.dense.weight', 'encoder.layer.5.output.LayerNorm.bias', 'encoder.layer.8.attention.output.LayerNorm.bias', 'encoder.layer.23.output.LayerNorm.bias', 'encoder.layer.6.output.LayerNorm.bias', 'embeddings.position_embeddings.weight', 'encoder.layer.1.output.LayerNorm.bias', 'encoder.layer.11.attention.output.LayerNorm.bias', 'encoder.layer.2.output.dense.weight', 'encoder.layer.16.attention.self.value.bias', 'encoder.layer.8.attention.self.query.bias', 'encoder.layer.2.output.dense.bias', 'encoder.layer.8.intermediate.dense.weight', 'encoder.layer.3.output.LayerNorm.weight', 'encoder.layer.22.attention.self.query.weight', 'encoder.layer.21.output.dense.bias', 'encoder.layer.19.attention.self.value.bias', 'encoder.layer.1.attention.output.LayerNorm.bias', 'encoder.layer.0.output.dense.bias', 'encoder.layer.19.output.dense.bias', 'encoder.layer.19.attention.output.dense.bias', 'encoder.layer.17.attention.self.value.weight', 'encoder.layer.0.attention.self.query.bias', 'encoder.layer.16.attention.output.dense.bias', 'encoder.layer.19.attention.output.LayerNorm.bias', 'encoder.layer.13.attention.self.value.bias', 'encoder.layer.13.attention.self.query.bias', 'encoder.layer.14.output.LayerNorm.weight', 'encoder.layer.21.attention.self.query.bias', 'encoder.layer.10.output.dense.weight', 'encoder.layer.8.attention.output.dense.bias', 'encoder.layer.0.attention.self.value.bias', 'encoder.layer.12.attention.output.LayerNorm.bias', 'encoder.layer.19.attention.self.key.bias', 'encoder.layer.21.attention.output.dense.weight', 'encoder.layer.0.attention.self.value.weight', 'encoder.layer.8.output.LayerNorm.weight', 'encoder.layer.2.output.LayerNorm.weight', 'encoder.layer.2.intermediate.dense.weight', 'encoder.layer.23.attention.self.value.bias', 'encoder.layer.18.attention.output.dense.weight', 'encoder.layer.6.output.LayerNorm.weight', 'encoder.layer.10.attention.output.dense.weight', 'encoder.layer.17.output.LayerNorm.weight', 'encoder.layer.18.attention.self.query.weight', 'encoder.layer.23.attention.self.key.bias', 'encoder.layer.11.intermediate.dense.bias', 'encoder.layer.0.output.LayerNorm.weight', 'encoder.layer.6.attention.self.query.weight', 'encoder.layer.9.attention.output.dense.weight', 'encoder.layer.9.intermediate.dense.bias', 'encoder.layer.11.attention.output.LayerNorm.weight', 'encoder.layer.16.attention.self.query.bias', 'encoder.layer.22.attention.self.query.bias', 'encoder.layer.0.output.LayerNorm.bias', 'encoder.layer.4.attention.self.query.weight', 'encoder.layer.19.attention.self.value.weight', 'encoder.layer.15.attention.self.query.bias', 'encoder.layer.7.attention.self.query.weight', 'encoder.layer.6.attention.self.key.bias', 'encoder.layer.21.attention.self.query.weight', 'encoder.layer.10.attention.self.key.bias', 'encoder.layer.21.output.dense.weight', 'encoder.layer.10.output.LayerNorm.weight', 'encoder.layer.13.attention.self.query.weight', 'encoder.layer.19.intermediate.dense.bias', 'encoder.layer.3.attention.output.dense.bias', 'encoder.layer.17.attention.self.query.weight', 'encoder.layer.17.attention.output.LayerNorm.bias', 'encoder.layer.6.attention.output.LayerNorm.weight', 'encoder.layer.15.intermediate.dense.weight', 'encoder.layer.8.output.dense.bias', 'encoder.layer.17.attention.self.value.bias', 'encoder.layer.18.intermediate.dense.bias', 'encoder.layer.17.attention.self.key.bias', 'encoder.layer.9.attention.self.query.weight', 'encoder.layer.20.intermediate.dense.bias', 'encoder.layer.1.intermediate.dense.bias', 'encoder.layer.7.output.dense.bias', 'encoder.layer.23.intermediate.dense.bias', 'encoder.layer.9.attention.output.dense.bias', 'encoder.layer.20.output.LayerNorm.weight', 'encoder.layer.8.attention.self.key.weight', 'encoder.layer.18.output.LayerNorm.bias', 'encoder.layer.21.output.LayerNorm.weight', 'encoder.layer.0.attention.self.key.weight', 'encoder.layer.4.attention.self.key.weight', 'encoder.layer.14.attention.self.query.weight', 'encoder.layer.22.attention.output.LayerNorm.weight', 'encoder.layer.11.output.LayerNorm.weight', 'encoder.layer.20.intermediate.dense.weight', 'encoder.layer.5.attention.self.value.bias', 'encoder.layer.17.intermediate.dense.weight', 'encoder.layer.8.output.dense.weight', 'encoder.layer.12.attention.self.value.bias', 'encoder.layer.20.attention.self.value.weight', 'encoder.layer.4.attention.self.query.bias', 'encoder.layer.2.attention.output.LayerNorm.weight', 'encoder.layer.1.attention.output.LayerNorm.weight', 'encoder.layer.11.attention.self.value.weight', 'encoder.layer.16.output.dense.bias', 'encoder.layer.5.output.LayerNorm.weight', 'encoder.layer.3.output.dense.bias', 'encoder.layer.15.output.dense.bias', 'encoder.layer.15.attention.output.dense.bias', 'encoder.layer.8.attention.output.dense.weight', 'embeddings.LayerNorm.weight', 'encoder.layer.5.attention.output.LayerNorm.bias', 'encoder.layer.6.attention.self.key.weight', 'encoder.layer.22.attention.output.LayerNorm.bias', 'encoder.layer.4.attention.output.LayerNorm.bias', 'encoder.layer.16.output.dense.weight', 'encoder.layer.20.output.LayerNorm.bias', 'encoder.layer.16.attention.output.dense.weight', 'encoder.layer.18.attention.self.query.bias', 'encoder.layer.6.attention.self.value.weight', 'encoder.layer.12.attention.self.key.weight', 'encoder.layer.19.output.LayerNorm.weight', 'encoder.layer.19.output.dense.weight', 'encoder.layer.16.attention.output.LayerNorm.bias', 'encoder.layer.15.output.LayerNorm.bias', 'encoder.layer.19.attention.self.key.weight', 'encoder.layer.3.attention.self.query.weight', 'encoder.layer.7.intermediate.dense.weight', 'encoder.layer.23.attention.output.dense.bias', 'encoder.layer.2.attention.self.query.weight', 'encoder.layer.2.attention.self.value.bias', 'encoder.layer.12.output.LayerNorm.bias', 'encoder.layer.14.attention.output.LayerNorm.weight', 'encoder.layer.15.attention.self.query.weight', 'encoder.layer.7.attention.self.key.bias', 'encoder.layer.3.output.LayerNorm.bias', 'encoder.layer.12.attention.output.LayerNorm.weight', 'encoder.layer.8.attention.self.key.bias', 'encoder.layer.15.attention.self.value.weight', 'encoder.layer.5.attention.self.value.weight', 'encoder.layer.20.attention.self.key.weight', 'encoder.layer.23.output.dense.bias', 'encoder.layer.10.intermediate.dense.bias', 'encoder.layer.10.output.dense.bias', 'encoder.layer.21.intermediate.dense.bias', 'encoder.layer.6.attention.self.query.bias', 'encoder.layer.4.attention.output.dense.bias', 'encoder.layer.13.intermediate.dense.weight', 'encoder.layer.5.attention.self.query.bias', 'encoder.layer.15.attention.output.LayerNorm.weight', 'encoder.layer.13.output.LayerNorm.bias', 'encoder.layer.13.attention.output.LayerNorm.weight', 'encoder.layer.15.attention.output.dense.weight', 'encoder.layer.23.attention.output.LayerNorm.weight', 'encoder.layer.11.intermediate.dense.weight', 'encoder.layer.11.output.dense.bias', 'encoder.layer.14.attention.self.key.weight', 'encoder.layer.3.attention.self.value.bias', 'encoder.layer.8.output.LayerNorm.bias', 'encoder.layer.23.attention.output.dense.weight', 'encoder.layer.19.attention.self.query.bias', 'encoder.layer.0.intermediate.dense.bias', 'encoder.layer.4.attention.self.value.bias', 'encoder.layer.3.output.dense.weight', 'encoder.layer.7.output.LayerNorm.bias', 'encoder.layer.9.attention.self.query.bias', 'encoder.layer.21.attention.self.key.weight', 'encoder.layer.1.attention.self.value.weight', 'encoder.layer.10.attention.self.value.weight', 'encoder.layer.12.output.dense.bias', 'encoder.layer.16.attention.output.LayerNorm.weight', 'encoder.layer.23.attention.self.key.weight', 'embeddings.token_type_embeddings.weight', 'encoder.layer.12.output.dense.weight', 'encoder.layer.21.attention.output.LayerNorm.bias', 'encoder.layer.11.output.LayerNorm.bias', 'encoder.layer.2.attention.self.query.bias', 'encoder.layer.11.attention.self.query.weight', 'encoder.layer.6.intermediate.dense.bias', 'encoder.layer.6.attention.output.dense.bias', 'encoder.layer.1.intermediate.dense.weight', 'encoder.layer.20.attention.output.LayerNorm.weight', 'encoder.layer.23.output.dense.weight', 'encoder.layer.14.attention.output.dense.weight', 'encoder.layer.19.attention.output.dense.weight', 'encoder.layer.18.attention.self.key.weight', 'encoder.layer.9.attention.self.value.bias', 'encoder.layer.21.attention.output.LayerNorm.weight', 'encoder.layer.7.attention.output.dense.weight', 'encoder.layer.11.attention.self.key.weight', 'encoder.layer.19.output.LayerNorm.bias']\n",
      "You should probably TRAIN this model on a down-stream task to be able to use it for predictions and inference.\n"
     ]
    },
    {
     "name": "stdout",
     "output_type": "stream",
     "text": [
      "bestmodel 체크포인트로 모델과 Trainer가 로드되었습니다.\n",
      "BM25로 100개를 가져온 뒤 Dense retrieval로 40개의 문서를 찾습니다.\n",
      "Data route: /data/ephemeral/data/train_dataset\n",
      "Test data route: /data/ephemeral/data/test_dataset\n",
      "Wiki route: /data/ephemeral/data/wikipedia_documents.json\n",
      "Data path: ./bm25_retrieval_result\n"
     ]
    },
    {
     "name": "stderr",
     "output_type": "stream",
     "text": [
      "Token indices sequence length is longer than the specified maximum sequence length for this model (1131 > 512). Running this sequence through the model will result in indexing errors\n"
     ]
    },
    {
     "name": "stdout",
     "output_type": "stream",
     "text": [
      "File loaded successfully\n",
      "위키 컨텍스트의 수: 56737\n"
     ]
    },
    {
     "name": "stderr",
     "output_type": "stream",
     "text": [
      "BM25 retrieval: 100%|██████████| 600/600 [00:00<00:00, 16717.37it/s]\n",
      "sequential reranking: 100%|██████████| 600/600 [29:10<00:00,  2.92s/it]\n"
     ]
    },
    {
     "name": "stdout",
     "output_type": "stream",
     "text": [
      "Reranked result saved to ./reranked/reranked_result.pkl\n"
     ]
    }
   ],
   "source": [
    "# 리랭킹 과정\n",
    "from retrieval import Dense_embedding_retrieval, BM25Search\n",
    "from MRC import Extraction_based_MRC\n",
    "import pickle\n",
    "import os\n",
    "\n",
    "dense_retriever = Dense_embedding_retrieval()\n",
    "bm25 = BM25Search()\n",
    "\n",
    "#Dense retriever 모델 로드 \n",
    "dense_retriever.load_model()\n",
    "\n",
    "# Reranking Retreiver 생성\n",
    "reranked_result = dense_retriever.sequential_reranking(mode='test')\n",
    "\n",
    "save_path = \"./reranked/reranked_result.pkl\"\n",
    "\n",
    "os.makedirs(os.path.dirname(save_path), exist_ok=True)\n",
    "\n",
    "# Pickle을 사용해 저장\n",
    "with open(save_path, 'wb') as f:\n",
    "    pickle.dump(reranked_result, f)\n",
    "\n",
    "print(f\"Reranked result saved to {save_path}\")"
   ]
  },
  {
   "cell_type": "code",
   "execution_count": 1,
   "metadata": {},
   "outputs": [
    {
     "name": "stderr",
     "output_type": "stream",
     "text": [
      "/opt/conda/lib/python3.10/site-packages/tqdm/auto.py:21: TqdmWarning: IProgress not found. Please update jupyter and ipywidgets. See https://ipywidgets.readthedocs.io/en/stable/user_install.html\n",
      "  from .autonotebook import tqdm as notebook_tqdm\n"
     ]
    },
    {
     "name": "stdout",
     "output_type": "stream",
     "text": [
      "|===========================================================================|\n",
      "|                  PyTorch CUDA memory summary, device ID 0                 |\n",
      "|---------------------------------------------------------------------------|\n",
      "|            CUDA OOMs: 0            |        cudaMalloc retries: 0         |\n",
      "|===========================================================================|\n",
      "|        Metric         | Cur Usage  | Peak Usage | Tot Alloc  | Tot Freed  |\n",
      "|---------------------------------------------------------------------------|\n",
      "| Allocated memory      |       0 B  |       0 B  |       0 B  |       0 B  |\n",
      "|       from large pool |       0 B  |       0 B  |       0 B  |       0 B  |\n",
      "|       from small pool |       0 B  |       0 B  |       0 B  |       0 B  |\n",
      "|---------------------------------------------------------------------------|\n",
      "| Active memory         |       0 B  |       0 B  |       0 B  |       0 B  |\n",
      "|       from large pool |       0 B  |       0 B  |       0 B  |       0 B  |\n",
      "|       from small pool |       0 B  |       0 B  |       0 B  |       0 B  |\n",
      "|---------------------------------------------------------------------------|\n",
      "| GPU reserved memory   |       0 B  |       0 B  |       0 B  |       0 B  |\n",
      "|       from large pool |       0 B  |       0 B  |       0 B  |       0 B  |\n",
      "|       from small pool |       0 B  |       0 B  |       0 B  |       0 B  |\n",
      "|---------------------------------------------------------------------------|\n",
      "| Non-releasable memory |       0 B  |       0 B  |       0 B  |       0 B  |\n",
      "|       from large pool |       0 B  |       0 B  |       0 B  |       0 B  |\n",
      "|       from small pool |       0 B  |       0 B  |       0 B  |       0 B  |\n",
      "|---------------------------------------------------------------------------|\n",
      "| Allocations           |       0    |       0    |       0    |       0    |\n",
      "|       from large pool |       0    |       0    |       0    |       0    |\n",
      "|       from small pool |       0    |       0    |       0    |       0    |\n",
      "|---------------------------------------------------------------------------|\n",
      "| Active allocs         |       0    |       0    |       0    |       0    |\n",
      "|       from large pool |       0    |       0    |       0    |       0    |\n",
      "|       from small pool |       0    |       0    |       0    |       0    |\n",
      "|---------------------------------------------------------------------------|\n",
      "| GPU reserved segments |       0    |       0    |       0    |       0    |\n",
      "|       from large pool |       0    |       0    |       0    |       0    |\n",
      "|       from small pool |       0    |       0    |       0    |       0    |\n",
      "|---------------------------------------------------------------------------|\n",
      "| Non-releasable allocs |       0    |       0    |       0    |       0    |\n",
      "|       from large pool |       0    |       0    |       0    |       0    |\n",
      "|       from small pool |       0    |       0    |       0    |       0    |\n",
      "|---------------------------------------------------------------------------|\n",
      "| Oversize allocations  |       0    |       0    |       0    |       0    |\n",
      "|---------------------------------------------------------------------------|\n",
      "| Oversize GPU segments |       0    |       0    |       0    |       0    |\n",
      "|===========================================================================|\n",
      "\n"
     ]
    }
   ],
   "source": [
    "import torch\n",
    "\n",
    "# GPU 메모리 캐시를 해제\n",
    "torch.cuda.empty_cache()\n",
    "\n",
    "# CUDA 메모리 통계 확인 (optional)\n",
    "print(torch.cuda.memory_summary())"
   ]
  },
  {
   "cell_type": "code",
   "execution_count": 2,
   "metadata": {},
   "outputs": [
    {
     "name": "stdout",
     "output_type": "stream",
     "text": [
      "Reranked result loaded successfully\n"
     ]
    }
   ],
   "source": [
    "import pickle\n",
    "\n",
    "# 저장된 reranked_result 로드\n",
    "load_path = \"./reranked/reranked_result.pkl\"\n",
    "\n",
    "with open(load_path, 'rb') as f:\n",
    "    reranked_result = pickle.load(f)\n",
    "\n",
    "print(\"Reranked result loaded successfully\")"
   ]
  },
  {
   "cell_type": "code",
   "execution_count": 3,
   "metadata": {},
   "outputs": [
    {
     "name": "stderr",
     "output_type": "stream",
     "text": [
      "[nltk_data] Downloading package punkt to\n",
      "[nltk_data]     /data/ephemeral/home/nltk_data...\n",
      "[nltk_data]   Package punkt is already up-to-date!\n",
      "Some weights of the model checkpoint at snunlp/KR-ELECTRA-discriminator were not used when initializing ElectraForQuestionAnswering: ['discriminator_predictions.dense_prediction.bias', 'discriminator_predictions.dense.bias', 'discriminator_predictions.dense.weight', 'discriminator_predictions.dense_prediction.weight']\n",
      "- This IS expected if you are initializing ElectraForQuestionAnswering from the checkpoint of a model trained on another task or with another architecture (e.g. initializing a BertForSequenceClassification model from a BertForPreTraining model).\n",
      "- This IS NOT expected if you are initializing ElectraForQuestionAnswering from the checkpoint of a model that you expect to be exactly identical (initializing a BertForSequenceClassification model from a BertForSequenceClassification model).\n",
      "Some weights of ElectraForQuestionAnswering were not initialized from the model checkpoint at snunlp/KR-ELECTRA-discriminator and are newly initialized: ['qa_outputs.weight', 'qa_outputs.bias']\n",
      "You should probably TRAIN this model on a down-stream task to be able to use it for predictions and inference.\n",
      "\u001b[34m\u001b[1mwandb\u001b[0m: Using wandb-core as the SDK backend. Please refer to https://wandb.me/wandb-core for more information.\n",
      "\u001b[34m\u001b[1mwandb\u001b[0m: W&B API key is configured. Use \u001b[1m`wandb login --relogin`\u001b[0m to force relogin\n"
     ]
    },
    {
     "data": {
      "text/html": [
       "Tracking run with wandb version 0.18.3"
      ],
      "text/plain": [
       "<IPython.core.display.HTML object>"
      ]
     },
     "metadata": {},
     "output_type": "display_data"
    },
    {
     "data": {
      "text/html": [
       "Run data is saved locally in <code>/data/ephemeral/Jung/level2-mrc-nlp-10/Template/wandb/run-20241023_145810-dlwynlov</code>"
      ],
      "text/plain": [
       "<IPython.core.display.HTML object>"
      ]
     },
     "metadata": {},
     "output_type": "display_data"
    },
    {
     "data": {
      "text/html": [
       "Syncing run <strong><a href='https://wandb.ai/kimybjg2-boostcampaitech/Dense_embedding_retrieval/runs/dlwynlov' target=\"_blank\">wise-sun-879</a></strong> to <a href='https://wandb.ai/kimybjg2-boostcampaitech/Dense_embedding_retrieval' target=\"_blank\">Weights & Biases</a> (<a href='https://wandb.me/run' target=\"_blank\">docs</a>)<br/>"
      ],
      "text/plain": [
       "<IPython.core.display.HTML object>"
      ]
     },
     "metadata": {},
     "output_type": "display_data"
    },
    {
     "data": {
      "text/html": [
       " View project at <a href='https://wandb.ai/kimybjg2-boostcampaitech/Dense_embedding_retrieval' target=\"_blank\">https://wandb.ai/kimybjg2-boostcampaitech/Dense_embedding_retrieval</a>"
      ],
      "text/plain": [
       "<IPython.core.display.HTML object>"
      ]
     },
     "metadata": {},
     "output_type": "display_data"
    },
    {
     "data": {
      "text/html": [
       " View run at <a href='https://wandb.ai/kimybjg2-boostcampaitech/Dense_embedding_retrieval/runs/dlwynlov' target=\"_blank\">https://wandb.ai/kimybjg2-boostcampaitech/Dense_embedding_retrieval/runs/dlwynlov</a>"
      ],
      "text/plain": [
       "<IPython.core.display.HTML object>"
      ]
     },
     "metadata": {},
     "output_type": "display_data"
    },
    {
     "name": "stderr",
     "output_type": "stream",
     "text": [
      "Using cuda_amp half precision backend\n",
      "Map: 100%|██████████| 3952/3952 [00:13<00:00, 302.74 examples/s]\n",
      "Map: 100%|██████████| 5936/5936 [00:07<00:00, 759.62 examples/s]\n"
     ]
    },
    {
     "name": "stdout",
     "output_type": "stream",
     "text": [
      "train_dataset을 넣지 않아 기존에 주어진 train dataset으로 학습합니다.\n"
     ]
    },
    {
     "name": "stderr",
     "output_type": "stream",
     "text": [
      "Map: 100%|██████████| 240/240 [00:00<00:00, 294.37 examples/s]\n",
      "***** Running training *****\n",
      "  Num examples = 5936\n",
      "  Num Epochs = 4\n",
      "  Instantaneous batch size per device = 32\n",
      "  Total train batch size (w. parallel, distributed & accumulation) = 32\n",
      "  Gradient Accumulation steps = 1\n",
      "  Total optimization steps = 744\n",
      "  Number of trainable parameters = 108492290\n",
      "Automatic Weights & Biases logging enabled, to disable set os.environ[\"WANDB_DISABLED\"] = \"true\"\n",
      "You're using a ElectraTokenizerFast tokenizer. Please note that with a fast tokenizer, using the `__call__` method is faster than using a method to encode the text followed by a call to the `pad` method to get a padded encoding.\n"
     ]
    },
    {
     "name": "stdout",
     "output_type": "stream",
     "text": [
      "eval_dataset을 넣지 않아 기존에 주어진 eval_dataset으로 평가합니다.\n"
     ]
    },
    {
     "data": {
      "text/html": [
       "\n",
       "    <div>\n",
       "      \n",
       "      <progress value='744' max='744' style='width:300px; height:20px; vertical-align: middle;'></progress>\n",
       "      [744/744 05:16, Epoch 4/4]\n",
       "    </div>\n",
       "    <table border=\"1\" class=\"dataframe\">\n",
       "  <thead>\n",
       " <tr style=\"text-align: left;\">\n",
       "      <th>Epoch</th>\n",
       "      <th>Training Loss</th>\n",
       "      <th>Validation Loss</th>\n",
       "      <th>Match</th>\n",
       "      <th></th>\n",
       "    </tr>\n",
       "  </thead>\n",
       "  <tbody>\n",
       "    <tr>\n",
       "      <td>1</td>\n",
       "      <td>3.168800</td>\n",
       "      <td>1.948205</td>\n",
       "      <td>41.666667</td>\n",
       "      <td>49.924964</td>\n",
       "    </tr>\n",
       "    <tr>\n",
       "      <td>2</td>\n",
       "      <td>1.517600</td>\n",
       "      <td>1.589064</td>\n",
       "      <td>52.083333</td>\n",
       "      <td>59.898112</td>\n",
       "    </tr>\n",
       "    <tr>\n",
       "      <td>3</td>\n",
       "      <td>0.922500</td>\n",
       "      <td>1.619457</td>\n",
       "      <td>53.333333</td>\n",
       "      <td>61.152553</td>\n",
       "    </tr>\n",
       "    <tr>\n",
       "      <td>4</td>\n",
       "      <td>0.661500</td>\n",
       "      <td>1.660255</td>\n",
       "      <td>55.416667</td>\n",
       "      <td>62.819220</td>\n",
       "    </tr>\n",
       "  </tbody>\n",
       "</table><p>"
      ],
      "text/plain": [
       "<IPython.core.display.HTML object>"
      ]
     },
     "metadata": {},
     "output_type": "display_data"
    },
    {
     "name": "stderr",
     "output_type": "stream",
     "text": [
      "The following columns in the evaluation set don't have a corresponding argument in `ElectraForQuestionAnswering.forward` and have been ignored: example_id, offset_mapping. If example_id, offset_mapping are not expected by `ElectraForQuestionAnswering.forward`,  you can safely ignore this message.\n",
      "***** Running Evaluation *****\n",
      "  Num examples = 365\n",
      "  Batch size = 32\n",
      "100%|██████████| 240/240 [00:01<00:00, 143.70it/s]\n"
     ]
    },
    {
     "name": "stdout",
     "output_type": "stream",
     "text": [
      "Dataset({\n",
      "    features: ['title', 'context', 'question', 'id', 'answers', 'document_id', '__index_level_0__'],\n",
      "    num_rows: 240\n",
      "})\n"
     ]
    },
    {
     "name": "stderr",
     "output_type": "stream",
     "text": [
      "Saving model checkpoint to ./Extraction_based_MRC_outputs_KR-ELECTRA-discriminator/checkpoint-186\n",
      "Configuration saved in ./Extraction_based_MRC_outputs_KR-ELECTRA-discriminator/checkpoint-186/config.json\n",
      "Model weights saved in ./Extraction_based_MRC_outputs_KR-ELECTRA-discriminator/checkpoint-186/pytorch_model.bin\n",
      "tokenizer config file saved in ./Extraction_based_MRC_outputs_KR-ELECTRA-discriminator/checkpoint-186/tokenizer_config.json\n",
      "Special tokens file saved in ./Extraction_based_MRC_outputs_KR-ELECTRA-discriminator/checkpoint-186/special_tokens_map.json\n",
      "The following columns in the evaluation set don't have a corresponding argument in `ElectraForQuestionAnswering.forward` and have been ignored: example_id, offset_mapping. If example_id, offset_mapping are not expected by `ElectraForQuestionAnswering.forward`,  you can safely ignore this message.\n",
      "***** Running Evaluation *****\n",
      "  Num examples = 365\n",
      "  Batch size = 32\n",
      "100%|██████████| 240/240 [00:01<00:00, 143.56it/s]\n"
     ]
    },
    {
     "name": "stdout",
     "output_type": "stream",
     "text": [
      "Dataset({\n",
      "    features: ['title', 'context', 'question', 'id', 'answers', 'document_id', '__index_level_0__'],\n",
      "    num_rows: 240\n",
      "})\n"
     ]
    },
    {
     "name": "stderr",
     "output_type": "stream",
     "text": [
      "Saving model checkpoint to ./Extraction_based_MRC_outputs_KR-ELECTRA-discriminator/checkpoint-372\n",
      "Configuration saved in ./Extraction_based_MRC_outputs_KR-ELECTRA-discriminator/checkpoint-372/config.json\n",
      "Model weights saved in ./Extraction_based_MRC_outputs_KR-ELECTRA-discriminator/checkpoint-372/pytorch_model.bin\n",
      "tokenizer config file saved in ./Extraction_based_MRC_outputs_KR-ELECTRA-discriminator/checkpoint-372/tokenizer_config.json\n",
      "Special tokens file saved in ./Extraction_based_MRC_outputs_KR-ELECTRA-discriminator/checkpoint-372/special_tokens_map.json\n",
      "The following columns in the evaluation set don't have a corresponding argument in `ElectraForQuestionAnswering.forward` and have been ignored: example_id, offset_mapping. If example_id, offset_mapping are not expected by `ElectraForQuestionAnswering.forward`,  you can safely ignore this message.\n",
      "***** Running Evaluation *****\n",
      "  Num examples = 365\n",
      "  Batch size = 32\n",
      "100%|██████████| 240/240 [00:01<00:00, 144.46it/s]\n"
     ]
    },
    {
     "name": "stdout",
     "output_type": "stream",
     "text": [
      "Dataset({\n",
      "    features: ['title', 'context', 'question', 'id', 'answers', 'document_id', '__index_level_0__'],\n",
      "    num_rows: 240\n",
      "})\n"
     ]
    },
    {
     "name": "stderr",
     "output_type": "stream",
     "text": [
      "Saving model checkpoint to ./Extraction_based_MRC_outputs_KR-ELECTRA-discriminator/checkpoint-558\n",
      "Configuration saved in ./Extraction_based_MRC_outputs_KR-ELECTRA-discriminator/checkpoint-558/config.json\n",
      "Model weights saved in ./Extraction_based_MRC_outputs_KR-ELECTRA-discriminator/checkpoint-558/pytorch_model.bin\n",
      "tokenizer config file saved in ./Extraction_based_MRC_outputs_KR-ELECTRA-discriminator/checkpoint-558/tokenizer_config.json\n",
      "Special tokens file saved in ./Extraction_based_MRC_outputs_KR-ELECTRA-discriminator/checkpoint-558/special_tokens_map.json\n",
      "The following columns in the evaluation set don't have a corresponding argument in `ElectraForQuestionAnswering.forward` and have been ignored: example_id, offset_mapping. If example_id, offset_mapping are not expected by `ElectraForQuestionAnswering.forward`,  you can safely ignore this message.\n",
      "***** Running Evaluation *****\n",
      "  Num examples = 365\n",
      "  Batch size = 32\n",
      "100%|██████████| 240/240 [00:01<00:00, 141.53it/s]\n"
     ]
    },
    {
     "name": "stdout",
     "output_type": "stream",
     "text": [
      "Dataset({\n",
      "    features: ['title', 'context', 'question', 'id', 'answers', 'document_id', '__index_level_0__'],\n",
      "    num_rows: 240\n",
      "})\n"
     ]
    },
    {
     "name": "stderr",
     "output_type": "stream",
     "text": [
      "Saving model checkpoint to ./Extraction_based_MRC_outputs_KR-ELECTRA-discriminator/checkpoint-744\n",
      "Configuration saved in ./Extraction_based_MRC_outputs_KR-ELECTRA-discriminator/checkpoint-744/config.json\n",
      "Model weights saved in ./Extraction_based_MRC_outputs_KR-ELECTRA-discriminator/checkpoint-744/pytorch_model.bin\n",
      "tokenizer config file saved in ./Extraction_based_MRC_outputs_KR-ELECTRA-discriminator/checkpoint-744/tokenizer_config.json\n",
      "Special tokens file saved in ./Extraction_based_MRC_outputs_KR-ELECTRA-discriminator/checkpoint-744/special_tokens_map.json\n",
      "\n",
      "\n",
      "Training completed. Do not forget to share your model on huggingface.co/models =)\n",
      "\n",
      "\n",
      "Loading best model from ./Extraction_based_MRC_outputs_KR-ELECTRA-discriminator/checkpoint-372 (score: 1.5890638828277588).\n",
      "Map: 100%|██████████| 600/600 [00:39<00:00, 15.35 examples/s]\n",
      "The following columns in the test set don't have a corresponding argument in `ElectraForQuestionAnswering.forward` and have been ignored: example_id, offset_mapping. If example_id, offset_mapping are not expected by `ElectraForQuestionAnswering.forward`,  you can safely ignore this message.\n",
      "***** Running Evaluation *****\n",
      "  Num examples = 33634\n",
      "  Batch size = 32\n"
     ]
    },
    {
     "data": {
      "text/html": [
       "\n",
       "    <div>\n",
       "      \n",
       "      <progress value='1052' max='1052' style='width:300px; height:20px; vertical-align: middle;'></progress>\n",
       "      [1052/1052 01:57]\n",
       "    </div>\n",
       "    "
      ],
      "text/plain": [
       "<IPython.core.display.HTML object>"
      ]
     },
     "metadata": {},
     "output_type": "display_data"
    },
    {
     "name": "stdout",
     "output_type": "stream",
     "text": [
      "post_process_function을 실행합니다.\n"
     ]
    },
    {
     "name": "stderr",
     "output_type": "stream",
     "text": [
      "100%|██████████| 600/600 [02:35<00:00,  3.85it/s]"
     ]
    },
    {
     "name": "stdout",
     "output_type": "stream",
     "text": [
      "Dataset({\n",
      "    features: ['context', 'id', 'question'],\n",
      "    num_rows: 600\n",
      "})\n",
      "output을 id : answers 형태의 json파일로 내보냅니다. 결과는 model.extraction_mrc_results로 확인할 수 있습니다.\n"
     ]
    },
    {
     "name": "stderr",
     "output_type": "stream",
     "text": [
      "\n"
     ]
    },
    {
     "data": {
      "text/plain": [
       "\"inference는 반드시\\nDatasetDict({\\n    validation: Dataset({\\n        features: ['context', 'id', 'question'],\\n        num_rows: 600\\n    })\\n}) 의 형태를 따라야 합니다.\\n\""
      ]
     },
     "execution_count": 3,
     "metadata": {},
     "output_type": "execute_result"
    }
   ],
   "source": [
    "from MRC import Extraction_based_MRC\n",
    "model = Extraction_based_MRC()\n",
    "model.train() #model.train()은 기존에 주어진 데이터셋을 활용하여 훈련합니다. model.train(train_dataset, eval_dataset)으로 본인이 직접 지정한 데이터를 훈련할 수도 있습니다.\n",
    "# 이때, train 데이터셋의 형태는 load_from_disk(기존에 주어진 데이터경로)['train'], eval 데이터셋의 형태는 load_from_disk(기존에 주어진 데이터경로)['validation']의 형태여야 합니다.\n",
    "# 모델은 Extraction_based_MRC_outputs + model_name의 폴더로 저장됩니다.\n",
    "# 모델은 학습이 끝나면 가장 낮은 validaiton loss를 기준으로 저장됩니다.\n",
    "model.inference(reranked_result)\n",
    "# retrieval을 통해 얻어낸 결과를 predict_reuslt에 json파일 형태로 저장합니다.\n",
    "\"\"\"inference는 반드시\n",
    "DatasetDict({\n",
    "    validation: Dataset({\n",
    "        features: ['context', 'id', 'question'],\n",
    "        num_rows: 600\n",
    "    })\n",
    "}) 의 형태를 따라야 합니다.\n",
    "\"\"\"\n",
    "\n"
   ]
  },
  {
   "cell_type": "code",
   "execution_count": 2,
   "metadata": {},
   "outputs": [
    {
     "name": "stderr",
     "output_type": "stream",
     "text": [
      "[nltk_data] Downloading package punkt to\n",
      "[nltk_data]     /data/ephemeral/home/nltk_data...\n",
      "[nltk_data]   Package punkt is already up-to-date!\n",
      "Some weights of the model checkpoint at klue/bert-base were not used when initializing BertForQuestionAnswering: ['cls.seq_relationship.bias', 'cls.predictions.transform.LayerNorm.bias', 'cls.predictions.decoder.bias', 'cls.predictions.bias', 'cls.seq_relationship.weight', 'cls.predictions.transform.dense.bias', 'cls.predictions.transform.dense.weight', 'cls.predictions.decoder.weight', 'cls.predictions.transform.LayerNorm.weight']\n",
      "- This IS expected if you are initializing BertForQuestionAnswering from the checkpoint of a model trained on another task or with another architecture (e.g. initializing a BertForSequenceClassification model from a BertForPreTraining model).\n",
      "- This IS NOT expected if you are initializing BertForQuestionAnswering from the checkpoint of a model that you expect to be exactly identical (initializing a BertForSequenceClassification model from a BertForSequenceClassification model).\n",
      "Some weights of BertForQuestionAnswering were not initialized from the model checkpoint at klue/bert-base and are newly initialized: ['qa_outputs.bias', 'qa_outputs.weight']\n",
      "You should probably TRAIN this model on a down-stream task to be able to use it for predictions and inference.\n",
      "\u001b[34m\u001b[1mwandb\u001b[0m: Using wandb-core as the SDK backend. Please refer to https://wandb.me/wandb-core for more information.\n",
      "\u001b[34m\u001b[1mwandb\u001b[0m: Currently logged in as: \u001b[33mkimybjg2\u001b[0m (\u001b[33mkimybjg2-boostcampaitech\u001b[0m). Use \u001b[1m`wandb login --relogin`\u001b[0m to force relogin\n"
     ]
    },
    {
     "data": {
      "text/html": [
       "Tracking run with wandb version 0.18.3"
      ],
      "text/plain": [
       "<IPython.core.display.HTML object>"
      ]
     },
     "metadata": {},
     "output_type": "display_data"
    },
    {
     "data": {
      "text/html": [
       "Run data is saved locally in <code>/data/ephemeral/home/practice/Template/wandb/run-20241014_142547-o6jp28zc</code>"
      ],
      "text/plain": [
       "<IPython.core.display.HTML object>"
      ]
     },
     "metadata": {},
     "output_type": "display_data"
    },
    {
     "data": {
      "text/html": [
       "Syncing run <strong><a href='https://wandb.ai/kimybjg2-boostcampaitech/Dense_embedding_retrieval/runs/o6jp28zc' target=\"_blank\">resilient-snow-249</a></strong> to <a href='https://wandb.ai/kimybjg2-boostcampaitech/Dense_embedding_retrieval' target=\"_blank\">Weights & Biases</a> (<a href='https://wandb.me/run' target=\"_blank\">docs</a>)<br/>"
      ],
      "text/plain": [
       "<IPython.core.display.HTML object>"
      ]
     },
     "metadata": {},
     "output_type": "display_data"
    },
    {
     "data": {
      "text/html": [
       " View project at <a href='https://wandb.ai/kimybjg2-boostcampaitech/Dense_embedding_retrieval' target=\"_blank\">https://wandb.ai/kimybjg2-boostcampaitech/Dense_embedding_retrieval</a>"
      ],
      "text/plain": [
       "<IPython.core.display.HTML object>"
      ]
     },
     "metadata": {},
     "output_type": "display_data"
    },
    {
     "data": {
      "text/html": [
       " View run at <a href='https://wandb.ai/kimybjg2-boostcampaitech/Dense_embedding_retrieval/runs/o6jp28zc' target=\"_blank\">https://wandb.ai/kimybjg2-boostcampaitech/Dense_embedding_retrieval/runs/o6jp28zc</a>"
      ],
      "text/plain": [
       "<IPython.core.display.HTML object>"
      ]
     },
     "metadata": {},
     "output_type": "display_data"
    },
    {
     "name": "stdout",
     "output_type": "stream",
     "text": [
      "가장 마지막 체크포인트로 모델과 Trainer가 로드되었습니다.\n"
     ]
    }
   ],
   "source": [
    "model.load_model() # 체크포인트의 제일 마지막 폴더를 따라가서 trainer_state.json을 열고 거기서 best_model_checkpoint의 경로를 통해 모델을 불러옵니다.\n",
    "# 불러온 모델은 inference할 수 있습니다."
   ]
  },
  {
   "cell_type": "code",
   "execution_count": 3,
   "metadata": {},
   "outputs": [
    {
     "name": "stderr",
     "output_type": "stream",
     "text": [
      "loading configuration file config.json from cache at /data/ephemeral/home/.cache/huggingface/hub/models--klue--bert-base/snapshots/77c8b3d707df785034b4e50f2da5d37be5f0f546/config.json\n",
      "Model config BertConfig {\n",
      "  \"_name_or_path\": \"klue/bert-base\",\n",
      "  \"architectures\": [\n",
      "    \"BertForMaskedLM\"\n",
      "  ],\n",
      "  \"attention_probs_dropout_prob\": 0.1,\n",
      "  \"classifier_dropout\": null,\n",
      "  \"hidden_act\": \"gelu\",\n",
      "  \"hidden_dropout_prob\": 0.1,\n",
      "  \"hidden_size\": 768,\n",
      "  \"initializer_range\": 0.02,\n",
      "  \"intermediate_size\": 3072,\n",
      "  \"layer_norm_eps\": 1e-12,\n",
      "  \"max_position_embeddings\": 512,\n",
      "  \"model_type\": \"bert\",\n",
      "  \"num_attention_heads\": 12,\n",
      "  \"num_hidden_layers\": 12,\n",
      "  \"pad_token_id\": 0,\n",
      "  \"position_embedding_type\": \"absolute\",\n",
      "  \"transformers_version\": \"4.24.0\",\n",
      "  \"type_vocab_size\": 2,\n",
      "  \"use_cache\": true,\n",
      "  \"vocab_size\": 32000\n",
      "}\n",
      "\n",
      "loading file vocab.txt from cache at /data/ephemeral/home/.cache/huggingface/hub/models--klue--bert-base/snapshots/77c8b3d707df785034b4e50f2da5d37be5f0f546/vocab.txt\n",
      "loading file tokenizer.json from cache at /data/ephemeral/home/.cache/huggingface/hub/models--klue--bert-base/snapshots/77c8b3d707df785034b4e50f2da5d37be5f0f546/tokenizer.json\n",
      "loading file added_tokens.json from cache at None\n",
      "loading file special_tokens_map.json from cache at /data/ephemeral/home/.cache/huggingface/hub/models--klue--bert-base/snapshots/77c8b3d707df785034b4e50f2da5d37be5f0f546/special_tokens_map.json\n",
      "loading file tokenizer_config.json from cache at /data/ephemeral/home/.cache/huggingface/hub/models--klue--bert-base/snapshots/77c8b3d707df785034b4e50f2da5d37be5f0f546/tokenizer_config.json\n",
      "loading configuration file config.json from cache at /data/ephemeral/home/.cache/huggingface/hub/models--klue--bert-base/snapshots/77c8b3d707df785034b4e50f2da5d37be5f0f546/config.json\n",
      "Model config BertConfig {\n",
      "  \"_name_or_path\": \"klue/bert-base\",\n",
      "  \"architectures\": [\n",
      "    \"BertForMaskedLM\"\n",
      "  ],\n",
      "  \"attention_probs_dropout_prob\": 0.1,\n",
      "  \"classifier_dropout\": null,\n",
      "  \"hidden_act\": \"gelu\",\n",
      "  \"hidden_dropout_prob\": 0.1,\n",
      "  \"hidden_size\": 768,\n",
      "  \"initializer_range\": 0.02,\n",
      "  \"intermediate_size\": 3072,\n",
      "  \"layer_norm_eps\": 1e-12,\n",
      "  \"max_position_embeddings\": 512,\n",
      "  \"model_type\": \"bert\",\n",
      "  \"num_attention_heads\": 12,\n",
      "  \"num_hidden_layers\": 12,\n",
      "  \"pad_token_id\": 0,\n",
      "  \"position_embedding_type\": \"absolute\",\n",
      "  \"transformers_version\": \"4.24.0\",\n",
      "  \"type_vocab_size\": 2,\n",
      "  \"use_cache\": true,\n",
      "  \"vocab_size\": 32000\n",
      "}\n",
      "\n",
      "Map: 100%|██████████| 3952/3952 [00:12<00:00, 310.64 examples/s]\n",
      "Map: 100%|██████████| 240/240 [00:00<00:00, 319.16 examples/s]\n"
     ]
    }
   ],
   "source": [
    "import All_dataset\n",
    "from arguments import Extraction_based_MRC_arguments\n",
    "datas = All_dataset.prepare_dataset(Extraction_based_MRC_arguments)\n",
    "# 이처럼 All_dataset.prepare_dataset(argument에서 불러온 모델의 arg)를 통해 각 모델에서 쓰이는 데이터들을 볼 수 있습니다.\n",
    "# 아무것도 주지 않으면 기본으로 주어진 데이터를 바탕으로 데이터를 전처리합니다.\n",
    "# get_mrc_train_dataset(여러분이 바꾼 데이터) 를 통해 바꾼 데이터를 전처리할 수도 있습니다.\n",
    "# train 데이터셋의 형태는 load_from_disk(기존에 주어진 데이터경로)['train'], eval 데이터셋의 형태는 load_from_disk(기존에 주어진 데이터경로)['validation']의 형태여야 합니다.\n",
    "train = datas.get_mrc_train_dataset()\n",
    "eval = datas.get_mrc_eval_dataset()\n",
    "\n"
   ]
  },
  {
   "cell_type": "code",
   "execution_count": 1,
   "metadata": {},
   "outputs": [
    {
     "name": "stderr",
     "output_type": "stream",
     "text": [
      "/opt/conda/lib/python3.10/site-packages/tqdm/auto.py:21: TqdmWarning: IProgress not found. Please update jupyter and ipywidgets. See https://ipywidgets.readthedocs.io/en/stable/user_install.html\n",
      "  from .autonotebook import tqdm as notebook_tqdm\n"
     ]
    },
    {
     "name": "stdout",
     "output_type": "stream",
     "text": [
      "|===========================================================================|\n",
      "|                  PyTorch CUDA memory summary, device ID 0                 |\n",
      "|---------------------------------------------------------------------------|\n",
      "|            CUDA OOMs: 0            |        cudaMalloc retries: 0         |\n",
      "|===========================================================================|\n",
      "|        Metric         | Cur Usage  | Peak Usage | Tot Alloc  | Tot Freed  |\n",
      "|---------------------------------------------------------------------------|\n",
      "| Allocated memory      |       0 B  |       0 B  |       0 B  |       0 B  |\n",
      "|       from large pool |       0 B  |       0 B  |       0 B  |       0 B  |\n",
      "|       from small pool |       0 B  |       0 B  |       0 B  |       0 B  |\n",
      "|---------------------------------------------------------------------------|\n",
      "| Active memory         |       0 B  |       0 B  |       0 B  |       0 B  |\n",
      "|       from large pool |       0 B  |       0 B  |       0 B  |       0 B  |\n",
      "|       from small pool |       0 B  |       0 B  |       0 B  |       0 B  |\n",
      "|---------------------------------------------------------------------------|\n",
      "| GPU reserved memory   |       0 B  |       0 B  |       0 B  |       0 B  |\n",
      "|       from large pool |       0 B  |       0 B  |       0 B  |       0 B  |\n",
      "|       from small pool |       0 B  |       0 B  |       0 B  |       0 B  |\n",
      "|---------------------------------------------------------------------------|\n",
      "| Non-releasable memory |       0 B  |       0 B  |       0 B  |       0 B  |\n",
      "|       from large pool |       0 B  |       0 B  |       0 B  |       0 B  |\n",
      "|       from small pool |       0 B  |       0 B  |       0 B  |       0 B  |\n",
      "|---------------------------------------------------------------------------|\n",
      "| Allocations           |       0    |       0    |       0    |       0    |\n",
      "|       from large pool |       0    |       0    |       0    |       0    |\n",
      "|       from small pool |       0    |       0    |       0    |       0    |\n",
      "|---------------------------------------------------------------------------|\n",
      "| Active allocs         |       0    |       0    |       0    |       0    |\n",
      "|       from large pool |       0    |       0    |       0    |       0    |\n",
      "|       from small pool |       0    |       0    |       0    |       0    |\n",
      "|---------------------------------------------------------------------------|\n",
      "| GPU reserved segments |       0    |       0    |       0    |       0    |\n",
      "|       from large pool |       0    |       0    |       0    |       0    |\n",
      "|       from small pool |       0    |       0    |       0    |       0    |\n",
      "|---------------------------------------------------------------------------|\n",
      "| Non-releasable allocs |       0    |       0    |       0    |       0    |\n",
      "|       from large pool |       0    |       0    |       0    |       0    |\n",
      "|       from small pool |       0    |       0    |       0    |       0    |\n",
      "|---------------------------------------------------------------------------|\n",
      "| Oversize allocations  |       0    |       0    |       0    |       0    |\n",
      "|---------------------------------------------------------------------------|\n",
      "| Oversize GPU segments |       0    |       0    |       0    |       0    |\n",
      "|===========================================================================|\n",
      "\n"
     ]
    }
   ],
   "source": [
    "import torch\n",
    "\n",
    "# GPU 메모리 캐시를 해제\n",
    "torch.cuda.empty_cache()\n",
    "\n",
    "# CUDA 메모리 통계 확인 (optional)\n",
    "print(torch.cuda.memory_summary())"
   ]
  },
  {
   "cell_type": "code",
   "execution_count": 2,
   "metadata": {},
   "outputs": [
    {
     "name": "stderr",
     "output_type": "stream",
     "text": [
      "[nltk_data] Downloading package punkt to\n",
      "[nltk_data]     /data/ephemeral/home/nltk_data...\n",
      "[nltk_data]   Package punkt is already up-to-date!\n"
     ]
    },
    {
     "ename": "KeyError",
     "evalue": "'llama'",
     "output_type": "error",
     "traceback": [
      "\u001b[0;31m---------------------------------------------------------------------------\u001b[0m",
      "\u001b[0;31mKeyError\u001b[0m                                  Traceback (most recent call last)",
      "Cell \u001b[0;32mIn[2], line 6\u001b[0m\n\u001b[1;32m      4\u001b[0m model_name \u001b[38;5;241m=\u001b[39m \u001b[38;5;124m\"\u001b[39m\u001b[38;5;124msh2orc/Llama-3.1-Korean-8B-Instruct\u001b[39m\u001b[38;5;124m\"\u001b[39m\n\u001b[1;32m      5\u001b[0m test_dataset_path \u001b[38;5;241m=\u001b[39m \u001b[38;5;124m\"\u001b[39m\u001b[38;5;124m/data/ephemeral/data/test_dataset\u001b[39m\u001b[38;5;124m\"\u001b[39m\n\u001b[0;32m----> 6\u001b[0m llama_mrc \u001b[38;5;241m=\u001b[39m \u001b[43mLlama_MRC_Inference\u001b[49m\u001b[43m(\u001b[49m\u001b[43mmodel_name\u001b[49m\u001b[43m)\u001b[49m\n\u001b[1;32m      7\u001b[0m predictions \u001b[38;5;241m=\u001b[39m llama_mrc\u001b[38;5;241m.\u001b[39minference(test_dataset_path)\n",
      "File \u001b[0;32m/data/ephemeral/Jung/level2-mrc-nlp-10/Template/MRC.py:416\u001b[0m, in \u001b[0;36mLlama_MRC_Inference.__init__\u001b[0;34m(self, model_name, max_seq_length, max_answer_length, output_dir)\u001b[0m\n\u001b[1;32m    414\u001b[0m \u001b[38;5;66;03m# 모델 및 토크나이저 로드 (trust_remote_code=True 추가)\u001b[39;00m\n\u001b[1;32m    415\u001b[0m \u001b[38;5;28mself\u001b[39m\u001b[38;5;241m.\u001b[39mtokenizer \u001b[38;5;241m=\u001b[39m transformers\u001b[38;5;241m.\u001b[39mAutoTokenizer\u001b[38;5;241m.\u001b[39mfrom_pretrained(\u001b[38;5;28mself\u001b[39m\u001b[38;5;241m.\u001b[39mmodel_name, trust_remote_code\u001b[38;5;241m=\u001b[39m\u001b[38;5;28;01mTrue\u001b[39;00m)\n\u001b[0;32m--> 416\u001b[0m \u001b[38;5;28mself\u001b[39m\u001b[38;5;241m.\u001b[39mmodel \u001b[38;5;241m=\u001b[39m \u001b[43mtransformers\u001b[49m\u001b[38;5;241;43m.\u001b[39;49m\u001b[43mAutoModelForCausalLM\u001b[49m\u001b[38;5;241;43m.\u001b[39;49m\u001b[43mfrom_pretrained\u001b[49m\u001b[43m(\u001b[49m\u001b[38;5;28;43mself\u001b[39;49m\u001b[38;5;241;43m.\u001b[39;49m\u001b[43mmodel_name\u001b[49m\u001b[43m,\u001b[49m\u001b[43m \u001b[49m\u001b[43mtorch_dtype\u001b[49m\u001b[38;5;241;43m=\u001b[39;49m\u001b[43mtorch\u001b[49m\u001b[38;5;241;43m.\u001b[39;49m\u001b[43mfloat16\u001b[49m\u001b[43m,\u001b[49m\u001b[43m \u001b[49m\u001b[43mtrust_remote_code\u001b[49m\u001b[38;5;241;43m=\u001b[39;49m\u001b[38;5;28;43;01mTrue\u001b[39;49;00m\u001b[43m)\u001b[49m\n\u001b[1;32m    417\u001b[0m \u001b[38;5;28mself\u001b[39m\u001b[38;5;241m.\u001b[39mdevice \u001b[38;5;241m=\u001b[39m torch\u001b[38;5;241m.\u001b[39mdevice(\u001b[38;5;124m\"\u001b[39m\u001b[38;5;124mcuda\u001b[39m\u001b[38;5;124m\"\u001b[39m \u001b[38;5;28;01mif\u001b[39;00m torch\u001b[38;5;241m.\u001b[39mcuda\u001b[38;5;241m.\u001b[39mis_available() \u001b[38;5;28;01melse\u001b[39;00m \u001b[38;5;124m\"\u001b[39m\u001b[38;5;124mcpu\u001b[39m\u001b[38;5;124m\"\u001b[39m)\n\u001b[1;32m    418\u001b[0m \u001b[38;5;28mself\u001b[39m\u001b[38;5;241m.\u001b[39mmodel\u001b[38;5;241m.\u001b[39mto(\u001b[38;5;28mself\u001b[39m\u001b[38;5;241m.\u001b[39mdevice)\n",
      "File \u001b[0;32m/opt/conda/lib/python3.10/site-packages/transformers/models/auto/auto_factory.py:434\u001b[0m, in \u001b[0;36m_BaseAutoModelClass.from_pretrained\u001b[0;34m(cls, pretrained_model_name_or_path, *model_args, **kwargs)\u001b[0m\n\u001b[1;32m    432\u001b[0m hub_kwargs \u001b[38;5;241m=\u001b[39m {name: kwargs\u001b[38;5;241m.\u001b[39mpop(name) \u001b[38;5;28;01mfor\u001b[39;00m name \u001b[38;5;129;01min\u001b[39;00m hub_kwargs_names \u001b[38;5;28;01mif\u001b[39;00m name \u001b[38;5;129;01min\u001b[39;00m kwargs}\n\u001b[1;32m    433\u001b[0m \u001b[38;5;28;01mif\u001b[39;00m \u001b[38;5;129;01mnot\u001b[39;00m \u001b[38;5;28misinstance\u001b[39m(config, PretrainedConfig):\n\u001b[0;32m--> 434\u001b[0m     config, kwargs \u001b[38;5;241m=\u001b[39m \u001b[43mAutoConfig\u001b[49m\u001b[38;5;241;43m.\u001b[39;49m\u001b[43mfrom_pretrained\u001b[49m\u001b[43m(\u001b[49m\n\u001b[1;32m    435\u001b[0m \u001b[43m        \u001b[49m\u001b[43mpretrained_model_name_or_path\u001b[49m\u001b[43m,\u001b[49m\n\u001b[1;32m    436\u001b[0m \u001b[43m        \u001b[49m\u001b[43mreturn_unused_kwargs\u001b[49m\u001b[38;5;241;43m=\u001b[39;49m\u001b[38;5;28;43;01mTrue\u001b[39;49;00m\u001b[43m,\u001b[49m\n\u001b[1;32m    437\u001b[0m \u001b[43m        \u001b[49m\u001b[43mtrust_remote_code\u001b[49m\u001b[38;5;241;43m=\u001b[39;49m\u001b[43mtrust_remote_code\u001b[49m\u001b[43m,\u001b[49m\n\u001b[1;32m    438\u001b[0m \u001b[43m        \u001b[49m\u001b[38;5;241;43m*\u001b[39;49m\u001b[38;5;241;43m*\u001b[39;49m\u001b[43mhub_kwargs\u001b[49m\u001b[43m,\u001b[49m\n\u001b[1;32m    439\u001b[0m \u001b[43m        \u001b[49m\u001b[38;5;241;43m*\u001b[39;49m\u001b[38;5;241;43m*\u001b[39;49m\u001b[43mkwargs\u001b[49m\u001b[43m,\u001b[49m\n\u001b[1;32m    440\u001b[0m \u001b[43m    \u001b[49m\u001b[43m)\u001b[49m\n\u001b[1;32m    441\u001b[0m \u001b[38;5;28;01mif\u001b[39;00m \u001b[38;5;28mhasattr\u001b[39m(config, \u001b[38;5;124m\"\u001b[39m\u001b[38;5;124mauto_map\u001b[39m\u001b[38;5;124m\"\u001b[39m) \u001b[38;5;129;01mand\u001b[39;00m \u001b[38;5;28mcls\u001b[39m\u001b[38;5;241m.\u001b[39m\u001b[38;5;18m__name__\u001b[39m \u001b[38;5;129;01min\u001b[39;00m config\u001b[38;5;241m.\u001b[39mauto_map:\n\u001b[1;32m    442\u001b[0m     \u001b[38;5;28;01mif\u001b[39;00m \u001b[38;5;129;01mnot\u001b[39;00m trust_remote_code:\n",
      "File \u001b[0;32m/opt/conda/lib/python3.10/site-packages/transformers/models/auto/configuration_auto.py:796\u001b[0m, in \u001b[0;36mAutoConfig.from_pretrained\u001b[0;34m(cls, pretrained_model_name_or_path, **kwargs)\u001b[0m\n\u001b[1;32m    794\u001b[0m     \u001b[38;5;28;01mreturn\u001b[39;00m config_class\u001b[38;5;241m.\u001b[39mfrom_pretrained(pretrained_model_name_or_path, \u001b[38;5;241m*\u001b[39m\u001b[38;5;241m*\u001b[39mkwargs)\n\u001b[1;32m    795\u001b[0m \u001b[38;5;28;01melif\u001b[39;00m \u001b[38;5;124m\"\u001b[39m\u001b[38;5;124mmodel_type\u001b[39m\u001b[38;5;124m\"\u001b[39m \u001b[38;5;129;01min\u001b[39;00m config_dict:\n\u001b[0;32m--> 796\u001b[0m     config_class \u001b[38;5;241m=\u001b[39m \u001b[43mCONFIG_MAPPING\u001b[49m\u001b[43m[\u001b[49m\u001b[43mconfig_dict\u001b[49m\u001b[43m[\u001b[49m\u001b[38;5;124;43m\"\u001b[39;49m\u001b[38;5;124;43mmodel_type\u001b[39;49m\u001b[38;5;124;43m\"\u001b[39;49m\u001b[43m]\u001b[49m\u001b[43m]\u001b[49m\n\u001b[1;32m    797\u001b[0m     \u001b[38;5;28;01mreturn\u001b[39;00m config_class\u001b[38;5;241m.\u001b[39mfrom_dict(config_dict, \u001b[38;5;241m*\u001b[39m\u001b[38;5;241m*\u001b[39munused_kwargs)\n\u001b[1;32m    798\u001b[0m \u001b[38;5;28;01melse\u001b[39;00m:\n\u001b[1;32m    799\u001b[0m     \u001b[38;5;66;03m# Fallback: use pattern matching on the string.\u001b[39;00m\n\u001b[1;32m    800\u001b[0m     \u001b[38;5;66;03m# We go from longer names to shorter names to catch roberta before bert (for instance)\u001b[39;00m\n",
      "File \u001b[0;32m/opt/conda/lib/python3.10/site-packages/transformers/models/auto/configuration_auto.py:503\u001b[0m, in \u001b[0;36m_LazyConfigMapping.__getitem__\u001b[0;34m(self, key)\u001b[0m\n\u001b[1;32m    501\u001b[0m     \u001b[38;5;28;01mreturn\u001b[39;00m \u001b[38;5;28mself\u001b[39m\u001b[38;5;241m.\u001b[39m_extra_content[key]\n\u001b[1;32m    502\u001b[0m \u001b[38;5;28;01mif\u001b[39;00m key \u001b[38;5;129;01mnot\u001b[39;00m \u001b[38;5;129;01min\u001b[39;00m \u001b[38;5;28mself\u001b[39m\u001b[38;5;241m.\u001b[39m_mapping:\n\u001b[0;32m--> 503\u001b[0m     \u001b[38;5;28;01mraise\u001b[39;00m \u001b[38;5;167;01mKeyError\u001b[39;00m(key)\n\u001b[1;32m    504\u001b[0m value \u001b[38;5;241m=\u001b[39m \u001b[38;5;28mself\u001b[39m\u001b[38;5;241m.\u001b[39m_mapping[key]\n\u001b[1;32m    505\u001b[0m module_name \u001b[38;5;241m=\u001b[39m model_type_to_module_name(key)\n",
      "\u001b[0;31mKeyError\u001b[0m: 'llama'"
     ]
    }
   ],
   "source": [
    "from MRC import Llama_MRC_Inference\n",
    "\n",
    "\n",
    "model_name = \"Bllossom/llama-3.2-Korean-Bllossom-3B\"\n",
    "test_dataset_path = \"/data/ephemeral/data/test_dataset\"\n",
    "llama_mrc = Llama_MRC_Inference(model_name)\n",
    "predictions = llama_mrc.inference(test_dataset_path)\n"
   ]
  },
  {
   "cell_type": "code",
   "execution_count": null,
   "metadata": {},
   "outputs": [],
   "source": []
  }
 ],
 "metadata": {
  "kernelspec": {
   "display_name": "base",
   "language": "python",
   "name": "python3"
  },
  "language_info": {
   "codemirror_mode": {
    "name": "ipython",
    "version": 3
   },
   "file_extension": ".py",
   "mimetype": "text/x-python",
   "name": "python",
   "nbconvert_exporter": "python",
   "pygments_lexer": "ipython3",
   "version": "3.10.13"
  }
 },
 "nbformat": 4,
 "nbformat_minor": 2
}
