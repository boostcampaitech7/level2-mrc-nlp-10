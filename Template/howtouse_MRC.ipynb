{
 "cells": [
  {
   "cell_type": "code",
   "execution_count": 1,
   "metadata": {},
   "outputs": [
    {
     "name": "stderr",
     "output_type": "stream",
     "text": [
      "/opt/conda/lib/python3.10/site-packages/tqdm/auto.py:21: TqdmWarning: IProgress not found. Please update jupyter and ipywidgets. See https://ipywidgets.readthedocs.io/en/stable/user_install.html\n",
      "  from .autonotebook import tqdm as notebook_tqdm\n"
     ]
    }
   ],
   "source": [
    "import retrieval\n"
   ]
  },
  {
   "cell_type": "code",
   "execution_count": 3,
   "metadata": {},
   "outputs": [
    {
     "name": "stderr",
     "output_type": "stream",
     "text": [
      "/opt/conda/lib/python3.10/site-packages/huggingface_hub/file_download.py:1142: FutureWarning: `resume_download` is deprecated and will be removed in version 1.0.0. Downloads always resume when possible. If you want to force a new download, use `force_download=True`.\n",
      "  warnings.warn(\n"
     ]
    },
    {
     "name": "stdout",
     "output_type": "stream",
     "text": [
      "56737\n",
      "tfidf를 로드했습니다.\n",
      "Faiss Indexer을 로드했습니다.\n"
     ]
    },
    {
     "name": "stderr",
     "output_type": "stream",
     "text": [
      "Sparse retrieval: 100%|██████████| 600/600 [00:00<00:00, 21784.07it/s]\n"
     ]
    },
    {
     "name": "stdout",
     "output_type": "stream",
     "text": [
      "쿼리당 20개의 문서를 faiss indexer을 통해 찾습니다.\n"
     ]
    },
    {
     "name": "stderr",
     "output_type": "stream",
     "text": [
      "Sparse retrieval: 100%|██████████| 600/600 [00:00<00:00, 24249.20it/s]\n"
     ]
    },
    {
     "data": {
      "text/plain": [
       "DatasetDict({\n",
       "    validation: Dataset({\n",
       "        features: ['context', 'id', 'question'],\n",
       "        num_rows: 600\n",
       "    })\n",
       "})"
      ]
     },
     "execution_count": 3,
     "metadata": {},
     "output_type": "execute_result"
    }
   ],
   "source": [
    "tfidf = retrieval.TF_IDFSearch() # 리트리버 정의\n",
    "tfidf.get_sparse_embedding() # 위키 기반의 tfidfvectorizer을 만들고 passge_embedding을 만듭니다.\n",
    "tfidf.build_faiss() # faiss를 통해 빠른 서치가 가능하도록 faiss index를 만듭니다.\n",
    "result = tfidf.search_query() # faiss를 사용하지 않고 tfidf를 통해 test dataset의 질문과 관련된 문서를 찾습니다.\n",
    "result2 = tfidf.search_query_faiss() # faiss를 사용하여 tfidf를 통해 test dataset의 질문과 관련된 문서를 찾습니다.\n",
    "result # result와 result2 는 같은 모양새로 반환됩니다."
   ]
  },
  {
   "cell_type": "code",
   "execution_count": null,
   "metadata": {},
   "outputs": [],
   "source": [
    "from retrieval import Dense_embedding_retrieval, BM25Search\n",
    "from ephemeral.test_mrc.MRC_context import Extraction_based_MRC\n",
    "\n",
    "# Dense Embedding 모델 학습 후 저장\n",
    "dense_retriever = Dense_embedding_retrieval()\n",
    "dense_retriever.get_trainer()\n",
    "dense_retriever.train()"
   ]
  },
  {
   "cell_type": "code",
   "execution_count": null,
   "metadata": {},
   "outputs": [],
   "source": [
    "# Dense Embedding 모델 학습 후 저장\n",
    "bm25 = BM25Search()\n",
    "bm25.get_sparse_embedding()\n",
    "\n",
    "bm25_result = bm25.search_query_bm25()"
   ]
  },
  {
   "cell_type": "code",
   "execution_count": 1,
   "metadata": {},
   "outputs": [
    {
     "name": "stderr",
     "output_type": "stream",
     "text": [
      "/opt/conda/lib/python3.10/site-packages/tqdm/auto.py:21: TqdmWarning: IProgress not found. Please update jupyter and ipywidgets. See https://ipywidgets.readthedocs.io/en/stable/user_install.html\n",
      "  from .autonotebook import tqdm as notebook_tqdm\n",
      "[nltk_data] Downloading package punkt to\n",
      "[nltk_data]     /data/ephemeral/home/nltk_data...\n",
      "[nltk_data]   Package punkt is already up-to-date!\n",
      "Some weights of the model checkpoint at klue/roberta-large were not used when initializing RobertaModel: ['lm_head.layer_norm.weight', 'lm_head.dense.bias', 'lm_head.bias', 'lm_head.dense.weight', 'lm_head.layer_norm.bias']\n",
      "- This IS expected if you are initializing RobertaModel from the checkpoint of a model trained on another task or with another architecture (e.g. initializing a BertForSequenceClassification model from a BertForPreTraining model).\n",
      "- This IS NOT expected if you are initializing RobertaModel from the checkpoint of a model that you expect to be exactly identical (initializing a BertForSequenceClassification model from a BertForSequenceClassification model).\n",
      "Some weights of RobertaModel were not initialized from the model checkpoint at klue/roberta-large and are newly initialized: ['roberta.pooler.dense.weight', 'roberta.pooler.dense.bias']\n",
      "You should probably TRAIN this model on a down-stream task to be able to use it for predictions and inference.\n",
      "\u001b[34m\u001b[1mwandb\u001b[0m: Using wandb-core as the SDK backend. Please refer to https://wandb.me/wandb-core for more information.\n",
      "\u001b[34m\u001b[1mwandb\u001b[0m: Currently logged in as: \u001b[33mkimybjg2\u001b[0m (\u001b[33mkimybjg2-boostcampaitech\u001b[0m). Use \u001b[1m`wandb login --relogin`\u001b[0m to force relogin\n"
     ]
    },
    {
     "data": {
      "text/html": [
       "Tracking run with wandb version 0.18.3"
      ],
      "text/plain": [
       "<IPython.core.display.HTML object>"
      ]
     },
     "metadata": {},
     "output_type": "display_data"
    },
    {
     "data": {
      "text/html": [
       "Run data is saved locally in <code>/data/ephemeral/Jung/level2-mrc-nlp-10/Template/wandb/run-20241023_041334-gw4f7v9p</code>"
      ],
      "text/plain": [
       "<IPython.core.display.HTML object>"
      ]
     },
     "metadata": {},
     "output_type": "display_data"
    },
    {
     "data": {
      "text/html": [
       "Syncing run <strong><a href='https://wandb.ai/kimybjg2-boostcampaitech/Dense_embedding_retrieval/runs/gw4f7v9p' target=\"_blank\">wise-cosmos-829</a></strong> to <a href='https://wandb.ai/kimybjg2-boostcampaitech/Dense_embedding_retrieval' target=\"_blank\">Weights & Biases</a> (<a href='https://wandb.me/run' target=\"_blank\">docs</a>)<br/>"
      ],
      "text/plain": [
       "<IPython.core.display.HTML object>"
      ]
     },
     "metadata": {},
     "output_type": "display_data"
    },
    {
     "data": {
      "text/html": [
       " View project at <a href='https://wandb.ai/kimybjg2-boostcampaitech/Dense_embedding_retrieval' target=\"_blank\">https://wandb.ai/kimybjg2-boostcampaitech/Dense_embedding_retrieval</a>"
      ],
      "text/plain": [
       "<IPython.core.display.HTML object>"
      ]
     },
     "metadata": {},
     "output_type": "display_data"
    },
    {
     "data": {
      "text/html": [
       " View run at <a href='https://wandb.ai/kimybjg2-boostcampaitech/Dense_embedding_retrieval/runs/gw4f7v9p' target=\"_blank\">https://wandb.ai/kimybjg2-boostcampaitech/Dense_embedding_retrieval/runs/gw4f7v9p</a>"
      ],
      "text/plain": [
       "<IPython.core.display.HTML object>"
      ]
     },
     "metadata": {},
     "output_type": "display_data"
    },
    {
     "name": "stdout",
     "output_type": "stream",
     "text": [
      "Data route: /data/ephemeral/data/train_dataset\n",
      "Test data route: /data/ephemeral/data/test_dataset\n",
      "Wiki route: /data/ephemeral/data/wikipedia_documents.json\n",
      "Data path: ./bm25_retrieval_result\n"
     ]
    },
    {
     "name": "stderr",
     "output_type": "stream",
     "text": [
      "Token indices sequence length is longer than the specified maximum sequence length for this model (1131 > 512). Running this sequence through the model will result in indexing errors\n"
     ]
    },
    {
     "name": "stdout",
     "output_type": "stream",
     "text": [
      "File loaded successfully\n",
      "위키 컨텍스트의 수: 56737\n",
      "제일 마지막 checkpoint: ./Dense_embedding_retrieval_model_results/checkpoint-1482/trainer_state.json\n",
      "best checkpoint: ./Dense_embedding_retrieval_model_results/checkpoint-988\n"
     ]
    },
    {
     "name": "stderr",
     "output_type": "stream",
     "text": [
      "Some weights of the model checkpoint at ./Dense_embedding_retrieval_model_results/checkpoint-988 were not used when initializing RobertaModel: ['p_model.bert.encoder.layer.2.attention.self.value.bias', 'p_model.bert.encoder.layer.2.attention.self.key.bias', 'p_model.bert.encoder.layer.3.attention.output.LayerNorm.bias', 'p_model.bert.encoder.layer.2.attention.output.dense.bias', 'p_model.bert.encoder.layer.5.attention.self.query.bias', 'p_model.bert.encoder.layer.5.attention.self.value.weight', 'q_model.bert.encoder.layer.2.attention.self.value.bias', 'p_model.bert.encoder.layer.5.attention.self.query.weight', 'q_model.bert.encoder.layer.0.output.dense.weight', 'p_model.bert.encoder.layer.2.intermediate.dense.weight', 'q_model.bert.encoder.layer.3.attention.self.key.weight', 'p_model.bert.encoder.layer.0.output.LayerNorm.weight', 'p_model.bert.encoder.layer.1.output.dense.bias', 'q_model.bert.encoder.layer.3.output.LayerNorm.weight', 'q_model.bert.encoder.layer.0.attention.output.dense.weight', 'p_model.bert.encoder.layer.0.attention.self.query.bias', 'q_model.bert.encoder.layer.1.output.LayerNorm.weight', 'p_model.bert.embeddings.LayerNorm.bias', 'p_model.bert.encoder.layer.4.attention.self.value.bias', 'p_model.bert.encoder.layer.3.output.dense.bias', 'q_model.bert.encoder.layer.0.attention.self.value.bias', 'q_model.bert.embeddings.position_ids', 'q_model.bert.encoder.layer.2.attention.self.value.weight', 'p_model.bert.encoder.layer.2.output.LayerNorm.bias', 'q_model.bert.encoder.layer.0.attention.output.LayerNorm.bias', 'q_model.bert.encoder.layer.5.attention.output.dense.bias', 'p_model.bert.encoder.layer.2.attention.self.value.weight', 'q_model.bert.encoder.layer.4.attention.output.dense.weight', 'p_model.bert.encoder.layer.2.attention.output.LayerNorm.bias', 'q_model.bert.encoder.layer.4.attention.self.query.weight', 'q_model.bert.encoder.layer.1.attention.self.query.weight', 'p_model.bert.encoder.layer.3.attention.self.key.weight', 'q_model.bert.embeddings.LayerNorm.weight', 'q_model.bert.encoder.layer.3.attention.self.query.bias', 'p_model.bert.encoder.layer.5.output.LayerNorm.weight', 'p_model.bert.encoder.layer.2.output.dense.bias', 'p_model.bert.encoder.layer.0.output.dense.bias', 'q_model.bert.encoder.layer.2.attention.self.key.bias', 'p_model.bert.encoder.layer.4.attention.output.dense.bias', 'p_model.bert.encoder.layer.1.intermediate.dense.bias', 'p_model.bert.encoder.layer.1.attention.output.dense.weight', 'q_model.bert.encoder.layer.2.output.dense.bias', 'p_model.bert.encoder.layer.5.intermediate.dense.bias', 'q_model.bert.pooler.dense.bias', 'p_model.bert.encoder.layer.0.attention.output.dense.weight', 'p_model.bert.encoder.layer.0.intermediate.dense.weight', 'p_model.bert.encoder.layer.5.output.dense.weight', 'q_model.bert.encoder.layer.0.attention.self.query.bias', 'q_model.bert.encoder.layer.5.attention.self.value.bias', 'q_model.bert.encoder.layer.3.output.LayerNorm.bias', 'p_model.bert.encoder.layer.2.attention.output.LayerNorm.weight', 'q_model.bert.encoder.layer.1.attention.output.LayerNorm.weight', 'p_model.bert.encoder.layer.1.attention.self.query.bias', 'q_model.bert.pooler.dense.weight', 'p_model.bert.encoder.layer.4.attention.self.key.weight', 'q_model.bert.encoder.layer.1.output.LayerNorm.bias', 'p_model.bert.encoder.layer.4.attention.output.LayerNorm.weight', 'p_model.bert.encoder.layer.1.attention.self.key.weight', 'q_model.bert.encoder.layer.3.attention.self.key.bias', 'q_model.bert.encoder.layer.4.attention.self.value.bias', 'p_model.bert.encoder.layer.4.attention.self.query.weight', 'p_model.bert.encoder.layer.1.output.LayerNorm.weight', 'q_model.bert.encoder.layer.1.attention.self.value.bias', 'q_model.bert.encoder.layer.5.attention.self.value.weight', 'p_model.bert.encoder.layer.3.output.LayerNorm.weight', 'p_model.bert.encoder.layer.0.attention.output.LayerNorm.weight', 'q_model.bert.encoder.layer.0.attention.self.value.weight', 'q_model.bert.encoder.layer.2.attention.output.LayerNorm.bias', 'q_model.bert.encoder.layer.2.output.LayerNorm.bias', 'p_model.bert.encoder.layer.5.attention.output.dense.weight', 'q_model.bert.encoder.layer.2.attention.output.dense.bias', 'q_model.bert.encoder.layer.1.intermediate.dense.bias', 'p_model.bert.encoder.layer.2.output.dense.weight', 'q_model.bert.encoder.layer.5.attention.self.key.weight', 'q_model.bert.encoder.layer.2.output.dense.weight', 'q_model.bert.encoder.layer.1.output.dense.weight', 'p_model.bert.pooler.dense.weight', 'q_model.bert.encoder.layer.2.attention.output.dense.weight', 'p_model.bert.encoder.layer.4.attention.output.dense.weight', 'q_model.bert.encoder.layer.0.intermediate.dense.weight', 'p_model.bert.encoder.layer.0.attention.self.key.weight', 'p_model.bert.embeddings.position_embeddings.weight', 'q_model.bert.embeddings.LayerNorm.bias', 'p_model.bert.encoder.layer.3.attention.self.value.bias', 'q_model.bert.encoder.layer.0.attention.output.LayerNorm.weight', 'p_model.bert.encoder.layer.0.intermediate.dense.bias', 'p_model.bert.encoder.layer.1.output.dense.weight', 'p_model.bert.encoder.layer.2.output.LayerNorm.weight', 'q_model.bert.encoder.layer.3.attention.self.value.bias', 'p_model.bert.encoder.layer.0.output.LayerNorm.bias', 'p_model.bert.encoder.layer.4.attention.output.LayerNorm.bias', 'p_model.bert.encoder.layer.0.attention.self.value.bias', 'q_model.bert.encoder.layer.0.output.dense.bias', 'p_model.bert.encoder.layer.5.attention.output.LayerNorm.bias', 'q_model.bert.encoder.layer.4.output.LayerNorm.bias', 'q_model.bert.encoder.layer.5.output.LayerNorm.weight', 'q_model.bert.encoder.layer.3.attention.output.dense.weight', 'q_model.bert.encoder.layer.4.intermediate.dense.bias', 'p_model.bert.encoder.layer.0.attention.self.value.weight', 'p_model.bert.embeddings.token_type_embeddings.weight', 'q_model.bert.encoder.layer.1.attention.self.query.bias', 'q_model.bert.encoder.layer.4.output.LayerNorm.weight', 'p_model.bert.encoder.layer.3.attention.self.value.weight', 'q_model.bert.encoder.layer.5.output.LayerNorm.bias', 'q_model.bert.encoder.layer.5.output.dense.bias', 'q_model.bert.encoder.layer.3.attention.output.LayerNorm.weight', 'p_model.bert.embeddings.word_embeddings.weight', 'q_model.bert.encoder.layer.4.attention.output.LayerNorm.weight', 'q_model.bert.encoder.layer.3.intermediate.dense.weight', 'p_model.bert.encoder.layer.3.output.LayerNorm.bias', 'p_model.bert.encoder.layer.5.attention.self.value.bias', 'q_model.bert.encoder.layer.0.attention.output.dense.bias', 'q_model.bert.encoder.layer.1.output.dense.bias', 'p_model.bert.encoder.layer.3.output.dense.weight', 'p_model.bert.encoder.layer.5.output.LayerNorm.bias', 'q_model.bert.encoder.layer.2.attention.self.query.bias', 'p_model.bert.encoder.layer.5.attention.self.key.bias', 'q_model.bert.encoder.layer.4.output.dense.bias', 'p_model.bert.encoder.layer.1.attention.self.value.weight', 'q_model.bert.encoder.layer.1.attention.self.key.bias', 'p_model.bert.encoder.layer.4.intermediate.dense.bias', 'q_model.bert.encoder.layer.1.attention.self.value.weight', 'q_model.bert.encoder.layer.5.attention.self.key.bias', 'q_model.bert.encoder.layer.2.attention.self.query.weight', 'q_model.bert.encoder.layer.2.intermediate.dense.weight', 'p_model.bert.encoder.layer.3.attention.self.key.bias', 'p_model.bert.encoder.layer.1.attention.self.key.bias', 'q_model.bert.encoder.layer.5.attention.self.query.weight', 'p_model.bert.encoder.layer.4.output.LayerNorm.bias', 'q_model.bert.encoder.layer.4.intermediate.dense.weight', 'p_model.bert.encoder.layer.5.attention.self.key.weight', 'p_model.bert.encoder.layer.1.intermediate.dense.weight', 'q_model.bert.encoder.layer.0.intermediate.dense.bias', 'p_model.bert.encoder.layer.1.attention.output.LayerNorm.bias', 'p_model.bert.encoder.layer.4.output.dense.bias', 'q_model.bert.encoder.layer.4.attention.self.key.bias', 'q_model.bert.encoder.layer.5.attention.self.query.bias', 'p_model.bert.encoder.layer.5.attention.output.LayerNorm.weight', 'p_model.bert.encoder.layer.3.intermediate.dense.bias', 'q_model.bert.encoder.layer.3.attention.self.query.weight', 'q_model.bert.encoder.layer.3.output.dense.weight', 'p_model.bert.encoder.layer.2.attention.output.dense.weight', 'p_model.bert.embeddings.position_ids', 'q_model.bert.encoder.layer.1.intermediate.dense.weight', 'p_model.bert.encoder.layer.1.output.LayerNorm.bias', 'q_model.bert.encoder.layer.0.output.LayerNorm.bias', 'p_model.bert.encoder.layer.0.attention.self.query.weight', 'q_model.bert.encoder.layer.2.output.LayerNorm.weight', 'q_model.bert.encoder.layer.2.intermediate.dense.bias', 'q_model.bert.encoder.layer.5.output.dense.weight', 'q_model.bert.encoder.layer.1.attention.output.LayerNorm.bias', 'q_model.bert.encoder.layer.0.attention.self.key.weight', 'p_model.bert.encoder.layer.4.intermediate.dense.weight', 'q_model.bert.embeddings.position_embeddings.weight', 'q_model.bert.encoder.layer.0.output.LayerNorm.weight', 'p_model.bert.encoder.layer.0.attention.self.key.bias', 'q_model.bert.encoder.layer.1.attention.self.key.weight', 'q_model.bert.encoder.layer.4.attention.output.LayerNorm.bias', 'q_model.bert.encoder.layer.3.attention.self.value.weight', 'p_model.bert.encoder.layer.1.attention.output.dense.bias', 'p_model.bert.encoder.layer.2.intermediate.dense.bias', 'q_model.bert.encoder.layer.5.attention.output.LayerNorm.weight', 'p_model.bert.encoder.layer.2.attention.self.query.bias', 'p_model.bert.encoder.layer.1.attention.self.query.weight', 'p_model.bert.encoder.layer.4.attention.self.value.weight', 'p_model.bert.encoder.layer.5.output.dense.bias', 'q_model.bert.embeddings.word_embeddings.weight', 'q_model.bert.encoder.layer.1.attention.output.dense.bias', 'q_model.bert.encoder.layer.2.attention.output.LayerNorm.weight', 'q_model.bert.encoder.layer.3.attention.output.LayerNorm.bias', 'p_model.bert.encoder.layer.2.attention.self.key.weight', 'q_model.bert.encoder.layer.3.intermediate.dense.bias', 'p_model.bert.embeddings.LayerNorm.weight', 'q_model.bert.encoder.layer.4.attention.self.value.weight', 'p_model.bert.encoder.layer.3.attention.self.query.bias', 'p_model.bert.encoder.layer.4.output.dense.weight', 'q_model.bert.encoder.layer.3.attention.output.dense.bias', 'p_model.bert.pooler.dense.bias', 'q_model.bert.encoder.layer.2.attention.self.key.weight', 'p_model.bert.encoder.layer.1.attention.output.LayerNorm.weight', 'q_model.bert.encoder.layer.5.attention.output.LayerNorm.bias', 'p_model.bert.encoder.layer.0.attention.output.dense.bias', 'q_model.bert.encoder.layer.4.attention.self.query.bias', 'q_model.bert.encoder.layer.5.intermediate.dense.weight', 'p_model.bert.encoder.layer.5.attention.output.dense.bias', 'p_model.bert.encoder.layer.5.intermediate.dense.weight', 'p_model.bert.encoder.layer.2.attention.self.query.weight', 'p_model.bert.encoder.layer.3.attention.output.LayerNorm.weight', 'q_model.bert.encoder.layer.0.attention.self.key.bias', 'p_model.bert.encoder.layer.4.output.LayerNorm.weight', 'p_model.bert.encoder.layer.1.attention.self.value.bias', 'p_model.bert.encoder.layer.0.attention.output.LayerNorm.bias', 'p_model.bert.encoder.layer.3.attention.output.dense.weight', 'q_model.bert.encoder.layer.0.attention.self.query.weight', 'q_model.bert.encoder.layer.1.attention.output.dense.weight', 'q_model.bert.encoder.layer.4.attention.self.key.weight', 'q_model.bert.encoder.layer.4.attention.output.dense.bias', 'q_model.bert.encoder.layer.4.output.dense.weight', 'p_model.bert.encoder.layer.3.attention.output.dense.bias', 'p_model.bert.encoder.layer.4.attention.self.query.bias', 'p_model.bert.encoder.layer.3.intermediate.dense.weight', 'p_model.bert.encoder.layer.4.attention.self.key.bias', 'q_model.bert.embeddings.token_type_embeddings.weight', 'q_model.bert.encoder.layer.3.output.dense.bias', 'q_model.bert.encoder.layer.5.intermediate.dense.bias', 'p_model.bert.encoder.layer.3.attention.self.query.weight', 'q_model.bert.encoder.layer.5.attention.output.dense.weight', 'p_model.bert.encoder.layer.0.output.dense.weight']\n",
      "- This IS expected if you are initializing RobertaModel from the checkpoint of a model trained on another task or with another architecture (e.g. initializing a BertForSequenceClassification model from a BertForPreTraining model).\n",
      "- This IS NOT expected if you are initializing RobertaModel from the checkpoint of a model that you expect to be exactly identical (initializing a BertForSequenceClassification model from a BertForSequenceClassification model).\n",
      "Some weights of RobertaModel were not initialized from the model checkpoint at ./Dense_embedding_retrieval_model_results/checkpoint-988 and are newly initialized: ['encoder.layer.4.attention.output.LayerNorm.weight', 'encoder.layer.3.attention.self.query.weight', 'encoder.layer.4.output.LayerNorm.weight', 'encoder.layer.3.output.LayerNorm.weight', 'encoder.layer.5.output.dense.weight', 'encoder.layer.4.attention.output.dense.bias', 'encoder.layer.4.output.LayerNorm.bias', 'encoder.layer.2.attention.self.value.weight', 'encoder.layer.1.attention.self.value.weight', 'encoder.layer.5.intermediate.dense.weight', 'encoder.layer.1.output.dense.weight', 'pooler.dense.weight', 'encoder.layer.0.attention.output.LayerNorm.bias', 'encoder.layer.2.attention.self.key.bias', 'encoder.layer.0.intermediate.dense.weight', 'encoder.layer.0.output.LayerNorm.weight', 'encoder.layer.0.attention.output.dense.bias', 'encoder.layer.4.attention.self.key.weight', 'encoder.layer.5.output.LayerNorm.weight', 'encoder.layer.2.attention.output.LayerNorm.bias', 'encoder.layer.3.attention.output.dense.weight', 'encoder.layer.0.attention.self.key.weight', 'embeddings.word_embeddings.weight', 'encoder.layer.5.attention.self.query.weight', 'encoder.layer.1.intermediate.dense.weight', 'encoder.layer.4.intermediate.dense.bias', 'encoder.layer.0.attention.self.query.weight', 'encoder.layer.2.output.dense.weight', 'encoder.layer.4.attention.self.key.bias', 'encoder.layer.5.attention.self.query.bias', 'encoder.layer.2.intermediate.dense.bias', 'encoder.layer.5.attention.self.key.bias', 'encoder.layer.1.attention.output.dense.weight', 'encoder.layer.1.output.LayerNorm.weight', 'encoder.layer.3.output.LayerNorm.bias', 'encoder.layer.5.attention.output.dense.bias', 'encoder.layer.4.output.dense.weight', 'encoder.layer.3.output.dense.bias', 'embeddings.LayerNorm.bias', 'encoder.layer.4.attention.output.dense.weight', 'encoder.layer.2.output.LayerNorm.weight', 'encoder.layer.5.attention.output.LayerNorm.weight', 'encoder.layer.4.attention.output.LayerNorm.bias', 'encoder.layer.4.intermediate.dense.weight', 'encoder.layer.4.attention.self.value.bias', 'encoder.layer.1.attention.self.key.bias', 'encoder.layer.2.attention.output.dense.weight', 'encoder.layer.5.output.LayerNorm.bias', 'encoder.layer.0.intermediate.dense.bias', 'encoder.layer.0.output.dense.bias', 'encoder.layer.3.attention.self.key.weight', 'pooler.dense.bias', 'encoder.layer.3.attention.self.key.bias', 'encoder.layer.3.attention.output.LayerNorm.weight', 'encoder.layer.0.attention.self.query.bias', 'encoder.layer.3.attention.output.dense.bias', 'encoder.layer.5.intermediate.dense.bias', 'encoder.layer.4.attention.self.query.weight', 'encoder.layer.5.attention.self.value.weight', 'encoder.layer.2.attention.output.LayerNorm.weight', 'embeddings.position_embeddings.weight', 'encoder.layer.2.attention.self.query.weight', 'encoder.layer.2.output.LayerNorm.bias', 'encoder.layer.0.attention.self.key.bias', 'encoder.layer.3.attention.self.value.bias', 'encoder.layer.3.intermediate.dense.bias', 'encoder.layer.3.attention.output.LayerNorm.bias', 'encoder.layer.1.attention.output.dense.bias', 'encoder.layer.5.attention.self.key.weight', 'encoder.layer.1.output.LayerNorm.bias', 'encoder.layer.5.attention.self.value.bias', 'encoder.layer.5.output.dense.bias', 'encoder.layer.4.attention.self.query.bias', 'embeddings.token_type_embeddings.weight', 'embeddings.LayerNorm.weight', 'encoder.layer.1.attention.self.query.bias', 'encoder.layer.4.output.dense.bias', 'encoder.layer.1.attention.self.value.bias', 'encoder.layer.1.attention.output.LayerNorm.weight', 'encoder.layer.2.attention.self.query.bias', 'encoder.layer.0.output.dense.weight', 'encoder.layer.3.output.dense.weight', 'encoder.layer.1.intermediate.dense.bias', 'encoder.layer.4.attention.self.value.weight', 'encoder.layer.1.attention.self.key.weight', 'encoder.layer.2.attention.self.key.weight', 'encoder.layer.0.attention.self.value.weight', 'encoder.layer.1.attention.self.query.weight', 'encoder.layer.0.attention.output.dense.weight', 'encoder.layer.0.attention.self.value.bias', 'encoder.layer.0.attention.output.LayerNorm.weight', 'encoder.layer.0.output.LayerNorm.bias', 'encoder.layer.2.attention.output.dense.bias', 'encoder.layer.3.attention.self.value.weight', 'encoder.layer.2.attention.self.value.bias', 'encoder.layer.5.attention.output.LayerNorm.bias', 'encoder.layer.3.intermediate.dense.weight', 'encoder.layer.3.attention.self.query.bias', 'encoder.layer.1.output.dense.bias', 'encoder.layer.2.output.dense.bias', 'encoder.layer.5.attention.output.dense.weight', 'encoder.layer.2.intermediate.dense.weight', 'encoder.layer.1.attention.output.LayerNorm.bias']\n",
      "You should probably TRAIN this model on a down-stream task to be able to use it for predictions and inference.\n"
     ]
    },
    {
     "name": "stdout",
     "output_type": "stream",
     "text": [
      "bestmodel 체크포인트로 모델과 Trainer가 로드되었습니다.\n",
      "BM25로 100개를 가져온 뒤 Dense retrieval로 20개의 문서를 찾습니다.\n",
      "Data route: /data/ephemeral/data/train_dataset\n",
      "Test data route: /data/ephemeral/data/test_dataset\n",
      "Wiki route: /data/ephemeral/data/wikipedia_documents.json\n",
      "Data path: ./bm25_retrieval_result\n"
     ]
    },
    {
     "name": "stderr",
     "output_type": "stream",
     "text": [
      "Token indices sequence length is longer than the specified maximum sequence length for this model (1131 > 512). Running this sequence through the model will result in indexing errors\n"
     ]
    },
    {
     "name": "stdout",
     "output_type": "stream",
     "text": [
      "File loaded successfully\n",
      "위키 컨텍스트의 수: 56737\n"
     ]
    },
    {
     "name": "stderr",
     "output_type": "stream",
     "text": [
      "BM25 retrieval: 100%|██████████| 600/600 [00:00<00:00, 19265.11it/s]\n",
      "sequential reranking: 100%|██████████| 600/600 [05:08<00:00,  1.94it/s]\n"
     ]
    },
    {
     "name": "stdout",
     "output_type": "stream",
     "text": [
      "Reranked result saved to ./reranked/reranked_result.pkl\n"
     ]
    }
   ],
   "source": [
    "# 리랭킹 과정\n",
    "from retrieval import Dense_embedding_retrieval, BM25Search\n",
    "from MRC import Extraction_based_MRC\n",
    "import pickle\n",
    "import os\n",
    "\n",
    "dense_retriever = Dense_embedding_retrieval()\n",
    "bm25 = BM25Search()\n",
    "\n",
    "#Dense retriever 모델 로드 \n",
    "dense_retriever.load_model()\n",
    "\n",
    "# Reranking Retreiver 생성\n",
    "reranked_result = dense_retriever.sequential_reranking(mode='test')\n",
    "\n",
    "save_path = \"./reranked/reranked_result.pkl\"\n",
    "\n",
    "os.makedirs(os.path.dirname(save_path), exist_ok=True)\n",
    "\n",
    "# Pickle을 사용해 저장\n",
    "with open(save_path, 'wb') as f:\n",
    "    pickle.dump(reranked_result, f)\n",
    "\n",
    "print(f\"Reranked result saved to {save_path}\")"
   ]
  },
  {
   "cell_type": "code",
   "execution_count": 2,
   "metadata": {},
   "outputs": [
    {
     "name": "stdout",
     "output_type": "stream",
     "text": [
      "|===========================================================================|\n",
      "|                  PyTorch CUDA memory summary, device ID 0                 |\n",
      "|---------------------------------------------------------------------------|\n",
      "|            CUDA OOMs: 0            |        cudaMalloc retries: 0         |\n",
      "|===========================================================================|\n",
      "|        Metric         | Cur Usage  | Peak Usage | Tot Alloc  | Tot Freed  |\n",
      "|---------------------------------------------------------------------------|\n",
      "| Allocated memory      |       0 B  |       0 B  |       0 B  |       0 B  |\n",
      "|       from large pool |       0 B  |       0 B  |       0 B  |       0 B  |\n",
      "|       from small pool |       0 B  |       0 B  |       0 B  |       0 B  |\n",
      "|---------------------------------------------------------------------------|\n",
      "| Active memory         |       0 B  |       0 B  |       0 B  |       0 B  |\n",
      "|       from large pool |       0 B  |       0 B  |       0 B  |       0 B  |\n",
      "|       from small pool |       0 B  |       0 B  |       0 B  |       0 B  |\n",
      "|---------------------------------------------------------------------------|\n",
      "| GPU reserved memory   |       0 B  |       0 B  |       0 B  |       0 B  |\n",
      "|       from large pool |       0 B  |       0 B  |       0 B  |       0 B  |\n",
      "|       from small pool |       0 B  |       0 B  |       0 B  |       0 B  |\n",
      "|---------------------------------------------------------------------------|\n",
      "| Non-releasable memory |       0 B  |       0 B  |       0 B  |       0 B  |\n",
      "|       from large pool |       0 B  |       0 B  |       0 B  |       0 B  |\n",
      "|       from small pool |       0 B  |       0 B  |       0 B  |       0 B  |\n",
      "|---------------------------------------------------------------------------|\n",
      "| Allocations           |       0    |       0    |       0    |       0    |\n",
      "|       from large pool |       0    |       0    |       0    |       0    |\n",
      "|       from small pool |       0    |       0    |       0    |       0    |\n",
      "|---------------------------------------------------------------------------|\n",
      "| Active allocs         |       0    |       0    |       0    |       0    |\n",
      "|       from large pool |       0    |       0    |       0    |       0    |\n",
      "|       from small pool |       0    |       0    |       0    |       0    |\n",
      "|---------------------------------------------------------------------------|\n",
      "| GPU reserved segments |       0    |       0    |       0    |       0    |\n",
      "|       from large pool |       0    |       0    |       0    |       0    |\n",
      "|       from small pool |       0    |       0    |       0    |       0    |\n",
      "|---------------------------------------------------------------------------|\n",
      "| Non-releasable allocs |       0    |       0    |       0    |       0    |\n",
      "|       from large pool |       0    |       0    |       0    |       0    |\n",
      "|       from small pool |       0    |       0    |       0    |       0    |\n",
      "|---------------------------------------------------------------------------|\n",
      "| Oversize allocations  |       0    |       0    |       0    |       0    |\n",
      "|---------------------------------------------------------------------------|\n",
      "| Oversize GPU segments |       0    |       0    |       0    |       0    |\n",
      "|===========================================================================|\n",
      "\n"
     ]
    }
   ],
   "source": [
    "import torch\n",
    "\n",
    "# GPU 메모리 캐시를 해제\n",
    "torch.cuda.empty_cache()\n",
    "\n",
    "# CUDA 메모리 통계 확인 (optional)\n",
    "print(torch.cuda.memory_summary())"
   ]
  },
  {
   "cell_type": "code",
   "execution_count": 3,
   "metadata": {},
   "outputs": [
    {
     "name": "stdout",
     "output_type": "stream",
     "text": [
      "Reranked result loaded successfully\n"
     ]
    }
   ],
   "source": [
    "import pickle\n",
    "\n",
    "# 저장된 reranked_result 로드\n",
    "load_path = \"./reranked/reranked_result.pkl\"\n",
    "\n",
    "with open(load_path, 'rb') as f:\n",
    "    reranked_result = pickle.load(f)\n",
    "\n",
    "print(\"Reranked result loaded successfully\")"
   ]
  },
  {
   "cell_type": "code",
   "execution_count": 4,
   "metadata": {},
   "outputs": [
    {
     "name": "stderr",
     "output_type": "stream",
     "text": [
      "[nltk_data] Downloading package punkt to\n",
      "[nltk_data]     /data/ephemeral/home/nltk_data...\n",
      "[nltk_data]   Package punkt is already up-to-date!\n",
      "Some weights of the model checkpoint at vaiv/kobigbird-roberta-large were not used when initializing BigBirdForQuestionAnswering: ['cls.predictions.transform.dense.weight', 'cls.predictions.transform.LayerNorm.weight', 'cls.predictions.transform.dense.bias', 'bert.pooler.weight', 'cls.predictions.bias', 'bert.pooler.bias', 'cls.predictions.transform.LayerNorm.bias']\n",
      "- This IS expected if you are initializing BigBirdForQuestionAnswering from the checkpoint of a model trained on another task or with another architecture (e.g. initializing a BertForSequenceClassification model from a BertForPreTraining model).\n",
      "- This IS NOT expected if you are initializing BigBirdForQuestionAnswering from the checkpoint of a model that you expect to be exactly identical (initializing a BertForSequenceClassification model from a BertForSequenceClassification model).\n",
      "Some weights of BigBirdForQuestionAnswering were not initialized from the model checkpoint at vaiv/kobigbird-roberta-large and are newly initialized: ['qa_classifier.output.dense.weight', 'qa_classifier.output.LayerNorm.weight', 'qa_classifier.output.dense.bias', 'qa_classifier.qa_outputs.bias', 'qa_classifier.qa_outputs.weight', 'qa_classifier.intermediate.dense.bias', 'qa_classifier.intermediate.dense.weight', 'qa_classifier.output.LayerNorm.bias']\n",
      "You should probably TRAIN this model on a down-stream task to be able to use it for predictions and inference.\n",
      "\u001b[34m\u001b[1mwandb\u001b[0m: Using wandb-core as the SDK backend. Please refer to https://wandb.me/wandb-core for more information.\n",
      "\u001b[34m\u001b[1mwandb\u001b[0m: W&B API key is configured. Use \u001b[1m`wandb login --relogin`\u001b[0m to force relogin\n"
     ]
    },
    {
     "data": {
      "text/html": [
       "Tracking run with wandb version 0.18.3"
      ],
      "text/plain": [
       "<IPython.core.display.HTML object>"
      ]
     },
     "metadata": {},
     "output_type": "display_data"
    },
    {
     "data": {
      "text/html": [
       "Run data is saved locally in <code>/data/ephemeral/Jung/level2-mrc-nlp-10/Template/wandb/run-20241023_071751-xi4d9x8f</code>"
      ],
      "text/plain": [
       "<IPython.core.display.HTML object>"
      ]
     },
     "metadata": {},
     "output_type": "display_data"
    },
    {
     "data": {
      "text/html": [
       "Syncing run <strong><a href='https://wandb.ai/kimybjg2-boostcampaitech/Dense_embedding_retrieval/runs/xi4d9x8f' target=\"_blank\">valiant-lion-842</a></strong> to <a href='https://wandb.ai/kimybjg2-boostcampaitech/Dense_embedding_retrieval' target=\"_blank\">Weights & Biases</a> (<a href='https://wandb.me/run' target=\"_blank\">docs</a>)<br/>"
      ],
      "text/plain": [
       "<IPython.core.display.HTML object>"
      ]
     },
     "metadata": {},
     "output_type": "display_data"
    },
    {
     "data": {
      "text/html": [
       " View project at <a href='https://wandb.ai/kimybjg2-boostcampaitech/Dense_embedding_retrieval' target=\"_blank\">https://wandb.ai/kimybjg2-boostcampaitech/Dense_embedding_retrieval</a>"
      ],
      "text/plain": [
       "<IPython.core.display.HTML object>"
      ]
     },
     "metadata": {},
     "output_type": "display_data"
    },
    {
     "data": {
      "text/html": [
       " View run at <a href='https://wandb.ai/kimybjg2-boostcampaitech/Dense_embedding_retrieval/runs/xi4d9x8f' target=\"_blank\">https://wandb.ai/kimybjg2-boostcampaitech/Dense_embedding_retrieval/runs/xi4d9x8f</a>"
      ],
      "text/plain": [
       "<IPython.core.display.HTML object>"
      ]
     },
     "metadata": {},
     "output_type": "display_data"
    },
    {
     "name": "stderr",
     "output_type": "stream",
     "text": [
      "Using cuda_amp half precision backend\n",
      "Map: 100%|██████████| 3952/3952 [00:14<00:00, 280.40 examples/s]\n",
      "Map: 100%|██████████| 4423/4423 [00:08<00:00, 505.30 examples/s]\n"
     ]
    },
    {
     "name": "stdout",
     "output_type": "stream",
     "text": [
      "roberta 모델이 발견되어 train dataset에서 token type ids를 삭제합니다\n",
      "train_dataset을 넣지 않아 기존에 주어진 train dataset으로 학습합니다.\n"
     ]
    },
    {
     "name": "stderr",
     "output_type": "stream",
     "text": [
      "Map: 100%|██████████| 240/240 [00:00<00:00, 289.05 examples/s]\n",
      "Map: 100%|██████████| 270/270 [00:00<00:00, 2000.34 examples/s]\n",
      "***** Running training *****\n",
      "  Num examples = 4423\n",
      "  Num Epochs = 4\n",
      "  Instantaneous batch size per device = 8\n",
      "  Total train batch size (w. parallel, distributed & accumulation) = 8\n",
      "  Gradient Accumulation steps = 1\n",
      "  Total optimization steps = 2212\n",
      "  Number of trainable parameters = 347673602\n",
      "Automatic Weights & Biases logging enabled, to disable set os.environ[\"WANDB_DISABLED\"] = \"true\"\n",
      "You're using a BertTokenizerFast tokenizer. Please note that with a fast tokenizer, using the `__call__` method is faster than using a method to encode the text followed by a call to the `pad` method to get a padded encoding.\n"
     ]
    },
    {
     "name": "stdout",
     "output_type": "stream",
     "text": [
      "roberta 모델이 발견되어 eval dataset에서 token type ids를 지웁니다.\n",
      "eval_dataset을 넣지 않아 기존에 주어진 eval_dataset으로 평가합니다.\n"
     ]
    },
    {
     "data": {
      "text/html": [
       "\n",
       "    <div>\n",
       "      \n",
       "      <progress value='2212' max='2212' style='width:300px; height:20px; vertical-align: middle;'></progress>\n",
       "      [2212/2212 43:44, Epoch 4/4]\n",
       "    </div>\n",
       "    <table border=\"1\" class=\"dataframe\">\n",
       "  <thead>\n",
       " <tr style=\"text-align: left;\">\n",
       "      <th>Epoch</th>\n",
       "      <th>Training Loss</th>\n",
       "      <th>Validation Loss</th>\n",
       "      <th>Match</th>\n",
       "      <th></th>\n",
       "    </tr>\n",
       "  </thead>\n",
       "  <tbody>\n",
       "    <tr>\n",
       "      <td>1</td>\n",
       "      <td>1.539600</td>\n",
       "      <td>1.220100</td>\n",
       "      <td>62.916667</td>\n",
       "      <td>74.118486</td>\n",
       "    </tr>\n",
       "    <tr>\n",
       "      <td>2</td>\n",
       "      <td>0.516700</td>\n",
       "      <td>1.322692</td>\n",
       "      <td>62.916667</td>\n",
       "      <td>73.050099</td>\n",
       "    </tr>\n",
       "    <tr>\n",
       "      <td>3</td>\n",
       "      <td>0.176000</td>\n",
       "      <td>2.078073</td>\n",
       "      <td>67.500000</td>\n",
       "      <td>76.707492</td>\n",
       "    </tr>\n",
       "    <tr>\n",
       "      <td>4</td>\n",
       "      <td>0.069600</td>\n",
       "      <td>2.523804</td>\n",
       "      <td>65.416667</td>\n",
       "      <td>75.420785</td>\n",
       "    </tr>\n",
       "  </tbody>\n",
       "</table><p>"
      ],
      "text/plain": [
       "<IPython.core.display.HTML object>"
      ]
     },
     "metadata": {},
     "output_type": "display_data"
    },
    {
     "name": "stderr",
     "output_type": "stream",
     "text": [
      "The following columns in the evaluation set don't have a corresponding argument in `BigBirdForQuestionAnswering.forward` and have been ignored: offset_mapping, example_id. If offset_mapping, example_id are not expected by `BigBirdForQuestionAnswering.forward`,  you can safely ignore this message.\n",
      "***** Running Evaluation *****\n",
      "  Num examples = 270\n",
      "  Batch size = 8\n",
      "100%|██████████| 240/240 [00:01<00:00, 142.21it/s]\n"
     ]
    },
    {
     "name": "stdout",
     "output_type": "stream",
     "text": [
      "Dataset({\n",
      "    features: ['title', 'context', 'question', 'id', 'answers', 'document_id', '__index_level_0__'],\n",
      "    num_rows: 240\n",
      "})\n"
     ]
    },
    {
     "name": "stderr",
     "output_type": "stream",
     "text": [
      "Saving model checkpoint to ./Extraction_based_MRC_outputs_kobigbird-roberta-large/checkpoint-553\n",
      "Configuration saved in ./Extraction_based_MRC_outputs_kobigbird-roberta-large/checkpoint-553/config.json\n",
      "Model weights saved in ./Extraction_based_MRC_outputs_kobigbird-roberta-large/checkpoint-553/pytorch_model.bin\n",
      "tokenizer config file saved in ./Extraction_based_MRC_outputs_kobigbird-roberta-large/checkpoint-553/tokenizer_config.json\n",
      "Special tokens file saved in ./Extraction_based_MRC_outputs_kobigbird-roberta-large/checkpoint-553/special_tokens_map.json\n",
      "The following columns in the evaluation set don't have a corresponding argument in `BigBirdForQuestionAnswering.forward` and have been ignored: offset_mapping, example_id. If offset_mapping, example_id are not expected by `BigBirdForQuestionAnswering.forward`,  you can safely ignore this message.\n",
      "***** Running Evaluation *****\n",
      "  Num examples = 270\n",
      "  Batch size = 8\n",
      "100%|██████████| 240/240 [00:01<00:00, 129.86it/s]\n"
     ]
    },
    {
     "name": "stdout",
     "output_type": "stream",
     "text": [
      "Dataset({\n",
      "    features: ['title', 'context', 'question', 'id', 'answers', 'document_id', '__index_level_0__'],\n",
      "    num_rows: 240\n",
      "})\n"
     ]
    },
    {
     "name": "stderr",
     "output_type": "stream",
     "text": [
      "Saving model checkpoint to ./Extraction_based_MRC_outputs_kobigbird-roberta-large/checkpoint-1106\n",
      "Configuration saved in ./Extraction_based_MRC_outputs_kobigbird-roberta-large/checkpoint-1106/config.json\n",
      "Model weights saved in ./Extraction_based_MRC_outputs_kobigbird-roberta-large/checkpoint-1106/pytorch_model.bin\n",
      "tokenizer config file saved in ./Extraction_based_MRC_outputs_kobigbird-roberta-large/checkpoint-1106/tokenizer_config.json\n",
      "Special tokens file saved in ./Extraction_based_MRC_outputs_kobigbird-roberta-large/checkpoint-1106/special_tokens_map.json\n",
      "The following columns in the evaluation set don't have a corresponding argument in `BigBirdForQuestionAnswering.forward` and have been ignored: offset_mapping, example_id. If offset_mapping, example_id are not expected by `BigBirdForQuestionAnswering.forward`,  you can safely ignore this message.\n",
      "***** Running Evaluation *****\n",
      "  Num examples = 270\n",
      "  Batch size = 8\n",
      "100%|██████████| 240/240 [00:01<00:00, 143.87it/s]\n"
     ]
    },
    {
     "name": "stdout",
     "output_type": "stream",
     "text": [
      "Dataset({\n",
      "    features: ['title', 'context', 'question', 'id', 'answers', 'document_id', '__index_level_0__'],\n",
      "    num_rows: 240\n",
      "})\n"
     ]
    },
    {
     "name": "stderr",
     "output_type": "stream",
     "text": [
      "Saving model checkpoint to ./Extraction_based_MRC_outputs_kobigbird-roberta-large/checkpoint-1659\n",
      "Configuration saved in ./Extraction_based_MRC_outputs_kobigbird-roberta-large/checkpoint-1659/config.json\n",
      "Model weights saved in ./Extraction_based_MRC_outputs_kobigbird-roberta-large/checkpoint-1659/pytorch_model.bin\n",
      "tokenizer config file saved in ./Extraction_based_MRC_outputs_kobigbird-roberta-large/checkpoint-1659/tokenizer_config.json\n",
      "Special tokens file saved in ./Extraction_based_MRC_outputs_kobigbird-roberta-large/checkpoint-1659/special_tokens_map.json\n",
      "The following columns in the evaluation set don't have a corresponding argument in `BigBirdForQuestionAnswering.forward` and have been ignored: offset_mapping, example_id. If offset_mapping, example_id are not expected by `BigBirdForQuestionAnswering.forward`,  you can safely ignore this message.\n",
      "***** Running Evaluation *****\n",
      "  Num examples = 270\n",
      "  Batch size = 8\n",
      "100%|██████████| 240/240 [00:01<00:00, 143.71it/s]\n"
     ]
    },
    {
     "name": "stdout",
     "output_type": "stream",
     "text": [
      "Dataset({\n",
      "    features: ['title', 'context', 'question', 'id', 'answers', 'document_id', '__index_level_0__'],\n",
      "    num_rows: 240\n",
      "})\n"
     ]
    },
    {
     "name": "stderr",
     "output_type": "stream",
     "text": [
      "Saving model checkpoint to ./Extraction_based_MRC_outputs_kobigbird-roberta-large/checkpoint-2212\n",
      "Configuration saved in ./Extraction_based_MRC_outputs_kobigbird-roberta-large/checkpoint-2212/config.json\n",
      "Model weights saved in ./Extraction_based_MRC_outputs_kobigbird-roberta-large/checkpoint-2212/pytorch_model.bin\n",
      "tokenizer config file saved in ./Extraction_based_MRC_outputs_kobigbird-roberta-large/checkpoint-2212/tokenizer_config.json\n",
      "Special tokens file saved in ./Extraction_based_MRC_outputs_kobigbird-roberta-large/checkpoint-2212/special_tokens_map.json\n",
      "\n",
      "\n",
      "Training completed. Do not forget to share your model on huggingface.co/models =)\n",
      "\n",
      "\n",
      "Loading best model from ./Extraction_based_MRC_outputs_kobigbird-roberta-large/checkpoint-553 (score: 1.2201002836227417).\n",
      "Map: 100%|██████████| 600/600 [00:15<00:00, 38.60 examples/s]\n",
      "Map: 100%|██████████| 9532/9532 [00:04<00:00, 2104.57 examples/s]\n",
      "The following columns in the test set don't have a corresponding argument in `BigBirdForQuestionAnswering.forward` and have been ignored: offset_mapping, example_id. If offset_mapping, example_id are not expected by `BigBirdForQuestionAnswering.forward`,  you can safely ignore this message.\n",
      "***** Running Evaluation *****\n",
      "  Num examples = 9532\n",
      "  Batch size = 8\n"
     ]
    },
    {
     "name": "stdout",
     "output_type": "stream",
     "text": [
      "roberta 모델이 발견되어 test dataset에서 token type ids를 지웁니다.\n"
     ]
    },
    {
     "data": {
      "text/html": [
       "\n",
       "    <div>\n",
       "      \n",
       "      <progress value='1192' max='1192' style='width:300px; height:20px; vertical-align: middle;'></progress>\n",
       "      [1192/1192 06:11]\n",
       "    </div>\n",
       "    "
      ],
      "text/plain": [
       "<IPython.core.display.HTML object>"
      ]
     },
     "metadata": {},
     "output_type": "display_data"
    },
    {
     "name": "stdout",
     "output_type": "stream",
     "text": [
      "post_process_function을 실행합니다.\n"
     ]
    },
    {
     "name": "stderr",
     "output_type": "stream",
     "text": [
      "100%|██████████| 600/600 [01:08<00:00,  8.73it/s]\n"
     ]
    },
    {
     "name": "stdout",
     "output_type": "stream",
     "text": [
      "Dataset({\n",
      "    features: ['context', 'id', 'question'],\n",
      "    num_rows: 600\n",
      "})\n",
      "output을 id : answers 형태의 json파일로 내보냅니다. 결과는 model.extraction_mrc_results로 확인할 수 있습니다.\n"
     ]
    },
    {
     "data": {
      "text/plain": [
       "\"inference는 반드시\\nDatasetDict({\\n    validation: Dataset({\\n        features: ['context', 'id', 'question'],\\n        num_rows: 600\\n    })\\n}) 의 형태를 따라야 합니다.\\n\""
      ]
     },
     "execution_count": 4,
     "metadata": {},
     "output_type": "execute_result"
    }
   ],
   "source": [
    "from MRC import Extraction_based_MRC\n",
    "model = Extraction_based_MRC()\n",
    "model.train() #model.train()은 기존에 주어진 데이터셋을 활용하여 훈련합니다. model.train(train_dataset, eval_dataset)으로 본인이 직접 지정한 데이터를 훈련할 수도 있습니다.\n",
    "# 이때, train 데이터셋의 형태는 load_from_disk(기존에 주어진 데이터경로)['train'], eval 데이터셋의 형태는 load_from_disk(기존에 주어진 데이터경로)['validation']의 형태여야 합니다.\n",
    "# 모델은 Extraction_based_MRC_outputs + model_name의 폴더로 저장됩니다.\n",
    "# 모델은 학습이 끝나면 가장 낮은 validaiton loss를 기준으로 저장됩니다.\n",
    "model.inference(reranked_result)\n",
    "# retrieval을 통해 얻어낸 결과를 predict_reuslt에 json파일 형태로 저장합니다.\n",
    "\"\"\"inference는 반드시\n",
    "DatasetDict({\n",
    "    validation: Dataset({\n",
    "        features: ['context', 'id', 'question'],\n",
    "        num_rows: 600\n",
    "    })\n",
    "}) 의 형태를 따라야 합니다.\n",
    "\"\"\"\n",
    "\n"
   ]
  },
  {
   "cell_type": "code",
   "execution_count": 2,
   "metadata": {},
   "outputs": [
    {
     "name": "stderr",
     "output_type": "stream",
     "text": [
      "[nltk_data] Downloading package punkt to\n",
      "[nltk_data]     /data/ephemeral/home/nltk_data...\n",
      "[nltk_data]   Package punkt is already up-to-date!\n",
      "Some weights of the model checkpoint at klue/bert-base were not used when initializing BertForQuestionAnswering: ['cls.seq_relationship.bias', 'cls.predictions.transform.LayerNorm.bias', 'cls.predictions.decoder.bias', 'cls.predictions.bias', 'cls.seq_relationship.weight', 'cls.predictions.transform.dense.bias', 'cls.predictions.transform.dense.weight', 'cls.predictions.decoder.weight', 'cls.predictions.transform.LayerNorm.weight']\n",
      "- This IS expected if you are initializing BertForQuestionAnswering from the checkpoint of a model trained on another task or with another architecture (e.g. initializing a BertForSequenceClassification model from a BertForPreTraining model).\n",
      "- This IS NOT expected if you are initializing BertForQuestionAnswering from the checkpoint of a model that you expect to be exactly identical (initializing a BertForSequenceClassification model from a BertForSequenceClassification model).\n",
      "Some weights of BertForQuestionAnswering were not initialized from the model checkpoint at klue/bert-base and are newly initialized: ['qa_outputs.bias', 'qa_outputs.weight']\n",
      "You should probably TRAIN this model on a down-stream task to be able to use it for predictions and inference.\n",
      "\u001b[34m\u001b[1mwandb\u001b[0m: Using wandb-core as the SDK backend. Please refer to https://wandb.me/wandb-core for more information.\n",
      "\u001b[34m\u001b[1mwandb\u001b[0m: Currently logged in as: \u001b[33mkimybjg2\u001b[0m (\u001b[33mkimybjg2-boostcampaitech\u001b[0m). Use \u001b[1m`wandb login --relogin`\u001b[0m to force relogin\n"
     ]
    },
    {
     "data": {
      "text/html": [
       "Tracking run with wandb version 0.18.3"
      ],
      "text/plain": [
       "<IPython.core.display.HTML object>"
      ]
     },
     "metadata": {},
     "output_type": "display_data"
    },
    {
     "data": {
      "text/html": [
       "Run data is saved locally in <code>/data/ephemeral/home/practice/Template/wandb/run-20241014_142547-o6jp28zc</code>"
      ],
      "text/plain": [
       "<IPython.core.display.HTML object>"
      ]
     },
     "metadata": {},
     "output_type": "display_data"
    },
    {
     "data": {
      "text/html": [
       "Syncing run <strong><a href='https://wandb.ai/kimybjg2-boostcampaitech/Dense_embedding_retrieval/runs/o6jp28zc' target=\"_blank\">resilient-snow-249</a></strong> to <a href='https://wandb.ai/kimybjg2-boostcampaitech/Dense_embedding_retrieval' target=\"_blank\">Weights & Biases</a> (<a href='https://wandb.me/run' target=\"_blank\">docs</a>)<br/>"
      ],
      "text/plain": [
       "<IPython.core.display.HTML object>"
      ]
     },
     "metadata": {},
     "output_type": "display_data"
    },
    {
     "data": {
      "text/html": [
       " View project at <a href='https://wandb.ai/kimybjg2-boostcampaitech/Dense_embedding_retrieval' target=\"_blank\">https://wandb.ai/kimybjg2-boostcampaitech/Dense_embedding_retrieval</a>"
      ],
      "text/plain": [
       "<IPython.core.display.HTML object>"
      ]
     },
     "metadata": {},
     "output_type": "display_data"
    },
    {
     "data": {
      "text/html": [
       " View run at <a href='https://wandb.ai/kimybjg2-boostcampaitech/Dense_embedding_retrieval/runs/o6jp28zc' target=\"_blank\">https://wandb.ai/kimybjg2-boostcampaitech/Dense_embedding_retrieval/runs/o6jp28zc</a>"
      ],
      "text/plain": [
       "<IPython.core.display.HTML object>"
      ]
     },
     "metadata": {},
     "output_type": "display_data"
    },
    {
     "name": "stdout",
     "output_type": "stream",
     "text": [
      "가장 마지막 체크포인트로 모델과 Trainer가 로드되었습니다.\n"
     ]
    }
   ],
   "source": [
    "model.load_model() # 체크포인트의 제일 마지막 폴더를 따라가서 trainer_state.json을 열고 거기서 best_model_checkpoint의 경로를 통해 모델을 불러옵니다.\n",
    "# 불러온 모델은 inference할 수 있습니다."
   ]
  },
  {
   "cell_type": "code",
   "execution_count": 3,
   "metadata": {},
   "outputs": [
    {
     "name": "stderr",
     "output_type": "stream",
     "text": [
      "loading configuration file config.json from cache at /data/ephemeral/home/.cache/huggingface/hub/models--klue--bert-base/snapshots/77c8b3d707df785034b4e50f2da5d37be5f0f546/config.json\n",
      "Model config BertConfig {\n",
      "  \"_name_or_path\": \"klue/bert-base\",\n",
      "  \"architectures\": [\n",
      "    \"BertForMaskedLM\"\n",
      "  ],\n",
      "  \"attention_probs_dropout_prob\": 0.1,\n",
      "  \"classifier_dropout\": null,\n",
      "  \"hidden_act\": \"gelu\",\n",
      "  \"hidden_dropout_prob\": 0.1,\n",
      "  \"hidden_size\": 768,\n",
      "  \"initializer_range\": 0.02,\n",
      "  \"intermediate_size\": 3072,\n",
      "  \"layer_norm_eps\": 1e-12,\n",
      "  \"max_position_embeddings\": 512,\n",
      "  \"model_type\": \"bert\",\n",
      "  \"num_attention_heads\": 12,\n",
      "  \"num_hidden_layers\": 12,\n",
      "  \"pad_token_id\": 0,\n",
      "  \"position_embedding_type\": \"absolute\",\n",
      "  \"transformers_version\": \"4.24.0\",\n",
      "  \"type_vocab_size\": 2,\n",
      "  \"use_cache\": true,\n",
      "  \"vocab_size\": 32000\n",
      "}\n",
      "\n",
      "loading file vocab.txt from cache at /data/ephemeral/home/.cache/huggingface/hub/models--klue--bert-base/snapshots/77c8b3d707df785034b4e50f2da5d37be5f0f546/vocab.txt\n",
      "loading file tokenizer.json from cache at /data/ephemeral/home/.cache/huggingface/hub/models--klue--bert-base/snapshots/77c8b3d707df785034b4e50f2da5d37be5f0f546/tokenizer.json\n",
      "loading file added_tokens.json from cache at None\n",
      "loading file special_tokens_map.json from cache at /data/ephemeral/home/.cache/huggingface/hub/models--klue--bert-base/snapshots/77c8b3d707df785034b4e50f2da5d37be5f0f546/special_tokens_map.json\n",
      "loading file tokenizer_config.json from cache at /data/ephemeral/home/.cache/huggingface/hub/models--klue--bert-base/snapshots/77c8b3d707df785034b4e50f2da5d37be5f0f546/tokenizer_config.json\n",
      "loading configuration file config.json from cache at /data/ephemeral/home/.cache/huggingface/hub/models--klue--bert-base/snapshots/77c8b3d707df785034b4e50f2da5d37be5f0f546/config.json\n",
      "Model config BertConfig {\n",
      "  \"_name_or_path\": \"klue/bert-base\",\n",
      "  \"architectures\": [\n",
      "    \"BertForMaskedLM\"\n",
      "  ],\n",
      "  \"attention_probs_dropout_prob\": 0.1,\n",
      "  \"classifier_dropout\": null,\n",
      "  \"hidden_act\": \"gelu\",\n",
      "  \"hidden_dropout_prob\": 0.1,\n",
      "  \"hidden_size\": 768,\n",
      "  \"initializer_range\": 0.02,\n",
      "  \"intermediate_size\": 3072,\n",
      "  \"layer_norm_eps\": 1e-12,\n",
      "  \"max_position_embeddings\": 512,\n",
      "  \"model_type\": \"bert\",\n",
      "  \"num_attention_heads\": 12,\n",
      "  \"num_hidden_layers\": 12,\n",
      "  \"pad_token_id\": 0,\n",
      "  \"position_embedding_type\": \"absolute\",\n",
      "  \"transformers_version\": \"4.24.0\",\n",
      "  \"type_vocab_size\": 2,\n",
      "  \"use_cache\": true,\n",
      "  \"vocab_size\": 32000\n",
      "}\n",
      "\n",
      "Map: 100%|██████████| 3952/3952 [00:12<00:00, 310.64 examples/s]\n",
      "Map: 100%|██████████| 240/240 [00:00<00:00, 319.16 examples/s]\n"
     ]
    }
   ],
   "source": [
    "import All_dataset\n",
    "from arguments import Extraction_based_MRC_arguments\n",
    "datas = All_dataset.prepare_dataset(Extraction_based_MRC_arguments)\n",
    "# 이처럼 All_dataset.prepare_dataset(argument에서 불러온 모델의 arg)를 통해 각 모델에서 쓰이는 데이터들을 볼 수 있습니다.\n",
    "# 아무것도 주지 않으면 기본으로 주어진 데이터를 바탕으로 데이터를 전처리합니다.\n",
    "# get_mrc_train_dataset(여러분이 바꾼 데이터) 를 통해 바꾼 데이터를 전처리할 수도 있습니다.\n",
    "# train 데이터셋의 형태는 load_from_disk(기존에 주어진 데이터경로)['train'], eval 데이터셋의 형태는 load_from_disk(기존에 주어진 데이터경로)['validation']의 형태여야 합니다.\n",
    "train = datas.get_mrc_train_dataset()\n",
    "eval = datas.get_mrc_eval_dataset()\n",
    "\n"
   ]
  },
  {
   "cell_type": "code",
   "execution_count": null,
   "metadata": {},
   "outputs": [],
   "source": []
  }
 ],
 "metadata": {
  "kernelspec": {
   "display_name": "base",
   "language": "python",
   "name": "python3"
  },
  "language_info": {
   "codemirror_mode": {
    "name": "ipython",
    "version": 3
   },
   "file_extension": ".py",
   "mimetype": "text/x-python",
   "name": "python",
   "nbconvert_exporter": "python",
   "pygments_lexer": "ipython3",
   "version": "3.10.13"
  }
 },
 "nbformat": 4,
 "nbformat_minor": 2
}
