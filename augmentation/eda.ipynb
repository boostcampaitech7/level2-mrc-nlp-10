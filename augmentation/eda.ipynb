{
 "cells": [
  {
   "cell_type": "markdown",
   "metadata": {},
   "source": [
    "# Data Augmentation"
   ]
  },
  {
   "cell_type": "code",
   "execution_count": null,
   "metadata": {},
   "outputs": [],
   "source": [
    "import os\n",
    "import json\n",
    "from datasets import load_from_disk\n",
    "import pandas as pd"
   ]
  },
  {
   "cell_type": "code",
   "execution_count": null,
   "metadata": {},
   "outputs": [],
   "source": [
    "base_dir = '/data/ephemeral/home/data/'\n",
    "path_train = os.path.join(base_dir, 'train_dataset')\n",
    "train_dic = load_from_disk(path_train)\n",
    "print(train_dic)"
   ]
  },
  {
   "cell_type": "code",
   "execution_count": null,
   "metadata": {},
   "outputs": [],
   "source": [
    "train_df = pd.DataFrame.from_dict(train_dic['train'])"
   ]
  },
  {
   "cell_type": "markdown",
   "metadata": {},
   "source": [
    "## EDA"
   ]
  },
  {
   "cell_type": "code",
   "execution_count": null,
   "metadata": {},
   "outputs": [],
   "source": [
    "import random\n",
    "import nltk\n",
    "from nltk.corpus import wordnet\n",
    "from multiprocessing import Pool\n",
    "from tqdm import tqdm"
   ]
  },
  {
   "cell_type": "code",
   "execution_count": null,
   "metadata": {},
   "outputs": [],
   "source": [
    "nltk.download('punkt_tab')"
   ]
  },
  {
   "cell_type": "code",
   "execution_count": null,
   "metadata": {},
   "outputs": [],
   "source": [
    "# 동의어 치환 함수\n",
    "def synonym_replacement(words, n=1):\n",
    "    new_words = words.copy()\n",
    "    word_count = 0\n",
    "    for i, word in enumerate(words):\n",
    "        synonyms = wordnet.synsets(word)\n",
    "        if synonyms:\n",
    "            synonym = synonyms[0].lemmas()[0].name()\n",
    "            new_words[i] = synonym\n",
    "            word_count += 1\n",
    "        if word_count >= n:\n",
    "            break\n",
    "    return new_words\n",
    "\n",
    "# 랜덤 삽입 함수\n",
    "def random_insertion(words, n=1):\n",
    "    for _ in range(n):\n",
    "        new_word = random.choice(words)\n",
    "        synonyms = wordnet.synsets(new_word)\n",
    "        if synonyms:\n",
    "            synonym = synonyms[0].lemmas()[0].name().replace('_', ' ')\n",
    "            random_index = random.randint(0, len(words)-1)\n",
    "            words.insert(random_index, synonym)\n",
    "    return words\n",
    "\n",
    "# 문장 내 단어 위치 바꾸기 함수\n",
    "def random_swap(words, n=1):\n",
    "    length = len(words)\n",
    "    for _ in range(n):\n",
    "        idx1, idx2 = random.sample(range(length), 2)\n",
    "        words[idx1], words[idx2] = words[idx2], words[idx1]\n",
    "    return words\n",
    "\n",
    "# 문장 내 단어 삭제 함수\n",
    "def random_deletion(words, p=0.5):\n",
    "    if len(words) == 0:\n",
    "        return words\n",
    "    new_words = [word for word in words if random.uniform(0, 1) > p]\n",
    "    return new_words if len(new_words) > 0 else [random.choice(words)]\n",
    "\n",
    "# EDA 증강 기법을 위한 함수 (각 문장에 대해 증강 처리)\n",
    "def eda_single_row(row, aug_idx):\n",
    "    context_words = nltk.word_tokenize(row['context'])\n",
    "    question_words = nltk.word_tokenize(row['question'])\n",
    "\n",
    "    context_aug = random.choice([synonym_replacement(context_words),\n",
    "                                 random_insertion(context_words),\n",
    "                                 random_swap(context_words),\n",
    "                                 random_deletion(context_words)])\n",
    "\n",
    "    question_aug = random.choice([synonym_replacement(question_words),\n",
    "                                  random_insertion(question_words),\n",
    "                                  random_swap(question_words),\n",
    "                                  random_deletion(question_words)])\n",
    "    \n",
    "    # context에서 answers의 text를 찾아 새로운 answer_start 업데이트\n",
    "    answer_text = row['answers']['text'][0] # 정답이 여러 개일 수 있으므로 첫번째 정답 사용\n",
    "    new_context = ' '.join(context_aug)\n",
    "    new_answer_start = new_context.find(answer_text) # 새로운 context에서 정답 위치 찾기\n",
    "\n",
    "    # answer_start가 존재하지 않으면 기본값 0으로 설정\n",
    "    if new_answer_start == -1:\n",
    "        new_answer_start = 0\n",
    "\n",
    "    return {\n",
    "        'title': row['title'],\n",
    "        'context': new_context,\n",
    "        'question': ' '.join(question_aug),\n",
    "        'id': f\"{row['id']}-aug-{aug_idx}\",\n",
    "        'answers': {\n",
    "            'answer_start': [new_answer_start],\n",
    "            'text' : [answer_text]\n",
    "        },\n",
    "        'document_id': row['document_id'],\n",
    "        '__index_level_0__': row['__index_level_0__']\n",
    "    }\n",
    "\n",
    "# 멀티프로세싱을 사용한 EDA 처리\n",
    "def eda(df, n_augmented=1):\n",
    "    augmented_rows = []\n",
    "    \n",
    "    # tqdm으로 진행 상황 표시\n",
    "    with Pool() as pool:\n",
    "        for _, row in tqdm(df.iterrows(), total=len(df)):\n",
    "            # augmented_rows += pool.map(eda_single_row, [row] * n_augmented)\n",
    "            # 각 row에 대해 n_augmented 만큼 증강된 데이터를 생성, aug_idx를 0부터 시작\n",
    "            results = pool.starmap(eda_single_row, [(row, aug_idx) for aug_idx in range(n_augmented)])\n",
    "            augmented_rows.extend(results)\n",
    "    \n",
    "    augmented_df = pd.DataFrame(augmented_rows)\n",
    "    concat_df = pd.concat([df, augmented_df], ignore_index=True)\n",
    "    return concat_df\n"
   ]
  },
  {
   "cell_type": "code",
   "execution_count": null,
   "metadata": {},
   "outputs": [],
   "source": [
    "augmented_train_df = eda(train_df, n_augmented=1)\n",
    "augmented_train_df"
   ]
  },
  {
   "cell_type": "code",
   "execution_count": null,
   "metadata": {},
   "outputs": [],
   "source": [
    "augmented_train_df.to_csv('/data/ephemeral/home/data/aug_eda.csv', index=False)"
   ]
  },
  {
   "cell_type": "code",
   "execution_count": null,
   "metadata": {},
   "outputs": [],
   "source": [
    "def csv_to_json(csv_file_path, json_file_path):\n",
    "    # CSV 파일을 DataFrame으로 읽기\n",
    "    df = pd.read_csv(csv_file_path)\n",
    "    \n",
    "    # DataFrame을 JSON 파일로 저장\n",
    "    df.to_json(json_file_path, orient='records', lines=True, force_ascii=False)\n",
    "\n",
    "# 사용 예시\n",
    "csv_file_path = '/data/ephemeral/home/data/aug_eda.csv'  # 변환할 CSV 파일 경로\n",
    "json_file_path = '/data/ephemeral/home/data/aug_eda.json'  # 생성할 JSON 파일 경로\n",
    "\n",
    "csv_to_json(csv_file_path, json_file_path)\n",
    "\n",
    "print(f\"'{csv_file_path}' 파일이 '{json_file_path}'로 변환되었습니다.\")"
   ]
  },
  {
   "cell_type": "code",
   "execution_count": null,
   "metadata": {},
   "outputs": [],
   "source": [
    "from datasets import load_dataset, DatasetDict, Dataset\n",
    "from sklearn.model_selection import train_test_split\n",
    "\n",
    "# 1. aug_eda.json 파일 로드\n",
    "dataset = load_dataset('json', data_files='/data/ephemeral/home/data/aug_eda.json')\n",
    "\n",
    "# 2. Hugging Face dataset을 pandas DataFrame으로 변환\n",
    "df = dataset['train'].to_pandas()\n",
    "\n",
    "# 3. train/validation으로 split\n",
    "train_data, val_data = train_test_split(df, test_size=0.2, random_state=42)\n",
    "\n",
    "# 4. pandas DataFrame을 다시 Hugging Face Dataset으로 변환\n",
    "train_dataset = Dataset.from_pandas(train_data, preserve_index=False)\n",
    "val_dataset = Dataset.from_pandas(val_data, preserve_index=False)\n",
    "\n",
    "# 5. DatasetDict 형식으로 묶기\n",
    "dataset_dict = DatasetDict({\n",
    "    'train': train_dataset,\n",
    "    'validation': val_dataset\n",
    "})\n",
    "\n",
    "# 6. train과 validation 데이터셋 저장 폴더 설정\n",
    "output_dir = \"/data/ephemeral/home/data/aug_train_dataset\"\n",
    "dataset_dict.save_to_disk(output_dir)\n",
    "\n",
    "# 7. 저장된 데이터셋 불러오기\n",
    "from datasets import load_from_disk\n",
    "loaded_dataset_dict = load_from_disk(output_dir)\n",
    "\n",
    "# 8. 불러온 데이터셋 확인\n",
    "print(loaded_dataset_dict)"
   ]
  }
 ],
 "metadata": {
  "language_info": {
   "name": "python"
  }
 },
 "nbformat": 4,
 "nbformat_minor": 2
}
